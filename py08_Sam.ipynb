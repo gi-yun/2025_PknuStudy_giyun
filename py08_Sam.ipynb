{
 "cells": [
  {
   "cell_type": "markdown",
   "id": "5c594f9c-76a4-447d-b974-cc0135f5f24f",
   "metadata": {},
   "source": [
    "# 외부 라이브러리"
   ]
  },
  {
   "cell_type": "markdown",
   "id": "a5a2e2b4-248c-4ed4-8aa7-d2c877c222d7",
   "metadata": {},
   "source": [
    "## pip *"
   ]
  },
  {
   "cell_type": "markdown",
   "id": "d006c444-e08a-4493-b72e-4da4fea421f5",
   "metadata": {},
   "source": [
    "- venv1 생성 후 백업: pip freeze > requirements.txt\n",
    "- venv2 생성 후 복구: pip install -r requirements.txt\n",
    "- venv3 jupyterlab 설치후 matplotlib 설치 후 백업하고\n",
    "- venv4 에 pip 리스트 그대로 복구하라.\n",
    "- venv5 에 numpy 2.2.2 버전으로 복구되도록 requirements.txt 수정 후 복구하라.\n"
   ]
  },
  {
   "cell_type": "markdown",
   "id": "2820912b-5b35-4333-aacc-ecce5c4a38be",
   "metadata": {},
   "source": [
    "## Faker"
   ]
  },
  {
   "cell_type": "code",
   "execution_count": 3,
   "id": "580980c2-fbec-417a-b862-1772576b16a2",
   "metadata": {},
   "outputs": [],
   "source": [
    "# !pip install Faker"
   ]
  },
  {
   "cell_type": "code",
   "execution_count": 12,
   "id": "90e5f28e-4df6-428b-b1e1-43e952e368a3",
   "metadata": {},
   "outputs": [
    {
     "data": {
      "text/plain": [
       "[{'name': '김혜진',\n",
       "  'id': 'haeun96',\n",
       "  'phone': '053-883-9980',\n",
       "  'email': 'hyejinmun@example.net'},\n",
       " {'name': '오은경',\n",
       "  'id': 'gimseohyeon',\n",
       "  'phone': '053-532-0488',\n",
       "  'email': 'lgim@example.org'},\n",
       " {'name': '최민수',\n",
       "  'id': 'zgim',\n",
       "  'phone': '055-433-6195',\n",
       "  'email': 'igim@example.org'},\n",
       " {'name': '심성현',\n",
       "  'id': 'vgim',\n",
       "  'phone': '010-9700-2366',\n",
       "  'email': 'yunmiyeong@example.com'},\n",
       " {'name': '백재호',\n",
       "  'id': 'lbag',\n",
       "  'phone': '053-750-7950',\n",
       "  'email': 'gwangsugim@example.com'},\n",
       " {'name': '민우진',\n",
       "  'id': 'ijeongja',\n",
       "  'phone': '052-166-7957',\n",
       "  'email': 'xi@example.com'},\n",
       " {'name': '강숙자',\n",
       "  'id': 'doyun00',\n",
       "  'phone': '054-297-5471',\n",
       "  'email': 'ti@example.org'},\n",
       " {'name': '황지원',\n",
       "  'id': 'hyejin02',\n",
       "  'phone': '033-044-6262',\n",
       "  'email': 'seonghungim@example.com'},\n",
       " {'name': '이지영',\n",
       "  'id': 'yunseo07',\n",
       "  'phone': '019-369-2552',\n",
       "  'email': 'haeun19@example.com'},\n",
       " {'name': '강예진',\n",
       "  'id': 'vgim',\n",
       "  'phone': '042-170-2026',\n",
       "  'email': 'iyujin@example.net'}]"
      ]
     },
     "execution_count": 12,
     "metadata": {},
     "output_type": "execute_result"
    }
   ],
   "source": [
    "from faker import Faker\n",
    "fake = Faker('ko-KR')\n",
    "[{'name':fake.name(),'id':fake.user_name(),'phone':fake.phone_number(),'email':fake.email()} for n in range(10)]"
   ]
  },
  {
   "cell_type": "markdown",
   "id": "338aecc2-cdd7-4d26-abe7-9d0270f69542",
   "metadata": {},
   "source": [
    "`<table style=\"float:left;width:400px\">`\n",
    "<table style=\"float:left;width:400px\">\n",
    "<thead>\n",
    "<tr>\n",
    "<th>항목</th>\n",
    "<th>설명</th>\n",
    "</tr>\n",
    "</thead>\n",
    "<tbody>\n",
    "<tr>\n",
    "<td>fake.name()</td>\n",
    "<td>이름</td>\n",
    "</tr>\n",
    "<tr>\n",
    "<td>fake.address()</td>\n",
    "<td>주소</td>\n",
    "</tr>\n",
    "<tr>\n",
    "<td>fake.postcode()</td>\n",
    "<td>우편 번호</td>\n",
    "</tr>\n",
    "<tr>\n",
    "<td>fake.country()</td>\n",
    "<td>국가명</td>\n",
    "</tr>\n",
    "<tr>\n",
    "<td>fake.company()</td>\n",
    "<td>회사명</td>\n",
    "</tr>\n",
    "<tr>\n",
    "<td>fake.job()</td>\n",
    "<td>직업명</td>\n",
    "</tr>\n",
    "<tr>\n",
    "<td>fake.phone_number()</td>\n",
    "<td>휴대전화 번호</td>\n",
    "</tr>\n",
    "<tr>\n",
    "<td>fake.email()</td>\n",
    "<td>이메일 주소</td>\n",
    "</tr>\n",
    "<tr>\n",
    "<td>fake.user_name()</td>\n",
    "<td>사용자명</td>\n",
    "</tr>\n",
    "<tr>\n",
    "<td>fake.pyint(min_value=0, max_value=100)</td>\n",
    "<td>0부터 100 사이의 임의의 숫자</td>\n",
    "</tr>\n",
    "<tr>\n",
    "<td>fake.ipv4_private()</td>\n",
    "<td>IP 주소</td>\n",
    "</tr>\n",
    "<tr>\n",
    "<td>fake.text()</td>\n",
    "<td>임의의 문장 (한글 임의의 문장은 <code>fake.catch_phrase()</code> 사용)</td>\n",
    "</tr>\n",
    "<tr>\n",
    "<td>fake.color_name()</td>\n",
    "<td>색상명</td>\n",
    "</tr>\n",
    "</tbody>\n",
    "</table>"
   ]
  },
  {
   "cell_type": "code",
   "execution_count": 6,
   "id": "63bf6085-47eb-4da4-b682-b075059d9578",
   "metadata": {},
   "outputs": [
    {
     "name": "stdout",
     "output_type": "stream",
     "text": [
      "1위: REBEL HEART / IVE (아이브)\n",
      "2위: HOME SWEET HOME (feat. 태양, 대성) / G-DRAGON\n",
      "3위: 나는 반딧불 / 황가람\n",
      "4위: Whiplash / aespa\n",
      "5위: APT. / 로제 (ROSÉ)\n",
      "6위: 오늘만 I LOVE YOU / Bruno Mars\n",
      "7위: Drowning / BOYNEXTDOOR\n",
      "8위: ATTITUDE / WOODZ\n",
      "9위: toxic till the end / IVE (아이브)\n",
      "10위: Dash / 로제 (ROSÉ)\n",
      "11위: POWER / PLAVE\n",
      "12위: HAPPY / G-DRAGON\n",
      "13위: 내게 사랑이 뭐냐고 물어본다면 / DAY6 (데이식스)\n",
      "14위: RIZZ / 로이킴\n",
      "15위: DRIP / PLAVE\n",
      "16위: Island / BABYMONSTER\n",
      "17위: Chroma Drift / PLAVE\n",
      "18위: 12:32 (A to T) / PLAVE\n",
      "19위: 소나기 / PLAVE\n",
      "20위: 너와의 모든 지금 / 이클립스 (ECLIPSE)\n",
      " "
     ]
    }
   ],
   "source": [
    "import requests as req\n",
    "from bs4 import BeautifulSoup as bs\n",
    "url = \"https://www.melon.com/chart/index.htm\"\n",
    "headers = {'User-Agent':'Mozilla/5.0 (Windows NT 10.0; Win64; x64) AppleWebKit/537.36 (KHTML, like Gecko) Chrome/133.0.0.0 Safari/537.36 Edg/133.0.0.0'}\n",
    "web = req.get(url, headers = headers)\n",
    "soup = bs(web.content, 'html.parser')\n",
    "\n",
    "title = soup.select('.rank01')[:20]\n",
    "name = soup.select('.checkEllipsis a')[:20]\n",
    "str = ''\n",
    "for i, (t, n) in enumerate(zip(title, name),1):\n",
    "    str += f'{i}위: {t.text.strip()} / {n.text}\\n' \n",
    "print(str,end=' ')"
   ]
  },
  {
   "cell_type": "code",
   "execution_count": 7,
   "id": "a8c9f9fc-af0a-4aee-bff4-00a2e99c69dc",
   "metadata": {},
   "outputs": [
    {
     "name": "stdout",
     "output_type": "stream",
     "text": [
      "1위: REBEL HEART / IVE (아이브)\n",
      "2위: HOME SWEET HOME (feat. 태양, 대성) / G-DRAGON\n",
      "3위: 나는 반딧불 / 황가람\n",
      "4위: Whiplash / aespa\n",
      "5위: APT. / 로제 (ROSÉ)\n",
      "6위: 오늘만 I LOVE YOU / Bruno Mars\n",
      "7위: Drowning / BOYNEXTDOOR\n",
      "8위: ATTITUDE / WOODZ\n",
      "9위: toxic till the end / IVE (아이브)\n",
      "10위: Dash / 로제 (ROSÉ)\n",
      "11위: POWER / PLAVE\n",
      "12위: HAPPY / G-DRAGON\n",
      "13위: 내게 사랑이 뭐냐고 물어본다면 / DAY6 (데이식스)\n",
      "14위: RIZZ / 로이킴\n",
      "15위: DRIP / PLAVE\n",
      "16위: Chroma Drift / BABYMONSTER\n",
      "17위: Island / PLAVE\n",
      "18위: 소나기 / PLAVE\n",
      "19위: 12:32 (A to T) / 이클립스 (ECLIPSE)\n",
      "20위: 너와의 모든 지금 / PLAVE\n",
      " "
     ]
    }
   ],
   "source": [
    "import melon\n",
    "melon.mel()"
   ]
  },
  {
   "cell_type": "code",
   "execution_count": null,
   "id": "b486033d-c383-4ea5-8e70-ee1710debef0",
   "metadata": {
    "jupyter": {
     "source_hidden": true
    }
   },
   "outputs": [],
   "source": []
  },
  {
   "cell_type": "code",
   "execution_count": 35,
   "id": "5959f92c-1853-4c0f-8ac5-68f5973fc6ab",
   "metadata": {},
   "outputs": [
    {
     "name": "stdout",
     "output_type": "stream",
     "text": [
      "Collecting html5lib\n",
      "  Downloading html5lib-1.1-py2.py3-none-any.whl.metadata (16 kB)\n",
      "Requirement already satisfied: six>=1.9 in c:\\users\\admin\\appdata\\local\\programs\\python\\python313\\lib\\site-packages (from html5lib) (1.17.0)\n",
      "Requirement already satisfied: webencodings in c:\\users\\admin\\appdata\\local\\programs\\python\\python313\\lib\\site-packages (from html5lib) (0.5.1)\n",
      "Downloading html5lib-1.1-py2.py3-none-any.whl (112 kB)\n",
      "Installing collected packages: html5lib\n",
      "Successfully installed html5lib-1.1\n"
     ]
    }
   ],
   "source": [
    "!pip install html5lib"
   ]
  },
  {
   "cell_type": "code",
   "execution_count": 13,
   "id": "42e231b0-1c70-40ed-9ba5-3fa687d7f83e",
   "metadata": {},
   "outputs": [
    {
     "name": "stdout",
     "output_type": "stream",
     "text": [
      "===============\n",
      "월 2025.02.17\n",
      "---------------\n",
      "정식-5,500원\n",
      "강황밥\n",
      "김치콩나물국\n",
      "돈육바싹불고기\n",
      "모듬잡채\n",
      "멸치새우견과볶음\n",
      "상추겉절이\n",
      "포기김치\n",
      "\n",
      "===============\n",
      "화 2025.02.18\n",
      "---------------\n",
      "정식-5,500원\n",
      "백미밥\n",
      "물만두국\n",
      "순살닭매콤조림\n",
      "쫄면야채무침\n",
      "파래무무침\n",
      "참나물겉절이\n",
      "포기김치\n",
      "\n",
      "===============\n",
      "수 2025.02.19\n",
      "---------------\n",
      "정식-5,500원\n",
      "백미밥\n",
      "모듬어묵국\n",
      "함박스테이크/치즈/소스\n",
      "스파게티/소스\n",
      "치커리유자청샐러드\n",
      "콩나물무침\n",
      "포기김치\n",
      "\n",
      "===============\n",
      "목 2025.02.20\n",
      "---------------\n",
      "정식-5,500원\n",
      "잡곡밥\n",
      "홍합미역국\n",
      "순살치킨/맛초킹소스\n",
      "꼬시레기두부무침\n",
      "잡채어묵조림\n",
      "상추겉절이\n",
      "포기김치\n",
      "\n",
      "===============\n",
      "금 2025.02.21\n",
      "---------------\n",
      "정식-5,500원\n",
      "백미밥\n",
      "국수\n",
      "깐풍기/소스\n",
      "알감자버터구이\n",
      "도토리묵김치무침\n",
      "열무겉절이\n",
      "포기김치\n",
      "\n"
     ]
    }
   ],
   "source": [
    "import requests as req\n",
    "from bs4 import BeautifulSoup as bs\n",
    "url = \"https://www.pusan.ac.kr/kor/CMS/MenuMgr/menuListOnBuilding.do?mCode=MN202\"\n",
    "headers = {'User-Agent':'Mozilla/5.0 (Windows NT 10.0; Win64; x64) AppleWebKit/537.36 (KHTML, like Gecko) Chrome/133.0.0.0 Safari/537.36 Edg/133.0.0.0'}\n",
    "web = req.get(url, headers = headers)\n",
    "soup = bs(web.content, 'html5lib')\n",
    "menucard = soup.select('.menu-tbl')\n",
    "won = soup.select('.menu-tit01')\n",
    "menu = soup.select('h3.menu-tit01+p')\n",
    "day = soup.select('.day')\n",
    "date = soup.select('.date')\n",
    "# print(day,date)\n",
    "for d, dd, w, m in zip(day, date, won, menu):\n",
    "    print('='*15)\n",
    "    print(d.text, dd.text)\n",
    "    print('-'*15)\n",
    "    print(w.text+'\\n'+ m.text)"
   ]
  },
  {
   "cell_type": "code",
   "execution_count": 27,
   "id": "8efbb64c-9c25-4d9b-aba8-e53ebcbba012",
   "metadata": {},
   "outputs": [
    {
     "name": "stdout",
     "output_type": "stream",
     "text": [
      "OpenSSL 3.0.15 3 Sep 2024\n"
     ]
    }
   ],
   "source": [
    "import ssl\n",
    "print(ssl.OPENSSL_VERSION)"
   ]
  },
  {
   "cell_type": "code",
   "execution_count": 17,
   "id": "ce10beb3-0bc1-4991-89e3-2996b258f175",
   "metadata": {},
   "outputs": [
    {
     "name": "stdout",
     "output_type": "stream",
     "text": [
      "1위: REBEL HEART / IVE (아이브)\n",
      "2위: 나는 반딧불 / 황가람\n",
      "3위: HOME SWEET HOME (Feat. 태양 & 대성) / G-DRAGON\n",
      "4위: Whiplash / aespa\n",
      "5위: APT. / 로제 (ROSÉ) & Bruno Mars\n",
      "6위: Drowning / WOODZ\n",
      "7위: ATTITUDE / IVE (아이브)\n",
      "8위: 모르시나요 (Prod. by 로코베리) / 조째즈\n",
      "9위: HAPPY / DAY6 (데이식스)\n",
      "10위: 내게 사랑이 뭐냐고 물어본다면 / 로이킴\n",
      "11위: toxic till the end / 로제 (ROSÉ)\n",
      "12위: POWER / G-DRAGON\n",
      "13위: 내 이름 맑음 / QWER\n",
      "14위: Welcome to the Show / DAY6 (데이식스)\n",
      "15위: 한 페이지가 될 수 있게 / DAY6 (데이식스)\n",
      "16위: 소나기 / 이클립스 (ECLIPSE)\n",
      "17위: Supernova / aespa\n",
      "18위: 너와의 모든 지금 / 재쓰비 (JAESSBEE)\n",
      "19위: 오늘만 I LOVE YOU / BOYNEXTDOOR\n",
      "20위: 고민중독 / QWER\n",
      "21위: 예뻤어 / DAY6 (데이식스)\n",
      "22위: 슬픈 초대장 / 순순희 (지환)\n",
      "23위: 천상연 / 이창섭\n",
      "24위: UP (KARINA Solo) / aespa\n",
      "25위: DRIP / BABYMONSTER\n",
      "26위: 사랑은 늘 도망가 / 임영웅\n",
      "27위: Die With A Smile / Lady Gaga & Bruno Mars\n",
      "28위: 에피소드 / 이무진\n",
      "29위: 나는 아픈 건 딱 질색이니까 / (여자)아이들\n",
      "30위: How Sweet / NewJeans\n",
      "31위: 비의 랩소디 / 임재현\n",
      "32위: Mantra / 제니 (JENNIE)\n",
      "33위: Love wins all / 아이유 (IU)\n",
      "34위: 어떻게 이별까지 사랑하겠어, 널 사랑하는 거지 / AKMU (악뮤)\n",
      "35위: 첫 만남은 계획대로 되지 않아 / TWS (투어스)\n",
      "36위: 봄여름가을겨울 (Still Life) / BIGBANG (빅뱅)\n",
      "37위: 미치게 그리워서 / 황가람\n",
      "38위: 청춘만화 / 이무진\n",
      "39위: Small girl (Feat. 도경수 (D.O.)) / 이영지\n",
      "40위: I AM / IVE (아이브)\n",
      "41위: 헤어지자 말해요 / 박재정\n",
      "42위: Magnetic / 아일릿 (ILLIT)\n",
      "43위: 이제 나만 믿어요 / 임영웅\n",
      "44위: 심 (心) / DK (디셈버)\n",
      "45위: Storm / 김보경 (NEON)\n",
      "46위: 해야 (HEYA) / IVE (아이브)\n",
      "47위: 다정히 내 이름을 부르면 / 경서예지 & 전건호\n",
      "48위: 클락션 (Klaxon) / (여자)아이들\n",
      "49위: 너의 모든 순간 / 성시경\n",
      "50위: 우리들의 블루스 / 임영웅\n"
     ]
    }
   ],
   "source": [
    "import requests as req\n",
    "from bs4 import BeautifulSoup as bs\n",
    "url = \"https://www.genie.co.kr/chart/top200\"\n",
    "headers = {'User-Agent':'Mozilla/5.0 (Windows NT 10.0; Win64; x64) AppleWebKit/537.36 (KHTML, like Gecko) Chrome/133.0.0.0 Safari/537.36 Edg/133.0.0.0'}\n",
    "web = req.get(url, headers = headers)\n",
    "soup = bs(web.content, 'html.parser')\n",
    "title = soup.select('.info .title')\n",
    "artist= soup.select('.info .artist')\n",
    "for i, (t, a) in enumerate(zip(title, artist),1):\n",
    "    print(f\"{i}위: {t.text.strip()} / {a.text.strip()}\")"
   ]
  },
  {
   "cell_type": "code",
   "execution_count": 20,
   "id": "a195810a-06a1-4007-8c56-32f267113aa0",
   "metadata": {},
   "outputs": [
    {
     "name": "stdout",
     "output_type": "stream",
     "text": [
      "Collecting python-telegram-bot\n",
      "  Downloading python_telegram_bot-21.10-py3-none-any.whl.metadata (17 kB)\n",
      "Requirement already satisfied: httpx~=0.27 in c:\\users\\admin\\appdata\\local\\programs\\python\\python313\\lib\\site-packages (from python-telegram-bot) (0.28.1)\n",
      "Requirement already satisfied: anyio in c:\\users\\admin\\appdata\\local\\programs\\python\\python313\\lib\\site-packages (from httpx~=0.27->python-telegram-bot) (4.8.0)\n",
      "Requirement already satisfied: certifi in c:\\users\\admin\\appdata\\local\\programs\\python\\python313\\lib\\site-packages (from httpx~=0.27->python-telegram-bot) (2025.1.31)\n",
      "Requirement already satisfied: httpcore==1.* in c:\\users\\admin\\appdata\\local\\programs\\python\\python313\\lib\\site-packages (from httpx~=0.27->python-telegram-bot) (1.0.7)\n",
      "Requirement already satisfied: idna in c:\\users\\admin\\appdata\\local\\programs\\python\\python313\\lib\\site-packages (from httpx~=0.27->python-telegram-bot) (3.10)\n",
      "Requirement already satisfied: h11<0.15,>=0.13 in c:\\users\\admin\\appdata\\local\\programs\\python\\python313\\lib\\site-packages (from httpcore==1.*->httpx~=0.27->python-telegram-bot) (0.14.0)\n",
      "Requirement already satisfied: sniffio>=1.1 in c:\\users\\admin\\appdata\\local\\programs\\python\\python313\\lib\\site-packages (from anyio->httpx~=0.27->python-telegram-bot) (1.3.1)\n",
      "Downloading python_telegram_bot-21.10-py3-none-any.whl (669 kB)\n",
      "   ---------------------------------------- 0.0/669.5 kB ? eta -:--:--\n",
      "   --------------------------------------- 669.5/669.5 kB 27.2 MB/s eta 0:00:00\n",
      "Installing collected packages: python-telegram-bot\n",
      "Successfully installed python-telegram-bot-21.10\n"
     ]
    }
   ],
   "source": [
    "!pip install python-telegram-bot"
   ]
  },
  {
   "cell_type": "code",
   "execution_count": 26,
   "id": "38fc5794-8a05-4957-ab6b-3c8112045a6f",
   "metadata": {},
   "outputs": [],
   "source": [
    "# !pip install asyncio"
   ]
  },
  {
   "cell_type": "code",
   "execution_count": null,
   "id": "b3e092c9-e354-43d4-9fea-bc3136b22b1e",
   "metadata": {},
   "outputs": [],
   "source": [
    "import asyncio\n",
    "import nest_asyncio # 주피터랩용\n",
    "from dotenv import load_dotenv\n",
    "import os\n",
    "# .env 파일 로드\n",
    "load_dotenv()\n",
    "\n",
    "from telegram import Update\n",
    "from telegram.ext import Application, CommandHandler, MessageHandler, filters, CallbackContext\n",
    "nest_asyncio.apply() # 주피터랩용\n",
    "\n",
    "TELEGRAM_TOKEN =os.getenv(\"TELEGRAM_TOKEN\")\n",
    "async def start( update, context):\n",
    "    await context.bot.send_message(chat_id=update.effective_chat.id, text=\"봇이 가동되었습니다!\")\n",
    "\n",
    "async def handle_message(update , context ):\n",
    "    user_message = update.message.text.lower()  # Text -> text\n",
    "\n",
    "    if \"선생님\" in user_message:\n",
    "        response = \"수업열심히 해봅시다!\"\n",
    "    elif \"날씨\" in user_message:\n",
    "        response = \"오늘은 추워요~~\"\n",
    "    print(response)\n",
    "\n",
    "    #응답 메세지 전송\n",
    "    await context.bot.send_message(chat_id=update.effective_chat.id, text=response)\n",
    "\n",
    "async def main():\n",
    "    application = Application.builder().token(TELEGRAM_TOKEN).build()\n",
    "    await application.initialize() # 초기화 필수\n",
    "\n",
    "    # 핸들러 추가\n",
    "    application.add_handler(CommandHandler(\"start\", start))\n",
    "    application.add_handler(MessageHandler(filters.TEXT & ~filters.COMMAND, handle_message))\n",
    "    \n",
    "    await application.start()\n",
    "    print(\"봇이 실행중 입니다.\")\n",
    "\n",
    "    # await application.updater.start_polling()\n",
    "    application.run_polling()\n",
    "\n",
    "if __name__ == \"__main__\":\n",
    "    asyncio.run(main())"
   ]
  },
  {
   "cell_type": "code",
   "execution_count": 4,
   "id": "d224ea59-a8f6-4af4-9f5b-7202c09c6b2f",
   "metadata": {},
   "outputs": [
    {
     "name": "stdout",
     "output_type": "stream",
     "text": [
      "□  (종합) 대기 매우 건조, 기온 낮아 춥겠음, 강풍 및 풍랑 유의\n",
      "○  (오늘, 21일) 구름많다가 오후에 맑아짐\n",
      "○  (내일, 22일) 대체로 맑음\n",
      "○  (모레, 23일) 대체로 맑겠으나, 경남서부내륙 가끔 구름많음\n",
      "○  (글피, 24일) 대체로 맑음\n"
     ]
    }
   ],
   "source": [
    "import requests as req\n",
    "from bs4 import BeautifulSoup as bs # 정적 웹용\n",
    "url = \"https://www.weather.go.kr/w/weather/forecast/short-term.do?stnId=159\"\n",
    "web = req.get(url)\n",
    "soup = bs(web.content,'html.parser')\n",
    "summary = soup.select('p.summary') # 배열로 가져옴\n",
    "for s in summary:\n",
    "    print(s.text.replace('○','\\n○'))    "
   ]
  },
  {
   "cell_type": "code",
   "execution_count": 15,
   "id": "a99fc420-295a-4043-a858-849700067c35",
   "metadata": {},
   "outputs": [
    {
     "name": "stdout",
     "output_type": "stream",
     "text": [
      "예보요소  : 최저기온 / 최고기온\n",
      "평년(오늘): -5.1 ~ 2.1 / 9.0 ~ 11.7\n",
      "어제(20일): -9.7 ~ -2.0 / 4.4 ~ 8.8\n",
      "오늘(21일): - / 3 ~ 7\n",
      "내일(22일): -7 ~ -3 / 4 ~ 7\n",
      "모레(23일): -8 ~ -3 / 1 ~ 5\n",
      "글피(24일): -9 ~ -4 / 5 ~ 8\n"
     ]
    }
   ],
   "source": [
    "table = soup.select('.table-col')[0]\n",
    "data = table.select('tr')\n",
    "header = data[0].select('th')\n",
    "line1 = ['최저기온'] + data[1].select('td')\n",
    "line2 = ['최고기온'] + data[2].select('td')\n",
    "raw_data=[]\n",
    "for h, l1, l2 in zip(header, line1, line2):\n",
    "    try:\n",
    "        out = h.text + ': ' + l1.text +' / '+ l2.text\n",
    "    except:\n",
    "        out = h.text +'  : '+ l1+' / '+ l2\n",
    "    finally:\n",
    "        print(out)\n",
    "        raw_data.append(out)"
   ]
  },
  {
   "cell_type": "code",
   "execution_count": 16,
   "id": "4d4d49ce-6598-468b-8816-f53cc3c842a7",
   "metadata": {},
   "outputs": [],
   "source": [
    "# !pip install pandas"
   ]
  },
  {
   "cell_type": "code",
   "execution_count": 25,
   "id": "a5f9c07d-417e-421b-8bd9-825adc1e052f",
   "metadata": {},
   "outputs": [],
   "source": [
    "import pandas as pd\n",
    "# 데이터 파싱\n",
    "parsed_data=[]\n",
    "for entry in raw_data[1:]:\n",
    "    date, temps  = entry.split(':')\n",
    "    low_temp , high_temp  = temps.split('/')\n",
    "    parsed_data.append([date.strip(),low_temp.strip(),high_temp.strip()])\n",
    "# 데이터프레임 생성\n",
    "df = pd.DataFrame(parsed_data,columns=[\"날짜\",\"최저기온\",\"최고기온\"])\n",
    "# df.to_csv('weather.csv',index=False, encoding='utf-8')\n",
    "df.to_csv('weather_x.csv',index=False, encoding='utf-8-sig')"
   ]
  },
  {
   "cell_type": "code",
   "execution_count": 31,
   "id": "eea57617-6f7a-4162-8801-a5e1fe5fe75c",
   "metadata": {
    "scrolled": true
   },
   "outputs": [
    {
     "data": {
      "text/html": [
       "<div>\n",
       "<style scoped>\n",
       "    .dataframe tbody tr th:only-of-type {\n",
       "        vertical-align: middle;\n",
       "    }\n",
       "\n",
       "    .dataframe tbody tr th {\n",
       "        vertical-align: top;\n",
       "    }\n",
       "\n",
       "    .dataframe thead th {\n",
       "        text-align: right;\n",
       "    }\n",
       "</style>\n",
       "<table border=\"1\" class=\"dataframe\">\n",
       "  <thead>\n",
       "    <tr style=\"text-align: right;\">\n",
       "      <th></th>\n",
       "      <th>날짜</th>\n",
       "      <th>최저기온</th>\n",
       "      <th>최고기온</th>\n",
       "    </tr>\n",
       "  </thead>\n",
       "  <tbody>\n",
       "    <tr>\n",
       "      <th>0</th>\n",
       "      <td>평년(오늘)</td>\n",
       "      <td>-5.1 ~ 2.1</td>\n",
       "      <td>9.0 ~ 11.7</td>\n",
       "    </tr>\n",
       "    <tr>\n",
       "      <th>1</th>\n",
       "      <td>어제(20일)</td>\n",
       "      <td>-9.7 ~ -2.0</td>\n",
       "      <td>4.4 ~ 8.8</td>\n",
       "    </tr>\n",
       "    <tr>\n",
       "      <th>2</th>\n",
       "      <td>오늘(21일)</td>\n",
       "      <td>-</td>\n",
       "      <td>3 ~ 7</td>\n",
       "    </tr>\n",
       "    <tr>\n",
       "      <th>3</th>\n",
       "      <td>내일(22일)</td>\n",
       "      <td>-7 ~ -3</td>\n",
       "      <td>4 ~ 7</td>\n",
       "    </tr>\n",
       "    <tr>\n",
       "      <th>4</th>\n",
       "      <td>모레(23일)</td>\n",
       "      <td>-8 ~ -3</td>\n",
       "      <td>1 ~ 5</td>\n",
       "    </tr>\n",
       "    <tr>\n",
       "      <th>5</th>\n",
       "      <td>글피(24일)</td>\n",
       "      <td>-9 ~ -4</td>\n",
       "      <td>5 ~ 8</td>\n",
       "    </tr>\n",
       "  </tbody>\n",
       "</table>\n",
       "</div>"
      ],
      "text/plain": [
       "        날짜          최저기온         최고기온\n",
       "0   평년(오늘)   -5.1 ~ 2.1    9.0 ~ 11.7\n",
       "1  어제(20일)  -9.7 ~ -2.0     4.4 ~ 8.8\n",
       "2  오늘(21일)            -         3 ~ 7\n",
       "3  내일(22일)      -7 ~ -3         4 ~ 7\n",
       "4  모레(23일)      -8 ~ -3         1 ~ 5\n",
       "5  글피(24일)      -9 ~ -4         5 ~ 8"
      ]
     },
     "execution_count": 31,
     "metadata": {},
     "output_type": "execute_result"
    }
   ],
   "source": [
    "df = pd.DataFrame([entry.split(':')[0].strip(), *entry.split(':')[1].strip().split('/')] for entry in raw_data[1:])\n",
    "df.columns=[\"날짜\",\"최저기온\",\"최고기온\"]\n",
    "df"
   ]
  },
  {
   "cell_type": "code",
   "execution_count": null,
   "id": "c696cdf8-16c1-4ab6-8137-aad2f8314b05",
   "metadata": {},
   "outputs": [],
   "source": []
  }
 ],
 "metadata": {
  "kernelspec": {
   "display_name": "Python 3 (ipykernel)",
   "language": "python",
   "name": "python3"
  },
  "language_info": {
   "codemirror_mode": {
    "name": "ipython",
    "version": 3
   },
   "file_extension": ".py",
   "mimetype": "text/x-python",
   "name": "python",
   "nbconvert_exporter": "python",
   "pygments_lexer": "ipython3",
   "version": "3.13.1"
  }
 },
 "nbformat": 4,
 "nbformat_minor": 5
}
