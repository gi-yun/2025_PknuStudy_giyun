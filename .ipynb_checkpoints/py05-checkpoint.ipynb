{
 "cells": [
  {
   "cell_type": "markdown",
   "id": "14f08738-956b-404d-af60-bbda3ad39ed2",
   "metadata": {},
   "source": [
    "# 클래스"
   ]
  },
  {
   "cell_type": "code",
   "execution_count": null,
   "id": "6d46bfd0-46f0-4fde-90ac-cebd59143ef6",
   "metadata": {
    "jp-MarkdownHeadingCollapsed": true
   },
   "outputs": [],
   "source": [
    "what = [1,2,3,4]\n",
    "what2 = ['a','b','c']\n",
    "who = 11,22,33,44\n",
    "print(what,type(what))\n",
    "print(what2,type(what2))\n",
    "print(who,type(who))"
   ]
  },
  {
   "cell_type": "code",
   "execution_count": 5,
   "id": "053cb057-5df2-4558-9a05-5e746faa734c",
   "metadata": {},
   "outputs": [],
   "source": [
    "# dir(list)"
   ]
  },
  {
   "cell_type": "code",
   "execution_count": 12,
   "id": "ccfec7cd-1159-4fa8-919f-c274b378e21e",
   "metadata": {},
   "outputs": [],
   "source": [
    "# dir(tuple)"
   ]
  },
  {
   "cell_type": "markdown",
   "id": "0f5741b1-d0d3-4689-bcc2-10d29d416596",
   "metadata": {},
   "source": [
    "## 클래스 기본"
   ]
  },
  {
   "cell_type": "code",
   "execution_count": 79,
   "id": "0e26048f-f7b5-43a2-97b1-35a25ee54fae",
   "metadata": {},
   "outputs": [
    {
     "name": "stdout",
     "output_type": "stream",
     "text": [
      "3\n",
      "7\n",
      "3\n",
      "10\n"
     ]
    }
   ],
   "source": [
    "# 함수로 구성\n",
    "result1=0\n",
    "result2=0\n",
    "\n",
    "def add1(num): #계산기 1\n",
    "    global result1\n",
    "    result1 += num\n",
    "    return result1\n",
    "\n",
    "def add2(num): #계산기 2\n",
    "    global result2\n",
    "    result2 += num\n",
    "    return result2\n",
    "\n",
    "    \n",
    "print(add1(3)) # +3\n",
    "print(add1(4))# 3+4\n",
    "print(add2(3))\n",
    "print(add2(7))"
   ]
  },
  {
   "cell_type": "markdown",
   "id": "537bb5de-a6c5-475e-8ab8-c378f78a7966",
   "metadata": {},
   "source": [
    "클래스 (Class): 클래스는 객체의 설계도나 청사진과 같은 개념입니다. 속성과 메서드를 정의하여 객체의 구조와 동작을 설명합니다.\n",
    "\n",
    "인스턴스 (Instance): 클래스에 정의된 속성과 메서드를 바탕으로 생성된 실제 객체를 인스턴스라고 합니다. 즉, 클래스의 구체적인 구현물입니다."
   ]
  },
  {
   "cell_type": "code",
   "execution_count": 28,
   "id": "d60168ff-5e9b-4d4a-af06-d34048b1d7b0",
   "metadata": {},
   "outputs": [
    {
     "name": "stdout",
     "output_type": "stream",
     "text": [
      "3\n",
      "7\n",
      "5\n",
      "3\n",
      "1\n",
      "-1\n",
      "-3\n",
      "-5\n",
      "3\n",
      "6\n",
      "9\n",
      "16\n",
      "23\n",
      "30\n",
      "37\n",
      "44\n",
      "51\n",
      "58\n",
      "55\n",
      "52\n",
      "49\n"
     ]
    }
   ],
   "source": [
    "# 클래스 구성\n",
    "class Calculator:\n",
    "    \n",
    "    def __init__(self): \n",
    "        self.result = 0\n",
    "    \n",
    "    def add(self,num): \n",
    "        self.result += num\n",
    "        return self.result\n",
    "    def sub(self,num): \n",
    "        self.result -= num\n",
    "        return self.result\n",
    "\n",
    "cal1 = Calculator() #인스턴스 화\n",
    "cal2 = Calculator()\n",
    "\n",
    "print(cal1.add(3))\n",
    "print(cal1.add(4))\n",
    "print(cal1.sub(2))\n",
    "print(cal1.sub(2))\n",
    "print(cal1.sub(2))\n",
    "print(cal1.sub(2))\n",
    "print(cal1.sub(2))\n",
    "print(cal1.sub(2))\n",
    "print(cal2.add(3))\n",
    "print(cal2.add(3))\n",
    "print(cal2.add(3))\n",
    "print(cal2.add(7))\n",
    "print(cal2.add(7))\n",
    "print(cal2.add(7))\n",
    "print(cal2.add(7))\n",
    "print(cal2.add(7))\n",
    "print(cal2.add(7))\n",
    "print(cal2.add(7))\n",
    "print(cal2.sub(3))\n",
    "print(cal2.sub(3))\n",
    "print(cal2.sub(3))"
   ]
  },
  {
   "cell_type": "markdown",
   "id": "6c1a4e26-e061-4e78-be9c-29e6ce63fbee",
   "metadata": {},
   "source": [
    "## 생성자"
   ]
  },
  {
   "cell_type": "code",
   "execution_count": 1,
   "id": "f320529a-767b-4310-8b02-652cb59cac0a",
   "metadata": {},
   "outputs": [],
   "source": [
    "class Dduk:\n",
    "    def __init__(self, won, ea):\n",
    "        self.won=won\n",
    "        self.ea=ea\n",
    "    def dduk(self):\n",
    "        result = self.won* self.ea\n",
    "        print(f'배가 고파서 떡볶이집에서 {result}원어치 먹었다.')\n",
    "    def odeng(self):\n",
    "        result = self.won*2*self.ea\n",
    "        print(f'배가 고파서 떡볶이집에서 오뎅을 {result}원 어치를 먹었다.')\n",
    "    def sundae(self):\n",
    "        result = self.won*3*self.ea\n",
    "        print(f'배가 고파서 떡볶이집에서 순대를 {result}원 어치를 먹었다.')"
   ]
  },
  {
   "cell_type": "code",
   "execution_count": 67,
   "id": "48759924-8a10-4567-adc6-653647a86666",
   "metadata": {},
   "outputs": [],
   "source": [
    "성훈 = Dduk(2000,3)\n",
    "희성 = Dduk(3000,2)\n",
    "기윤 = Dduk(1500,6)"
   ]
  },
  {
   "cell_type": "code",
   "execution_count": 68,
   "id": "13f7239b-75cd-4241-8232-e07e6d30280a",
   "metadata": {},
   "outputs": [
    {
     "name": "stdout",
     "output_type": "stream",
     "text": [
      "배가 고파서 떡볶이집에서 6000원어치 먹었다.\n",
      "배가 고파서 떡볶이집에서 오뎅을 12000원 어치를 먹었다.\n"
     ]
    }
   ],
   "source": [
    "성훈.dduk()\n",
    "성훈.odeng()"
   ]
  },
  {
   "cell_type": "code",
   "execution_count": 70,
   "id": "352018a6-23c6-4fdb-8089-89ae7a7e7a21",
   "metadata": {},
   "outputs": [
    {
     "name": "stdout",
     "output_type": "stream",
     "text": [
      "배가 고파서 떡볶이집에서 6000원어치 먹었다.\n",
      "배가 고파서 떡볶이집에서 오뎅을 12000원 어치를 먹었다.\n"
     ]
    }
   ],
   "source": [
    "희성.dduk()\n",
    "희성.odeng()"
   ]
  },
  {
   "cell_type": "code",
   "execution_count": 69,
   "id": "9cf441af-0e78-4f1f-bf2d-fe29a4d3abcc",
   "metadata": {},
   "outputs": [
    {
     "name": "stdout",
     "output_type": "stream",
     "text": [
      "배가 고파서 떡볶이집에서 9000원어치 먹었다.\n",
      "배가 고파서 떡볶이집에서 오뎅을 18000원 어치를 먹었다.\n"
     ]
    }
   ],
   "source": [
    "기윤.dduk()\n",
    "기윤.odeng()"
   ]
  },
  {
   "cell_type": "code",
   "execution_count": 71,
   "id": "d939921a-25c5-437d-b8c3-e9b1254cd951",
   "metadata": {},
   "outputs": [],
   "source": [
    "성훈.__init__(3000,3)"
   ]
  },
  {
   "cell_type": "code",
   "execution_count": 72,
   "id": "cca9b6c2-2711-4eb4-96f9-242b29d8071d",
   "metadata": {},
   "outputs": [
    {
     "name": "stdout",
     "output_type": "stream",
     "text": [
      "배가 고파서 떡볶이집에서 9000원어치 먹었다.\n",
      "배가 고파서 떡볶이집에서 오뎅을 18000원 어치를 먹었다.\n"
     ]
    }
   ],
   "source": [
    "성훈.dduk()\n",
    "성훈.odeng()"
   ]
  },
  {
   "cell_type": "code",
   "execution_count": 77,
   "id": "a815ea85-caf3-4a7a-aa15-7cc5e91f08f0",
   "metadata": {},
   "outputs": [
    {
     "name": "stdout",
     "output_type": "stream",
     "text": [
      "배가 고파서 떡볶이집에서 8000원어치 먹었다.\n",
      "배가 고파서 떡볶이집에서 오뎅을 16000원 어치를 먹었다.\n",
      "배가 고파서 떡볶이집에서 순대를 24000원 어치를 먹었다.\n"
     ]
    }
   ],
   "source": [
    "기윤=Dduk(2000,4)\n",
    "기윤.dduk()\n",
    "기윤.odeng()\n",
    "기윤.sundae()"
   ]
  },
  {
   "cell_type": "code",
   "execution_count": 78,
   "id": "deec6721-dd6e-4f65-b13f-bd614394d998",
   "metadata": {},
   "outputs": [
    {
     "name": "stdout",
     "output_type": "stream",
     "text": [
      "배가 고파서 떡볶이집에서 21000원어치 먹었다.\n",
      "배가 고파서 떡볶이집에서 오뎅을 42000원 어치를 먹었다.\n",
      "배가 고파서 떡볶이집에서 순대를 63000원 어치를 먹었다.\n"
     ]
    }
   ],
   "source": [
    "기윤.__init__(3500,6)\n",
    "기윤.dduk()\n",
    "기윤.odeng()\n",
    "기윤.sundae()"
   ]
  },
  {
   "cell_type": "markdown",
   "id": "16659e21-11a9-4baa-b9e0-b26d42ff7994",
   "metadata": {},
   "source": [
    "## 예제들"
   ]
  },
  {
   "cell_type": "code",
   "execution_count": 48,
   "id": "85a3663c-57e7-4f3a-8e2f-eb57b7d40612",
   "metadata": {},
   "outputs": [
    {
     "name": "stdout",
     "output_type": "stream",
     "text": [
      "방가방가 저는 고전 인사입니다!!\n"
     ]
    }
   ],
   "source": [
    "# 테스트1\n",
    "def test():\n",
    "    #__doc__ : 함수 설명란\n",
    "    \"\"\"\n",
    "    이것은 예로부터 전해오는 고전 인사 입니다. == DocString\n",
    "    \"\"\"\n",
    "    # 안녕하세요\n",
    "    print(\"방가방가 저는 고전 인사입니다!!\")\n",
    "test()"
   ]
  },
  {
   "cell_type": "code",
   "execution_count": 49,
   "id": "dfc6bb37-3f1a-48e9-b0fd-faef71c2bce0",
   "metadata": {},
   "outputs": [],
   "source": [
    "# dir(test)"
   ]
  },
  {
   "cell_type": "code",
   "execution_count": 50,
   "id": "7ddb0d50-cca7-4894-b414-29e399b8c182",
   "metadata": {},
   "outputs": [
    {
     "name": "stdout",
     "output_type": "stream",
     "text": [
      "\n",
      "이것은 예로부터 전해오는 고전 인사 입니다. == DocString\n",
      "\n",
      "Help on function test in module __main__:\n",
      "\n",
      "test()\n",
      "    이것은 예로부터 전해오는 고전 인사 입니다. == DocString\n",
      "\n"
     ]
    }
   ],
   "source": [
    "print(test.__doc__)\n",
    "\n",
    "help(test)"
   ]
  },
  {
   "cell_type": "code",
   "execution_count": 51,
   "id": "d8ec97e6-f15b-48fe-a8bc-22e2a40598ff",
   "metadata": {},
   "outputs": [
    {
     "name": "stdout",
     "output_type": "stream",
     "text": [
      "{'name': 'HD', 'color': 'Blue'}\n",
      "Car:HD,Color:Blue\n",
      "Car:Kia,Color:White\n"
     ]
    }
   ],
   "source": [
    "# 테스트 2 \n",
    "# class의 self없이 함수 만들기\n",
    "def set_car(name, color):\n",
    "    return {\"name\":name,\"color\":color}\n",
    "def get_car_info(car):\n",
    "    return f\"Car:{car['name']},Color:{car['color']}\"\n",
    "\n",
    "# 자동차를 생성\n",
    "car = set_car(\"HD\",\"Blue\")\n",
    "print(car)\n",
    "# 자동차 정보를 생성\n",
    "print(get_car_info(car))\n",
    "\n",
    "print(get_car_info(set_car(\"Kia\",\"White\")))"
   ]
  },
  {
   "cell_type": "code",
   "execution_count": 52,
   "id": "0b070c26-ff21-4e59-8160-954ab15814e3",
   "metadata": {},
   "outputs": [
    {
     "name": "stdout",
     "output_type": "stream",
     "text": [
      "Car:HD,Color:Yellow\n",
      "Car:Kia,Color:White\n"
     ]
    }
   ],
   "source": [
    "# 테스트 3\n",
    "class Car:\n",
    "    def set_car(name, color):\n",
    "        return {\"name\":name,\"color\":color}\n",
    "    def get_car_info(car):\n",
    "        return f\"Car:{car['name']},Color:{car['color']}\"\n",
    "\n",
    "car1 = Car.set_car(\"HD\",\"Yellow\")\n",
    "car2 = Car.set_car(\"Kia\",\"White\")\n",
    "print(Car.get_car_info(car1))\n",
    "print(Car.get_car_info(car2))"
   ]
  },
  {
   "cell_type": "code",
   "execution_count": 53,
   "id": "4afb4e2f-b4b8-40ea-8b88-8f54fcffce82",
   "metadata": {},
   "outputs": [
    {
     "name": "stdout",
     "output_type": "stream",
     "text": [
      "Car:HD,Color:Black\n",
      "Car:Kia,Color:Gray\n"
     ]
    }
   ],
   "source": [
    "# 테스트 4\n",
    "class Car:\n",
    "    def __init__(self,name,color): # 생성자\n",
    "        self.name = name\n",
    "        self.color = color   \n",
    "    def get_car_info(self):\n",
    "        return f\"Car:{self.name},Color:{self.color}\"\n",
    "\n",
    "car1 = Car(\"HD\",\"Black\")\n",
    "car2 = Car(\"Kia\",\"Gray\")\n",
    "\n",
    "print(car1.get_car_info())\n",
    "print(car2.get_car_info())"
   ]
  },
  {
   "cell_type": "code",
   "execution_count": 54,
   "id": "60eccea6-53e3-4056-b50e-abed99b91069",
   "metadata": {},
   "outputs": [],
   "source": [
    "# 테스트 5\n",
    "class Car:\n",
    "    def __init__(self,name,color): # 생성자\n",
    "        self.name = name\n",
    "        self.color = color\n",
    "        self.speed = 0 # 초기값 0\n",
    "    def get_car_info(self):\n",
    "        return f\"Car:{self.name},Color:{self.color}\"\n",
    "    def acc(self, amount):\n",
    "        self.speed += amount # 속도가 증가\n",
    "        return f\"{self.name} 속도 올려요. 현재속도는 {self.speed}Km/h\""
   ]
  },
  {
   "cell_type": "code",
   "execution_count": 55,
   "id": "562f3570-9b7b-4d8c-819c-0d6b98b550d1",
   "metadata": {},
   "outputs": [
    {
     "name": "stdout",
     "output_type": "stream",
     "text": [
      "Car:HD,Color:Black\n",
      "Car:Kia,Color:Gray\n"
     ]
    }
   ],
   "source": [
    "car1 = Car(\"HD\",\"Black\")\n",
    "car2 = Car(\"Kia\",\"Gray\")\n",
    "print(car1.get_car_info())\n",
    "print(car2.get_car_info())"
   ]
  },
  {
   "cell_type": "code",
   "execution_count": 56,
   "id": "f79f91fb-0dde-4fb6-9309-422ca0c2eb0c",
   "metadata": {},
   "outputs": [
    {
     "name": "stdout",
     "output_type": "stream",
     "text": [
      "HD 속도 올려요. 현재속도는 30Km/h\n",
      "Kia 속도 올려요. 현재속도는 50Km/h\n",
      "HD 속도 올려요. 현재속도는 40Km/h\n"
     ]
    }
   ],
   "source": [
    "print(car1.acc(30))\n",
    "print(car2.acc(50))\n",
    "print(car1.acc(10))"
   ]
  },
  {
   "cell_type": "code",
   "execution_count": 57,
   "id": "ab10f2ed-1217-45b6-bf2e-018bfdde63e8",
   "metadata": {
    "scrolled": true
   },
   "outputs": [
    {
     "name": "stdout",
     "output_type": "stream",
     "text": [
      "HD 속도 올려요. 현재속도는 41Km/h\n",
      "HD 속도 올려요. 현재속도는 42Km/h\n",
      "HD 속도 올려요. 현재속도는 43Km/h\n",
      "HD 속도 올려요. 현재속도는 44Km/h\n",
      "HD 속도 올려요. 현재속도는 45Km/h\n",
      "HD 속도 올려요. 현재속도는 46Km/h\n",
      "HD 속도 올려요. 현재속도는 47Km/h\n",
      "HD 속도 올려요. 현재속도는 48Km/h\n",
      "HD 속도 올려요. 현재속도는 49Km/h\n",
      "HD 속도 올려요. 현재속도는 50Km/h\n",
      "100Km/h 속도 유지중...\n"
     ]
    }
   ],
   "source": [
    "# 테스트 연습\n",
    "import time as t\n",
    "for n in range(10):\n",
    "    print(car1.acc(1))\n",
    "    t.sleep(1)\n",
    "print(\"100Km/h 속도 유지중...\")"
   ]
  },
  {
   "cell_type": "code",
   "execution_count": 58,
   "id": "223c536e-13a8-4add-9b1a-6ca3d9ef9c81",
   "metadata": {},
   "outputs": [],
   "source": [
    "# 테스트 6 상속\n",
    "class Mycar(Car):\n",
    "    def turbo(self):\n",
    "        self.speed += 50        \n",
    "        return(f\"내차가 나른다!! 터보 ! {self.speed} Km/h\")    \n",
    "    def acc(self):\n",
    "        self.speed += 30 # 속도가 증가\n",
    "        return f\"{self.name}의 {self.speed}!!\" "
   ]
  },
  {
   "cell_type": "code",
   "execution_count": 59,
   "id": "cce83810-067d-41b0-bfda-29b1cfe1a812",
   "metadata": {},
   "outputs": [
    {
     "name": "stdout",
     "output_type": "stream",
     "text": [
      "Kia 속도 올려요. 현재속도는 10Km/h\n",
      "mycar의 30!!\n"
     ]
    }
   ],
   "source": [
    "my = Mycar(\"mycar\",\"skyblue\")\n",
    "car0 = Car(\"Kia\",\"Gray\")\n",
    "print(car0.acc(10))\n",
    "print(my.acc())"
   ]
  },
  {
   "cell_type": "code",
   "execution_count": 60,
   "id": "046420c5-3188-4d9a-9ad0-731a0464e99b",
   "metadata": {},
   "outputs": [
    {
     "name": "stdout",
     "output_type": "stream",
     "text": [
      "내차가 나른다!! 터보 ! 80 Km/h\n",
      "내차가 나른다!! 터보 ! 130 Km/h\n"
     ]
    }
   ],
   "source": [
    "print(my.turbo())\n",
    "print(my.turbo())"
   ]
  },
  {
   "cell_type": "markdown",
   "id": "bd92a882-b0fe-4b5c-a419-d8198853a803",
   "metadata": {},
   "source": [
    "객체 지향 프로그래밍(Object-Orented) OOP\n",
    "\n",
    "객체지향의 핵심:<br>\n",
    "캡슐화<br>\n",
    "상속<br>\n",
    "다형성<br>\n",
    "클래스 : class Car <br>\n",
    "객체: car1 =Car(\"HD\", \"Blue\")\n",
    "\n",
    "객체지향의 장점: <br>\n",
    "  코드의 재사용성 <br>\n",
    "  유지보수가 용이<br>\n",
    "  작성시 효율성"
   ]
  },
  {
   "cell_type": "code",
   "execution_count": 2,
   "id": "9c236f48-5792-4ee4-9bdf-25b4bf359b52",
   "metadata": {},
   "outputs": [],
   "source": [
    "#테스트 7\n",
    "class Pet:\n",
    "    def __init__(self,name,species):\n",
    "        \"\"\"펫을 생성\"\"\"\n",
    "        self.name = name\n",
    "        self.species = species\n",
    "        self.hunger = 50 # 초기 배고픔 수치( 0 ~ 100)\n",
    "    def feed(self):\n",
    "        \"\"\"밥을 주면 배고픔 감소\"\"\"\n",
    "        if self.hunger > 10:\n",
    "            self.hunger-=10\n",
    "            return f\"{self.name}에게 밥을 줬습니다! 배고픔:{self.hunger}\"\n",
    "    def play(self):\n",
    "        \"\"\"놀아주면 배고픔이 증가\"\"\"\n",
    "        if self.hunger < 80:\n",
    "            self.hunger +=20\n",
    "        else:\n",
    "            self.hunger = 100\n",
    "        return f\"{self.name}와 아주 잘 놀아줬어요!!!~~~ 배고픔:{self.hunger}\""
   ]
  },
  {
   "cell_type": "code",
   "execution_count": 3,
   "id": "9368a448-ed94-4b79-9a8a-716202444edd",
   "metadata": {},
   "outputs": [
    {
     "name": "stdout",
     "output_type": "stream",
     "text": [
      "뽀삐에게 밥을 줬습니다! 배고픔:40\n",
      "뽀삐에게 밥을 줬습니다! 배고픔:30\n",
      "아지와 아주 잘 놀아줬어요!!!~~~ 배고픔:70\n",
      "아지와 아주 잘 놀아줬어요!!!~~~ 배고픔:90\n",
      "아지와 아주 잘 놀아줬어요!!!~~~ 배고픔:100\n",
      "뽀삐와 아주 잘 놀아줬어요!!!~~~ 배고픔:50\n",
      "뽀삐와 아주 잘 놀아줬어요!!!~~~ 배고픔:70\n",
      "컁이와 아주 잘 놀아줬어요!!!~~~ 배고픔:70\n",
      "컁이와 아주 잘 놀아줬어요!!!~~~ 배고픔:90\n",
      "컁이에게 밥을 줬습니다! 배고픔:80\n"
     ]
    }
   ],
   "source": [
    "# 펫생성\n",
    "dog1 = Pet(\"뽀삐\",\"말티즈\")\n",
    "dog2 = Pet(\"아지\",\"요크\")\n",
    "cat = Pet(\"컁이\",\"나만고양없어\")\n",
    "print(dog1.feed())\n",
    "print(dog1.feed())\n",
    "print(dog2.play())\n",
    "print(dog2.play())\n",
    "print(dog2.play())\n",
    "print(dog1.play())\n",
    "print(dog1.play())\n",
    "print(cat.play())\n",
    "print(cat.play())\n",
    "print(cat.feed())"
   ]
  },
  {
   "cell_type": "code",
   "execution_count": 4,
   "id": "ed765a0e-ef1f-46c4-9658-646b36bd1e31",
   "metadata": {},
   "outputs": [],
   "source": [
    "class Bacteria:\n",
    "    def __init__(self, initial_population, growth_rate):\n",
    "        \"\"\"세균초기화\"\"\"\n",
    "        self.population = initial_population\n",
    "        self.growth_rate = growth_rate\n",
    "        self.time = 0 # 시작시간\n",
    "    def grow(self,hours):\n",
    "        \"\"\"일정 시간이 지나면 세균이 증식함\"\"\"\n",
    "        self.time += hours\n",
    "        self.population *= self.growth_rate**hours\n",
    "        return f\"{self.time} 시간 후 세균 후 : {int(self.population)} 마리\"\n",
    "    def check(self):\n",
    "        \"\"\"현재 세균 수 확인\"\"\"\n",
    "        return f\"현재 세균 수 : {int(self.population)} 마리\"\n",
    "    "
   ]
  },
  {
   "cell_type": "code",
   "execution_count": 5,
   "id": "25f0c7f3-3690-4cc2-8258-1d55c4c2ca98",
   "metadata": {},
   "outputs": [],
   "source": [
    "bacteria = Bacteria(100, 2)"
   ]
  },
  {
   "cell_type": "code",
   "execution_count": 7,
   "id": "7c69468b-3f75-4e68-be0b-eda9f696f6fd",
   "metadata": {},
   "outputs": [
    {
     "name": "stdout",
     "output_type": "stream",
     "text": [
      "2 시간 후 세균 후 : 400 마리\n",
      "4 시간 후 세균 후 : 1600 마리\n",
      "7 시간 후 세균 후 : 12800 마리\n",
      "현재 세균 수 : 12800 마리\n"
     ]
    }
   ],
   "source": [
    "print(bacteria.grow(1))\n",
    "print(bacteria.grow(2))\n",
    "print(bacteria.grow(3))\n",
    "print(bacteria.check())"
   ]
  },
  {
   "cell_type": "code",
   "execution_count": 62,
   "id": "0a6ff553-8827-4703-972d-6b083b078dd7",
   "metadata": {},
   "outputs": [],
   "source": [
    "# 테스트 9 \n",
    "# 은행예금 #캡슐화 예제 #클래스 변수\n",
    "class BankAccount :\n",
    "    interest_rate = 0.02 # 클래스 변수\n",
    "    def __init__(self, owner, balance):\n",
    "        self.owner = owner\n",
    "        self.__balance = balance or 0\n",
    "    def bprint(self):\n",
    "        return f\"{self.owner}님의 잔고는 {self.__balance:,}원 입니다.\"\n",
    "    def deposit(self, amount):\n",
    "        self.__balance += amount\n",
    "        return f\"{self.owner}님의 계좌에 {amount:,}원이 입금 되었습니다. 현재 잔액 {self.__balance:,}원\"\n",
    "    def withdraw(self, amount):\n",
    "        if self.__balance >= amount:\n",
    "            self.__balance -= amount\n",
    "            return f\"{self.owner}님의 계좌에 {amount:,}원이 출금 되었습니다. 현재 잔액 {self.__balance:,}원\"\n",
    "        else:\n",
    "            return \"잔액이 부족합니다.\"\n",
    "    def interest(self):\n",
    "        total = self.__balance * (1+self.interest_rate)\n",
    "        return f\"{self.interest_rate}%의 이자가 반영된 금액은 {total:,.0f}원 입니다.\""
   ]
  },
  {
   "cell_type": "code",
   "execution_count": 63,
   "id": "7f1dcea6-e3a4-4ca1-9bf8-2143e1a1fcff",
   "metadata": {
    "scrolled": true
   },
   "outputs": [
    {
     "name": "stdout",
     "output_type": "stream",
     "text": [
      "철수님의 잔고는 50,000원 입니다.\n",
      "영희님의 잔고는 200,000원 입니다.\n",
      "0.3%의 이자가 반영된 금액은 260,000원 입니다.\n",
      "철수님의 잔고는 50,000원 입니다.\n",
      "9000000\n",
      "철수님의 계좌에 5,000원이 입금 되었습니다. 현재 잔액 55,000원\n",
      "철수님의 계좌에 10,000원이 출금 되었습니다. 현재 잔액 45,000원\n",
      "0.3%의 이자가 반영된 금액은 58,500원 입니다.\n"
     ]
    }
   ],
   "source": [
    "acc1 = BankAccount(\"철수\",50000)\n",
    "acc2 = BankAccount(\"영희\",200000)\n",
    "print(acc1.bprint())\n",
    "print(acc2.bprint())\n",
    "BankAccount.interest_rate=0.3\n",
    "print(acc2.interest())\n",
    "\n",
    "\n",
    "#공격후\n",
    "acc1.balance = 9000000\n",
    "print(acc1.bprint()) # 바뀌지 않음\n",
    "print(acc1.balance)\n",
    "print(acc1.deposit(5000))\n",
    "print(acc1.withdraw(10000))\n",
    "print(acc1.interest())"
   ]
  },
  {
   "cell_type": "markdown",
   "id": "813bc2dc-b580-4351-8b39-6e6ddaa75585",
   "metadata": {},
   "source": [
    "### 네임 맹글링 (Name Mangling)\n",
    "네임 맹글링 (Name Mangling)은 주로 객체 지향 프로그래밍에서 클래스의 멤버 변수를 프라이빗(private)으로 만들기 위해 사용되는 기술입니다. <br>\n",
    "파이썬에서는 두 개의 언더스코어(__)로 시작하는 변수 이름을 네임 맹글링을 통해 내부적으로 변환하여 클래스 외부에서 접근하지 못하도록 합니다.\n",
    "\n",
    "다음은 네임 맹글링의 예시입니다:\n",
    "\n",
    "class MyClass:\n",
    "    def init(self, value):\n",
    "        self.__private_var = value  # 프라이빗 변수\n",
    "\n",
    "    def get_private_var(self):\n",
    "        return self.__private_var\n",
    "\n",
    "인스턴스 생성\n",
    "obj = MyClass(42)\n",
    "\n",
    "프라이빗 변수 접근 (이 방법은 실패합니다)\n",
    "print(obj.__private_var)  # AttributeError 발생\n",
    "\n",
    "네임 맹글링을 통해 접근 (이 방법은 성공합니다)\n",
    "print(obj._MyClass__private_var)  # 출력: 42\n",
    "\n",
    "메서드를 통해 접근\n",
    "print(obj.get_private_var())  # 출력: 42"
   ]
  },
  {
   "cell_type": "markdown",
   "id": "455f332a-29d3-42df-a296-1a45332dc0eb",
   "metadata": {},
   "source": [
    "## 자동판매기 "
   ]
  },
  {
   "cell_type": "code",
   "execution_count": 91,
   "id": "15a0b2f6-b2e4-41f8-b0ef-fd1b554c8a70",
   "metadata": {},
   "outputs": [
    {
     "name": "stdout",
     "output_type": "stream",
     "text": [
      "잔액이 500원으로 증가했습니다. <class 'int'>\n",
      "잔액이 부족합니다! (콜라 가격 1500, 현재 잔액: 500원)\n",
      "====================\n",
      "잔액이 5500원으로 증가했습니다. <class 'int'>\n",
      "사과은(는) 판매하지 않는 상품입니다.\n",
      "콜라을(를) 구매했습니다! 남은 잔액: 4000원\n",
      "====================\n",
      "잔액4000원이 반환되었습니다.\n"
     ]
    }
   ],
   "source": [
    "class VendingMachine:\n",
    "    def __init__(self):\n",
    "        \"\"\"자동판매기 초기화\"\"\"\n",
    "        self.balance = 0 # 사용자의 잔액\n",
    "        self.items = { #상품 목록 (이름: 가격)\n",
    "            \"콜라\" : 1500,\n",
    "            \"사이다\":1400,\n",
    "            \"물\": 1000\n",
    "        }\n",
    "    def insert_money(self, amount):\n",
    "        \"\"\"잔액충전\"\"\"\n",
    "        self.balance+=amount\n",
    "        return f\"잔액이 {self.balance}원으로 증가했습니다.\"\n",
    "    def buy_item(self, item_name):\n",
    "        \"\"\"상품 구매\"\"\"\n",
    "        if item_name not in self.items:\n",
    "            return f\"{item_name}은(는) 판매하지 않는 상품입니다.\"\n",
    "        price = self.items[item_name]\n",
    "        if self.balance < price:\n",
    "            return f\"잔액이 부족합니다! ({item_name} 가격 {price}, 현재 잔액: {self.balance}원)\"\n",
    "        self.balance -= price\n",
    "        return f\"{item_name}을(를) 구매했습니다! 남은 잔액: {self.balance}원\"\n",
    "    def refund(self):\n",
    "        \"\"\"잔액 반환\"\"\"\n",
    "        amount = self.balance\n",
    "        self.balance = 0\n",
    "        return f\"잔액{amount}원이 반환되었습니다.\"\n",
    "\n",
    "#자동판매기 객체 생성\n",
    "vm = VendingMachine()\n",
    "money = 500\n",
    "Iname = \"콜라\"\n",
    "print(vm.insert_money(money),type(money))\n",
    "print(vm.buy_item(Iname))\n",
    "print(\"=\"*20)\n",
    "money = 5000\n",
    "print(vm.insert_money(money),type(money))\n",
    "Iname = \"사과\"\n",
    "print(vm.buy_item(Iname))\n",
    "Iname = \"콜라\"\n",
    "print(vm.buy_item(Iname))\n",
    "print(\"=\"*20)\n",
    "print(vm.refund())\n"
   ]
  },
  {
   "cell_type": "code",
   "execution_count": 1,
   "id": "d9a8e958-196d-4543-878a-92abf35b649b",
   "metadata": {},
   "outputs": [],
   "source": [
    "import turtle\n",
    "\n",
    "window = turtle.Screen()\n",
    "window.bgcolor(\"black\")\n",
    "\n",
    "#거북이 생성\n",
    "my_turtle = turtle.Turtle()\n",
    "my_turtle.shape(\"turtle\")\n",
    "my_turtle.color(\"yellow\")\n",
    "\n",
    "#사각형 그리기\n",
    "for a in range(4):\n",
    "    my_turtle.forward(100) #앞으로 100 픽셀 이동\n",
    "    my_turtle.right(90) #오른쪽으로 90도 회전"
   ]
  },
  {
   "cell_type": "code",
   "execution_count": null,
   "id": "3856db3a-fb66-4ff5-907f-606bd7281d59",
   "metadata": {},
   "outputs": [],
   "source": [
    "#창닫기\n",
    "window.mainloop()"
   ]
  },
  {
   "cell_type": "code",
   "execution_count": 3,
   "id": "2c40a9d3-d648-4971-ad43-6ff4f307193b",
   "metadata": {},
   "outputs": [
    {
     "name": "stdout",
     "output_type": "stream",
     "text": [
      "1 2\n"
     ]
    }
   ],
   "source": [
    "# 테스트\n",
    "a, _ ,c = 1, 77, 2\n",
    "print(a,c)"
   ]
  },
  {
   "cell_type": "code",
   "execution_count": 5,
   "id": "56e9c592-6121-456a-9384-83081d5ad833",
   "metadata": {},
   "outputs": [
    {
     "name": "stdout",
     "output_type": "stream",
     "text": [
      "안녕하세요\n",
      "안녕하세요\n",
      "안녕하세요\n",
      "안녕하세요\n",
      "안녕하세요\n"
     ]
    }
   ],
   "source": [
    "for a in range(5):\n",
    "    print (\"안녕하세요\")"
   ]
  },
  {
   "cell_type": "code",
   "execution_count": 17,
   "id": "461165ae-0994-4116-bef5-ee3cda659d6d",
   "metadata": {},
   "outputs": [],
   "source": [
    "import random\n",
    "\n",
    "class Charactor:\n",
    "    def __init__(self, name, hp, attack_p):\n",
    "        \"\"\"캐릭터 초기화\"\"\"\n",
    "        self.name=name\n",
    "        self.hp=hp\n",
    "        self.attack_p=attack_p\n",
    "    def attack(self, opponent):\n",
    "        \"\"\"상대방을 공격\"\"\"\n",
    "        damage= random.randint(2,self.attack_p)\n",
    "        opponent.hp -=damage\n",
    "        print(f\"{self.name}이 {opponent.name}를 공격하여 {damage} 데미지를 입혔습니다.\")\n",
    "    def now_status(self):\n",
    "        \"\"\"캐릭터 스테이터스 확인\"\"\"\n",
    "        return f\"{self.name}: 체력:{self.hp} 공격력:{self.attack_p}\"\n",
    "    def is_alive(self):\n",
    "        \"\"\"캐릭터 생존여부 확인\"\"\"\n",
    "        return self.hp>0 "
   ]
  },
  {
   "cell_type": "code",
   "execution_count": 18,
   "id": "1a5aef2e-b584-43c0-94dd-47e7c07d055f",
   "metadata": {},
   "outputs": [],
   "source": [
    "# 히어로와 몬스터 생성\n",
    "# player = Charactor(\"영웅\",50,15)\n",
    "player = Charactor(hp=50,name=\"영웅\",attack_p=15) # 딕셔너리 처럼 키 값을 다 적어주고, 변수 위치를 바꿔 적을수 있다.\n",
    "monster = Charactor(\"골렘\",60,9)\n"
   ]
  },
  {
   "cell_type": "code",
   "execution_count": 19,
   "id": "cf30833f-9719-4213-9a62-d2ed4aef0ed3",
   "metadata": {},
   "outputs": [
    {
     "name": "stdout",
     "output_type": "stream",
     "text": [
      "=========전투시작!!!===========\n"
     ]
    },
    {
     "name": "stdin",
     "output_type": "stream",
     "text": [
      "공격하려면 엔터를 치세요 \n"
     ]
    },
    {
     "name": "stdout",
     "output_type": "stream",
     "text": [
      "영웅이 골렘를 공격하여 10 데미지를 입혔습니다.\n",
      "골렘이 영웅를 공격하여 3 데미지를 입혔습니다.\n",
      "영웅: 체력:47 공격력:15  vs  골렘: 체력:50 공격력:9\n"
     ]
    },
    {
     "name": "stdin",
     "output_type": "stream",
     "text": [
      "공격하려면 엔터를 치세요 \n"
     ]
    },
    {
     "name": "stdout",
     "output_type": "stream",
     "text": [
      "영웅이 골렘를 공격하여 2 데미지를 입혔습니다.\n",
      "골렘이 영웅를 공격하여 4 데미지를 입혔습니다.\n",
      "영웅: 체력:43 공격력:15  vs  골렘: 체력:48 공격력:9\n"
     ]
    },
    {
     "name": "stdin",
     "output_type": "stream",
     "text": [
      "공격하려면 엔터를 치세요 \n"
     ]
    },
    {
     "name": "stdout",
     "output_type": "stream",
     "text": [
      "영웅이 골렘를 공격하여 12 데미지를 입혔습니다.\n",
      "골렘이 영웅를 공격하여 9 데미지를 입혔습니다.\n",
      "영웅: 체력:34 공격력:15  vs  골렘: 체력:36 공격력:9\n"
     ]
    },
    {
     "name": "stdin",
     "output_type": "stream",
     "text": [
      "공격하려면 엔터를 치세요 \n"
     ]
    },
    {
     "name": "stdout",
     "output_type": "stream",
     "text": [
      "영웅이 골렘를 공격하여 7 데미지를 입혔습니다.\n",
      "골렘이 영웅를 공격하여 6 데미지를 입혔습니다.\n",
      "영웅: 체력:28 공격력:15  vs  골렘: 체력:29 공격력:9\n"
     ]
    },
    {
     "name": "stdin",
     "output_type": "stream",
     "text": [
      "공격하려면 엔터를 치세요 \n"
     ]
    },
    {
     "name": "stdout",
     "output_type": "stream",
     "text": [
      "영웅이 골렘를 공격하여 13 데미지를 입혔습니다.\n",
      "골렘이 영웅를 공격하여 4 데미지를 입혔습니다.\n",
      "영웅: 체력:24 공격력:15  vs  골렘: 체력:16 공격력:9\n"
     ]
    },
    {
     "name": "stdin",
     "output_type": "stream",
     "text": [
      "공격하려면 엔터를 치세요 \n"
     ]
    },
    {
     "name": "stdout",
     "output_type": "stream",
     "text": [
      "영웅이 골렘를 공격하여 13 데미지를 입혔습니다.\n",
      "골렘이 영웅를 공격하여 3 데미지를 입혔습니다.\n",
      "영웅: 체력:21 공격력:15  vs  골렘: 체력:3 공격력:9\n"
     ]
    },
    {
     "name": "stdin",
     "output_type": "stream",
     "text": [
      "공격하려면 엔터를 치세요 \n"
     ]
    },
    {
     "name": "stdout",
     "output_type": "stream",
     "text": [
      "영웅이 골렘를 공격하여 2 데미지를 입혔습니다.\n",
      "골렘이 영웅를 공격하여 2 데미지를 입혔습니다.\n",
      "영웅: 체력:19 공격력:15  vs  골렘: 체력:1 공격력:9\n"
     ]
    },
    {
     "name": "stdin",
     "output_type": "stream",
     "text": [
      "공격하려면 엔터를 치세요 \n"
     ]
    },
    {
     "name": "stdout",
     "output_type": "stream",
     "text": [
      "영웅이 골렘를 공격하여 15 데미지를 입혔습니다.\n",
      "영웅: 체력:19 공격력:15  vs  골렘: 체력:-14 공격력:9\n",
      "당신이 승리하였습니다.\n"
     ]
    }
   ],
   "source": [
    "# 전투진행\n",
    "print(\"=========전투시작!!!===========\")\n",
    "while player.is_alive() and monster.is_alive():\n",
    "    input(\"공격하려면 엔터를 치세요\")\n",
    "    player.attack(monster)\n",
    "    if monster.is_alive():\n",
    "        monster.attack(player)\n",
    "    print(player.now_status(), ' vs ', monster.now_status())\n",
    "#결과\n",
    "if player.is_alive():\n",
    "    print(\"당신이 승리하였습니다.\")\n",
    "else:\n",
    "    print(\"패배하였습니다...to continue..?\")"
   ]
  },
  {
   "cell_type": "code",
   "execution_count": null,
   "id": "dc06a1dd-0b78-4f42-88a9-e630b50b442e",
   "metadata": {},
   "outputs": [],
   "source": []
  }
 ],
 "metadata": {
  "kernelspec": {
   "display_name": "Python 3 (ipykernel)",
   "language": "python",
   "name": "python3"
  },
  "language_info": {
   "codemirror_mode": {
    "name": "ipython",
    "version": 3
   },
   "file_extension": ".py",
   "mimetype": "text/x-python",
   "name": "python",
   "nbconvert_exporter": "python",
   "pygments_lexer": "ipython3",
   "version": "3.13.1"
  }
 },
 "nbformat": 4,
 "nbformat_minor": 5
}
