{
 "cells": [
  {
   "cell_type": "markdown",
   "id": "5c96011e-7951-4cbe-a265-6513bfe7b363",
   "metadata": {},
   "source": [
    "# 함수"
   ]
  },
  {
   "cell_type": "code",
   "execution_count": 26,
   "id": "4564b3d0-94a9-4ec5-82f9-55d1dca735b5",
   "metadata": {},
   "outputs": [],
   "source": [
    "def 덧셈(a, b):\n",
    "    return a+b"
   ]
  },
  {
   "cell_type": "code",
   "execution_count": 27,
   "id": "b58fe8e5-51d0-44d5-9ddc-4d04d9670063",
   "metadata": {},
   "outputs": [
    {
     "name": "stdout",
     "output_type": "stream",
     "text": [
      "7\n",
      "7\n"
     ]
    }
   ],
   "source": [
    "c=덧셈(3,4)\n",
    "print(덧셈(3,4))\n",
    "print(c)"
   ]
  },
  {
   "cell_type": "markdown",
   "id": "222bf749-6a50-4a6d-8659-03a334e7357c",
   "metadata": {},
   "source": [
    "## 입력값과 리턴값에 따른 함수의 형태"
   ]
  },
  {
   "cell_type": "markdown",
   "id": "c7721cec-e84e-4f03-a35d-fbd64d03a410",
   "metadata": {},
   "source": [
    "### 일반적인 함수"
   ]
  },
  {
   "cell_type": "code",
   "execution_count": 28,
   "id": "a4ebeab7-795f-4a32-ac07-d27a0eb48863",
   "metadata": {},
   "outputs": [],
   "source": [
    "def add(a, b):\n",
    "    result = a+b\n",
    "    return result"
   ]
  },
  {
   "cell_type": "code",
   "execution_count": 29,
   "id": "89224e6f-0b03-4ef7-9bc9-169976acb658",
   "metadata": {},
   "outputs": [
    {
     "name": "stdout",
     "output_type": "stream",
     "text": [
      "87\n"
     ]
    }
   ],
   "source": [
    "a = add(77,10)\n",
    "print(a)"
   ]
  },
  {
   "cell_type": "code",
   "execution_count": 30,
   "id": "dea1d9f7-3f09-491b-b2e3-a7874447b804",
   "metadata": {},
   "outputs": [],
   "source": [
    "def say():\n",
    "    return 'Hi'"
   ]
  },
  {
   "cell_type": "code",
   "execution_count": 31,
   "id": "8896933d-de5f-42af-a077-53f227299209",
   "metadata": {},
   "outputs": [
    {
     "name": "stdout",
     "output_type": "stream",
     "text": [
      "Hi\n"
     ]
    }
   ],
   "source": [
    "a = say()\n",
    "print(a)"
   ]
  },
  {
   "cell_type": "code",
   "execution_count": 32,
   "id": "dcdd0108-ad5d-4552-a874-561c2c9c7780",
   "metadata": {},
   "outputs": [],
   "source": [
    "# 리턴값이 없는 함수\n",
    "def add(a,b):\n",
    "    print(\"%d, %d의 합은 %d\" %(a,b,a+b))"
   ]
  },
  {
   "cell_type": "code",
   "execution_count": 33,
   "id": "6f243b0f-44ca-44ad-a41a-b2dccd15dffb",
   "metadata": {},
   "outputs": [
    {
     "name": "stdout",
     "output_type": "stream",
     "text": [
      "11, 33의 합은 44\n"
     ]
    }
   ],
   "source": [
    "add(11,33)"
   ]
  },
  {
   "cell_type": "code",
   "execution_count": 34,
   "id": "2d76956f-68b9-4dd2-8302-aa1f37252641",
   "metadata": {},
   "outputs": [],
   "source": [
    "# 입력값과 리턴값이 없는 함수\n",
    "def says():\n",
    "    print(\"안녕!\")\n",
    "    print(\"전 입력값과 리턴값이 없어요.\")\n",
    "    print(\"빠이~\")"
   ]
  },
  {
   "cell_type": "code",
   "execution_count": 35,
   "id": "442c263c-0be4-44b1-ae77-fd1185262287",
   "metadata": {},
   "outputs": [
    {
     "name": "stdout",
     "output_type": "stream",
     "text": [
      "안녕!\n",
      "전 입력값과 리턴값이 없어요.\n",
      "빠이~\n"
     ]
    }
   ],
   "source": [
    "says()"
   ]
  },
  {
   "cell_type": "code",
   "execution_count": 36,
   "id": "475899fa-cae6-42ba-9014-78792c2015f3",
   "metadata": {},
   "outputs": [],
   "source": [
    "# 테스트\n",
    "import time as t\n",
    "def disp():\n",
    "    print(\"안녕!\\r\",end=\"\")\n",
    "    t.sleep(2)\n",
    "    print(\"전 입력값과 리턴값이 없어요.\\r\",end=\"\")\n",
    "    t.sleep(2)\n",
    "    print(\"빠이~                   \",end=\"\")\n",
    "    t.sleep(2)"
   ]
  },
  {
   "cell_type": "code",
   "execution_count": 37,
   "id": "fd08718a-a47d-48cd-8ce3-6be3b02cfac3",
   "metadata": {},
   "outputs": [
    {
     "name": "stdout",
     "output_type": "stream",
     "text": [
      "빠이~                   "
     ]
    }
   ],
   "source": [
    "disp()"
   ]
  },
  {
   "cell_type": "code",
   "execution_count": 38,
   "id": "5228dbd4-26cb-43e2-b3b5-016439bca9e0",
   "metadata": {},
   "outputs": [
    {
     "name": "stdout",
     "output_type": "stream",
     "text": [
      "44\n"
     ]
    }
   ],
   "source": [
    "# max()\n",
    "def bs(li=[33,11,22,44]):\n",
    "    sw = 0\n",
    "    for x in range(len(li)):\n",
    "        if sw  < li [x]:\n",
    "            sw=li[x]\n",
    "    return sw\n",
    "\n",
    "print(bs())"
   ]
  },
  {
   "cell_type": "code",
   "execution_count": 39,
   "id": "7cabfe8c-4bae-4261-aeb2-4d45db4145db",
   "metadata": {},
   "outputs": [
    {
     "name": "stdout",
     "output_type": "stream",
     "text": [
      "5\n"
     ]
    }
   ],
   "source": [
    "print(bs([1,2,3,4,5]))"
   ]
  },
  {
   "cell_type": "code",
   "execution_count": 40,
   "id": "071367ac-9a93-4c1f-9b4a-b33254b3d0b2",
   "metadata": {},
   "outputs": [
    {
     "name": "stdout",
     "output_type": "stream",
     "text": [
      "-4\n"
     ]
    }
   ],
   "source": [
    "#매개변수를 지정하여 호출하기\n",
    "def sub(a,b):\n",
    "    return a-b\n",
    "result = sub(a=3, b=7)\n",
    "print(result)"
   ]
  },
  {
   "cell_type": "code",
   "execution_count": 41,
   "id": "79da5c38-d0b5-4b2f-a77f-95d69868bbd8",
   "metadata": {},
   "outputs": [],
   "source": [
    "# !pip install matplotlib"
   ]
  },
  {
   "cell_type": "code",
   "execution_count": 42,
   "id": "2e87a704-a98e-4d62-b0aa-8f46422cdcf1",
   "metadata": {},
   "outputs": [],
   "source": [
    "# 테스트 : 함수 random 주사위\n",
    "import random as r\n",
    "import matplotlib.pyplot as plt\n",
    "results = {}\n",
    "def dice(target = 250000) :\n",
    "    box = [] #초기화\n",
    "    num = 0\n",
    "    while num < target :\n",
    "        num = num + 1\n",
    "        ran =r.randint(1,6)\n",
    "        box.append(ran)\n",
    "    if target == len(box):\n",
    "        print(f'{target}회 정상 진행되었습니다.')\n",
    "    else :\n",
    "        print(f'검증 결과 횟수 이상이 있습니다. 이유: ({target}회 목표로 동작하였으나, {len(box)}으로 측정되었습니다.)')\n",
    "    for n in range(1,7):\n",
    "        results[n] = box.count(n)\n",
    "        print(f'{n}번이 {box.count(n)}번 ({(box.count(n)/len(box))*100:.2f}%) 등장하였습니다.')\n",
    "    print(results)\n",
    "    color=[\"skyblue\",\"orange\",\"skyblue\",\"skyblue\",\"skyblue\",\"skyblue\"]\n",
    "    plt.bar(results.keys(),results.values(),color=color)\n",
    "    plt.show()"
   ]
  },
  {
   "cell_type": "code",
   "execution_count": 43,
   "id": "bfa24738-374a-4228-a4a6-bd37e36aa66d",
   "metadata": {},
   "outputs": [
    {
     "name": "stdout",
     "output_type": "stream",
     "text": [
      "250000회 정상 진행되었습니다.\n",
      "1번이 41415번 (16.57%) 등장하였습니다.\n",
      "2번이 41755번 (16.70%) 등장하였습니다.\n",
      "3번이 41913번 (16.77%) 등장하였습니다.\n",
      "4번이 41874번 (16.75%) 등장하였습니다.\n",
      "5번이 41484번 (16.59%) 등장하였습니다.\n",
      "6번이 41559번 (16.62%) 등장하였습니다.\n",
      "{1: 41415, 2: 41755, 3: 41913, 4: 41874, 5: 41484, 6: 41559}\n"
     ]
    },
    {
     "data": {
      "image/png": "[encoded data removed]",
      "text/plain": [
       "<Figure size 640x480 with 1 Axes>"
      ]
     },
     "metadata": {},
     "output_type": "display_data"
    }
   ],
   "source": [
    "dice()"
   ]
  },
  {
   "cell_type": "code",
   "execution_count": 44,
   "id": "d58eebb0-35b5-4420-8081-0a814c23b0f3",
   "metadata": {},
   "outputs": [],
   "source": [
    "#여러개의 입력값을 받는 함수 만들기 \n",
    "# * 이 없을 때\n",
    "def add_many(args):\n",
    "    result = 0\n",
    "    for i in args:\n",
    "        result = result +i\n",
    "    return result"
   ]
  },
  {
   "cell_type": "code",
   "execution_count": 45,
   "id": "b5681d33-1e98-4f48-90a8-53c76d1890b3",
   "metadata": {},
   "outputs": [
    {
     "name": "stdout",
     "output_type": "stream",
     "text": [
      "15\n"
     ]
    }
   ],
   "source": [
    "res = add_many((1,2,3,4,5))\n",
    "print(res)"
   ]
  },
  {
   "cell_type": "code",
   "execution_count": 46,
   "id": "d1e4c541-c547-4c36-b50e-f379b8e9f1f0",
   "metadata": {},
   "outputs": [],
   "source": [
    "#여러개의 입력값을 받는 함수 만들기\n",
    "# * 이 있을 때\n",
    "def add_many(*args):\n",
    "    result = 0\n",
    "    for i in args:\n",
    "        result = result +i\n",
    "    return result"
   ]
  },
  {
   "cell_type": "code",
   "execution_count": 47,
   "id": "f6eba3db-85de-4430-852d-fecb495012f1",
   "metadata": {},
   "outputs": [
    {
     "name": "stdout",
     "output_type": "stream",
     "text": [
      "15\n"
     ]
    }
   ],
   "source": [
    "res = add_many(1,2,3,4,5)\n",
    "print(res)"
   ]
  },
  {
   "cell_type": "code",
   "execution_count": 48,
   "id": "63e0e6e5-da07-4a2c-a4a7-fcee8b981fea",
   "metadata": {},
   "outputs": [],
   "source": [
    "def add_mul(choice, *args):\n",
    "    if choice == \"add\": #매개변수 choice에 \"add\"을 입력받았을 때\n",
    "        result = 0\n",
    "        for i in args:\n",
    "            result = result + i\n",
    "    elif choice ==\"mul\": #매개변수 choice에 \"mul\"을 입력받았을 때\n",
    "        result = 1\n",
    "        for i in args:\n",
    "            result = result *i\n",
    "    elif choice ==\"sub\": #매개변수 choice에 \"sub\"을 입력받았을 때\n",
    "        result = 0\n",
    "        for i in args:\n",
    "            result = result -i \n",
    "    elif choice ==\"div\": # 매개변수 choice에 \"div\"을 입력받았을 때\n",
    "        result = 1\n",
    "        for i in args:\n",
    "            result = result /i\n",
    "    else:\n",
    "        result = choice\n",
    "        print(\"정확하게 입력하세요.\")\n",
    "        \n",
    "    return result\n"
   ]
  },
  {
   "cell_type": "code",
   "execution_count": 49,
   "id": "1bd20730-fedb-48cf-ac3a-eef457d9377a",
   "metadata": {},
   "outputs": [
    {
     "name": "stdout",
     "output_type": "stream",
     "text": [
      "0.125\n"
     ]
    }
   ],
   "source": [
    "res=add_mul(\"div\",4,2)\n",
    "print(res)"
   ]
  },
  {
   "cell_type": "code",
   "execution_count": 50,
   "id": "5457669a-f0bc-44fa-af2f-72e8f8b5f938",
   "metadata": {},
   "outputs": [],
   "source": [
    "# 키워드 매개변수 kwargs\n",
    "# *딕셔너리 만들기\n",
    "def print_kwargs(**kwargs):\n",
    "    print(kwargs)"
   ]
  },
  {
   "cell_type": "code",
   "execution_count": 51,
   "id": "800136b0-1a73-4036-aab1-de7cc23e7cb0",
   "metadata": {},
   "outputs": [
    {
     "name": "stdout",
     "output_type": "stream",
     "text": [
      "{'a': 1, 'b': 2, 'c': 3}\n"
     ]
    }
   ],
   "source": [
    "print_kwargs(a=1,b=2,c=3)"
   ]
  },
  {
   "cell_type": "code",
   "execution_count": 52,
   "id": "0fe463bc-0a11-494f-b84d-3a420f189679",
   "metadata": {},
   "outputs": [
    {
     "name": "stdout",
     "output_type": "stream",
     "text": [
      "{'name': '홍길동', 'age': 21, 'address': '대한민국'}\n"
     ]
    }
   ],
   "source": [
    "print_kwargs(name= \"홍길동\", age=21, address=\"대한민국\")"
   ]
  },
  {
   "cell_type": "code",
   "execution_count": 53,
   "id": "eb00bee5-6ab6-4099-bfb6-3c770b1cace5",
   "metadata": {},
   "outputs": [
    {
     "name": "stdout",
     "output_type": "stream",
     "text": [
      "{'name': '홍길동', 'age': 21, 'address': '대한민국'}\n"
     ]
    }
   ],
   "source": [
    "def print_kwargs(kwargs):\n",
    "    print(kwargs)\n",
    "print_kwargs({'name':'홍길동','age':21,'address':'대한민국'})"
   ]
  },
  {
   "cell_type": "code",
   "execution_count": 54,
   "id": "80cf84e6-0f5d-4141-baf0-b90034d5c1f3",
   "metadata": {},
   "outputs": [],
   "source": [
    "# test\n",
    "def test():\n",
    "    print('저야 영광이죠~!!')\n",
    "    if 13>4 : return\n",
    "    print('집에가고싶어!~!')\n",
    "    return\n",
    "    "
   ]
  },
  {
   "cell_type": "code",
   "execution_count": 55,
   "id": "bc5ada1c-a0a8-48aa-9618-febe67c85f64",
   "metadata": {},
   "outputs": [
    {
     "name": "stdout",
     "output_type": "stream",
     "text": [
      "저야 영광이죠~!!\n"
     ]
    }
   ],
   "source": [
    "test()"
   ]
  },
  {
   "cell_type": "code",
   "execution_count": 56,
   "id": "ea257ea8-765a-43c9-8377-0499e6023ec1",
   "metadata": {},
   "outputs": [
    {
     "name": "stdout",
     "output_type": "stream",
     "text": [
      "35 286\n"
     ]
    }
   ],
   "source": [
    "# test2\n",
    "def test2(a,b):\n",
    "    return a+b, a*b\n",
    "add_result, mul_result = test2( 13, 22)\n",
    "print(add_result, mul_result)"
   ]
  },
  {
   "cell_type": "code",
   "execution_count": 57,
   "id": "16f6522f-8629-4e58-b780-68171b8a2e17",
   "metadata": {},
   "outputs": [],
   "source": [
    "def say_nick(nick):\n",
    "    if nick ==\"바보\":\n",
    "        return\n",
    "    print(\"나의 별명은 %s 입니다.\" % nick)"
   ]
  },
  {
   "cell_type": "code",
   "execution_count": 58,
   "id": "f94d57f2-655e-48c4-9ada-100ad4db71ab",
   "metadata": {},
   "outputs": [
    {
     "name": "stdout",
     "output_type": "stream",
     "text": [
      "나의 별명은 야호 입니다.\n"
     ]
    }
   ],
   "source": [
    "say_nick('야호')"
   ]
  },
  {
   "cell_type": "code",
   "execution_count": 59,
   "id": "c9d76c91-574a-4669-9265-a540fb7a8420",
   "metadata": {},
   "outputs": [],
   "source": [
    "say_nick('바보')"
   ]
  },
  {
   "cell_type": "markdown",
   "id": "4f4b6590-5a04-45ff-926a-52cdfc48b180",
   "metadata": {},
   "source": [
    "## 함수 안에서 선언한 변수의 효력 범위"
   ]
  },
  {
   "cell_type": "code",
   "execution_count": 60,
   "id": "3851eb5e-f6cc-4c79-a986-5eb255501d54",
   "metadata": {},
   "outputs": [
    {
     "name": "stdout",
     "output_type": "stream",
     "text": [
      "1\n"
     ]
    }
   ],
   "source": [
    "# 테스트 1\n",
    "a = 1\n",
    "def test1(a) :\n",
    "    a = a+1\n",
    "test1(a)\n",
    "print(a)"
   ]
  },
  {
   "cell_type": "code",
   "execution_count": 61,
   "id": "97ec873d-cd96-4de9-b399-142d5944bf22",
   "metadata": {},
   "outputs": [],
   "source": [
    "# 테스트 2\n",
    "def test2(b) :\n",
    "    b = b+1\n",
    "test2(3)\n",
    "# print(b) #에러발생"
   ]
  },
  {
   "cell_type": "code",
   "execution_count": 62,
   "id": "1ea3c604-6d86-49c5-8a16-0c8fccc3da15",
   "metadata": {},
   "outputs": [
    {
     "name": "stdout",
     "output_type": "stream",
     "text": [
      "3\n",
      "2\n"
     ]
    }
   ],
   "source": [
    "# 테스트 3\n",
    "c = 1\n",
    "def test3(c) :\n",
    "    c = c+1\n",
    "    return c\n",
    "c= test3(c) #c=c+1\n",
    "print(test3(c))\n",
    "print(c)"
   ]
  },
  {
   "cell_type": "code",
   "execution_count": 63,
   "id": "dd77c9b4-95db-4381-92bb-426a5be048e7",
   "metadata": {
    "scrolled": true
   },
   "outputs": [
    {
     "name": "stdout",
     "output_type": "stream",
     "text": [
      "2\n"
     ]
    }
   ],
   "source": [
    "d = 1\n",
    "def test4():\n",
    "    global d\n",
    "    d = d + 1\n",
    "test4()\n",
    "print(d)"
   ]
  },
  {
   "cell_type": "markdown",
   "id": "aaeffb8d-0178-44a4-b203-c5471f21effe",
   "metadata": {},
   "source": [
    "## lambda 예약어 (익명함수)"
   ]
  },
  {
   "cell_type": "code",
   "execution_count": 64,
   "id": "0160464c-872b-40f2-bb9f-b8e874d0eb30",
   "metadata": {},
   "outputs": [
    {
     "name": "stdout",
     "output_type": "stream",
     "text": [
      "5\n"
     ]
    }
   ],
   "source": [
    "def test(a,b):\n",
    "    return a+b\n",
    "add = lambda a,b:a+b\n",
    "print(add(1,4))"
   ]
  },
  {
   "cell_type": "code",
   "execution_count": 65,
   "id": "05aaf8a0-0ce0-4ede-9ec3-fec8bbcf504c",
   "metadata": {},
   "outputs": [
    {
     "name": "stdout",
     "output_type": "stream",
     "text": [
      "[0, 1, 2, 3, 4, 5, 6, 7, 8, 9]\n"
     ]
    }
   ],
   "source": [
    "a1 = [x for x in range(10)]\n",
    "print(a1)"
   ]
  },
  {
   "cell_type": "code",
   "execution_count": 66,
   "id": "1b30f5f6-af9a-412d-8360-6c000ea0352c",
   "metadata": {},
   "outputs": [
    {
     "name": "stdout",
     "output_type": "stream",
     "text": [
      "[0, 2, 4, 6, 8, 10, 12, 14, 16, 18]\n"
     ]
    }
   ],
   "source": [
    "a2 = [ (lambda x : x*2)(x) for x in range(10)]\n",
    "print(a2)"
   ]
  },
  {
   "cell_type": "code",
   "execution_count": 67,
   "id": "a980911f-fe4f-46a6-add5-1915c50b76f1",
   "metadata": {},
   "outputs": [
    {
     "name": "stdout",
     "output_type": "stream",
     "text": [
      "[0, 1, 4, 9, 16, 25, 36, 49, 64, 81]\n"
     ]
    }
   ],
   "source": [
    "# 응용예제\n",
    "a3 = [0,1,2,3,4,5,6,7,8,9]\n",
    "\n",
    "p = list(map(lambda x : x**2, a3)) # map() mapping 의 개념. 입력과 출력이 같다.\n",
    "print(p)"
   ]
  },
  {
   "cell_type": "markdown",
   "id": "66a4931a-960a-47a2-9375-58e772b63eb2",
   "metadata": {},
   "source": [
    "# 파일 읽고 쓰기 "
   ]
  },
  {
   "cell_type": "markdown",
   "id": "473559d1-93aa-4653-9fb5-8a6f81b3bad1",
   "metadata": {},
   "source": [
    "## 파일 생성하기 "
   ]
  },
  {
   "cell_type": "code",
   "execution_count": 68,
   "id": "27c6ab4f-9674-4d44-879e-43657a5379fb",
   "metadata": {},
   "outputs": [],
   "source": [
    "# 파일 생성하기 1\n",
    "f = open(\"새파일.txt\",'w')\n",
    "f.close()"
   ]
  },
  {
   "cell_type": "markdown",
   "id": "a911e72f-323f-4f84-a231-34604f4d664c",
   "metadata": {},
   "source": [
    "<table style = \"float:left\">\n",
    "<thead>\n",
    "<tr>\n",
    "<th>파일열기모드</th>\n",
    "<th>설명</th>\n",
    "</tr>\n",
    "</thead>\n",
    "<tbody>\n",
    "<tr>\n",
    "<td>r</td>\n",
    "<td>읽기 모드: 파일을 읽기만 할 때 사용한다.</td>\n",
    "</tr>\n",
    "<tr>\n",
    "<td>w</td>\n",
    "<td>쓰기 모드: 파일에 내용을 쓸 때 사용한다.</td>\n",
    "</tr>\n",
    "<tr>\n",
    "<td>a</td>\n",
    "<td>추가 모드: 파일의 마지막에 새로운 내용을 추가할 때 사용한다.</td>\n",
    "</tr>\n",
    "</tbody>\n",
    "</table>"
   ]
  },
  {
   "cell_type": "code",
   "execution_count": 69,
   "id": "0bc9e06d-e64a-4fb1-bbeb-07e59847fef3",
   "metadata": {},
   "outputs": [],
   "source": [
    "# 파일생성하기2 + 경로\n",
    "path = \"./study/testfile/\"\n",
    "f = open(path+\"새파일생성2.txt\",\"w\")\n",
    "f.close()"
   ]
  },
  {
   "cell_type": "code",
   "execution_count": 70,
   "id": "f6388196-b70f-495c-ab62-5d5e4df87947",
   "metadata": {},
   "outputs": [],
   "source": [
    "# 파일을 쓰기 모드로 열어 내용 쓰기\n",
    "path = \"./study/testfile/\"\n",
    "f = open(path+\"새파일생성3.txt\",\"w\",encoding=\"utf-8\")\n",
    "for n in range(10):\n",
    "    f.write(f'{n+1}번째 내용을 적었어요!\\n')\n",
    "f.close()"
   ]
  },
  {
   "cell_type": "markdown",
   "id": "fd66948f-75ee-4f4a-aaf1-ea090e2cbc85",
   "metadata": {},
   "source": [
    "## 문제) 하위 testfile 폴더내에 lotto.txt 라는 파일 이름으로, 로또 번호 6개를 1000개를 추천하여 적어주세요.\n",
    "- 즉, 한줄에 6개씩 x 1000줄~"
   ]
  },
  {
   "cell_type": "code",
   "execution_count": 71,
   "id": "d9d5b062-ba2d-44da-929a-5efb721c21dd",
   "metadata": {},
   "outputs": [
    {
     "name": "stdout",
     "output_type": "stream",
     "text": [
      "[8, 12, 13, 22, 30, 39]\n"
     ]
    }
   ],
   "source": [
    "import random\n",
    "def lotto(파라미터=6,매개변수=45): # def로또(파라미터, 매개변수) : \n",
    "    box = []\n",
    "    while len(box) < 파라미터 :\n",
    "    # for n in range(6):\n",
    "        ran = random.randint(1,매개변수)\n",
    "        if not ran in box : #중복제거 조건\n",
    "            box.append(ran)\n",
    "    box.sort()\n",
    "    # print(box,len(box))\n",
    "    return box\n",
    "\n",
    "print(lotto())\n",
    "path = \"./study/testfile/\"\n",
    "f = open(path+\"로또번호_생성.txt\",\"w\",encoding=\"utf-8\")\n",
    "for n in range(10):\n",
    "    a=lotto()\n",
    "    f.write(f'{n+1}번째 회차 로또번호 {a} 입니다.\\n')\n",
    "f.close()"
   ]
  },
  {
   "cell_type": "code",
   "execution_count": 72,
   "id": "b28617f6-a293-4022-9a54-9c86c917c719",
   "metadata": {
    "scrolled": true
   },
   "outputs": [
    {
     "name": "stdout",
     "output_type": "stream",
     "text": [
      "2단\n",
      "2x1=2\n",
      "2x2=4\n",
      "2x3=6\n",
      "2x4=8\n",
      "2x5=10\n",
      "2x6=12\n",
      "2x7=14\n",
      "2x8=16\n",
      "3단\n",
      "3x1=3\n",
      "3x2=6\n",
      "3x3=9\n",
      "3x4=12\n",
      "3x5=15\n",
      "3x6=18\n",
      "3x7=21\n",
      "3x8=24\n",
      "4단\n",
      "4x1=4\n",
      "4x2=8\n",
      "4x3=12\n",
      "4x4=16\n",
      "4x5=20\n",
      "4x6=24\n",
      "4x7=28\n",
      "4x8=32\n",
      "5단\n",
      "5x1=5\n",
      "5x2=10\n",
      "5x3=15\n",
      "5x4=20\n",
      "5x5=25\n",
      "5x6=30\n",
      "5x7=35\n",
      "5x8=40\n",
      "6단\n",
      "6x1=6\n",
      "6x2=12\n",
      "6x3=18\n",
      "6x4=24\n",
      "6x5=30\n",
      "6x6=36\n",
      "6x7=42\n",
      "6x8=48\n",
      "7단\n",
      "7x1=7\n",
      "7x2=14\n",
      "7x3=21\n",
      "7x4=28\n",
      "7x5=35\n",
      "7x6=42\n",
      "7x7=49\n",
      "7x8=56\n",
      "8단\n",
      "8x1=8\n",
      "8x2=16\n",
      "8x3=24\n",
      "8x4=32\n",
      "8x5=40\n",
      "8x6=48\n",
      "8x7=56\n",
      "8x8=64\n",
      "9단\n",
      "9x1=9\n",
      "9x2=18\n",
      "9x3=27\n",
      "9x4=36\n",
      "9x5=45\n",
      "9x6=54\n",
      "9x7=63\n",
      "9x8=72\n"
     ]
    }
   ],
   "source": [
    "#구구단 생성기\n",
    "def gugu(a=2,b=10):\n",
    "    result =\"\"\n",
    "    for i in range(a,b) :\n",
    "        print(f'{i}단')\n",
    "        result+=(f'{i}단\\n')\n",
    "        for j in range(1,9) :\n",
    "            result+=(f'{i}x{j}={i*j}\\n')\n",
    "            print(f'{i}x{j}={i*j}')\n",
    "    return result\n",
    "        \n",
    "# print(gugu())\n",
    "a=gugu()\n",
    "path = \"./study/testfile/\"\n",
    "f = open(path+\"구구단.txt\",\"w\",encoding=\"utf-8\")\n",
    "f.write(a)\n",
    "f.close()"
   ]
  },
  {
   "cell_type": "code",
   "execution_count": 73,
   "id": "4d8107fa-eae6-4c05-ac29-77295466877c",
   "metadata": {},
   "outputs": [],
   "source": [
    "# 무한 작성\n",
    "def diary(name):\n",
    "    path = \"./study/testfile/\"\n",
    "    f = open(path+name+\".txt\", \"w\",encoding=\"utf-8\")\n",
    "    while 1:\n",
    "        inp=input(\"작성하고 싶은 내용\")\n",
    "        if inp =='그만':break\n",
    "        f.write(inp+'\\n')\n",
    "    f.close()"
   ]
  },
  {
   "cell_type": "code",
   "execution_count": 75,
   "id": "db505e17-465b-487d-acaa-600de810b24c",
   "metadata": {},
   "outputs": [
    {
     "name": "stdin",
     "output_type": "stream",
     "text": [
      "작성하고 싶은 내용 그만\n"
     ]
    }
   ],
   "source": [
    "diary('20250201일기')"
   ]
  },
  {
   "cell_type": "markdown",
   "id": "a1d2c9a2-333a-47af-991b-29a32b4a0e23",
   "metadata": {},
   "source": [
    "## 파일을 읽는 방법"
   ]
  },
  {
   "cell_type": "code",
   "execution_count": 76,
   "id": "2a789984-1ffc-4039-9abe-73c106564d74",
   "metadata": {},
   "outputs": [],
   "source": [
    "#readline\n",
    "path = \"./study/testfile/\"\n",
    "f = open(path+\"새파일생성4.txt\",\"w\",encoding=\"utf-8\")\n",
    "for n in range(10):\n",
    "    f.write(f'{n+1}번째 줄 입니다.!\\n')\n",
    "f.close()"
   ]
  },
  {
   "cell_type": "code",
   "execution_count": 77,
   "id": "a6ac5bd1-59f4-43fa-b8f6-7de7bc55e1c4",
   "metadata": {},
   "outputs": [
    {
     "name": "stdout",
     "output_type": "stream",
     "text": [
      "1번째 줄 입니다.!\n",
      "\n",
      "2번째 줄 입니다.!\n",
      "\n",
      "3번째 줄 입니다.!\n",
      "\n",
      "4번째 줄 입니다.!\n",
      "\n",
      "5번째 줄 입니다.!\n",
      "\n",
      "6번째 줄 입니다.!\n",
      "\n",
      "7번째 줄 입니다.!\n",
      "\n"
     ]
    }
   ],
   "source": [
    "#readline :한 줄만 읽어 출력한다.\n",
    "path = \"./study/testfile/\"\n",
    "f = open(path+\"새파일생성4.txt\",\"r\",encoding=\"utf-8\")\n",
    "line = f.readline()\n",
    "print(line)\n",
    "line = f.readline()\n",
    "print(line)\n",
    "for a in range(5): # 연속해서 쓰면 다음줄을 가져온다.\n",
    "    line = f.readline()\n",
    "    print(line)\n",
    "f.close()"
   ]
  },
  {
   "cell_type": "code",
   "execution_count": 78,
   "id": "30639e23-05cb-407e-a811-6e6b723fb5c3",
   "metadata": {},
   "outputs": [
    {
     "name": "stdout",
     "output_type": "stream",
     "text": [
      "2단\n",
      "2x1=2\n",
      "2x2=4\n",
      "2x3=6\n",
      "2x4=8\n",
      "2x5=10\n",
      "2x6=12\n",
      "2x7=14\n",
      "2x8=16\n",
      "3단\n",
      "3x1=3\n",
      "3x2=6\n",
      "3x3=9\n",
      "3x4=12\n",
      "3x5=15\n",
      "3x6=18\n",
      "3x7=21\n",
      "3x8=24\n",
      "4단\n",
      "4x1=4\n",
      "4x2=8\n",
      "4x3=12\n",
      "4x4=16\n",
      "4x5=20\n",
      "4x6=24\n",
      "4x7=28\n",
      "4x8=32\n",
      "5단\n",
      "5x1=5\n",
      "5x2=10\n",
      "5x3=15\n",
      "5x4=20\n",
      "5x5=25\n",
      "5x6=30\n",
      "5x7=35\n",
      "5x8=40\n",
      "6단\n",
      "6x1=6\n",
      "6x2=12\n",
      "6x3=18\n",
      "6x4=24\n",
      "6x5=30\n",
      "6x6=36\n",
      "6x7=42\n",
      "6x8=48\n",
      "7단\n",
      "7x1=7\n",
      "7x2=14\n",
      "7x3=21\n",
      "7x4=28\n",
      "7x5=35\n",
      "7x6=42\n",
      "7x7=49\n",
      "7x8=56\n",
      "8단\n",
      "8x1=8\n",
      "8x2=16\n",
      "8x3=24\n",
      "8x4=32\n",
      "8x5=40\n",
      "8x6=48\n",
      "8x7=56\n",
      "8x8=64\n",
      "9단\n",
      "9x1=9\n",
      "9x2=18\n",
      "9x3=27\n",
      "9x4=36\n",
      "9x5=45\n",
      "9x6=54\n",
      "9x7=63\n",
      "9x8=72\n"
     ]
    }
   ],
   "source": [
    "#readline :한 줄만 읽어 출력한다.\n",
    "path = \"./study/testfile/\"\n",
    "f = open(path+\"구구단.txt\",\"r\",encoding=\"utf-8\")\n",
    "while 1 : #무한 루프 건다.\n",
    "    line = f.readline().strip()\n",
    "    if not line : break # *읽을 라인이 없으면 멈춰라\n",
    "    print(line) #모든 라인을 출력되게 된다.\n",
    "f.close()"
   ]
  },
  {
   "cell_type": "code",
   "execution_count": 79,
   "id": "464baba2-0d52-402b-bbed-2a4619f98cb9",
   "metadata": {},
   "outputs": [
    {
     "name": "stdout",
     "output_type": "stream",
     "text": [
      "1번째 줄 입니다.!\n",
      "2번째 줄 입니다.!\n",
      "3번째 줄 입니다.!\n",
      "4번째 줄 입니다.!\n",
      "5번째 줄 입니다.!\n",
      "6번째 줄 입니다.!\n",
      "7번째 줄 입니다.!\n",
      "8번째 줄 입니다.!\n",
      "9번째 줄 입니다.!\n",
      "10번째 줄 입니다.!\n"
     ]
    }
   ],
   "source": [
    "#realines 의 '/n' 없애기\n",
    "path = \"./study/testfile/\"\n",
    "f = open(path+\"새파일생성4.txt\",\"r\",encoding=\"utf-8\")\n",
    "lines =f.readlines()\n",
    "# print(lines,type(lines))\n",
    "for n in lines :\n",
    "    print(n,end='')\n",
    "f.close()"
   ]
  },
  {
   "cell_type": "code",
   "execution_count": 80,
   "id": "383b5f0f-4bec-4af6-99cb-43d2fb1a42d9",
   "metadata": {},
   "outputs": [
    {
     "name": "stdout",
     "output_type": "stream",
     "text": [
      "1번째 줄 입니다.!\n",
      "2번째 줄 입니다.!\n",
      "3번째 줄 입니다.!\n",
      "4번째 줄 입니다.!\n",
      "5번째 줄 입니다.!\n",
      "6번째 줄 입니다.!\n",
      "7번째 줄 입니다.!\n",
      "8번째 줄 입니다.!\n",
      "9번째 줄 입니다.!\n",
      "10번째 줄 입니다.!\n"
     ]
    }
   ],
   "source": [
    "#realines + strip()\n",
    "path = \"./study/testfile/\"\n",
    "f = open(path+\"새파일생성4.txt\",\"r\",encoding=\"utf-8\")\n",
    "lines =f.readlines()\n",
    "# print(lines,type(lines))\n",
    "for n in lines :\n",
    "    n = n.strip()\n",
    "    print(n)\n",
    "f.close()"
   ]
  },
  {
   "cell_type": "code",
   "execution_count": 81,
   "id": "6445974f-bdc7-485f-9e81-0e91a94615b5",
   "metadata": {},
   "outputs": [
    {
     "name": "stdout",
     "output_type": "stream",
     "text": [
      "['1', '번', '째', ' ', '줄', ' ', '입', '니', '다', '.', '!', '\\n']\n",
      "['1', '번', '째', ' ', '줄', ' ', '입', '니', '다', '.', '!']\n",
      "['2', '번', '째', ' ', '줄', ' ', '입', '니', '다', '.', '!', '\\n']\n",
      "['2', '번', '째', ' ', '줄', ' ', '입', '니', '다', '.', '!']\n",
      "['3', '번', '째', ' ', '줄', ' ', '입', '니', '다', '.', '!', '\\n']\n",
      "['3', '번', '째', ' ', '줄', ' ', '입', '니', '다', '.', '!']\n",
      "['4', '번', '째', ' ', '줄', ' ', '입', '니', '다', '.', '!', '\\n']\n",
      "['4', '번', '째', ' ', '줄', ' ', '입', '니', '다', '.', '!']\n",
      "['5', '번', '째', ' ', '줄', ' ', '입', '니', '다', '.', '!', '\\n']\n",
      "['5', '번', '째', ' ', '줄', ' ', '입', '니', '다', '.', '!']\n",
      "['6', '번', '째', ' ', '줄', ' ', '입', '니', '다', '.', '!', '\\n']\n",
      "['6', '번', '째', ' ', '줄', ' ', '입', '니', '다', '.', '!']\n",
      "['7', '번', '째', ' ', '줄', ' ', '입', '니', '다', '.', '!', '\\n']\n",
      "['7', '번', '째', ' ', '줄', ' ', '입', '니', '다', '.', '!']\n",
      "['8', '번', '째', ' ', '줄', ' ', '입', '니', '다', '.', '!', '\\n']\n",
      "['8', '번', '째', ' ', '줄', ' ', '입', '니', '다', '.', '!']\n",
      "['9', '번', '째', ' ', '줄', ' ', '입', '니', '다', '.', '!', '\\n']\n",
      "['9', '번', '째', ' ', '줄', ' ', '입', '니', '다', '.', '!']\n",
      "['1', '0', '번', '째', ' ', '줄', ' ', '입', '니', '다', '.', '!', '\\n']\n",
      "['1', '0', '번', '째', ' ', '줄', ' ', '입', '니', '다', '.', '!']\n"
     ]
    }
   ],
   "source": [
    "# readlines + strip()\n",
    "path = \"./study/testfile/\"\n",
    "f = open(path + \"새파일생성4.txt\",\"r\",encoding=\"utf-8\")\n",
    "lines = f.readlines()\n",
    "# print(lines,type(lines))\n",
    "for n in lines:\n",
    "    print(list(n))\n",
    "    n = n.strip() # \"\"\\n 을 지운다.\"\n",
    "    print(list(n))\n",
    "f.close()"
   ]
  },
  {
   "cell_type": "code",
   "execution_count": 178,
   "id": "9298b71b-af30-4313-9c95-7a9e90445c39",
   "metadata": {},
   "outputs": [],
   "source": [
    "# 테스트\n",
    "f = open(\"파일이름.txt\",\"w\")\n",
    "f.write('내용작성 zzzzzz 1111333')\n",
    "f.close()"
   ]
  },
  {
   "cell_type": "code",
   "execution_count": 180,
   "id": "6fd9eb7a-db7e-4eec-8681-a6c9a43cf5af",
   "metadata": {},
   "outputs": [
    {
     "name": "stdout",
     "output_type": "stream",
     "text": [
      "1번째 줄 입니다.!\n",
      "2번째 줄 입니다.!\n",
      "3번째 줄 입니다.!\n",
      "4번째 줄 입니다.!\n",
      "5번째 줄 입니다.!\n",
      "6번째 줄 입니다.!\n",
      "7번째 줄 입니다.!\n",
      "8번째 줄 입니다.!\n",
      "9번째 줄 입니다.!\n",
      "10번째 줄 입니다.!\n",
      " <class 'str'>\n"
     ]
    }
   ],
   "source": [
    "#read 함수 사용하기\n",
    "path = \"./study/testfile/\"\n",
    "f = open(path + \"새파일생성4.txt\",\"r\",encoding=\"utf-8\")\n",
    "data = f.read()\n",
    "print(data,type(data))\n",
    "f.close()"
   ]
  },
  {
   "cell_type": "code",
   "execution_count": 82,
   "id": "fd7418d2-f58e-4b97-993d-e535bd6e14da",
   "metadata": {
    "scrolled": true
   },
   "outputs": [
    {
     "name": "stdout",
     "output_type": "stream",
     "text": [
      "1번째 줄 입니다.!\n",
      "\n",
      "2번째 줄 입니다.!\n",
      "\n",
      "3번째 줄 입니다.!\n",
      "\n",
      "4번째 줄 입니다.!\n",
      "\n",
      "5번째 줄 입니다.!\n",
      "\n",
      "6번째 줄 입니다.!\n",
      "\n",
      "7번째 줄 입니다.!\n",
      "\n",
      "8번째 줄 입니다.!\n",
      "\n",
      "9번째 줄 입니다.!\n",
      "\n",
      "10번째 줄 입니다.!\n",
      "\n"
     ]
    }
   ],
   "source": [
    "# for문으로 사용\n",
    "path = \"./study/testfile/\"\n",
    "f = open(path + \"새파일생성4.txt\",\"r\",encoding=\"utf-8\")\n",
    "for line in f:\n",
    "    print(line)\n",
    "f.close()"
   ]
  },
  {
   "cell_type": "code",
   "execution_count": 83,
   "id": "7b5a1f15-af1f-4b63-bfec-0bd32ae7d30c",
   "metadata": {},
   "outputs": [],
   "source": [
    "# with 사용 \n",
    "# 파일 열고 닫는걸 자동으로 가능케함\n",
    "# \"foo + bar\"\n",
    "path = \"./study/testfile/\"\n",
    "with open(path + \"toobar\",\"w\",encoding=\"utf-8\") as f :\n",
    "    f.write(\"Life is too short, you need python\")"
   ]
  },
  {
   "cell_type": "markdown",
   "id": "878d0373-bed8-44bd-8c74-586f2e6ae3fd",
   "metadata": {},
   "source": [
    "## 프로그램의 입출력"
   ]
  },
  {
   "cell_type": "code",
   "execution_count": 84,
   "id": "900b7200-f199-42f8-a403-78fb1ac94874",
   "metadata": {},
   "outputs": [
    {
     "name": "stdout",
     "output_type": "stream",
     "text": [
      "-f\n",
      "C:\\Users\\Admin\\AppData\\Roaming\\jupyter\\runtime\\kernel-9da08d28-3514-4bd8-8d95-500d3724e630.json\n",
      "['-f', 'C:\\\\Users\\\\Admin\\\\AppData\\\\Roaming\\\\jupyter\\\\runtime\\\\kernel-9da08d28-3514-4bd8-8d95-500d3724e630.json']\n"
     ]
    }
   ],
   "source": [
    "import sys\n",
    "\n",
    "# args = sys.argv\n",
    "args = sys.argv[1:]\n",
    "for i in args :\n",
    "    print(i)\n",
    "print(args)"
   ]
  },
  {
   "cell_type": "code",
   "execution_count": 85,
   "id": "30e4c669-f4a0-4b19-9211-ff847b87c548",
   "metadata": {},
   "outputs": [],
   "source": [
    "# import sys\n",
    "# def gugu(a=2,b=10):\n",
    "#     result =\"\"\n",
    "#     for i in range(a,b+1) :\n",
    "#         # print(f'====={i}단=====')\n",
    "#         result+=(f'====={i}단=====\\n')\n",
    "#         for j in range(1,9) :\n",
    "#             result+=(f'{i}x{j}={i*j}\\n')\n",
    "#             # print(f'{i}x{j}={i*j}')\n",
    "#     return result\n",
    "\n",
    "# value = sys.argv[1:]\n",
    "# x= int(value[0])\n",
    "# y= int(value[2])\n",
    "# print(gugu(x,y))\n",
    "\n",
    "# print(x)\n",
    "# print(y)"
   ]
  },
  {
   "cell_type": "markdown",
   "id": "7c24de9f-c02a-4719-a75f-23db0d8a1648",
   "metadata": {},
   "source": [
    "<img alt=\"\" src=\"https://wikidocs.net/images/page/180507/04_4_sys.png\">"
   ]
  },
  {
   "cell_type": "code",
   "execution_count": 86,
   "id": "0dda2a5e-24f4-45c2-872b-2b76e30bdb85",
   "metadata": {},
   "outputs": [
    {
     "name": "stdout",
     "output_type": "stream",
     "text": [
      "\n",
      "네이버\n",
      "-1\n",
      "<meta http-equiv=\"Co\n",
      "\n",
      "기아\n",
      "17\n",
      "91,600원\n"
     ]
    }
   ],
   "source": [
    "import requests as req\n",
    "url =\"https://finance.naver.com/sise/sise_market_sum.naver\"\n",
    "web = req.get(url)\n",
    "html = web.text\n",
    "# print(html)\n",
    "text=\"네이버\"\n",
    "f1 =html.find(text) #35349\n",
    "f2 =html.find(\"기아\") #42960\n",
    "print()\n",
    "print(text)\n",
    "print(html[f1:f1+100].find('<td class=\"number\">')) #19\n",
    "print(html[f1:f1+100][19:50].replace('<td class=\"number\">',\"\").replace('</td>',\"원\").replace('\\t',\"\").replace('\\n',\"\"))\n",
    "print()\n",
    "print(\"기아\")\n",
    "print(html[f2:f2+100].find('<td class=\"number\">')) #17\n",
    "print(html[f2:f2+100][17:50].replace('<td class=\"number\">',\"\").replace('</td>',\"원\").replace('\\t',\"\").replace('\\n',\"\"))"
   ]
  },
  {
   "cell_type": "code",
   "execution_count": null,
   "id": "a7b70660-42e6-483d-88b3-e09c423e20a8",
   "metadata": {},
   "outputs": [],
   "source": []
  },
  {
   "cell_type": "code",
   "execution_count": null,
   "id": "9ae391fc-9199-4fb2-85ce-c05db7162897",
   "metadata": {},
   "outputs": [],
   "source": []
  }
 ],
 "metadata": {
  "kernelspec": {
   "display_name": "Python 3 (ipykernel)",
   "language": "python",
   "name": "python3"
  },
  "language_info": {
   "codemirror_mode": {
    "name": "ipython",
    "version": 3
   },
   "file_extension": ".py",
   "mimetype": "text/x-python",
   "name": "python",
   "nbconvert_exporter": "python",
   "pygments_lexer": "ipython3",
   "version": "3.13.1"
  }
 },
 "nbformat": 4,
 "nbformat_minor": 5
}
