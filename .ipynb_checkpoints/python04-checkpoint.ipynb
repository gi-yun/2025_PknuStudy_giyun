{
 "cells": [
  {
   "cell_type": "markdown",
   "id": "5c96011e-7951-4cbe-a265-6513bfe7b363",
   "metadata": {},
   "source": [
    "# 함수"
   ]
  },
  {
   "cell_type": "code",
   "execution_count": 1,
   "id": "4564b3d0-94a9-4ec5-82f9-55d1dca735b5",
   "metadata": {},
   "outputs": [],
   "source": [
    "def 덧셈(a, b):\n",
    "    return a+b"
   ]
  },
  {
   "cell_type": "code",
   "execution_count": 5,
   "id": "b58fe8e5-51d0-44d5-9ddc-4d04d9670063",
   "metadata": {},
   "outputs": [
    {
     "name": "stdout",
     "output_type": "stream",
     "text": [
      "7\n",
      "7\n"
     ]
    }
   ],
   "source": [
    "c=덧셈(3,4)\n",
    "print(덧셈(3,4))\n",
    "print(c)"
   ]
  },
  {
   "cell_type": "markdown",
   "id": "222bf749-6a50-4a6d-8659-03a334e7357c",
   "metadata": {},
   "source": [
    "## 입력값과 리턴값에 따른 함수의 형태"
   ]
  },
  {
   "cell_type": "markdown",
   "id": "c7721cec-e84e-4f03-a35d-fbd64d03a410",
   "metadata": {},
   "source": [
    "### 일반적인 함수"
   ]
  },
  {
   "cell_type": "code",
   "execution_count": 64,
   "id": "a4ebeab7-795f-4a32-ac07-d27a0eb48863",
   "metadata": {},
   "outputs": [],
   "source": [
    "def add(a, b):\n",
    "    result = a+b\n",
    "    return result"
   ]
  },
  {
   "cell_type": "code",
   "execution_count": 48,
   "id": "89224e6f-0b03-4ef7-9bc9-169976acb658",
   "metadata": {},
   "outputs": [
    {
     "name": "stdout",
     "output_type": "stream",
     "text": [
      "87\n"
     ]
    }
   ],
   "source": [
    "a = add(77,10)\n",
    "print(a)"
   ]
  },
  {
   "cell_type": "code",
   "execution_count": 61,
   "id": "dea1d9f7-3f09-491b-b2e3-a7874447b804",
   "metadata": {},
   "outputs": [],
   "source": [
    "def say():\n",
    "    return 'Hi'"
   ]
  },
  {
   "cell_type": "code",
   "execution_count": 62,
   "id": "8896933d-de5f-42af-a077-53f227299209",
   "metadata": {},
   "outputs": [
    {
     "name": "stdout",
     "output_type": "stream",
     "text": [
      "Hi\n"
     ]
    }
   ],
   "source": [
    "a = say()\n",
    "print(a)"
   ]
  },
  {
   "cell_type": "code",
   "execution_count": 58,
   "id": "dcdd0108-ad5d-4552-a874-561c2c9c7780",
   "metadata": {},
   "outputs": [],
   "source": [
    "# 리턴값이 없는 함수\n",
    "def add(a,b):\n",
    "    print(\"%d, %d의 합은 %d\" %(a,b,a+b))"
   ]
  },
  {
   "cell_type": "code",
   "execution_count": 59,
   "id": "6f243b0f-44ca-44ad-a41a-b2dccd15dffb",
   "metadata": {},
   "outputs": [
    {
     "name": "stdout",
     "output_type": "stream",
     "text": [
      "11, 33의 합은 44\n"
     ]
    }
   ],
   "source": [
    "add(11,33)"
   ]
  },
  {
   "cell_type": "code",
   "execution_count": 65,
   "id": "2d76956f-68b9-4dd2-8302-aa1f37252641",
   "metadata": {},
   "outputs": [],
   "source": [
    "# 입력값과 리턴값이 없는 함수\n",
    "def says():\n",
    "    print(\"안녕!\")\n",
    "    print(\"전 입력값과 리턴값이 없어요.\")\n",
    "    print(\"빠이~\")"
   ]
  },
  {
   "cell_type": "code",
   "execution_count": 66,
   "id": "442c263c-0be4-44b1-ae77-fd1185262287",
   "metadata": {},
   "outputs": [
    {
     "name": "stdout",
     "output_type": "stream",
     "text": [
      "안녕!\n",
      "전 입력값과 리턴값이 없어요.\n",
      "빠이~\n"
     ]
    }
   ],
   "source": [
    "says()"
   ]
  },
  {
   "cell_type": "code",
   "execution_count": 31,
   "id": "475899fa-cae6-42ba-9014-78792c2015f3",
   "metadata": {},
   "outputs": [],
   "source": [
    "# 테스트\n",
    "import time as t\n",
    "def disp():\n",
    "    print(\"안녕!\\r\",end=\"\")\n",
    "    t.sleep(2)\n",
    "    print(\"전 입력값과 리턴값이 없어요.\\r\",end=\"\")\n",
    "    t.sleep(2)\n",
    "    print(\"빠이~                   \",end=\"\")\n",
    "    t.sleep(2)"
   ]
  },
  {
   "cell_type": "code",
   "execution_count": 32,
   "id": "fd08718a-a47d-48cd-8ce3-6be3b02cfac3",
   "metadata": {},
   "outputs": [
    {
     "name": "stdout",
     "output_type": "stream",
     "text": [
      "빠이~                   "
     ]
    }
   ],
   "source": [
    "disp()"
   ]
  },
  {
   "cell_type": "code",
   "execution_count": 40,
   "id": "5228dbd4-26cb-43e2-b3b5-016439bca9e0",
   "metadata": {},
   "outputs": [
    {
     "name": "stdout",
     "output_type": "stream",
     "text": [
      "44\n"
     ]
    }
   ],
   "source": [
    "# max()\n",
    "def bs(li=[33,11,22,44]):\n",
    "    sw = 0\n",
    "    for x in range(len(li)):\n",
    "        if sw  < li [x]:\n",
    "            sw=li[x]\n",
    "    return sw\n",
    "\n",
    "print(bs())"
   ]
  },
  {
   "cell_type": "code",
   "execution_count": 41,
   "id": "7cabfe8c-4bae-4261-aeb2-4d45db4145db",
   "metadata": {},
   "outputs": [
    {
     "name": "stdout",
     "output_type": "stream",
     "text": [
      "5\n"
     ]
    }
   ],
   "source": [
    "print(bs([1,2,3,4,5]))"
   ]
  },
  {
   "cell_type": "code",
   "execution_count": 43,
   "id": "071367ac-9a93-4c1f-9b4a-b33254b3d0b2",
   "metadata": {},
   "outputs": [
    {
     "name": "stdout",
     "output_type": "stream",
     "text": [
      "-4\n"
     ]
    }
   ],
   "source": [
    "#매개변수를 지정하여 호출하기\n",
    "def sub(a,b):\n",
    "    return a-b\n",
    "result = sub(a=3, b=7)\n",
    "print(result)"
   ]
  },
  {
   "cell_type": "code",
   "execution_count": 64,
   "id": "79da5c38-d0b5-4b2f-a77f-95d69868bbd8",
   "metadata": {},
   "outputs": [],
   "source": [
    "# !pip install matplotlib"
   ]
  },
  {
   "cell_type": "code",
   "execution_count": 1,
   "id": "2e87a704-a98e-4d62-b0aa-8f46422cdcf1",
   "metadata": {},
   "outputs": [],
   "source": [
    "# 테스트 : 함수 random 주사위\n",
    "import random as r\n",
    "import matplotlib.pyplot as plt\n",
    "results = {}\n",
    "def dice(target = 250000) :\n",
    "    box = [] #초기화\n",
    "    num = 0\n",
    "    while num < target :\n",
    "        num = num + 1\n",
    "        ran =r.randint(1,6)\n",
    "        box.append(ran)\n",
    "    if target == len(box):\n",
    "        print(f'{target}회 정상 진행되었습니다.')\n",
    "    else :\n",
    "        print(f'검증 결과 횟수 이상이 있습니다. 이유: ({target}회 목표로 동작하였으나, {len(box)}으로 측정되었습니다.)')\n",
    "    for n in range(1,7):\n",
    "        results[n] = box.count(n)\n",
    "        print(f'{n}번이 {box.count(n)}번 ({(box.count(n)/len(box))*100:.2f}%) 등장하였습니다.')\n",
    "    print(results)\n",
    "    color=[\"skyblue\",\"orange\",\"skyblue\",\"skyblue\",\"skyblue\",\"skyblue\"]\n",
    "    plt.bar(results.keys(),results.values(),color=color)\n",
    "    plt.show()"
   ]
  },
  {
   "cell_type": "code",
   "execution_count": 93,
   "id": "bfa24738-374a-4228-a4a6-bd37e36aa66d",
   "metadata": {},
   "outputs": [
    {
     "name": "stdout",
     "output_type": "stream",
     "text": [
      "250000회 정상 진행되었습니다.\n",
      "1번이 41621번 (16.65%) 등장하였습니다.\n",
      "2번이 41469번 (16.59%) 등장하였습니다.\n",
      "3번이 41844번 (16.74%) 등장하였습니다.\n",
      "4번이 41678번 (16.67%) 등장하였습니다.\n",
      "5번이 41962번 (16.78%) 등장하였습니다.\n",
      "6번이 41426번 (16.57%) 등장하였습니다.\n",
      "{1: 41621, 2: 41469, 3: 41844, 4: 41678, 5: 41962, 6: 41426}\n"
     ]
    },
    {
     "data": {
      "image/png": "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",
      "text/plain": [
       "<Figure size 640x480 with 1 Axes>"
      ]
     },
     "metadata": {},
     "output_type": "display_data"
    }
   ],
   "source": [
    "dice()"
   ]
  },
  {
   "cell_type": "code",
   "execution_count": 111,
   "id": "d58eebb0-35b5-4420-8081-0a814c23b0f3",
   "metadata": {},
   "outputs": [],
   "source": [
    "#여러개의 입력값을 받는 함수 만들기 \n",
    "# * 이 없을 때\n",
    "def add_many(args):\n",
    "    result = 0\n",
    "    for i in args:\n",
    "        result = result +i\n",
    "    return result"
   ]
  },
  {
   "cell_type": "code",
   "execution_count": 112,
   "id": "b5681d33-1e98-4f48-90a8-53c76d1890b3",
   "metadata": {},
   "outputs": [
    {
     "name": "stdout",
     "output_type": "stream",
     "text": [
      "15\n"
     ]
    }
   ],
   "source": [
    "res = add_many((1,2,3,4,5))\n",
    "print(res)"
   ]
  },
  {
   "cell_type": "code",
   "execution_count": 9,
   "id": "d1e4c541-c547-4c36-b50e-f379b8e9f1f0",
   "metadata": {},
   "outputs": [],
   "source": [
    "#여러개의 입력값을 받는 함수 만들기\n",
    "# * 이 있을 때\n",
    "def add_many(*args):\n",
    "    result = 0\n",
    "    for i in args:\n",
    "        result = result +i\n",
    "    return result"
   ]
  },
  {
   "cell_type": "code",
   "execution_count": 10,
   "id": "f6eba3db-85de-4430-852d-fecb495012f1",
   "metadata": {},
   "outputs": [
    {
     "name": "stdout",
     "output_type": "stream",
     "text": [
      "15\n"
     ]
    }
   ],
   "source": [
    "res = add_many(1,2,3,4,5)\n",
    "print(res)"
   ]
  },
  {
   "cell_type": "code",
   "execution_count": 146,
   "id": "63e0e6e5-da07-4a2c-a4a7-fcee8b981fea",
   "metadata": {},
   "outputs": [],
   "source": [
    "def add_mul(choice, *args):\n",
    "    if choice == \"add\": #매개변수 choice에 \"add\"을 입력받았을 때\n",
    "        result = 0\n",
    "        for i in args:\n",
    "            result = result + i\n",
    "    elif choice ==\"mul\": #매개변수 choice에 \"mul\"을 입력받았을 때\n",
    "        result = 1\n",
    "        for i in args:\n",
    "            result = result *i\n",
    "    elif choice ==\"sub\": #매개변수 choice에 \"sub\"을 입력받았을 때\n",
    "        result = 0\n",
    "        for i in args:\n",
    "            result = result -i \n",
    "    elif choice ==\"div\": # 매개변수 choice에 \"div\"을 입력받았을 때\n",
    "        result = 1\n",
    "        for i in args:\n",
    "            result = result /i\n",
    "    else:\n",
    "        result = choice\n",
    "        print(\"정확하게 입력하세요.\")\n",
    "        \n",
    "    return result\n"
   ]
  },
  {
   "cell_type": "code",
   "execution_count": 145,
   "id": "1bd20730-fedb-48cf-ac3a-eef457d9377a",
   "metadata": {},
   "outputs": [
    {
     "name": "stdout",
     "output_type": "stream",
     "text": [
      "0.125\n"
     ]
    }
   ],
   "source": [
    "res=add_mul(\"div\",4,2)\n",
    "print(res)"
   ]
  },
  {
   "cell_type": "code",
   "execution_count": 40,
   "id": "5457669a-f0bc-44fa-af2f-72e8f8b5f938",
   "metadata": {},
   "outputs": [],
   "source": [
    "# 키워드 매개변수 kwargs\n",
    "# *딕셔너리 만들기\n",
    "def print_kwargs(**kwargs):\n",
    "    print(kwargs)"
   ]
  },
  {
   "cell_type": "code",
   "execution_count": 41,
   "id": "800136b0-1a73-4036-aab1-de7cc23e7cb0",
   "metadata": {},
   "outputs": [
    {
     "name": "stdout",
     "output_type": "stream",
     "text": [
      "{'a': 1, 'b': 2, 'c': 3}\n"
     ]
    }
   ],
   "source": [
    "print_kwargs(a=1,b=2,c=3)"
   ]
  },
  {
   "cell_type": "code",
   "execution_count": 42,
   "id": "0fe463bc-0a11-494f-b84d-3a420f189679",
   "metadata": {},
   "outputs": [
    {
     "name": "stdout",
     "output_type": "stream",
     "text": [
      "{'name': '홍길동', 'age': 21, 'address': '대한민국'}\n"
     ]
    }
   ],
   "source": [
    "print_kwargs(name= \"홍길동\", age=21, address=\"대한민국\")"
   ]
  },
  {
   "cell_type": "code",
   "execution_count": 44,
   "id": "eb00bee5-6ab6-4099-bfb6-3c770b1cace5",
   "metadata": {},
   "outputs": [
    {
     "name": "stdout",
     "output_type": "stream",
     "text": [
      "{'name': '홍길동', 'age': 21, 'address': '대한민국'}\n"
     ]
    }
   ],
   "source": [
    "def print_kwargs(kwargs):\n",
    "    print(kwargs)\n",
    "print_kwargs({'name':'홍길동','age':21,'address':'대한민국'})"
   ]
  },
  {
   "cell_type": "code",
   "execution_count": 160,
   "id": "80cf84e6-0f5d-4141-baf0-b90034d5c1f3",
   "metadata": {},
   "outputs": [],
   "source": [
    "# test\n",
    "def test():\n",
    "    print('저야 영광이죠~!!')\n",
    "    if 13>4 : return\n",
    "    print('집에가고싶어!~!')\n",
    "    return\n",
    "    "
   ]
  },
  {
   "cell_type": "code",
   "execution_count": 161,
   "id": "bc5ada1c-a0a8-48aa-9618-febe67c85f64",
   "metadata": {},
   "outputs": [
    {
     "name": "stdout",
     "output_type": "stream",
     "text": [
      "저야 영광이죠~!!\n"
     ]
    }
   ],
   "source": [
    "test()"
   ]
  },
  {
   "cell_type": "code",
   "execution_count": 165,
   "id": "ea257ea8-765a-43c9-8377-0499e6023ec1",
   "metadata": {},
   "outputs": [
    {
     "name": "stdout",
     "output_type": "stream",
     "text": [
      "35 286\n"
     ]
    }
   ],
   "source": [
    "# test2\n",
    "def test2(a,b):\n",
    "    return a+b, a*b\n",
    "add_result, mul_result = test2( 13, 22)\n",
    "print(add_result, mul_result)"
   ]
  },
  {
   "cell_type": "code",
   "execution_count": 167,
   "id": "16f6522f-8629-4e58-b780-68171b8a2e17",
   "metadata": {},
   "outputs": [],
   "source": [
    "def say_nick(nick):\n",
    "    if nick ==\"바보\":\n",
    "        return\n",
    "    print(\"나의 별명은 %s 입니다.\" % nick)"
   ]
  },
  {
   "cell_type": "code",
   "execution_count": 168,
   "id": "f94d57f2-655e-48c4-9ada-100ad4db71ab",
   "metadata": {},
   "outputs": [
    {
     "name": "stdout",
     "output_type": "stream",
     "text": [
      "나의 별명은 야호 입니다.\n"
     ]
    }
   ],
   "source": [
    "say_nick('야호')"
   ]
  },
  {
   "cell_type": "code",
   "execution_count": 169,
   "id": "c9d76c91-574a-4669-9265-a540fb7a8420",
   "metadata": {},
   "outputs": [],
   "source": [
    "say_nick('바보')"
   ]
  },
  {
   "cell_type": "markdown",
   "id": "4f4b6590-5a04-45ff-926a-52cdfc48b180",
   "metadata": {},
   "source": [
    "## 함수 안에서 선언한 변수의 효력 범위"
   ]
  },
  {
   "cell_type": "code",
   "execution_count": 24,
   "id": "3851eb5e-f6cc-4c79-a986-5eb255501d54",
   "metadata": {},
   "outputs": [
    {
     "name": "stdout",
     "output_type": "stream",
     "text": [
      "1\n"
     ]
    }
   ],
   "source": [
    "# 테스트 1\n",
    "a = 1\n",
    "def test1(a) :\n",
    "    a = a+1\n",
    "test1(a)\n",
    "print(a)"
   ]
  },
  {
   "cell_type": "code",
   "execution_count": 27,
   "id": "97ec873d-cd96-4de9-b399-142d5944bf22",
   "metadata": {},
   "outputs": [],
   "source": [
    "# 테스트 2\n",
    "def test2(b) :\n",
    "    b = b+1\n",
    "test2(3)\n",
    "# print(b) #에러발생"
   ]
  },
  {
   "cell_type": "code",
   "execution_count": 26,
   "id": "1ea3c604-6d86-49c5-8a16-0c8fccc3da15",
   "metadata": {},
   "outputs": [
    {
     "name": "stdout",
     "output_type": "stream",
     "text": [
      "3\n",
      "2\n"
     ]
    }
   ],
   "source": [
    "# 테스트 3\n",
    "c = 1\n",
    "def test3(c) :\n",
    "    c = c+1\n",
    "    return c\n",
    "c= test3(c) #c=c+1\n",
    "print(test3(c))\n",
    "print(c)"
   ]
  },
  {
   "cell_type": "code",
   "execution_count": 23,
   "id": "dd77c9b4-95db-4381-92bb-426a5be048e7",
   "metadata": {
    "scrolled": true
   },
   "outputs": [
    {
     "name": "stdout",
     "output_type": "stream",
     "text": [
      "2\n"
     ]
    }
   ],
   "source": [
    "d = 1\n",
    "def test4():\n",
    "    global d\n",
    "    d = d + 1\n",
    "test4()\n",
    "print(d)"
   ]
  },
  {
   "cell_type": "markdown",
   "id": "aaeffb8d-0178-44a4-b203-c5471f21effe",
   "metadata": {},
   "source": [
    "## lambda 예약어 (익명함수)"
   ]
  },
  {
   "cell_type": "code",
   "execution_count": 30,
   "id": "0160464c-872b-40f2-bb9f-b8e874d0eb30",
   "metadata": {},
   "outputs": [
    {
     "name": "stdout",
     "output_type": "stream",
     "text": [
      "5\n"
     ]
    }
   ],
   "source": [
    "def test(a,b):\n",
    "    return a+b\n",
    "add = lambda a,b:a+b\n",
    "print(add(1,4))"
   ]
  },
  {
   "cell_type": "code",
   "execution_count": 31,
   "id": "05aaf8a0-0ce0-4ede-9ec3-fec8bbcf504c",
   "metadata": {},
   "outputs": [
    {
     "name": "stdout",
     "output_type": "stream",
     "text": [
      "[0, 1, 2, 3, 4, 5, 6, 7, 8, 9]\n"
     ]
    }
   ],
   "source": [
    "a1 = [x for x in range(10)]\n",
    "print(a1)"
   ]
  },
  {
   "cell_type": "code",
   "execution_count": 32,
   "id": "1b30f5f6-af9a-412d-8360-6c000ea0352c",
   "metadata": {},
   "outputs": [
    {
     "name": "stdout",
     "output_type": "stream",
     "text": [
      "[0, 2, 4, 6, 8, 10, 12, 14, 16, 18]\n"
     ]
    }
   ],
   "source": [
    "a2 = [ (lambda x : x*2)(x) for x in range(10)]\n",
    "print(a2)"
   ]
  },
  {
   "cell_type": "code",
   "execution_count": 34,
   "id": "a980911f-fe4f-46a6-add5-1915c50b76f1",
   "metadata": {},
   "outputs": [
    {
     "name": "stdout",
     "output_type": "stream",
     "text": [
      "[0, 1, 4, 9, 16, 25, 36, 49, 64, 81]\n"
     ]
    }
   ],
   "source": [
    "# 응용예제\n",
    "a3 = [0,1,2,3,4,5,6,7,8,9]\n",
    "\n",
    "p = list(map(lambda x : x**2, a3)) # map() mapping 의 개념. 입력과 출력이 같다.\n",
    "print(p)"
   ]
  },
  {
   "cell_type": "markdown",
   "id": "66a4931a-960a-47a2-9375-58e772b63eb2",
   "metadata": {},
   "source": [
    "# 파일 읽고 쓰기 "
   ]
  },
  {
   "cell_type": "markdown",
   "id": "473559d1-93aa-4653-9fb5-8a6f81b3bad1",
   "metadata": {},
   "source": [
    "## 파일 생성하기 "
   ]
  },
  {
   "cell_type": "code",
   "execution_count": 49,
   "id": "27c6ab4f-9674-4d44-879e-43657a5379fb",
   "metadata": {},
   "outputs": [],
   "source": [
    "# 파일 생성하기 1\n",
    "f = open(\"새파일.txt\",'w')\n",
    "f.close()"
   ]
  },
  {
   "cell_type": "markdown",
   "id": "a911e72f-323f-4f84-a231-34604f4d664c",
   "metadata": {},
   "source": [
    "<table style = \"float:left\">\n",
    "<thead>\n",
    "<tr>\n",
    "<th>파일열기모드</th>\n",
    "<th>설명</th>\n",
    "</tr>\n",
    "</thead>\n",
    "<tbody>\n",
    "<tr>\n",
    "<td>r</td>\n",
    "<td>읽기 모드: 파일을 읽기만 할 때 사용한다.</td>\n",
    "</tr>\n",
    "<tr>\n",
    "<td>w</td>\n",
    "<td>쓰기 모드: 파일에 내용을 쓸 때 사용한다.</td>\n",
    "</tr>\n",
    "<tr>\n",
    "<td>a</td>\n",
    "<td>추가 모드: 파일의 마지막에 새로운 내용을 추가할 때 사용한다.</td>\n",
    "</tr>\n",
    "</tbody>\n",
    "</table>"
   ]
  },
  {
   "cell_type": "code",
   "execution_count": 57,
   "id": "0bc9e06d-e64a-4fb1-bbeb-07e59847fef3",
   "metadata": {},
   "outputs": [],
   "source": [
    "# 파일생성하기2 + 경로\n",
    "path = \"./study/testfile/\"\n",
    "f = open(path+\"새파일생성2.txt\",\"w\")\n",
    "f.close()"
   ]
  },
  {
   "cell_type": "code",
   "execution_count": 63,
   "id": "f6388196-b70f-495c-ab62-5d5e4df87947",
   "metadata": {},
   "outputs": [],
   "source": [
    "# 파일을 쓰기 모드로 열어 내용 쓰기\n",
    "path = \"./study/testfile/\"\n",
    "f = open(path+\"새파일생성3.txt\",\"w\",encoding=\"utf-8\")\n",
    "for n in range(10):\n",
    "    f.write(f'{n+1}번째 내용을 적었어요!\\n')\n",
    "f.close()"
   ]
  },
  {
   "cell_type": "markdown",
   "id": "fd66948f-75ee-4f4a-aaf1-ea090e2cbc85",
   "metadata": {},
   "source": [
    "## 문제) 하위 testfile 폴더내에 lotto.txt 라는 파일 이름으로, 로또 번호 6개를 1000개를 추천하여 적어주세요.\n",
    "- 즉, 한줄에 6개씩 x 1000줄~"
   ]
  },
  {
   "cell_type": "code",
   "execution_count": 130,
   "id": "d9d5b062-ba2d-44da-929a-5efb721c21dd",
   "metadata": {},
   "outputs": [
    {
     "name": "stdout",
     "output_type": "stream",
     "text": [
      "[1, 15, 26, 28, 29, 34]\n"
     ]
    }
   ],
   "source": [
    "import random\n",
    "def lotto(파라미터=6,매개변수=45): # def로또(파라미터, 매개변수) : \n",
    "    box = []\n",
    "    while len(box) < 파라미터 :\n",
    "    # for n in range(6):\n",
    "        ran = random.randint(1,매개변수)\n",
    "        if not ran in box : #중복제거 조건\n",
    "            box.append(ran)\n",
    "    box.sort()\n",
    "    # print(box,len(box))\n",
    "    return box\n",
    "\n",
    "print(lotto())\n",
    "path = \"./study/testfile/\"\n",
    "f = open(path+\"로또번호_생성.txt\",\"w\",encoding=\"utf-8\")\n",
    "for n in range(10):\n",
    "    a=lotto()\n",
    "    f.write(f'{n+1}번째 회차 로또번호 {a} 입니다.\\n')\n",
    "f.close()"
   ]
  },
  {
   "cell_type": "code",
   "execution_count": 129,
   "id": "b28617f6-a293-4022-9a54-9c86c917c719",
<<<<<<< HEAD
   "metadata": {
    "scrolled": true
   },
=======
   "metadata": {},
>>>>>>> b08f5b712c8fa19010dca431955da9482b87c96a
   "outputs": [
    {
     "name": "stdout",
     "output_type": "stream",
     "text": [
      "2단\n",
      "2x1=2\n",
      "2x2=4\n",
      "2x3=6\n",
      "2x4=8\n",
      "2x5=10\n",
      "2x6=12\n",
      "2x7=14\n",
      "2x8=16\n",
      "3단\n",
      "3x1=3\n",
      "3x2=6\n",
      "3x3=9\n",
      "3x4=12\n",
      "3x5=15\n",
      "3x6=18\n",
      "3x7=21\n",
      "3x8=24\n",
      "4단\n",
      "4x1=4\n",
      "4x2=8\n",
      "4x3=12\n",
      "4x4=16\n",
      "4x5=20\n",
      "4x6=24\n",
      "4x7=28\n",
      "4x8=32\n",
      "5단\n",
      "5x1=5\n",
      "5x2=10\n",
      "5x3=15\n",
      "5x4=20\n",
      "5x5=25\n",
      "5x6=30\n",
      "5x7=35\n",
      "5x8=40\n",
      "6단\n",
      "6x1=6\n",
      "6x2=12\n",
      "6x3=18\n",
      "6x4=24\n",
      "6x5=30\n",
      "6x6=36\n",
      "6x7=42\n",
      "6x8=48\n",
      "7단\n",
      "7x1=7\n",
      "7x2=14\n",
      "7x3=21\n",
      "7x4=28\n",
      "7x5=35\n",
      "7x6=42\n",
      "7x7=49\n",
      "7x8=56\n",
      "8단\n",
      "8x1=8\n",
      "8x2=16\n",
      "8x3=24\n",
      "8x4=32\n",
      "8x5=40\n",
      "8x6=48\n",
      "8x7=56\n",
      "8x8=64\n",
      "9단\n",
      "9x1=9\n",
      "9x2=18\n",
      "9x3=27\n",
      "9x4=36\n",
      "9x5=45\n",
      "9x6=54\n",
      "9x7=63\n",
      "9x8=72\n"
     ]
    }
   ],
   "source": [
    "#구구단 생성기\n",
    "def gugu(a=2,b=10):\n",
    "    result =\"\"\n",
    "    for i in range(a,b) :\n",
    "        print(f'{i}단')\n",
    "        result+=(f'{i}단\\n')\n",
    "        for j in range(1,9) :\n",
    "            result+=(f'{i}x{j}={i*j}\\n')\n",
    "            print(f'{i}x{j}={i*j}')\n",
    "    return result\n",
    "        \n",
    "# print(gugu())\n",
    "a=gugu()\n",
    "path = \"./study/testfile/\"\n",
    "f = open(path+\"구구단.txt\",\"w\",encoding=\"utf-8\")\n",
    "f.write(a)\n",
    "f.close()"
   ]
  },
  {
   "cell_type": "code",
   "execution_count": 154,
   "id": "4d8107fa-eae6-4c05-ac29-77295466877c",
   "metadata": {},
   "outputs": [],
   "source": [
    "# 무한 작성\n",
    "def diary(name):\n",
    "    path = \"./study/testfile/\"\n",
    "    f = open(path+name+\".txt\", \"w\",encoding=\"utf-8\")\n",
    "    while 1:\n",
    "        inp=input(\"작성하고 싶은 내용\")\n",
    "        if inp =='그만':break\n",
    "        f.write(inp+'\\n')\n",
    "    f.close()"
   ]
  },
  {
   "cell_type": "code",
   "execution_count": 155,
   "id": "db505e17-465b-487d-acaa-600de810b24c",
   "metadata": {},
   "outputs": [
    {
     "name": "stdin",
     "output_type": "stream",
     "text": [
      "작성하고 싶은 내용 안녕하세요\n",
      "작성하고 싶은 내용 감사해요~\n",
      "작성하고 싶은 내용 잘있어요\n",
      "작성하고 싶은 내용 다시만나요~\n",
      "작성하고 싶은 내용 아따맘마 중 발췌\n",
      "작성하고 싶은 내용 그만\n"
     ]
    }
   ],
   "source": [
    "diary('20250201일기')"
   ]
  },
  {
   "cell_type": "markdown",
   "id": "a1d2c9a2-333a-47af-991b-29a32b4a0e23",
   "metadata": {},
   "source": [
    "## 파일을 읽는 방법"
   ]
  },
  {
   "cell_type": "code",
<<<<<<< HEAD
   "execution_count": 184,
=======
   "execution_count": 137,
>>>>>>> b08f5b712c8fa19010dca431955da9482b87c96a
   "id": "2a789984-1ffc-4039-9abe-73c106564d74",
   "metadata": {},
   "outputs": [],
   "source": [
    "#readline\n",
    "path = \"./study/testfile/\"\n",
    "f = open(path+\"새파일생성4.txt\",\"w\",encoding=\"utf-8\")\n",
    "for n in range(10):\n",
    "    f.write(f'{n+1}번째 줄 입니다.!\\n')\n",
    "f.close()"
   ]
  },
  {
   "cell_type": "code",
   "execution_count": 141,
   "id": "a6ac5bd1-59f4-43fa-b8f6-7de7bc55e1c4",
   "metadata": {},
   "outputs": [
    {
     "name": "stdout",
     "output_type": "stream",
     "text": [
      "1번째 줄 입니다.!\n",
      "\n",
      "2번째 줄 입니다.!\n",
      "\n",
      "3번째 줄 입니다.!\n",
      "\n",
      "4번째 줄 입니다.!\n",
      "\n",
      "5번째 줄 입니다.!\n",
      "\n",
      "6번째 줄 입니다.!\n",
      "\n",
      "7번째 줄 입니다.!\n",
      "\n"
     ]
    }
   ],
   "source": [
    "#readline :한 줄만 읽어 출력한다.\n",
    "path = \"./study/testfile/\"\n",
    "f = open(path+\"새파일생성4.txt\",\"r\",encoding=\"utf-8\")\n",
    "line = f.readline()\n",
    "print(line)\n",
    "line = f.readline()\n",
    "print(line)\n",
    "for a in range(5): # 연속해서 쓰면 다음줄을 가져온다.\n",
    "    line = f.readline()\n",
    "    print(line)\n",
    "f.close()"
   ]
  },
  {
   "cell_type": "code",
<<<<<<< HEAD
   "execution_count": 191,
=======
   "execution_count": 146,
>>>>>>> b08f5b712c8fa19010dca431955da9482b87c96a
   "id": "30639e23-05cb-407e-a811-6e6b723fb5c3",
   "metadata": {},
   "outputs": [
    {
     "name": "stdout",
     "output_type": "stream",
     "text": [
      "2단\n",
<<<<<<< HEAD
      "2x1=2\n",
      "2x2=4\n",
      "2x3=6\n",
      "2x4=8\n",
      "2x5=10\n",
      "2x6=12\n",
      "2x7=14\n",
      "2x8=16\n",
      "3단\n",
      "3x1=3\n",
      "3x2=6\n",
      "3x3=9\n",
      "3x4=12\n",
      "3x5=15\n",
      "3x6=18\n",
      "3x7=21\n",
      "3x8=24\n",
      "4단\n",
      "4x1=4\n",
      "4x2=8\n",
      "4x3=12\n",
      "4x4=16\n",
      "4x5=20\n",
      "4x6=24\n",
      "4x7=28\n",
      "4x8=32\n",
      "5단\n",
      "5x1=5\n",
      "5x2=10\n",
      "5x3=15\n",
      "5x4=20\n",
      "5x5=25\n",
      "5x6=30\n",
      "5x7=35\n",
      "5x8=40\n",
      "6단\n",
      "6x1=6\n",
      "6x2=12\n",
      "6x3=18\n",
      "6x4=24\n",
      "6x5=30\n",
      "6x6=36\n",
      "6x7=42\n",
      "6x8=48\n",
      "7단\n",
      "7x1=7\n",
      "7x2=14\n",
      "7x3=21\n",
      "7x4=28\n",
      "7x5=35\n",
      "7x6=42\n",
      "7x7=49\n",
      "7x8=56\n",
      "8단\n",
      "8x1=8\n",
      "8x2=16\n",
      "8x3=24\n",
      "8x4=32\n",
      "8x5=40\n",
      "8x6=48\n",
      "8x7=56\n",
      "8x8=64\n",
      "9단\n",
      "9x1=9\n",
      "9x2=18\n",
      "9x3=27\n",
      "9x4=36\n",
      "9x5=45\n",
      "9x6=54\n",
      "9x7=63\n",
      "9x8=72\n"
=======
      "\n",
      "2x1=2\n",
      "\n",
      "2x2=4\n",
      "\n",
      "2x3=6\n",
      "\n",
      "2x4=8\n",
      "\n",
      "2x5=10\n",
      "\n",
      "2x6=12\n",
      "\n",
      "2x7=14\n",
      "\n",
      "2x8=16\n",
      "\n",
      "3단\n",
      "\n",
      "3x1=3\n",
      "\n",
      "3x2=6\n",
      "\n",
      "3x3=9\n",
      "\n",
      "3x4=12\n",
      "\n",
      "3x5=15\n",
      "\n",
      "3x6=18\n",
      "\n",
      "3x7=21\n",
      "\n",
      "3x8=24\n",
      "\n",
      "4단\n",
      "\n",
      "4x1=4\n",
      "\n",
      "4x2=8\n",
      "\n",
      "4x3=12\n",
      "\n",
      "4x4=16\n",
      "\n",
      "4x5=20\n",
      "\n",
      "4x6=24\n",
      "\n",
      "4x7=28\n",
      "\n",
      "4x8=32\n",
      "\n",
      "5단\n",
      "\n",
      "5x1=5\n",
      "\n",
      "5x2=10\n",
      "\n",
      "5x3=15\n",
      "\n",
      "5x4=20\n",
      "\n",
      "5x5=25\n",
      "\n",
      "5x6=30\n",
      "\n",
      "5x7=35\n",
      "\n",
      "5x8=40\n",
      "\n",
      "6단\n",
      "\n",
      "6x1=6\n",
      "\n",
      "6x2=12\n",
      "\n",
      "6x3=18\n",
      "\n",
      "6x4=24\n",
      "\n",
      "6x5=30\n",
      "\n",
      "6x6=36\n",
      "\n",
      "6x7=42\n",
      "\n",
      "6x8=48\n",
      "\n",
      "7단\n",
      "\n",
      "7x1=7\n",
      "\n",
      "7x2=14\n",
      "\n",
      "7x3=21\n",
      "\n",
      "7x4=28\n",
      "\n",
      "7x5=35\n",
      "\n",
      "7x6=42\n",
      "\n",
      "7x7=49\n",
      "\n",
      "7x8=56\n",
      "\n",
      "8단\n",
      "\n",
      "8x1=8\n",
      "\n",
      "8x2=16\n",
      "\n",
      "8x3=24\n",
      "\n",
      "8x4=32\n",
      "\n",
      "8x5=40\n",
      "\n",
      "8x6=48\n",
      "\n",
      "8x7=56\n",
      "\n",
      "8x8=64\n",
      "\n",
      "9단\n",
      "\n",
      "9x1=9\n",
      "\n",
      "9x2=18\n",
      "\n",
      "9x3=27\n",
      "\n",
      "9x4=36\n",
      "\n",
      "9x5=45\n",
      "\n",
      "9x6=54\n",
      "\n",
      "9x7=63\n",
      "\n",
      "9x8=72\n",
      "\n"
>>>>>>> b08f5b712c8fa19010dca431955da9482b87c96a
     ]
    }
   ],
   "source": [
    "#readline :한 줄만 읽어 출력한다.\n",
    "path = \"./study/testfile/\"\n",
    "f = open(path+\"구구단.txt\",\"r\",encoding=\"utf-8\")\n",
    "while 1 : #무한 루프 건다.\n",
<<<<<<< HEAD
    "    line = f.readline().strip()\n",
=======
    "    line = f.readline()\n",
>>>>>>> b08f5b712c8fa19010dca431955da9482b87c96a
    "    if not line : break # *읽을 라인이 없으면 멈춰라\n",
    "    print(line) #모든 라인을 출력되게 된다.\n",
    "f.close()"
   ]
  },
  {
   "cell_type": "code",
<<<<<<< HEAD
   "execution_count": 167,
   "id": "464baba2-0d52-402b-bbed-2a4619f98cb9",
   "metadata": {},
   "outputs": [
    {
     "name": "stdout",
     "output_type": "stream",
     "text": [
      "1번째 줄 입니다.!\n",
      "2번째 줄 입니다.!\n",
      "3번째 줄 입니다.!\n",
      "4번째 줄 입니다.!\n",
      "5번째 줄 입니다.!\n",
      "6번째 줄 입니다.!\n",
      "7번째 줄 입니다.!\n",
      "8번째 줄 입니다.!\n",
      "9번째 줄 입니다.!\n",
      "10번째 줄 입니다.!\n"
     ]
    }
   ],
   "source": [
    "#realines 의 '/n' 없애기\n",
    "path = \"./study/testfile/\"\n",
    "f = open(path+\"새파일생성4.txt\",\"r\",encoding=\"utf-8\")\n",
    "lines =f.readlines()\n",
    "# print(lines,type(lines))\n",
    "for n in lines :\n",
    "    print(n,end='')\n",
    "f.close()"
   ]
  },
  {
   "cell_type": "code",
   "execution_count": 176,
   "id": "383b5f0f-4bec-4af6-99cb-43d2fb1a42d9",
   "metadata": {},
   "outputs": [
    {
     "name": "stdout",
     "output_type": "stream",
     "text": [
      "1번째 줄 입니다.!\n",
      "2번째 줄 입니다.!\n",
      "3번째 줄 입니다.!\n",
      "4번째 줄 입니다.!\n",
      "5번째 줄 입니다.!\n",
      "6번째 줄 입니다.!\n",
      "7번째 줄 입니다.!\n",
      "8번째 줄 입니다.!\n",
      "9번째 줄 입니다.!\n",
      "10번째 줄 입니다.!\n"
     ]
    }
   ],
   "source": [
    "#realines + strip()\n",
    "path = \"./study/testfile/\"\n",
    "f = open(path+\"새파일생성4.txt\",\"r\",encoding=\"utf-8\")\n",
    "lines =f.readlines()\n",
    "# print(lines,type(lines))\n",
    "for n in lines :\n",
    "    n = n.strip()\n",
    "    print(n)\n",
    "f.close()"
   ]
  },
  {
   "cell_type": "code",
   "execution_count": 174,
   "id": "6445974f-bdc7-485f-9e81-0e91a94615b5",
   "metadata": {},
   "outputs": [
    {
     "name": "stdout",
     "output_type": "stream",
     "text": [
      "['1', '번', '째', ' ', '줄', ' ', '입', '니', '다', '.', '!', '\\n']\n",
      "['1', '번', '째', ' ', '줄', ' ', '입', '니', '다', '.', '!']\n",
      "['2', '번', '째', ' ', '줄', ' ', '입', '니', '다', '.', '!', '\\n']\n",
      "['2', '번', '째', ' ', '줄', ' ', '입', '니', '다', '.', '!']\n",
      "['3', '번', '째', ' ', '줄', ' ', '입', '니', '다', '.', '!', '\\n']\n",
      "['3', '번', '째', ' ', '줄', ' ', '입', '니', '다', '.', '!']\n",
      "['4', '번', '째', ' ', '줄', ' ', '입', '니', '다', '.', '!', '\\n']\n",
      "['4', '번', '째', ' ', '줄', ' ', '입', '니', '다', '.', '!']\n",
      "['5', '번', '째', ' ', '줄', ' ', '입', '니', '다', '.', '!', '\\n']\n",
      "['5', '번', '째', ' ', '줄', ' ', '입', '니', '다', '.', '!']\n",
      "['6', '번', '째', ' ', '줄', ' ', '입', '니', '다', '.', '!', '\\n']\n",
      "['6', '번', '째', ' ', '줄', ' ', '입', '니', '다', '.', '!']\n",
      "['7', '번', '째', ' ', '줄', ' ', '입', '니', '다', '.', '!', '\\n']\n",
      "['7', '번', '째', ' ', '줄', ' ', '입', '니', '다', '.', '!']\n",
      "['8', '번', '째', ' ', '줄', ' ', '입', '니', '다', '.', '!', '\\n']\n",
      "['8', '번', '째', ' ', '줄', ' ', '입', '니', '다', '.', '!']\n",
      "['9', '번', '째', ' ', '줄', ' ', '입', '니', '다', '.', '!', '\\n']\n",
      "['9', '번', '째', ' ', '줄', ' ', '입', '니', '다', '.', '!']\n",
      "['1', '0', '번', '째', ' ', '줄', ' ', '입', '니', '다', '.', '!', '\\n']\n",
      "['1', '0', '번', '째', ' ', '줄', ' ', '입', '니', '다', '.', '!']\n"
     ]
    }
   ],
   "source": [
    "# readlines + strip()\n",
    "path = \"./study/testfile/\"\n",
    "f = open(path + \"새파일생성4.txt\",\"r\",encoding=\"utf-8\")\n",
    "lines = f.readlines()\n",
    "# print(lines,type(lines))\n",
    "for n in lines:\n",
    "    print(list(n))\n",
    "    n = n.strip() # \"\"\\n 을 지운다.\"\n",
    "    print(list(n))\n",
    "f.close()"
   ]
  },
  {
   "cell_type": "code",
   "execution_count": 178,
   "id": "9298b71b-af30-4313-9c95-7a9e90445c39",
   "metadata": {},
   "outputs": [],
   "source": [
    "# 테스트\n",
    "f = open(\"파일이름.txt\",\"w\")\n",
    "f.write('내용작성 zzzzzz 1111333')\n",
    "f.close()"
   ]
  },
  {
   "cell_type": "code",
   "execution_count": 180,
   "id": "6fd9eb7a-db7e-4eec-8681-a6c9a43cf5af",
   "metadata": {},
   "outputs": [
    {
     "name": "stdout",
     "output_type": "stream",
     "text": [
      "1번째 줄 입니다.!\n",
      "2번째 줄 입니다.!\n",
      "3번째 줄 입니다.!\n",
      "4번째 줄 입니다.!\n",
      "5번째 줄 입니다.!\n",
      "6번째 줄 입니다.!\n",
      "7번째 줄 입니다.!\n",
      "8번째 줄 입니다.!\n",
      "9번째 줄 입니다.!\n",
      "10번째 줄 입니다.!\n",
      " <class 'str'>\n"
     ]
    }
   ],
   "source": [
    "#read 함수 사용하기\n",
    "path = \"./study/testfile/\"\n",
    "f = open(path + \"새파일생성4.txt\",\"r\",encoding=\"utf-8\")\n",
    "data = f.read()\n",
    "print(data,type(data))\n",
    "f.close()"
   ]
  },
  {
   "cell_type": "code",
   "execution_count": 181,
   "id": "fd7418d2-f58e-4b97-993d-e535bd6e14da",
   "metadata": {
    "scrolled": true
   },
   "outputs": [
    {
     "name": "stdout",
     "output_type": "stream",
     "text": [
      "1번째 줄 입니다.!\n",
      "\n",
      "2번째 줄 입니다.!\n",
      "\n",
      "3번째 줄 입니다.!\n",
      "\n",
      "4번째 줄 입니다.!\n",
      "\n",
      "5번째 줄 입니다.!\n",
      "\n",
      "6번째 줄 입니다.!\n",
      "\n",
      "7번째 줄 입니다.!\n",
      "\n",
      "8번째 줄 입니다.!\n",
      "\n",
      "9번째 줄 입니다.!\n",
      "\n",
      "10번째 줄 입니다.!\n",
      "\n"
     ]
    }
   ],
   "source": [
    "# for문으로 사용\n",
    "path = \"./study/testfile/\"\n",
    "f = open(path + \"새파일생성4.txt\",\"r\",encoding=\"utf-8\")\n",
    "for line in f:\n",
    "    print(line)\n",
    "f.close()"
   ]
  },
  {
   "cell_type": "code",
   "execution_count": 186,
   "id": "7b5a1f15-af1f-4b63-bfec-0bd32ae7d30c",
   "metadata": {},
   "outputs": [],
   "source": [
    "# with 사용 \n",
    "# 파일 열고 닫는걸 자동으로 가능케함\n",
    "# \"foo + bar\"\n",
    "path = \"./study/testfile/\"\n",
    "with open(path + \"toobar\",\"w\",encoding=\"utf-8\") as f :\n",
    "    f.write(\"Life is too short, you need python\")"
   ]
  },
  {
   "cell_type": "markdown",
   "id": "878d0373-bed8-44bd-8c74-586f2e6ae3fd",
   "metadata": {},
   "source": [
    "## 프로그램의 입출력"
   ]
  },
  {
   "cell_type": "code",
   "execution_count": 190,
   "id": "900b7200-f199-42f8-a403-78fb1ac94874",
   "metadata": {},
   "outputs": [
    {
     "name": "stdout",
     "output_type": "stream",
     "text": [
      "-f\n",
      "C:\\Users\\Admin\\AppData\\Roaming\\jupyter\\runtime\\kernel-4aad5c40-f10f-4c2f-830e-84832828eac1.json\n",
      "['-f', 'C:\\\\Users\\\\Admin\\\\AppData\\\\Roaming\\\\jupyter\\\\runtime\\\\kernel-4aad5c40-f10f-4c2f-830e-84832828eac1.json']\n"
     ]
    }
   ],
   "source": [
    "import sys\n",
    "\n",
    "# args = sys.argv\n",
    "args = sys.argv[1:]\n",
    "for i in args :\n",
    "    print(i)\n",
    "print(args)"
   ]
  },
  {
   "cell_type": "code",
   "execution_count": 194,
   "id": "30e4c669-f4a0-4b19-9211-ff847b87c548",
   "metadata": {},
   "outputs": [],
   "source": [
    "# import sys\n",
    "# def gugu(a=2,b=10):\n",
    "#     result =\"\"\n",
    "#     for i in range(a,b+1) :\n",
    "#         # print(f'====={i}단=====')\n",
    "#         result+=(f'====={i}단=====\\n')\n",
    "#         for j in range(1,9) :\n",
    "#             result+=(f'{i}x{j}={i*j}\\n')\n",
    "#             # print(f'{i}x{j}={i*j}')\n",
    "#     return result\n",
    "\n",
    "# value = sys.argv[1:]\n",
    "# x= int(value[0])\n",
    "# y= int(value[2])\n",
    "# print(gugu(x,y))\n",
    "\n",
    "# print(x)\n",
    "# print(y)"
   ]
  },
  {
   "cell_type": "markdown",
   "id": "7c24de9f-c02a-4719-a75f-23db0d8a1648",
   "metadata": {},
   "source": [
    "<img alt=\"\" src=\"https://wikidocs.net/images/page/180507/04_4_sys.png\">"
   ]
  },
  {
   "cell_type": "code",
   "execution_count": 223,
   "id": "0dda2a5e-24f4-45c2-872b-2b76e30bdb85",
   "metadata": {},
   "outputs": [
    {
     "name": "stdout",
     "output_type": "stream",
     "text": [
      "\n",
      "삼성전자\n",
      "19\n",
      "55,700원\n",
      "\n",
      "기아\n",
      "17\n",
      "93,800원\n"
     ]
    }
   ],
   "source": [
    "import requests as req\n",
    "url =\"https://finance.naver.com/sise/sise_market_sum.naver\"\n",
    "web = req.get(url)\n",
    "html = web.text\n",
    "# print(html)\n",
    "f1 =html.find(\"삼성전자\") #35349\n",
    "f2 =html.find(\"기아\") #42960\n",
    "print()\n",
    "print(\"삼성전자\")\n",
    "print(html[f1:f1+100].find('<td class=\"number\">')) #19\n",
    "print(html[f1:f1+100][19:50].replace('<td class=\"number\">',\"\").replace('</td>',\"원\").replace('\\t',\"\").replace('\\n',\"\"))\n",
    "print()\n",
    "print(\"기아\")\n",
    "print(html[f2:f2+100].find('<td class=\"number\">')) #17\n",
    "print(html[f2:f2+100][17:50].replace('<td class=\"number\">',\"\").replace('</td>',\"원\").replace('\\t',\"\").replace('\\n',\"\"))"
   ]
  },
  {
   "cell_type": "code",
   "execution_count": null,
   "id": "a7b70660-42e6-483d-88b3-e09c423e20a8",
   "metadata": {},
=======
   "execution_count": null,
   "id": "464baba2-0d52-402b-bbed-2a4619f98cb9",
   "metadata": {},
>>>>>>> b08f5b712c8fa19010dca431955da9482b87c96a
   "outputs": [],
   "source": []
  }
 ],
 "metadata": {
  "kernelspec": {
   "display_name": "Python 3 (ipykernel)",
   "language": "python",
   "name": "python3"
  },
  "language_info": {
   "codemirror_mode": {
    "name": "ipython",
    "version": 3
   },
   "file_extension": ".py",
   "mimetype": "text/x-python",
   "name": "python",
   "nbconvert_exporter": "python",
   "pygments_lexer": "ipython3",
   "version": "3.13.1"
  }
 },
 "nbformat": 4,
 "nbformat_minor": 5
}
