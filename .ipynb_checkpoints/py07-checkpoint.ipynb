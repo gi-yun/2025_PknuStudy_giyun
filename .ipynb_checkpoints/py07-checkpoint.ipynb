{
 "cells": [
  {
   "cell_type": "markdown",
   "id": "07b7f45f-d944-4821-a7a6-5271826fdc10",
   "metadata": {},
   "source": [
    "# 내장함수"
   ]
  },
  {
   "cell_type": "markdown",
   "id": "e75aea10-71ad-4c6c-a56d-b76eea8cb073",
   "metadata": {},
   "source": [
    "## abs\n",
    "- abs(x)는 어떤 숫자를 입력받았을 때 그 숫자의 절댓값을 리턴하는 함수이다."
   ]
  },
  {
   "cell_type": "code",
   "execution_count": 3,
   "id": "259d4f0e-9a82-4dfe-8f10-949c973cdc18",
   "metadata": {},
   "outputs": [
    {
     "name": "stdout",
     "output_type": "stream",
     "text": [
      "3\n",
      "3\n",
      "1.2\n"
     ]
    }
   ],
   "source": [
    "print(abs(3))\n",
    "print(abs(-3))\n",
    "print(abs(-1.2))"
   ]
  },
  {
   "cell_type": "markdown",
   "id": "72e14b25-0eb4-4e7c-8de1-d5ae7fb4f298",
   "metadata": {},
   "source": [
    "## all\n",
    "all(x)는 반복 가능한 데이터 x를 입력값으로 받으며 이x의 요소가 모두 참이면<br>\n",
    "True, 거짓이 하나라도 있으면 False를 리턴한다."
   ]
  },
  {
   "cell_type": "code",
   "execution_count": 9,
   "id": "2fa67cc9-8244-44c0-b288-d5a34a37f2a7",
   "metadata": {},
   "outputs": [
    {
     "name": "stdout",
     "output_type": "stream",
     "text": [
      "True\n",
      "False\n",
      "True\n"
     ]
    }
   ],
   "source": [
    "print(all([1,2,3]))\n",
    "print(all([1,2,3,0]))\n",
    "print(all([])) # *특이사항 값이 빈 값인 경우 True값을 리턴한다."
   ]
  },
  {
   "cell_type": "markdown",
   "id": "b8989083-b3dc-4ead-907e-5ad199f0cf90",
   "metadata": {},
   "source": [
    "## any\n",
    "any(x)는 반복 가능한 데이터 x를 입력으로 받아 x의 요소 중 하나라도 참이 있으면 True를 리턴하고 x가 모두 거짓일 때만 False를 리턴한다.<br>\n",
    "즉,  all(x)의 반대로 작동한다."
   ]
  },
  {
   "cell_type": "code",
   "execution_count": 15,
   "id": "13384503-8862-4d13-8c64-5375d1fdce9f",
   "metadata": {},
   "outputs": [
    {
     "name": "stdout",
     "output_type": "stream",
     "text": [
      "True\n",
      "False\n",
      "False\n"
     ]
    }
   ],
   "source": [
    "print(any([1,2,3,0]))\n",
    "print(any([0,\"\"]))\n",
    "print(any([])) # 빈 값일 경우 False를 리턴한다."
   ]
  },
  {
   "cell_type": "markdown",
   "id": "7a5f42b0-2871-4287-9ca1-739529bf4b3a",
   "metadata": {},
   "source": [
    "## chr\n",
    "chr(i)는 유니코드 숫자 값을 입력받아 그 코드에 해당하는 문자를 리턴하는 함수이다."
   ]
  },
  {
   "cell_type": "code",
   "execution_count": 21,
   "id": "d0c049f3-c28e-4ea0-a925-56c69b3473de",
   "metadata": {},
   "outputs": [
    {
     "name": "stdout",
     "output_type": "stream",
     "text": [
      "a\n",
      "가\n",
      "65\n",
      "44032\n"
     ]
    }
   ],
   "source": [
    "# 아스키 코드\n",
    "print(chr(97))\n",
    "print(chr(44032))\n",
    "# 유니코드 - UTF-8\n",
    "print(ord('A'))\n",
    "print(ord('가'))"
   ]
  },
  {
   "cell_type": "markdown",
   "id": "cb04b617-7fc5-4c30-bd2a-de5deae0eef1",
   "metadata": {},
   "source": [
    "## 예제 문제"
   ]
  },
  {
   "cell_type": "code",
   "execution_count": 44,
   "id": "9964a7be-c26e-4c32-a527-3df163c7f303",
   "metadata": {},
   "outputs": [
    {
     "name": "stdout",
     "output_type": "stream",
     "text": [
      "A\n",
      "B\n",
      "C\n",
      "D\n",
      "E\n",
      "F\n",
      "G\n",
      "H\n",
      "I\n",
      "J\n",
      "K\n",
      "L\n",
      "M\n",
      "N\n",
      "O\n",
      "P\n",
      "Q\n",
      "R\n",
      "S\n",
      "T\n",
      "U\n",
      "V\n",
      "W\n",
      "X\n",
      "Y\n",
      "Z\n"
     ]
    }
   ],
   "source": [
    "# 1) 아스키코드표를 보고 A부터 Z까지 차례로 모두 출력하라.\n",
    "A = ord(\"A\") #65\n",
    "Z = ord(\"Z\") #90\n",
    "\n",
    "\n",
    "for n in range(65,91):\n",
    "    print(chr(n))"
   ]
  },
  {
   "cell_type": "code",
   "execution_count": 43,
   "id": "ccdb433d-651a-4221-ab51-459b88969ae0",
   "metadata": {},
   "outputs": [
    {
     "name": "stdout",
     "output_type": "stream",
     "text": [
      "z\n",
      "y\n",
      "x\n",
      "w\n",
      "v\n",
      "u\n",
      "t\n",
      "s\n",
      "r\n",
      "q\n",
      "p\n",
      "o\n",
      "n\n",
      "m\n",
      "l\n",
      "k\n",
      "j\n",
      "i\n",
      "h\n",
      "g\n",
      "f\n",
      "e\n",
      "d\n",
      "c\n",
      "b\n",
      "a\n"
     ]
    }
   ],
   "source": [
    "# 2) 소문자 z부터 a까지 역순으로 모두 차례대로 출력하라.\n",
    "\n",
    "a = ord(\"a\") #97\n",
    "z = ord(\"z\") #122\n",
    "\n",
    "\n",
    "for n in range(122,96,-1):\n",
    "    print(chr(n))"
   ]
  },
  {
   "cell_type": "code",
   "execution_count": 55,
   "id": "817c71c8-f077-49f9-a318-0a1e70574166",
   "metadata": {},
   "outputs": [
    {
     "name": "stdout",
     "output_type": "stream",
     "text": [
      "A1\n",
      "A2\n",
      "A3\n",
      "A4\n",
      "A5\n",
      "A6\n",
      "A7\n",
      "A8\n",
      "A9\n",
      "A10\n",
      "B1\n",
      "B2\n",
      "B3\n",
      "B4\n",
      "B5\n",
      "B6\n",
      "B7\n",
      "B8\n",
      "B9\n",
      "B10\n",
      "C1\n",
      "C2\n",
      "C3\n",
      "C4\n",
      "C5\n",
      "C6\n",
      "C7\n",
      "C8\n",
      "C9\n",
      "C10\n"
     ]
    }
   ],
   "source": [
    "# 3) A1부터 A10까지 증가 후 B1부터 B10까지 증가 그리고 C1부터 C10까지 증가하게 하라.\n",
    "num = 0\n",
    "A = ord(\"A\") #65\n",
    "check=0\n",
    "while num<3 :\n",
    "    for n in range(1,11):\n",
    "        print(f'{chr(A+num)}{n}')\n",
    "    num+=1"
   ]
  },
  {
   "cell_type": "code",
   "execution_count": 123,
   "id": "cf283fdc-c842-405d-9427-39b94e5c953d",
   "metadata": {},
   "outputs": [
    {
     "name": "stdin",
     "output_type": "stream",
     "text": [
      "숫자를 입력하세요:  100\n",
      "문장을 입력하세요:  aa\n"
     ]
    },
    {
     "name": "stdout",
     "output_type": "stream",
     "text": [
      "가장 긴 단어는: ['aa']\n"
     ]
    }
   ],
   "source": [
    "class Team2:\n",
    "    def __init__(self):\n",
    "        self.cont=\"\"\n",
    "        self.res=[]\n",
    "        self.word = \"\"\n",
    "        self.lst = list(map(int, input(\"숫자를 입력하세요: \").split()))\n",
    "        self.long_result=[]\n",
    "    def compare(self):\n",
    "        if self.word==self.word[::-1]:\n",
    "            print(\"똑같다\")\n",
    "        else: \n",
    "            print(\"다르다\")\n",
    "\n",
    "    def ex2(self):\n",
    "        lst1 = [i for i in self.lst if i % 2 == 0]\n",
    "        lst2 = [i for i in self.lst if i % 2 != 0]\n",
    "        return lst1, lst2\n",
    "    def display_numbers(self):\n",
    "        num1, num2 = self.ex2()\n",
    "        print(\"짝수:\", num1)\n",
    "        print(\"홀수:\", num2)\n",
    "\n",
    "\n",
    "    def longest_words(self):\n",
    "        long_result = self.long_result\n",
    "        words = input(\"문장을 입력하세요: \").split()\n",
    "        max_len = len(max(words, key=len))\n",
    "    \n",
    "        for word in words:\n",
    "            if len(word) == max_len:\n",
    "                long_result.append(word)\n",
    "    \n",
    "        print(\"가장 긴 단어는:\", long_result)\n",
    "\n",
    "\n",
    "\n",
    "    def face(self):\n",
    "        self.pw = []\n",
    "        self.nw = []\n",
    "        self.status = input(\"당신의 기분을 한 문장으로 표현해주세요: \").split()\n",
    "        \n",
    "    def p4(self):\n",
    "        positive_words = [\"좋아\", \"행복\", \"멋져\", \"최고\", \"사랑해\"]\n",
    "        negative_words = [\"싫어\", \"화나\", \"짜증\", \"별로\", \"나빠\"]\n",
    "\n",
    "        print(\"입력된 단어:\", self.status)\n",
    "        \n",
    "        for i in self.status:\n",
    "            if i in positive_words:\n",
    "                self.pw.append(i)\n",
    "            elif i in negative_words:\n",
    "                self.nw.append(i)\n",
    "                \n",
    "        print(\"긍정적인 단어:\", self.pw)\n",
    "        print(\"부정적인 단어:\", self.nw)\n",
    "\n",
    "        if len(self.pw) > len(self.nw):\n",
    "            print(\"기분이 좋아 보이네요!\")\n",
    "        elif len(self.nw) > len(self.pw):\n",
    "            print(\"기분이 나빠 보이네요.\")\n",
    "        else:\n",
    "            print(\"평범한 하루네요.\")\n",
    "\n",
    "    def p5(self):\n",
    "        self.cont=input(\"원하시는 문장을 입력하세요\")\n",
    "        ls=self.cont.split(\" \")\n",
    "        a=ord('a')\n",
    "        z=ord('z')\n",
    "        for n in ls:\n",
    "            up=ord(n[0])\n",
    "            if a<=up and up<=z :\n",
    "                word=n[0].upper()+n[1:]\n",
    "                self.res.append(word)\n",
    "        print(\" \".join(self.res))\n",
    "        \n",
    "team2=Team2()\n",
    "team2.longest_words()\n",
    "\n"
   ]
  },
  {
   "cell_type": "code",
   "execution_count": 127,
   "id": "37ae3d2c-0186-4926-840c-d2fb7c57904f",
   "metadata": {},
   "outputs": [
    {
     "name": "stdin",
     "output_type": "stream",
     "text": [
      "문장을 입력하세요:  asdfgd aa\n"
     ]
    },
    {
     "name": "stdout",
     "output_type": "stream",
     "text": [
      "가장 긴 단어는: ['asdfgd']\n"
     ]
    }
   ],
   "source": [
    "class Team2:\n",
    "    def __init__(self):\n",
    "        self.word = \"\"\n",
    "        self.cont=\"\"\n",
    "        self.lst = \"\"\n",
    "        self.res=[]\n",
    "        self.long_result=[]\n",
    "    def compare(self):\n",
    "        self.word=input(\"단어를 입력하세요: \")\n",
    "        if self.word==self.word[::-1]:\n",
    "            print(\"똑같다\")\n",
    "        else: \n",
    "            print(\"다르다\")\n",
    "    def ex2(self):\n",
    "        self.lst=list(map(int, input(\"숫자를 입력하세요: \").split()))\n",
    "        lst1 = [i for i in self.lst if i % 2 == 0]\n",
    "        lst2 = [i for i in self.lst if i % 2 != 0]\n",
    "        return lst1, lst2\n",
    "    def display_numbers(self):\n",
    "        num1, num2 = self.ex2()\n",
    "        print(\"짝수:\", num1)\n",
    "        print(\"홀수:\", num2)\n",
    "        \n",
    "    def longest_words(self):\n",
    "        long_result = self.long_result\n",
    "        words = input(\"문장을 입력하세요: \").split()\n",
    "        max_len = len(max(words, key=len))\n",
    "    \n",
    "        for word in words:\n",
    "            if len(word) == max_len:\n",
    "                long_result.append(word)\n",
    "    \n",
    "        print(\"가장 긴 단어는:\", long_result)\n",
    "\n",
    "    \n",
    "            \n",
    "    def p5(self):\n",
    "        self.cont=input(\"원하시는 문장을 입력하세요\")\n",
    "        ls=self.cont.split(\" \")\n",
    "        a=ord('a')\n",
    "        z=ord('z')\n",
    "        for n in ls:\n",
    "            up=ord(n[0])\n",
    "            if a<=up and up<=z :\n",
    "                word=n[0].upper()+n[1:]\n",
    "                self.res.append(word)\n",
    "        print(\" \".join(self.res))\n",
    "    \n",
    "team2=Team2()\n",
    "# team2.p5()\n",
    "# team2.compare()\n",
    "team2.longest_words()\n",
    "# team2.display_numbers()"
   ]
  },
  {
   "cell_type": "code",
   "execution_count": 14,
   "id": "55e623f3-e993-43d5-a427-75d3f8847e22",
   "metadata": {},
   "outputs": [
    {
     "name": "stdin",
     "output_type": "stream",
     "text": [
      "단어를 입력하세요:  우병우\n"
     ]
    },
    {
     "name": "stdout",
     "output_type": "stream",
     "text": [
      "똑같다\n"
     ]
    },
    {
     "name": "stdin",
     "output_type": "stream",
     "text": [
      "문장을 입력하세요:  life is good\n"
     ]
    },
    {
     "name": "stdout",
     "output_type": "stream",
     "text": [
      "가장 긴 단어는: ['life', 'good']\n"
     ]
    },
    {
     "name": "stdin",
     "output_type": "stream",
     "text": [
      "숫자를 입력하세요:  100 200 3\n"
     ]
    },
    {
     "name": "stdout",
     "output_type": "stream",
     "text": [
      "짝수: [100, 200]\n",
      "홀수: [3]\n"
     ]
    },
    {
     "name": "stdin",
     "output_type": "stream",
     "text": [
      "당신의 기분을 한 문장으로 표현해주세요:  기분이 좋아\n"
     ]
    },
    {
     "name": "stdout",
     "output_type": "stream",
     "text": [
      "입력된 단어: ['기분이', '좋아']\n",
      "긍정적인 단어: ['좋아']\n",
      "부정적인 단어: []\n",
      "기분이 좋아 보이네요!\n"
     ]
    },
    {
     "name": "stdin",
     "output_type": "stream",
     "text": [
      "원하시는 문장을 입력하세요 aa bb cc\n"
     ]
    },
    {
     "name": "stdout",
     "output_type": "stream",
     "text": [
      "Aa Bb Cc\n"
     ]
    }
   ],
   "source": [
    "class Team2:\n",
    "    def __init__(self):\n",
    "        self.cont=\"\"\n",
    "        self.res=[]\n",
    "        self.word = \"\"\n",
    "        self.lst = \"\"\n",
    "        self.long_result=[]\n",
    "        self.pw = []\n",
    "        self.nw = []\n",
    "        self.status = \"\"\n",
    "        \n",
    "    #거꾸로 읽어도 같은 단어를 확인하는 함수\n",
    "    def compare(self):\n",
    "        self.word=input(\"단어를 입력하세요: \")\n",
    "        if self.word==self.word[::-1]:\n",
    "            print(\"똑같다\")\n",
    "        else: \n",
    "            print(\"다르다\")\n",
    "    # 홀수 짝수 나누는 조건 함수 * display_numbers의 하위 함수\n",
    "    def ex2(self):\n",
    "        self.lst = list(map(int, input(\"숫자를 입력하세요: \").split()))\n",
    "        lst1 = [i for i in self.lst if i % 2 == 0]\n",
    "        lst2 = [i for i in self.lst if i % 2 != 0]\n",
    "        return lst1, lst2\n",
    "        \n",
    "    #홀수 짝수를 나누어 주는 함수\n",
    "    def display_numbers(self):\n",
    "        num1, num2 = self.ex2()\n",
    "        print(\"짝수:\", num1)\n",
    "        print(\"홀수:\", num2)\n",
    "\n",
    "    #가장 긴 단어를 가져오는 함수\n",
    "    def longest_words(self):\n",
    "        long_result = self.long_result\n",
    "        words = input(\"문장을 입력하세요: \").split()\n",
    "        max_len = len(max(words, key=len))\n",
    "    \n",
    "        for word in words:\n",
    "            if len(word) == max_len:\n",
    "                long_result.append(word)\n",
    "    \n",
    "        print(\"가장 긴 단어는:\", long_result)\n",
    "\n",
    "    # 문장을 받는 함수 *p4의 하위 함수\n",
    "    def face(self):\n",
    "        self.status = input(\"당신의 기분을 한 문장으로 표현해주세요: \").split()\n",
    "        return self.status\n",
    "\n",
    "    # 문장을 보고 기분을 나타내는 함수\n",
    "    def p4(self):\n",
    "        self.face()\n",
    "        positive_words = [\"좋아\", \"행복\", \"멋져\", \"최고\", \"사랑해\"]\n",
    "        negative_words = [\"싫어\", \"화나\", \"짜증\", \"별로\", \"나빠\"]\n",
    "\n",
    "        print(\"입력된 단어:\", self.status)\n",
    "        \n",
    "        for i in self.status:\n",
    "            if i in positive_words:\n",
    "                self.pw.append(i)\n",
    "            elif i in negative_words:\n",
    "                self.nw.append(i)\n",
    "                \n",
    "        print(\"긍정적인 단어:\", self.pw)\n",
    "        print(\"부정적인 단어:\", self.nw)\n",
    "\n",
    "        if len(self.pw) > len(self.nw):\n",
    "            print(\"기분이 좋아 보이네요!\")\n",
    "        elif len(self.nw) > len(self.pw):\n",
    "            print(\"기분이 나빠 보이네요.\")\n",
    "        else:\n",
    "            print(\"평범한 하루네요.\")\n",
    "\n",
    "    #단어 첫글자가 소문자일시 대문자로 바꿔주는 함수\n",
    "    def p5(self):\n",
    "        self.cont=input(\"원하시는 문장을 입력하세요\")\n",
    "        ls=self.cont.split(\" \")\n",
    "        a=ord('a')\n",
    "        z=ord('z')\n",
    "        for n in ls:\n",
    "            up=ord(n[0])\n",
    "            if a<=up and up<=z :\n",
    "                word=n[0].upper()+n[1:]\n",
    "                self.res.append(word)\n",
    "        print(\" \".join(self.res))\n",
    "\n",
    "obj = Team2()\n",
    "obj.compare()\n",
    "obj.longest_words()\n",
    "obj.display_numbers()\n",
    "obj.p4()\n",
    "obj.p5()"
   ]
  },
  {
   "cell_type": "code",
   "execution_count": null,
   "id": "e72a3a29-c1cb-4202-8226-7564342d1353",
   "metadata": {},
   "outputs": [],
   "source": []
  },
  {
   "cell_type": "code",
   "execution_count": null,
   "id": "4bc05585-fc6d-4a86-a75a-9a720296028e",
   "metadata": {},
   "outputs": [],
   "source": [
    "positive_words = [\"좋아\", \"행복\", \"멋져\", \"최고\", \"사랑해\"]\n",
    "negative_words = [\"싫어\", \"화나\", \"짜증\", \"별로\", \"나빠\"]\n",
    "text = input(\"당신의 기분을 한 문장으로 표현해주세요: \")\n",
    "\n",
    "# 간단1\n",
    "# for v in positive_words:\n",
    "#     if v in text:\n",
    "#         print(\"기분이 좋아보이네요.\")\n",
    "# for n in negative_words:\n",
    "#     if n in text:\n",
    "#         print(\"기분이 나빠보이네요.\")\n",
    "\n",
    "# 해설2\n",
    "# if any(word in text for word in positive_words):\n",
    "#     print(\"기분이 좋아보이네요\")\n",
    "# elif any(word in text for word in negative_words):\n",
    "#     print(\"기분이 나빠보이네요\")\n",
    "# else:\n",
    "#     print(\"보통이시네요.\")\n",
    "\n",
    "# 해설3\n",
    "# pos = [v for v in positive_words if v in text]\n",
    "# print(pos,len(pos))\n",
    "# neg = [n for n in negative_words if n in text]\n",
    "# print(neg,len(neg))\n",
    "# if len(pos)> len(neg):\n",
    "# # abs(len(pos) - len(neg))>0 값의 차이, 크기, 변화폭\n",
    "#      print(\"기분이 좋아보이네요\")\n",
    "# elif len(pos)< len(neg):\n",
    "#      print(\"기분이 나빠보이네요\")\n",
    "# else:\n",
    "#     print(\"보통이시네요.\")\n",
    "\n",
    "# 해설4\n",
    "# pnum = 0\n",
    "# text = text.split(\" \")\n",
    "# for v in positive_words:\n",
    "#     for s in text:\n",
    "#         if v == s:\n",
    "#             pnum += 1\n",
    "#             print(pnum)\n",
    "# for x in negative_words:\n",
    "#     for y in text:\n",
    "#         if x == y:\n",
    "#             pnum -= 1\n",
    "#             print(pnum)\n",
    "# print(pnum)"
   ]
  },
  {
   "cell_type": "code",
   "execution_count": 1,
   "id": "9bdddad3-039a-4a73-9502-24b35a1990f0",
   "metadata": {},
   "outputs": [
    {
     "name": "stdout",
     "output_type": "stream",
     "text": [
      "Collecting konlpy\n",
      "  Downloading konlpy-0.6.0-py2.py3-none-any.whl.metadata (1.9 kB)\n",
      "Collecting JPype1>=0.7.0 (from konlpy)\n",
      "  Downloading jpype1-1.5.2-cp313-cp313-win_amd64.whl.metadata (5.0 kB)\n",
      "Collecting lxml>=4.1.0 (from konlpy)\n",
      "  Downloading lxml-5.3.1-cp313-cp313-win_amd64.whl.metadata (3.8 kB)\n",
      "Requirement already satisfied: numpy>=1.6 in c:\\users\\admin\\appdata\\local\\programs\\python\\python313\\lib\\site-packages (from konlpy) (2.2.2)\n",
      "Requirement already satisfied: packaging in c:\\users\\admin\\appdata\\local\\programs\\python\\python313\\lib\\site-packages (from JPype1>=0.7.0->konlpy) (24.2)\n",
      "Downloading konlpy-0.6.0-py2.py3-none-any.whl (19.4 MB)\n",
      "   ---------------------------------------- 0.0/19.4 MB ? eta -:--:--\n",
      "   --------------------- ------------------ 10.5/19.4 MB 76.5 MB/s eta 0:00:01\n",
      "   ---------------------------------------  19.4/19.4 MB 48.7 MB/s eta 0:00:01\n",
      "   ---------------------------------------- 19.4/19.4 MB 45.8 MB/s eta 0:00:00\n",
      "Downloading jpype1-1.5.2-cp313-cp313-win_amd64.whl (356 kB)\n",
      "Downloading lxml-5.3.1-cp313-cp313-win_amd64.whl (3.8 MB)\n",
      "   ---------------------------------------- 0.0/3.8 MB ? eta -:--:--\n",
      "   ---------------------------------------- 3.8/3.8 MB 84.3 MB/s eta 0:00:00\n",
      "Installing collected packages: lxml, JPype1, konlpy\n",
      "Successfully installed JPype1-1.5.2 konlpy-0.6.0 lxml-5.3.1\n"
     ]
    },
    {
     "name": "stderr",
     "output_type": "stream",
     "text": [
      "\n",
      "[notice] A new release of pip is available: 25.0 -> 25.0.1\n",
      "[notice] To update, run: python.exe -m pip install --upgrade pip\n"
     ]
    }
   ],
   "source": [
    "!pip install konlpy"
   ]
  },
  {
   "cell_type": "code",
   "execution_count": 8,
   "id": "c9ac130c-da04-45a9-b1c0-31652b180017",
   "metadata": {},
   "outputs": [
    {
     "name": "stdin",
     "output_type": "stream",
     "text": [
      "당신의 기분을 한 문장으로 표현해주세요:  좋아서 멋지고 그래서 사랑해\n"
     ]
    },
    {
     "name": "stdout",
     "output_type": "stream",
     "text": [
      "['좋다', '멋지다', '그래서', '사랑', '하다']\n"
     ]
    }
   ],
   "source": [
    "from konlpy.tag import Okt\n",
    "\n",
    "#한글 형태소 분석기\n",
    "okt = Okt()\n",
    "\n",
    "positive_words = [\"좋아\", \"행복\", \"멋져\", \"최고\", \"사랑해\"]\n",
    "negative_words = [\"싫어\", \"화나\", \"짜증\", \"별로\", \"나쁘다\"]\n",
    "text =  input(\"당신의 기분을 한 문장으로 표현해주세요: \")\n",
    "\n",
    "words = okt.morphs(text, stem= True)\n",
    "print(words)"
   ]
  },
  {
   "cell_type": "code",
   "execution_count": 3,
   "id": "d489700a-8252-49eb-8222-ac54af081f4d",
   "metadata": {},
   "outputs": [
    {
     "name": "stderr",
     "output_type": "stream",
     "text": [
      "java version \"1.8.0_441\"\n",
      "Java(TM) SE Runtime Environment (build 1.8.0_441-b07)\n",
      "Java HotSpot(TM) 64-Bit Server VM (build 25.441-b07, mixed mode)\n"
     ]
    }
   ],
   "source": [
    "!java -version"
   ]
  },
  {
   "cell_type": "code",
   "execution_count": null,
   "id": "e55c525b-8315-451d-8de3-e757c8523acf",
   "metadata": {},
   "outputs": [],
   "source": []
  }
 ],
 "metadata": {
  "kernelspec": {
   "display_name": "Python 3 (ipykernel)",
   "language": "python",
   "name": "python3"
  },
  "language_info": {
   "codemirror_mode": {
    "name": "ipython",
    "version": 3
   },
   "file_extension": ".py",
   "mimetype": "text/x-python",
   "name": "python",
   "nbconvert_exporter": "python",
   "pygments_lexer": "ipython3",
   "version": "3.13.1"
  }
 },
 "nbformat": 4,
 "nbformat_minor": 5
}
