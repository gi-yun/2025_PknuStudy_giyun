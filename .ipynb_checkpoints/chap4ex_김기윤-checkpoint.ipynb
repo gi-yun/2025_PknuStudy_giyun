{
 "cells": [
  {
   "cell_type": "markdown",
   "id": "3889672d-fce3-4f82-afcd-5e1351f5b77f",
   "metadata": {},
   "source": [
    "# 되새김 문제 p185~p188"
   ]
  },
  {
   "cell_type": "markdown",
   "id": "5fd65318-912d-47e4-b6b4-e1ce206a1590",
   "metadata": {},
   "source": [
    "## 1. 홀수, 짝수 판별하기\n",
    "주어진 자연수가 홀수인지, 짝수인지 판별해 주는 함수 is_add를 작성해보자.<br>\n",
    "is_odd함수는 홀수이면 True, 짝수이면 False를 리턴해야 한다.<br>\n",
    "<br>\n",
    "def is_odd(number): <br>\n",
    "&nbsp;&nbsp;&nbsp;&nbsp;&nbsp; if [&nbsp;&nbsp;&nbsp;&nbsp;&nbsp;&nbsp;&nbsp;&nbsp;] <br>\n",
    "&nbsp;&nbsp;&nbsp;&nbsp;&nbsp;&nbsp;&nbsp;&nbsp;&nbsp;&nbsp;return True <br>\n",
    "&nbsp;&nbsp;&nbsp;&nbsp;&nbsp;else: <br>\n",
    "&nbsp;&nbsp;&nbsp;&nbsp;&nbsp;&nbsp;&nbsp;&nbsp;&nbsp;&nbsp;return False"
   ]
  },
  {
   "cell_type": "code",
   "execution_count": 8,
   "id": "ef0a0614-17af-4f5d-b98f-bb71279067e3",
   "metadata": {},
   "outputs": [
    {
     "data": {
      "text/plain": [
       "False"
      ]
     },
     "execution_count": 8,
     "metadata": {},
     "output_type": "execute_result"
    }
   ],
   "source": [
    "def is_odd(number):\n",
    "    if number%2:\n",
    "        return True\n",
    "    else:\n",
    "        return False\n",
    "is_odd(5)\n",
    "is_odd(6)"
   ]
  },
  {
   "cell_type": "markdown",
   "id": "badee8b0-a867-47e9-95c0-97edaa286399",
   "metadata": {},
   "source": [
    "## 2. 모든 입력의 평균값 구하기\n",
    "입력으로 들어오는 모든 수의 평균값을 계산해 주는 함수를 작성해 보자. 단, 입력으로 들어오는 수의 <br>\n",
    "개수는 정해져 있지 않다. <br>\n",
    "<br>\n",
    "def avg_numbers(&nbsp;&nbsp;&nbsp;&nbsp;&nbsp;&nbsp;): <br>\n",
    "&nbsp;&nbsp;&nbsp;&nbsp;result = 0 <br>\n",
    "&nbsp;&nbsp;&nbsp;&nbsp;for i in args: <br>\n",
    "&nbsp;&nbsp;&nbsp;&nbsp;&nbsp;&nbsp;result += i<br>\n",
    "&nbsp;&nbsp;&nbsp;&nbsp;return[&nbsp;&nbsp;&nbsp;&nbsp;&nbsp;&nbsp;&nbsp;&nbsp;&nbsp;]<br>\n",
    "<br>\n",
    "avg_numbers(1,2) <= 1.5 출력 <br>\n",
    "avg_numbers(1,2,3,4,5) <= 3.0 출력\n"
   ]
  },
  {
   "cell_type": "code",
   "execution_count": 10,
   "id": "0b8794f7-b768-4f48-b24d-ac7174ad36da",
   "metadata": {},
   "outputs": [
    {
     "name": "stdout",
     "output_type": "stream",
     "text": [
      "1.5\n",
      "3.0\n"
     ]
    }
   ],
   "source": [
    "def avg_numbers(*args):\n",
    "    result = 0\n",
    "    for i in args:\n",
    "        result += i\n",
    "    return result/len(args)\n",
    "\n",
    "print(avg_numbers(1,2))\n",
    "print(avg_numbers(1,2,3,4,5)) "
   ]
  },
  {
   "cell_type": "markdown",
   "id": "496bb4be-4d00-4c7f-80f8-ed6d880ba5a3",
   "metadata": {},
   "source": [
    "## 3. 프로그램 오류 수정하기 1\n",
    "다음은 2개의 숫자를 입력받아 더한후에 리턴하는 프로그램이다.<br>\n",
    "<br>\n",
    "input1 = input(\"첫 번째 숫자를 입력하세요: \")<br>\n",
    "input2 = input(\"두 번째 숫자를 입력하세요: \")<br>\n",
    "<br>\n",
    "total = input1 + input2<br>\n",
    "print(\"두 수의 합은 %s 입니다.\" %total)"
   ]
  },
  {
   "cell_type": "code",
   "execution_count": 15,
   "id": "c4db57eb-5532-40a0-af56-98ef56089aad",
   "metadata": {},
   "outputs": [
    {
     "name": "stdin",
     "output_type": "stream",
     "text": [
      "첫 번째 숫자를 입력하세요:  5\n",
      "두 번째 숫자를 입력하세요:  4\n"
     ]
    },
    {
     "name": "stdout",
     "output_type": "stream",
     "text": [
      "두 수의 합은 9 입니다.\n",
      "<class 'int'>\n",
      "<class 'int'>\n"
     ]
    }
   ],
   "source": [
    "input1 = int(input(\"첫 번째 숫자를 입력하세요: \"))\n",
    "input2 = int(input(\"두 번째 숫자를 입력하세요: \"))\n",
    "\n",
    "total = input1 + input2\n",
    "print(\"두 수의 합은 %s 입니다.\" %total)\n",
    "print(type(input1))\n",
    "print(type(input2))\n",
    "# 타입을 확인했을 때 *str이 나왔기 때문에 계산이 아니라 그대로 붙어버린것 정수형으로 바꿔준다.\n",
    "# str==문자열"
   ]
  },
  {
   "cell_type": "markdown",
   "id": "aababb1d-272f-45c7-8e18-7b196f097b04",
   "metadata": {},
   "source": [
    "## 4. 출력 결과가 다른 것은?\n",
    "다음중 출력 결곽가 다른 하나를 골라 보자.\n",
    "1) print(\"you\" \"need\" \"python\")\n",
    "2) print(\"you\" + \"need\" + \"python\")\n",
    "3) print(\"you\" ,\"need\" , \"python\")\n",
    "4) print(\"\".join([\"you\" ,\"need\" ,\"python\"]))"
   ]
  },
  {
   "cell_type": "code",
   "execution_count": 17,
   "id": "6a1caa52-1bbe-4821-9605-6a12f509a459",
   "metadata": {},
   "outputs": [
    {
     "name": "stdout",
     "output_type": "stream",
     "text": [
      "youneedpython\n",
      "youneedpython\n",
      "you need python\n",
      "youneedpython\n"
     ]
    }
   ],
   "source": [
    "print(\"you\" \"need\" \"python\")\n",
    "print(\"you\" + \"need\" + \"python\")\n",
    "print(\"you\" ,\"need\" , \"python\")\n",
    "print(\"\".join([\"you\" ,\"need\" ,\"python\"]))\n",
    "# 3번 출력이 다르다. 띄어쓰기가 되어있다."
   ]
  },
  {
   "cell_type": "markdown",
   "id": "2f37bca5-e83d-4d3a-b846-672f0842a43f",
   "metadata": {},
   "source": [
    "## 5. 프로그램 오류 수정하기 2\n",
    "다음은 파일(test.txt)에 \"Life is too short\" 문자열을 저장한 후 다시 그 파일을 읽어 출력하는 프로그램 이다. <br>\n",
    "<br>\n",
    "f1 = open(\"test.txt\", 'w')<br>\n",
    "f1.write(\"Life is too short\")<br>\n",
    "<br>\n",
    "f2= open(\"test.txt\",'r')<br>\n",
    "print(f2.read())<br>"
   ]
  },
  {
   "cell_type": "code",
   "execution_count": 26,
   "id": "164e6ffe-42f8-409e-b4ae-521c0f9ccc05",
   "metadata": {},
   "outputs": [
    {
     "name": "stdout",
     "output_type": "stream",
     "text": [
      "Life is too shortLife is too short2\n"
     ]
    }
   ],
   "source": [
    "f1 = open(\"test.txt\",'w', encoding=\"utf-8\")\n",
    "a=\"Life is too short2\"\n",
    "f1.write(f'Life is too short\\n') #f포매팅 쓰거나\n",
    "f1.write(a) #대입 시키거나\n",
    "f2= open(\"test.txt\",'r')\n",
    "print(f2.read())"
   ]
  },
  {
   "cell_type": "markdown",
   "id": "b84a3ab9-feca-4bbf-aecf-a87e9e6f91f7",
   "metadata": {},
   "source": [
    "## 6. 사용자 입력 저장하기\n",
    "사용자의 입력을 파일(test.txt)에 저장하는 프로그램을 작성해 보자.<br>\n",
    "단, 프로그램을 다시  실행하더라도 기존에 작성한 내용을 유지하고<br>\n",
    "새로 입력한 내용을 추가해야 한다.<br>\n",
    "<br>\n",
    "user_input = input(\"저장할 내용을 입력하세요\")<br>\n",
    "f= open('text.txt',&nbsp;&nbsp;&nbsp;&nbsp;&nbsp;&nbsp;&nbsp;&nbsp;&nbsp;&nbsp;&nbsp;) <= 내용을 추가하기 위해 'a'를 사용<br>\n",
    "f.write(user_input)<br>\n",
    "f.write(&nbsp;&nbsp;&nbsp;&nbsp;&nbsp;&nbsp;&nbsp;&nbsp;&nbsp;&nbsp;&nbsp;&nbsp;) <= 입력한 내용을 줄 단위로 구분하기 위해 줄 바꿈 문자 삽입<br>\n",
    "f.close()"
   ]
  },
  {
   "cell_type": "code",
   "execution_count": 32,
   "id": "24910dc5-7ac1-4258-91c2-dc1e34c612dc",
   "metadata": {},
   "outputs": [
    {
     "name": "stdin",
     "output_type": "stream",
     "text": [
      "저장할 내용을 입력하세요 aa\n"
     ]
    }
   ],
   "source": [
    "user_input = input(\"저장할 내용을 입력하세요\")\n",
    "f= open('test.txt','a' ,encoding=\"utf-8\") \n",
    "f.write(user_input)\n",
    "f.write('\\n') \n",
    "f.close()"
   ]
  },
  {
   "cell_type": "markdown",
   "id": "9d54602d-3ea8-49b2-9590-d91a881b14fd",
   "metadata": {},
   "source": [
    "## 7. 파일의 문자열 바꾸기\n",
    "다음과 같은 내용을 지닌 test.txt가 있다. <br>\n",
    "이파일의 내용중 \"java\"라는 문자열을 \"python\"으로 바꾸어 저장해 보자. <br>\n",
    "<br>\n",
    "Life is too short <br>\n",
    "you need java<br>\n",
    "<br>\n",
    "f=open('test.txt','r') <br>\n",
    "body=[&nbsp;&nbsp;&nbsp;&nbsp;&nbsp;&nbsp;&nbsp;&nbsp;&nbsp;] <= test.txt의 내용을 body 변수에 저장 <br>\n",
    "f.close<br>\n",
    "body = [&nbsp;&nbsp;&nbsp;&nbsp;&nbsp;&nbsp;&nbsp;&nbsp;&nbsp;] <= body 문자열에서 \"java\"를 \"python\"으로 변경<br>\n",
    "f = open('test.txt',[&nbsp;&nbsp;&nbsp;&nbsp;&nbsp;&nbsp;&nbsp;&nbsp;&nbsp;]) <= 파일을 쓰기 모드로 다시 실행<br>\n",
    "f.write(body)<br>\n",
    "f.close()"
   ]
  },
  {
   "cell_type": "code",
   "execution_count": null,
   "id": "d7e0da52-aa32-4c01-a802-4ffdf0447d8c",
   "metadata": {},
   "outputs": [],
   "source": [
    "f=open('test.txt','r')\n",
    "body=\"Life is too short\"+\"\\n\"+\"you need java\"\n",
    "f.close\n",
    "body = \n",
    "f = open('test.txt', ) \n",
    "f.write(body)\n",
    "f.close()"
   ]
  },
  {
   "cell_type": "code",
   "execution_count": 5,
   "id": "7da7f83a-d2d1-4e7a-b779-466e41af97b5",
   "metadata": {},
   "outputs": [
    {
     "name": "stdout",
     "output_type": "stream",
     "text": [
      "Life is too short\n",
      "you need java\n"
     ]
    }
   ],
   "source": [
    "print(\"Life is too short\"+\"\\n\"+\"you need java\")"
   ]
  },
  {
   "cell_type": "code",
   "execution_count": null,
   "id": "ccb9a327-a9c1-472b-b8fa-dcf483c4a2cf",
   "metadata": {},
   "outputs": [],
   "source": []
  },
  {
   "cell_type": "code",
   "execution_count": null,
   "id": "3a645ba1-9158-4878-8882-f95f5f57a195",
   "metadata": {},
   "outputs": [],
   "source": []
  }
 ],
 "metadata": {
  "kernelspec": {
   "display_name": "Python 3 (ipykernel)",
   "language": "python",
   "name": "python3"
  },
  "language_info": {
   "codemirror_mode": {
    "name": "ipython",
    "version": 3
   },
   "file_extension": ".py",
   "mimetype": "text/x-python",
   "name": "python",
   "nbconvert_exporter": "python",
   "pygments_lexer": "ipython3",
   "version": "3.13.1"
  }
 },
 "nbformat": 4,
 "nbformat_minor": 5
}
