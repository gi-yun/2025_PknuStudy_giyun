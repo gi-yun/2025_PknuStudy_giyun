{
 "cells": [
  {
   "cell_type": "markdown",
   "id": "7e68e5de-46f1-4813-a8d6-2e32626897ee",
   "metadata": {},
   "source": [
    "# 모듈"
   ]
  },
  {
   "cell_type": "markdown",
   "id": "a9c46956-f36b-437f-9b97-f6ff806357c0",
   "metadata": {},
   "source": [
    "## 모듈 만들기"
   ]
  },
  {
   "cell_type": "code",
   "execution_count": 16,
   "id": "684c1a03-2083-42d7-945d-fc6973526df8",
   "metadata": {
    "jp-MarkdownHeadingCollapsed": true
   },
   "outputs": [],
   "source": [
    "#모듈 만들기\n",
    "def add(a,b):\n",
    "     return a+b\n",
    "def sub(a,b):\n",
    "    return a-b"
   ]
  },
  {
   "cell_type": "code",
   "execution_count": 14,
   "id": "bfb34a80-4d16-48c5-9ee0-f6d43e95a2e9",
   "metadata": {},
   "outputs": [],
   "source": [
    "# print(add(1,2))\n",
    "# print(sub(2,1))"
   ]
  },
  {
   "cell_type": "code",
   "execution_count": 1,
   "id": "b072f6f9-6975-4e08-a34c-9e5e4edd2024",
   "metadata": {},
   "outputs": [
    {
     "name": "stdout",
     "output_type": "stream",
     "text": [
      "33\n",
      "11\n"
     ]
    }
   ],
   "source": [
    "import mod1\n",
    "print(mod1.add(11,22))\n",
    "print(mod1.sub(33,22))"
   ]
  },
  {
   "cell_type": "code",
   "execution_count": 18,
   "id": "58a8ad94-cda2-49aa-b0ff-c0fbb753bc6f",
   "metadata": {},
   "outputs": [],
   "source": [
    "with open (\"mod2.py\",\"w\") as f:\n",
    "    data=\"\"\"def mul(a,b):\n",
    "    return a*b\n",
    "def div(a,b):\n",
    "    return a/b\"\"\"\n",
    "    f.write(data)"
   ]
  },
  {
   "cell_type": "code",
   "execution_count": 20,
   "id": "9d68091e-580e-4135-a9d2-b3900494e833",
   "metadata": {},
   "outputs": [
    {
     "name": "stdout",
     "output_type": "stream",
     "text": [
      "12\n",
      "2.0\n"
     ]
    }
   ],
   "source": [
    "import mod2\n",
    "print(mod2.mul(3,4))\n",
    "print(mod2.div(4,2))"
   ]
  },
  {
   "cell_type": "code",
   "execution_count": 3,
   "id": "73615976-0929-4ca4-9393-04d259f599da",
   "metadata": {},
   "outputs": [
    {
     "name": "stdout",
     "output_type": "stream",
     "text": [
      "33\n",
      "11\n",
      "12\n",
      "2.0\n"
     ]
    }
   ],
   "source": [
    "import mod1, mod2\n",
    "print(mod1.add(11,22))\n",
    "print(mod1.sub(33,22))\n",
    "print(mod2.mul(3,4))\n",
    "print(mod2.div(4,2))"
   ]
  },
  {
   "cell_type": "code",
   "execution_count": 5,
   "id": "ca0a5b4e-2298-4170-b8fc-94b1f39d7e5d",
   "metadata": {},
   "outputs": [
    {
     "name": "stdout",
     "output_type": "stream",
     "text": [
      "33\n",
      "11\n",
      "12\n",
      "2.0\n"
     ]
    }
   ],
   "source": [
    "# import mod1 as m1\n",
    "# import mod2 as m2\n",
    "import mod1 as m1, mod2 as m2 \n",
    "print(m1.add(11,22))\n",
    "print(m1.sub(33,22))\n",
    "print(m2.mul(3,4))\n",
    "print(m2.div(4,2))"
   ]
  },
  {
   "cell_type": "code",
   "execution_count": 8,
   "id": "939d996a-4292-489f-a3d0-e4b209a53841",
   "metadata": {},
   "outputs": [
    {
     "name": "stdout",
     "output_type": "stream",
     "text": [
      "77\n",
      "33\n"
     ]
    }
   ],
   "source": [
    "from mod1 import add, sub #충돌날 경우가 있기에 이방식은 추천하지 않는다.\n",
    "print(add(33,44))\n",
    "print(sub(44,11))"
   ]
  },
  {
   "cell_type": "code",
   "execution_count": 9,
   "id": "b737c733-6f02-4807-9cf7-529d885cc99b",
   "metadata": {},
   "outputs": [
    {
     "name": "stdout",
     "output_type": "stream",
     "text": [
      "15\n"
     ]
    }
   ],
   "source": [
    "from mod2 import * #데이터가 이상하게 나올수 있음 이방식도 추천하지 않는다.\n",
    "print(mul(3,5))"
   ]
  },
  {
   "cell_type": "markdown",
   "id": "a668e52e-12da-4cf6-9cb5-caf2345c383b",
   "metadata": {},
   "source": [
    "## `__main__`의 의미"
   ]
  },
  {
   "cell_type": "code",
   "execution_count": 19,
   "id": "9a6260db-6934-40d9-b5ff-9d4759b95965",
   "metadata": {},
   "outputs": [],
   "source": [
    "with open(\"mod1.py\",\"a\",) as f:\n",
    "    text = \"\"\"\\nprint(add(1,4))\\nprint(sub(4,2))\"\"\"\n",
    "    f.write(text)"
   ]
  },
  {
   "cell_type": "code",
   "execution_count": 33,
   "id": "364aa4e2-2543-4699-b3e9-73dde438349a",
   "metadata": {},
   "outputs": [],
   "source": [
    "# %%bash : 우분투"
   ]
  },
  {
   "cell_type": "code",
   "execution_count": 2,
   "id": "92daf0a0-2457-40d3-acf5-cee5ae0a34cd",
   "metadata": {},
   "outputs": [
    {
     "name": "stdout",
     "output_type": "stream",
     "text": [
      "Microsoft Windows [Version 10.0.26100.3194]\n",
      "(c) Microsoft Corporation. All rights reserved.\n",
      "\n",
      "gy\\code>\n",
      "D:\\kgy\\code>python mod1.py\n",
      "5\n",
      "2\n",
      "__main__\n",
      "�� ���Ϸ� ������ �Ǿ����.\n",
      "\n",
      "D:\\kgy\\code>"
     ]
    }
   ],
   "source": [
    "%%cmd\n",
    "\n",
    "python mod1.py"
   ]
  },
  {
   "cell_type": "code",
   "execution_count": 4,
   "id": "82c981fd-94c8-4cb1-836f-83a055686333",
   "metadata": {},
   "outputs": [
    {
     "name": "stdout",
     "output_type": "stream",
     "text": [
      "5\n",
      "2\n",
      "mod1\n",
      "전 모듈로 임포트 되었어요.\n",
      "mod1\n"
     ]
    },
    {
     "data": {
      "text/plain": [
       "['__builtins__',\n",
       " '__cached__',\n",
       " '__doc__',\n",
       " '__file__',\n",
       " '__loader__',\n",
       " '__name__',\n",
       " '__package__',\n",
       " '__spec__',\n",
       " 'add',\n",
       " 'sub']"
      ]
     },
     "execution_count": 4,
     "metadata": {},
     "output_type": "execute_result"
    }
   ],
   "source": [
    "import mod1\n",
    "# print(\"mod1__name__\")\n",
    "dir(mod1)"
   ]
  },
  {
   "cell_type": "code",
   "execution_count": 3,
   "id": "2699da74-2381-4308-b98e-aa3c6df9a439",
   "metadata": {},
   "outputs": [],
   "source": [
    "with open('mod1.py', 'a') as f:\n",
    "    content =\"\\nprint(__name__)\"\n",
    "    f.write(content)"
   ]
  },
  {
   "cell_type": "markdown",
   "id": "0e37c3a7-9f5f-4775-a2c6-da0eac4bf4f5",
   "metadata": {},
   "source": [
    "## 예제 문제 "
   ]
  },
  {
   "cell_type": "markdown",
   "id": "cadef2f0-20c1-4276-92dd-269ae4d3731d",
   "metadata": {},
   "source": [
    "# 삼성전자의 현 시세 55000\n",
    "cmd에서 파일로 실행했을 때\n",
    "\n",
    "삼성전자의 시세가 나오고\n",
    "\n",
    "임포트 했을 땐\n",
    "아무것도 나오지 않게 하라."
   ]
  },
  {
   "cell_type": "code",
   "execution_count": 3,
   "id": "93584376-3726-40e9-b408-d8a5ffbcace1",
   "metadata": {},
   "outputs": [],
   "source": [
    "\n",
    "with open('sam.py','w',encoding=\"utf-8\") as f:\n",
    "    content =\"\"\"import requests as req\n",
    "def Sam(name):\n",
    "    url=\"https://finance.naver.com/sise/sise_market_sum.naver\"\n",
    "    web = req.get(url)\n",
    "    html = web.text\n",
    "    f1 =html.find(name)\n",
    "    print(name)\n",
    "    print(html[f1:f1+100][19:50].replace('<td class=\"number\">',\"\").replace('</td>',\"원\"))\n",
    "print(Sam(\"삼성전자\"))\n",
    "if __name__ == \"__main__\":\n",
    "    print(\"전 파일로 실행이 되었어요.\")\n",
    "else:\n",
    "    print(\"전 모듈로 임포트 되었어요.\")\"\"\"\n",
    "    f.write(content)"
   ]
  },
  {
   "cell_type": "code",
   "execution_count": 19,
   "id": "c23f11cf-b788-43a9-8617-ca51b66ac533",
   "metadata": {},
   "outputs": [
    {
     "name": "stdout",
     "output_type": "stream",
     "text": [
      "-financial-service\" onClick=\"clickcr(this, 'fot.service', '', '', event);\" target=\"_blank\">이용약관</a>\n",
      "\n",
      "-f\n",
      " onClick=\"clickcr(this, 'fot.se\n",
      "전 모듈로 임포트 되었어요.\n"
     ]
    },
    {
     "ename": "TypeError",
     "evalue": "'module' object is not callable",
     "output_type": "error",
     "traceback": [
      "\u001b[1;31m---------------------------------------------------------------------------\u001b[0m",
      "\u001b[1;31mTypeError\u001b[0m                                 Traceback (most recent call last)",
      "Cell \u001b[1;32mIn[19], line 2\u001b[0m\n\u001b[0;32m      1\u001b[0m \u001b[38;5;28;01mimport\u001b[39;00m\u001b[38;5;250m \u001b[39m\u001b[38;5;21;01msam\u001b[39;00m\n\u001b[1;32m----> 2\u001b[0m \u001b[38;5;28mdir\u001b[39m(\u001b[43msam\u001b[49m\u001b[43m(\u001b[49m\u001b[43m)\u001b[49m)\n",
      "\u001b[1;31mTypeError\u001b[0m: 'module' object is not callable"
     ]
    }
   ],
   "source": [
    "import sam\n",
    "dir(sam())"
   ]
  },
  {
   "cell_type": "code",
   "execution_count": 21,
   "id": "c9e593f8-7ed7-405e-a5b9-a2763f84741a",
   "metadata": {},
   "outputs": [
    {
     "name": "stdout",
     "output_type": "stream",
     "text": [
      "Microsoft Windows [Version 10.0.26100.3194]\n",
      "(c) Microsoft Corporation. All rights reserved.\n",
      "\n",
      "gy\\code>\n",
      "D:\\kgy\\code>python sam.py ?�성?�자\n",
      "\n",
      "?�성?�자\n",
      "\n",
      "�� ���Ϸ� ������ �Ǿ����.\n",
      "\n",
      "D:\\kgy\\code>"
     ]
    }
   ],
   "source": [
    "%%cmd\n",
    "\n",
    "python sam.py 삼성전자"
   ]
  },
  {
   "cell_type": "code",
   "execution_count": 18,
   "id": "c7a6fb5b-d3ba-4492-b346-0fefdae00ef8",
   "metadata": {},
   "outputs": [
    {
     "name": "stdout",
     "output_type": "stream",
     "text": [
      "-financial-service\" onClick=\"clickcr(this, 'fot.service', '', '', event);\" target=\"_blank\">이용약관</a>\n",
      "\n",
      "-f\n",
      " onClick=\"clickcr(this, 'fot.se\n",
      "전 파일로 실행이 되었어요.\n"
     ]
    }
   ],
   "source": [
    "# with open('sam.py','w',encoding=\"utf-8\") as f:\n",
    "#     content =\n",
    "import sys \n",
    "class Data:\n",
    "    import requests as req\n",
    "    def __init__(self,name):    \n",
    "        self.name=sys.argv[1]\n",
    "        self.url=\"https://finance.naver.com/sise/sise_market_sum.naver\"\n",
    "        self.web = self.req.get(self.url)\n",
    "        self.html = self.web.text\n",
    "        self.f1 =self.html.find(self.name)\n",
    "    def Sam(self):\n",
    "        print(self.html[self.f1:self.f1+100])\n",
    "        return f'{self.name}\\n{self.html[self.f1:self.f1+100][19:50].replace('d class=\"number\">',\"\").replace('<td class=\"number\">',\"\").replace('</td>',\"원\")}'\n",
    "dd = Data(sys.argv[1])\n",
    "print(dd.Sam())\n",
    "if __name__ == \"__main__\":\n",
    "    print(\"전 파일로 실행이 되었어요.\")\n",
    "else:\n",
    "    print(\"전 모듈로 임포트 되었어요.\")\n",
    "    # f.write(content)"
   ]
  },
  {
   "cell_type": "markdown",
   "id": "56b0f3e1-f000-415e-83c1-4bbed24d2f37",
   "metadata": {},
   "source": [
    "## 클래스나 변수등을 포함한 모듈"
   ]
  },
  {
   "cell_type": "code",
   "execution_count": 119,
   "id": "06df1932-73f0-41ee-aa89-a034ee40204d",
   "metadata": {},
   "outputs": [],
   "source": [
    "with open(\"mod3.py\", \"w\") as f:\n",
    "    text = \"\"\"PI =3.141592\\n\\nclass Math:\\n\\tdef solv(self,r):\\n\\t\\treturn PI * (r**2)\\n\\ndef add(a,b):\\n\\treturn a + b\"\"\"\n",
    "    f.write(text)"
   ]
  },
  {
   "cell_type": "code",
   "execution_count": 120,
   "id": "b5560389-f345-4c85-b090-9492c48ab831",
   "metadata": {},
   "outputs": [
    {
     "name": "stdout",
     "output_type": "stream",
     "text": [
      "3.141592\n",
      "8\n",
      "78.5398\n",
      "78.5398\n"
     ]
    },
    {
     "data": {
      "text/plain": [
       "['Math',\n",
       " 'PI',\n",
       " '__builtins__',\n",
       " '__cached__',\n",
       " '__doc__',\n",
       " '__file__',\n",
       " '__loader__',\n",
       " '__name__',\n",
       " '__package__',\n",
       " '__spec__',\n",
       " 'add']"
      ]
     },
     "execution_count": 120,
     "metadata": {},
     "output_type": "execute_result"
    }
   ],
   "source": [
    "import mod3\n",
    "# 변수\n",
    "print(mod3.PI)\n",
    "a= mod3.Math()\n",
    "#함수\n",
    "print(mod3.add(3,5))\n",
    "#클래스\n",
    "print(mod3.Math().solv(5))\n",
    "print(a.solv(5))\n",
    "dir(mod3)"
   ]
  },
  {
   "cell_type": "markdown",
   "id": "627bf05a-3ad6-49ea-bbe4-7141e0d80939",
   "metadata": {},
   "source": [
    "## 다른 디렉터리에 있는 모듈 불러오는 방법"
   ]
  },
  {
   "cell_type": "code",
   "execution_count": 2,
   "id": "a6d9547f-7f19-4d22-a0c7-dfaee46987d0",
   "metadata": {},
   "outputs": [
    {
     "data": {
      "text/plain": [
       "['C:\\\\Users\\\\Admin\\\\AppData\\\\Local\\\\Programs\\\\Python\\\\Python313\\\\python313.zip',\n",
       " 'C:\\\\Users\\\\Admin\\\\AppData\\\\Local\\\\Programs\\\\Python\\\\Python313\\\\DLLs',\n",
       " 'C:\\\\Users\\\\Admin\\\\AppData\\\\Local\\\\Programs\\\\Python\\\\Python313\\\\Lib',\n",
       " 'C:\\\\Users\\\\Admin\\\\AppData\\\\Local\\\\Programs\\\\Python\\\\Python313',\n",
       " '',\n",
       " 'C:\\\\Users\\\\Admin\\\\AppData\\\\Local\\\\Programs\\\\Python\\\\Python313\\\\Lib\\\\site-packages',\n",
       " 'C:\\\\Users\\\\Admin\\\\AppData\\\\Local\\\\Programs\\\\Python\\\\Python313\\\\Lib\\\\site-packages\\\\win32',\n",
       " 'C:\\\\Users\\\\Admin\\\\AppData\\\\Local\\\\Programs\\\\Python\\\\Python313\\\\Lib\\\\site-packages\\\\win32\\\\lib',\n",
       " 'C:\\\\Users\\\\Admin\\\\AppData\\\\Local\\\\Programs\\\\Python\\\\Python313\\\\Lib\\\\site-packages\\\\Pythonwin']"
      ]
     },
     "execution_count": 2,
     "metadata": {},
     "output_type": "execute_result"
    }
   ],
   "source": [
    "import sys \n",
    "sys.path"
   ]
  },
  {
   "cell_type": "code",
   "execution_count": 8,
   "id": "f4701d66-818d-45ce-bd48-6aee03b8d9e6",
   "metadata": {},
   "outputs": [],
   "source": [
    "sys.path.append('D:\\\\kgy\\\\code\\\\mymod') # 초기화 하면 사라짐 (1회용)"
   ]
  },
  {
   "cell_type": "code",
   "execution_count": 1,
   "id": "53e7d702-5081-414e-9b59-64dc58bc0ea7",
   "metadata": {},
   "outputs": [
    {
     "ename": "NameError",
     "evalue": "name 'sys' is not defined",
     "output_type": "error",
     "traceback": [
      "\u001b[1;31m---------------------------------------------------------------------------\u001b[0m",
      "\u001b[1;31mNameError\u001b[0m                                 Traceback (most recent call last)",
      "Cell \u001b[1;32mIn[1], line 1\u001b[0m\n\u001b[1;32m----> 1\u001b[0m \u001b[43msys\u001b[49m\u001b[38;5;241m.\u001b[39mpath\n",
      "\u001b[1;31mNameError\u001b[0m: name 'sys' is not defined"
     ]
    }
   ],
   "source": [
    "sys.path"
   ]
  },
  {
   "cell_type": "markdown",
   "id": "b3279060-e45b-45bf-a422-daeafcacc164",
   "metadata": {
    "jp-MarkdownHeadingCollapsed": true
   },
   "source": [
    "- $env:PYTHONPATH=D:\\kgy\\code\\mymod\n",
    "- PS PYTHONPATH = D:\\kgy\\code\\mymod"
   ]
  },
  {
   "cell_type": "code",
   "execution_count": 4,
   "id": "d327abba-84fe-44f1-a706-88a49291337e",
   "metadata": {
    "scrolled": true
   },
   "outputs": [],
   "source": [
    "# !pip install python-dotenv"
   ]
  },
  {
   "cell_type": "code",
   "execution_count": 26,
   "id": "ed966d85-eb36-46bb-ac86-b81dc7969d82",
   "metadata": {},
   "outputs": [
    {
     "name": "stdout",
     "output_type": "stream",
     "text": [
      "010-9999-9999\n",
      "https://www.google.com/\n",
      "이게될까?\n"
     ]
    }
   ],
   "source": [
    "from dotenv import load_dotenv\n",
    "import os\n",
    "\n",
    " # .env #  파일 로드\n",
    "load_dotenv()\n",
    "\n",
    "SKY= os.getenv(\"SECRET.KEY\")\n",
    "print(SKY)\n",
    "DBUG= os.getenv(\"DEBUG\")\n",
    "print(DBUG)\n",
    "Test = os.getenv(\"Test\")\n",
    "print(Test)"
   ]
  },
  {
   "cell_type": "code",
   "execution_count": 10,
   "id": "134c6307-55e6-410c-82a7-3584ba91a4b4",
   "metadata": {},
   "outputs": [
    {
     "name": "stdout",
     "output_type": "stream",
     "text": [
      "{\n",
      "\t\"lastBuildDate\":\"Fri, 14 Feb 2025 17:25:35 +0900\",\n",
      "\t\"total\":9353179,\n",
      "\t\"start\":1,\n",
      "\t\"display\":5,\n",
      "\t\"items\":[\n",
      "\t\t{\n",
      "\t\t\t\"title\":\"뮤지컬 틱틱붐(25.1.25)\",\n",
      "\t\t\t\"link\":\"https:\\/\\/blog.naver.com\\/peach030888\\/223728777034\",\n",
      "\t\t\t\"description\":\"존에게 현실적인 조언을 해주며 존에게 <b>취업<\\/b>자리도 소개해 준다. 마이클이 승승장구할 것 같았지만 결국 그에게도 아픔은 있었다. 마이클도 여러 배역을 하셨는데 각각 역할이 너무 재미있었다. 특히 아버님?... \",\n",
      "\t\t\t\"bloggername\":\"인생은 도전!\",\n",
      "\t\t\t\"bloggerlink\":\"blog.naver.com\\/peach030888\",\n",
      "\t\t\t\"postdate\":\"20250214\"\n",
      "\t\t},\n",
      "\t\t{\n",
      "\t\t\t\"title\":\"인천아청물제작 실제 대안은\",\n",
      "\t\t\t\"link\":\"https:\\/\\/blog.naver.com\\/dhmmbwmii\\/223760734695\",\n",
      "\t\t\t\"description\":\"책임허용 결정이 내려질 상황, 감금, 신상자 료들 기입, <b>취업<\\/b> 제한하다, 기계 장치 붙이다 등의 벌이 이루어질 수 있지만, 고의적 행동로 인한 피해자군임을 증명하 기 목표 조사관과 변호인의 협조이 중대하다고... \",\n",
      "\t\t\t\"bloggername\":\"22년 퇴임 판사 23년 퇴임 검사 판심 법무법인\",\n",
      "\t\t\t\"bloggerlink\":\"blog.naver.com\\/dhmmbwmii\",\n",
      "\t\t\t\"postdate\":\"20250214\"\n",
      "\t\t},\n",
      "\t\t{\n",
      "\t\t\t\"title\":\"일본도쿄방구하기★도쿄도 네리마구 후쿠토신선... \",\n",
      "\t\t\t\"link\":\"https:\\/\\/blog.naver.com\\/japanreal\\/223760734815\",\n",
      "\t\t\t\"description\":\"비자 종류: 관광, 유학, 워킹, <b>취업<\\/b>, 투자 경영 등 4. 희망 입주 시기: 5. 희망 월세 및 조건... 동경<b>취업<\\/b>비자기숙사 #동경<b>취업<\\/b>비자사무실 #동경<b>취업<\\/b>비자오피스 #동경<b>취업<\\/b>비자아파트 #동경<b>취업<\\/b>비자공유오피스... \",\n",
      "\t\t\t\"bloggername\":\"JRE부동산\",\n",
      "\t\t\t\"bloggerlink\":\"blog.naver.com\\/japanreal\",\n",
      "\t\t\t\"postdate\":\"20250214\"\n",
      "\t\t},\n",
      "\t\t{\n",
      "\t\t\t\"title\":\"[부동산\\/사기\\/명의도용\\/블랙]부동산 사기 방법\",\n",
      "\t\t\t\"link\":\"https:\\/\\/blog.naver.com\\/asukak\\/223760734198\",\n",
      "\t\t\t\"description\":\"\",\n",
      "\t\t\t\"bloggername\":\"宇宙犬作戰-Deus Lo Vult-动态网自由门\",\n",
      "\t\t\t\"bloggerlink\":\"blog.naver.com\\/asukak\",\n",
      "\t\t\t\"postdate\":\"20250214\"\n",
      "\t\t},\n",
      "\t\t{\n",
      "\t\t\t\"title\":\"탄핵안 의결받은 공무원의 탄핵심판 변론은 7회로 제한, 탄핵안... \",\n",
      "\t\t\t\"link\":\"https:\\/\\/blog.naver.com\\/msk7613\\/223760734260\",\n",
      "\t\t\t\"description\":\"정부·국회 등을 회덕(懷德)특별시(현도,문의,형강,우술,회덕,비풍,유성,연기 등)에 두는 입헌군주제(立憲君主制) 헌법(憲法) 개정해야 http:\\/\\/blog.naver.com\\/msk7613 1897년 10월 12일 천자국(天子國) 대한국(大韓國1897 - )... \",\n",
      "\t\t\t\"bloggername\":\"김민수의 대한국 황실 조선국 왕실 역사 고궁 박물관\",\n",
      "\t\t\t\"bloggerlink\":\"blog.naver.com\\/msk7613\",\n",
      "\t\t\t\"postdate\":\"20250214\"\n",
      "\t\t}\n",
      "\t]\n",
      "}\n"
     ]
    }
   ],
   "source": [
    "# 네이버 검색 API 예제 - 블로그 검색\n",
    "import os\n",
    "import sys\n",
    "import urllib.request\n",
    "from dotenv import load_dotenv\n",
    "\n",
    "load_dotenv()\n",
    "client_id = os.environ.get(\"MY_ID\")\n",
    "client_secret = os.environ.get(\"MY_SECRET\")\n",
    "encText = urllib.parse.quote(\"취업\")\n",
    "url = \"https://openapi.naver.com/v1/search/blog?query=\" + encText + '&display=5&start=1&sort=date'   # JSON 결과\n",
    "# url = \"https://openapi.naver.com/v1/search/blog.xml?query=\" + encText # XML 결과\n",
    "request = urllib.request.Request(url)\n",
    "request.add_header(\"X-Naver-Client-Id\",client_id)\n",
    "request.add_header(\"X-Naver-Client-Secret\",client_secret)\n",
    "response = urllib.request.urlopen(request)\n",
    "rescode = response.getcode()\n",
    "if(rescode==200):\n",
    "    response_body = response.read()\n",
    "    print(response_body.decode('utf-8'))\n",
    "else:\n",
    "    print(\"Error Code:\" + rescode)"
   ]
  },
  {
   "cell_type": "code",
   "execution_count": 11,
   "id": "1c1b7129-db0b-4d44-b98b-7e771169b72e",
   "metadata": {},
   "outputs": [
    {
     "name": "stdout",
     "output_type": "stream",
     "text": [
      "{'title': '정부 “내수 회복 지연” 공식 언급…2개월째 “경기 하방 압력”', 'originallink': 'https://www.joongang.co.kr/article/25314066', 'link': 'https://n.news.naver.com/mnews/article/025/0003420856?sid=101', 'description': '이날 기재부가 공개한 민간소비 관련 <b>속보</b> 지표를 보면 지난달 카드 국내 승인액은 전년 동월 대비 1.7% 늘어나는 데 그쳤다. 지난해 12월(5.4%)보다 둔화한 수치다. 소비자심리지수는 지난달 91.2로, 기준치 100을 한참 밑돌며... ', 'pubDate': 'Fri, 14 Feb 2025 17:24:00 +0900'}\n",
      "정부 “내수 회복 지연” 공식 언급…2개월째 “경기 하방 압력”\n",
      "이날 기재부가 공개한 민간소비 관련 <b>속보</b> 지표를 보면 지난달 카드 국내 승인액은 전년 동월 대비 1.7% 늘어나는 데 그쳤다. 지난해 12월(5.4%)보다 둔화한 수치다. 소비자심리지수는 지난달 91.2로, 기준치 100을 한참 밑돌며... \n",
      "https://www.joongang.co.kr/article/25314066\n",
      "{'title': '[<b>속보</b>] 현직 부장검사 &quot;부정선거는 믿음의 대상 아닌 검증 대상&quot;', 'originallink': 'https://www.newscj.com/news/articleView.html?idxno=3234144', 'link': 'https://www.newscj.com/news/articleView.html?idxno=3234144', 'description': \"현직 부장검사가 부정선거 의혹에 대해 검증이 필요하다고 주장했다. 수원지검 장진영 부장검사는 14일 검찰 내부망 '이프로스'에 게시글을 통해 지난 11일 백종욱 전 국정원 3차장이 헌법재판소에서 증언했던 내용을... \", 'pubDate': 'Fri, 14 Feb 2025 17:18:00 +0900'}\n",
      "[속보] 현직 부장검사 &quot;부정선거는 믿음의 대상 아닌 검증 대상&quot;\n",
      "현직 부장검사가 부정선거 의혹에 대해 검증이 필요하다고 주장했다. 수원지검 장진영 부장검사는 14일 검찰 내부망 '이프로스'에 게시글을 통해 지난 11일 백종욱 전 국정원 3차장이 헌법재판소에서 증언했던 내용을... \n",
      "https://www.newscj.com/news/articleView.html?idxno=3234144\n",
      "{'title': '[<b>속보</b>]곽종근 전 사령관 &quot;민주당에 이용당한 적 없어..사실 정확히 밝힌...', 'originallink': 'https://www.ikbc.co.kr/article/view/kbc202502140053', 'link': 'https://n.news.naver.com/mnews/article/660/0000079418?sid=100', 'description': '12·3 비상계엄 사태 당시 병력을 출동시킨 곽종근 육군 특수전사령부 전 사령관은 야당에 이용당했다는 국민의힘 측 주장에 대해 일축했습니다. 곽 전 사령관은 14일 변호인을 통해 공개한 자필 옥중 입장문에서 &quot;저는... ', 'pubDate': 'Fri, 14 Feb 2025 17:09:00 +0900'}\n",
      "[속보]곽종근 전 사령관 &quot;민주당에 이용당한 적 없어..사실 정확히 밝힌...\n",
      "12·3 비상계엄 사태 당시 병력을 출동시킨 곽종근 육군 특수전사령부 전 사령관은 야당에 이용당했다는 국민의힘 측 주장에 대해 일축했습니다. 곽 전 사령관은 14일 변호인을 통해 공개한 자필 옥중 입장문에서 &quot;저는... \n",
      "https://www.ikbc.co.kr/article/view/kbc202502140053\n",
      "{'title': '노동부, 부산 호텔 공사장 화재 사고수습 중수본 구성', 'originallink': 'https://www.khan.co.kr/article/202502141702001', 'link': 'https://n.news.naver.com/mnews/article/032/0003351086?sid=102', 'description': '[<b>속보</b>] 부산 반얀트리 신축공사장 화재…6명 사망, 25명 부상 14일 오전 부산 기장군 리조트 신축공사장에서 화재가 발생해 6명이 사망하고 25명이 다쳤다. 소방당국에 따르면 이날 오전 10시51분 해당 공사장에... ', 'pubDate': 'Fri, 14 Feb 2025 17:03:00 +0900'}\n",
      "노동부, 부산 호텔 공사장 화재 사고수습 중수본 구성\n",
      "[<b>속보</b>] 부산 반얀트리 신축공사장 화재…6명 사망, 25명 부상 14일 오전 부산 기장군 리조트 신축공사장에서 화재가 발생해 6명이 사망하고 25명이 다쳤다. 소방당국에 따르면 이날 오전 10시51분 해당 공사장에... \n",
      "https://www.khan.co.kr/article/202502141702001\n",
      "{'title': \"장예찬 &quot;한동훈 2월말 등판? 보수의 '몰매' 맞을 것..역린 건드려&quot;\", 'originallink': 'https://radio.ytn.co.kr/program/?f=2&id=100806&s_mcd=0452&s_hcd=01', 'link': 'https://radio.ytn.co.kr/program/?f=2&id=100806&s_mcd=0452&s_hcd=01', 'description': '◆ 최수영 : <b>속보</b> 하나 전해드리겠습니다. 헌재에서 추가 증인으로 한덕수, 홍장원, 조지호 전 경찰청장 이 세 사람을 증인으로 채택했다는 <b>속보</b>가 나왔습니다. 또 20일 오후 2시에 10차 변론 기일이 잡혔습니다. 다음 주는... ', 'pubDate': 'Fri, 14 Feb 2025 17:00:00 +0900'}\n",
      "장예찬 &quot;한동훈 2월말 등판? 보수의 '몰매' 맞을 것..역린 건드려&quot;\n",
      "◆ 최수영 : <b>속보</b> 하나 전해드리겠습니다. 헌재에서 추가 증인으로 한덕수, 홍장원, 조지호 전 경찰청장 이 세 사람을 증인으로 채택했다는 <b>속보</b>가 나왔습니다. 또 20일 오후 2시에 10차 변론 기일이 잡혔습니다. 다음 주는... \n",
      "https://radio.ytn.co.kr/program/?f=2&id=100806&s_mcd=0452&s_hcd=01\n"
     ]
    }
   ],
   "source": [
    "# 네이버 검색 API 예제 - 블로그 검색\n",
    "import os\n",
    "import sys\n",
    "import urllib.request\n",
    "from dotenv import load_dotenv\n",
    "import json\n",
    "\n",
    "load_dotenv()\n",
    "client_id = os.environ.get(\"MY_ID\")\n",
    "client_secret = os.environ.get(\"MY_SECRET\")\n",
    "encText = urllib.parse.quote(\"속보\")\n",
    "url = \"https://openapi.naver.com/v1/search/news?query=\" + encText + '&display=5&start=1&sort=date'   # JSON 결과\n",
    "# url = \"https://openapi.naver.com/v1/search/blog.xml?query=\" + encText # XML 결과\n",
    "request = urllib.request.Request(url)\n",
    "request.add_header(\"X-Naver-Client-Id\",client_id)\n",
    "request.add_header(\"X-Naver-Client-Secret\",client_secret)\n",
    "response = urllib.request.urlopen(request)\n",
    "rescode = response.getcode()\n",
    "if(rescode==200):\n",
    "    response_body = response.read()\n",
    "    result = response_body.decode(\"utf-8\")\n",
    "    data = json.loads(result)\n",
    "    ldata=data['items']\n",
    "    for n in ldata:\n",
    "        print(n)\n",
    "        print(n['title'].replace('<b>','').replace('</b>',''))\n",
    "        print(n['description'])\n",
    "        print(n['originallink'])\n",
    "    \n",
    "else:\n",
    "    print(\"Error Code:\" + rescode)"
   ]
  },
  {
   "cell_type": "markdown",
   "id": "e09cac2d-1098-4762-b4e5-e414c3e1aa04",
   "metadata": {},
   "source": [
    "## git 예제 문제 테스트"
   ]
  },
  {
   "cell_type": "code",
   "execution_count": 26,
   "id": "3e62060a-e739-4031-ac0b-1345c96a5dfa",
   "metadata": {},
   "outputs": [
    {
     "name": "stdout",
     "output_type": "stream",
     "text": [
      "['우영우']는 거꾸로 해도 같은 단어 입니다.\n",
      "['우영우', '기러기']는 거꾸로 해도 같은 단어 입니다.\n",
      "['우영우', '기러기']\n"
     ]
    }
   ],
   "source": [
    "# a = input(\"단어를 입력하세요\")\n",
    "import sys\n",
    "# with open(\"woo.py\", \"w\") as f:\n",
    "# a= sys.argv[1:]\n",
    "a= [\"우영우\",\"기러기\",\"파이썬\"]\n",
    "result =[]\n",
    "for n in a : \n",
    "    if n[0]==n[-1]:\n",
    "        result.append(n)\n",
    "        print(f'{result}는 거꾸로 해도 같은 단어 입니다.')\n",
    "# print(a[-1]) test\n",
    "print(result)"
   ]
  },
  {
   "cell_type": "code",
   "execution_count": 118,
   "id": "966adb89-2d16-4b67-b6cb-0ffae5367d00",
   "metadata": {},
   "outputs": [
    {
     "name": "stdout",
     "output_type": "stream",
     "text": [
      "[]\n",
      "우영우는 거꾸로 해도 같은 단어 입니다.\n",
      "기러기는 거꾸로 해도 같은 단어 입니다.\n",
      "['우영우', '기러기']\n"
     ]
    }
   ],
   "source": [
    "import sys\n",
    "# a= sys.argv[1:]\n",
    "a= [\"우영우\",\"기러기\",\"파이썬\"]\n",
    "result =[]\n",
    "class Woo:\n",
    "    def __init__(self,word):\n",
    "        self.result=[]\n",
    "        self.word=word\n",
    "    def check(self):\n",
    "        for n in self.word : \n",
    "            if n[0]==n[-1]:\n",
    "                self.result.append(n)\n",
    "                print(f'{n}는 거꾸로 해도 같은 단어 입니다.')\n",
    "        return self.result\n",
    "print(result)\n",
    "b= Woo(a)\n",
    "print(b.check())"
   ]
  },
  {
   "cell_type": "code",
   "execution_count": 43,
   "id": "7d9d94ac-6dfa-4f5b-95b8-c44b4bff1afa",
   "metadata": {},
   "outputs": [],
   "source": [
    "with open(\"woo.py\", \"w\",encoding=\"UTF-8\") as f:\n",
    "    content =\"\"\"import sys\n",
    "a= sys.argv[1:]\n",
    "result =[]\n",
    "class Woo:\n",
    "    def __init__(self,word):\n",
    "        self.result=[]\n",
    "        self.word=word\n",
    "    def check(self):\n",
    "        for n in self.word : \n",
    "            if n[0]==n[-1]:\n",
    "                self.result.append(n)\n",
    "                print(f'{n}는 거꾸로 해도 같은 단어 입니다.')\n",
    "        return self.result\n",
    "b= Woo(a)\n",
    "print(b.check())\"\"\"\n",
    "    f.write(content)"
   ]
  },
  {
   "cell_type": "code",
   "execution_count": 48,
   "id": "3daadcb6-431b-4f1c-89e3-8c1d3543e90a",
   "metadata": {
    "scrolled": true
   },
   "outputs": [
    {
     "name": "stdout",
     "output_type": "stream",
     "text": [
      "홀수: [2, 4, 6, 8, 10]\n",
      "짝수: [1, 3, 5, 7, 9]\n"
     ]
    }
   ],
   "source": [
    "ls = [1,2,3,4,5,6,7,8,9,10]\n",
    "odd=[]\n",
    "even=[]\n",
    "for n in ls:\n",
    "    if n%2==0 :\n",
    "        odd.append(n)\n",
    "    else:\n",
    "        even.append(n)\n",
    "        \n",
    "print(f'홀수: {odd}')\n",
    "print(f'짝수: {even}')      "
   ]
  },
  {
   "cell_type": "code",
   "execution_count": 55,
   "id": "144c7a10-330f-41e8-8ce9-46d04ca72230",
   "metadata": {},
   "outputs": [
    {
     "name": "stdout",
     "output_type": "stream",
     "text": [
      "홀수: [2, 4, 6, 8, 10]\n",
      "짝수: [1, 3, 5, 7, 9]\n",
      "홀수: [2, 4, 6, 8, 10]\n",
      "짝수: [1, 3, 5, 7, 9]\n"
     ]
    }
   ],
   "source": [
    "ls = [1,2,3,4,5,6,7,8,9,10]\n",
    "def sep(aa):\n",
    "    aa= ls\n",
    "    odd=[]\n",
    "    even=[]\n",
    "    for n in aa:\n",
    "        if n%2==0 :\n",
    "            odd.append(n)\n",
    "        else:\n",
    "            even.append(n)\n",
    "    return f'홀수: {odd}\\n짝수: {even}'\n",
    "print(f'홀수: {odd}')\n",
    "print(f'짝수: {even}')\n",
    "a = sep(ls)\n",
    "print(a)"
   ]
  },
  {
   "cell_type": "code",
   "execution_count": 117,
   "id": "c844183a-ecbb-4297-abde-5dc42e61a88e",
   "metadata": {},
   "outputs": [
    {
     "name": "stdout",
     "output_type": "stream",
     "text": [
      "['life', 'is', 'good', 'python', 'is', 'beautiful']\n",
      "4\n",
      "4\n",
      "2\n",
      "2\n",
      "4\n",
      "6\n",
      "['beautiful', 'good', 'is', 'is', 'life', 'python']\n",
      "python\n"
     ]
    }
   ],
   "source": [
    "# sentence = input(\"문장을 입력해 주십시오\")\n",
    "sentence = \"life is good python is beautiful\"\n",
    "a=sentence.split(\" \")\n",
    "b=[]\n",
    "print(a)\n",
    "for n in a:\n",
    "    print(len(n))\n",
    "    a.sort()\n",
    "    b.append(len(n))\n",
    "    nummax=max(a)\n",
    "print(a)\n",
    "print(nummax)\n",
    "\n"
   ]
  },
  {
   "cell_type": "code",
   "execution_count": 122,
   "id": "27a6abd3-9f34-4cf7-90c6-74548d82e784",
   "metadata": {},
   "outputs": [
    {
     "name": "stdout",
     "output_type": "stream",
     "text": [
      "['life', 'is', 'good', 'python', 'is', 'beautiful']\n",
      "4 <class 'int'>\n",
      "[4]\n",
      "2 <class 'int'>\n",
      "[4, 2]\n",
      "4 <class 'int'>\n",
      "[4, 2, 4]\n",
      "6 <class 'int'>\n",
      "[4, 2, 4, 6]\n",
      "2 <class 'int'>\n",
      "[4, 2, 4, 6, 2]\n",
      "9 <class 'int'>\n",
      "[4, 2, 4, 6, 2, 9]\n",
      "['life', 'good', 'python', 'beautiful']\n"
     ]
    }
   ],
   "source": [
    "# sentence = \"life is good\"\n",
    "a=sentence.split(\" \")\n",
    "b=[]\n",
    "c=[]\n",
    "print(a)\n",
    "lenmax=\"\"\n",
    "for n in a:\n",
    "    print(len(n),type(len(n)))\n",
    "    b.append(len(n))\n",
    "    nummax=max(b)\n",
    "    print(b)\n",
    "    if nummax==len(n):\n",
    "        c.append(n)\n",
    "print(c)"
   ]
  },
  {
   "cell_type": "code",
   "execution_count": 123,
   "id": "d066377f-7693-4ab5-91bb-a65f05fdac85",
   "metadata": {},
   "outputs": [
    {
     "name": "stdout",
     "output_type": "stream",
     "text": [
      "Collecting qrcode\n",
      "  Downloading qrcode-8.0-py3-none-any.whl.metadata (17 kB)\n",
      "Requirement already satisfied: colorama in c:\\users\\admin\\appdata\\local\\programs\\python\\python313\\lib\\site-packages (from qrcode) (0.4.6)\n",
      "Downloading qrcode-8.0-py3-none-any.whl (45 kB)\n",
      "Installing collected packages: qrcode\n",
      "Successfully installed qrcode-8.0\n"
     ]
    },
    {
     "name": "stderr",
     "output_type": "stream",
     "text": [
      "\n",
      "[notice] A new release of pip is available: 25.0 -> 25.0.1\n",
      "[notice] To update, run: python.exe -m pip install --upgrade pip\n"
     ]
    }
   ],
   "source": [
    "!pip install qrcode"
   ]
  },
  {
   "cell_type": "code",
   "execution_count": 116,
   "id": "34292abf-1719-4097-9347-230d9650e67d",
   "metadata": {},
   "outputs": [
    {
     "name": "stdin",
     "output_type": "stream",
     "text": [
      "문장을 입력해 주십시오 1 10 200 3000\n"
     ]
    },
    {
     "name": "stdout",
     "output_type": "stream",
     "text": [
      "['1', '10', '200', '3000']\n",
      "4\n",
      "4\n",
      "4\n",
      "4\n",
      "['3000']\n"
     ]
    }
   ],
   "source": [
    "sentence = input(\"문장을 입력해 주십시오\")\n",
    "a=sentence.split(\" \")\n",
    "b=[]\n",
    "c=[]\n",
    "print(a)\n",
    "for m in a:\n",
    "    b.append(len(m))\n",
    "nummax=max(b)\n",
    "for n in a:\n",
    "    print(nummax)\n",
    "    if nummax==len(n):\n",
    "        c.append(n)\n",
    "        \n",
    "print(c)\n"
   ]
  },
  {
   "cell_type": "code",
   "execution_count": 190,
   "id": "c639d6eb-fff5-4464-bdbc-1381287d720c",
   "metadata": {},
   "outputs": [
    {
     "name": "stdin",
     "output_type": "stream",
     "text": [
      "하고 싶은 말을 적으세요 기분이 나빠\n"
     ]
    },
    {
     "name": "stdout",
     "output_type": "stream",
     "text": [
      "기분이\n",
      "나빠\n",
      "['기분이', '나빠']\n",
      "기분이 나빠보이네요\n"
     ]
    }
   ],
   "source": [
    "positive_words = [\"좋아\", \"행복\", \"멋져\", \"최고\", \"사랑해\"]\n",
    "negative_words = [\"싫어\", \"화나\", \"짜증\", \"별로\", \"나빠\"]\n",
    "\n",
    "aa=input(\"하고 싶은 말을 적으세요\")\n",
    "# aa=\"기분이 짜증나\"\n",
    "b=aa.split(\" \")\n",
    "cc=0\n",
    "\n",
    "for n in b:\n",
    "    print(n)\n",
    "    for m in positive_words:\n",
    "        mm=len(m)\n",
    "        # print(n[:mm])\n",
    "        # print(m)\n",
    "        if n[0:mm]==m:\n",
    "            cc=1\n",
    "\n",
    "        \n",
    "    for i in negative_words:\n",
    "        ii=len(i)\n",
    "        if n[:ii]==i:\n",
    "            cc=2\n",
    "\n",
    "print(b)\n",
    "if cc==0:\n",
    "    print(\"평범한 하루네요\")\n",
    "elif cc==1:\n",
    "    print(\"기분이 좋아보이네요\")\n",
    "elif cc==2:\n",
    "    print(\"기분이 나빠보이네요\")"
   ]
  },
  {
   "cell_type": "code",
   "execution_count": 9,
   "id": "b77ec1a8-0f9d-4bc3-b29c-b85828b5b986",
   "metadata": {},
   "outputs": [
    {
     "name": "stdout",
     "output_type": "stream",
     "text": [
      "['today', 'is', 'a', 'really', 'happy', 'day']\n",
      "97 <class 'int'>\n",
      "122\n",
      "\n",
      "97\n",
      "today\n",
      "첫번째 자리 asc값 116\n",
      "t\n",
      "97\n",
      "is\n",
      "첫번째 자리 asc값 105\n",
      "i\n",
      "97\n",
      "a\n",
      "첫번째 자리 asc값 97\n",
      "a\n",
      "97\n",
      "really\n",
      "첫번째 자리 asc값 114\n",
      "r\n",
      "97\n",
      "happy\n",
      "첫번째 자리 asc값 104\n",
      "h\n",
      "97\n",
      "day\n",
      "첫번째 자리 asc값 100\n",
      "d\n",
      "Today Is A Really Happy Day\n"
     ]
    }
   ],
   "source": [
    "#p5)\n",
    "# 영어 소문자로 문장을 입력받으면 매 첫글자만 대문자로 변경되게 하라. 문장의 마지막은 마침표를 찍어라\n",
    "# ex) apples are deliciout -> Apples Are Delicious.  \n",
    "# ex) today is a really happy day -> Today Is A Really Happy Day\n",
    "aa=\"today is a really happy day\"\n",
    "bb=aa.split(\" \")\n",
    "cc=[]\n",
    "a=ord('a')\n",
    "z=ord('z')\n",
    "print(bb)\n",
    "print(a,type(a))\n",
    "print(z)\n",
    "print(\"\")\n",
    "for n in bb:\n",
    "    print(a)\n",
    "    print(n)\n",
    "    c=ord(n[0])\n",
    "    print(f'첫번째 자리 asc값 {c}')\n",
    "    \n",
    "    if a<=c and c<=z :\n",
    "        print(n[0])\n",
    "        nn=n[0].upper()+n[1:]\n",
    "        cc.append(nn)\n",
    "print(\" \".join(cc))"
   ]
  },
  {
   "cell_type": "code",
   "execution_count": 4,
   "id": "c2fbec3a-5bff-4921-87bd-fd473e81d543",
   "metadata": {},
   "outputs": [
    {
     "name": "stdin",
     "output_type": "stream",
     "text": [
      "원하시는 문장을 입력하세요 asdfasfd aa\n"
     ]
    },
    {
     "name": "stdout",
     "output_type": "stream",
     "text": [
      "Asdfasfd Aa\n"
     ]
    }
   ],
   "source": [
    "#p5)\n",
    "# 영어 소문자로 문장을 입력받으면 매 첫글자만 대문자로 변경되게 하라. 문장의 마지막은 마침표를 찍어라\n",
    "# ex) apples are deliciout -> Apples Are Delicious.  \n",
    "# ex) today is a really happy day -> Today Is A Really Happy Day\n",
    "aa= input(\"원하시는 문장을 입력하세요\")\n",
    "bb=aa.split(\" \")\n",
    "cc=[]\n",
    "a=ord('a')\n",
    "z=ord('z')\n",
    "for n in bb:\n",
    "    c=ord(n[0])\n",
    "    if a<=c and c<=z :\n",
    "        nn=n[0].upper()+n[1:]\n",
    "        cc.append(nn)\n",
    "print(\" \".join(cc))"
   ]
  },
  {
   "cell_type": "code",
   "execution_count": 3,
   "id": "15a7aea0-9dd5-49fc-a09f-e3d867536274",
   "metadata": {},
   "outputs": [
    {
     "name": "stdin",
     "output_type": "stream",
     "text": [
      "문장을 소문자로 입력하시오:  sadfdsafasf aa\n"
     ]
    },
    {
     "name": "stdout",
     "output_type": "stream",
     "text": [
      "Sadfdsafasf Aa.\n"
     ]
    }
   ],
   "source": [
    "u = input('문장을 소문자로 입력하시오: ').split()\n",
    "lst = []\n",
    "for word in u:\n",
    "    lst.append(word.capitalize()) # 첫글자만 대문자\n",
    "print(\" \".join(lst) + \".\")"
   ]
  },
  {
   "cell_type": "markdown",
   "id": "f5ec06ac-7847-4525-8c64-2f5aeb37f282",
   "metadata": {},
   "source": [
    "## QR코드 생성"
   ]
  },
  {
   "cell_type": "code",
   "execution_count": 153,
   "id": "8deb4a8c-8f67-4769-a3dd-e3686f5ca861",
   "metadata": {},
   "outputs": [],
   "source": [
    "import qrcode\n",
    "def qrcode_maker(text,filename='qr.png'):\n",
    "    qr=qrcode.make(text)\n",
    "    qr.save(filename)\n",
    "\n",
    "qrcode_maker('안녕하세요. 김기윤입니다!!^^')\n",
    "qrcode_maker('https://github.com/gi-yun/python_giyun',\"git.png\")\n",
    "qrcode_maker('https://naver.com',\"naver.png\")"
   ]
  },
  {
   "cell_type": "code",
   "execution_count": null,
   "id": "6a7548df-38cb-4b13-9ca4-4d5d95e6d8fa",
   "metadata": {},
   "outputs": [],
   "source": []
  },
  {
   "cell_type": "code",
   "execution_count": 155,
   "id": "ed07dac1-41f0-4ea6-8ab6-6f2b6afbce9f",
   "metadata": {},
   "outputs": [
    {
     "data": {
      "text/html": [
       "<img src=\"qr.png\" width=100>"
      ],
      "text/plain": [
       "<IPython.core.display.HTML object>"
      ]
     },
     "metadata": {},
     "output_type": "display_data"
    }
   ],
   "source": [
    "from IPython.display import display , HTML\n",
    "from PIL import Image\n",
    "\n",
    "image_path=\"qr.png\"\n",
    "img=Image.open(image_path)\n",
    "htmlcode='<img src=\"qr.png\" width=100>'\n",
    "\n",
    "display(HTML(htmlcode))\n",
    "# display(HTML(\"<h1>안녕하세요</h1>\"))\n",
    "# display(img)"
   ]
  },
  {
   "cell_type": "code",
   "execution_count": 18,
   "id": "6df60fe5-f7b1-4d6c-a015-076451b0e9ea",
   "metadata": {},
   "outputs": [
    {
     "name": "stdout",
     "output_type": "stream",
     "text": [
      "<bound method Response.json of <Response [200]>>\n"
     ]
    }
   ],
   "source": [
    "# 네이버 검색 API 예제 - 블로그 검색\n",
    "import os\n",
    "import sys\n",
    "import json\n",
    "import requests \n",
    "url = \"http://kobis.or.kr/kobisopenapi/webservice/rest/boxoffice/searchDailyBoxOfficeList.json?key=ec2c5ff8596703e031c0a1da2a7aa610&targetDt=20120101\"   # JSON 결과\n",
    "res = requests.get(url).json\n",
    "\n",
    "\n",
    "\n",
    "    \n",
    "# dir(json)\n",
    "res\n",
    "print(res)"
   ]
  },
  {
   "cell_type": "markdown",
   "id": "63b2583b-0252-4eb3-a52b-61aac9f8260d",
   "metadata": {},
   "source": [
    "# 패키지"
   ]
  },
  {
   "cell_type": "markdown",
   "id": "1f439014-77da-4ecc-af76-5dc836ceaf65",
   "metadata": {},
   "source": [
    "## 패키지 만들기"
   ]
  },
  {
   "cell_type": "code",
   "execution_count": 3,
   "id": "132d9840-f1af-447e-ba4c-7004cb618b28",
   "metadata": {},
   "outputs": [],
   "source": [
    "# %%cmd\n",
    "# set PYTHONPATH=d:\\kgy\\code\\game"
   ]
  },
  {
   "cell_type": "code",
   "execution_count": 18,
   "id": "eb4ba6a3-cc06-4fe0-a7c9-5b588c53b0c8",
   "metadata": {},
   "outputs": [
    {
     "name": "stdout",
     "output_type": "stream",
     "text": [
      "비디오에코\n",
      "랜더링\n"
     ]
    }
   ],
   "source": [
    "# 명시적이다. 그렇지만 길다.\n",
    "import game.sound.echo as sound\n",
    "import game.graphic.render as graphic\n",
    "sound.echo_test()\n",
    "graphic.render_test()"
   ]
  },
  {
   "cell_type": "code",
   "execution_count": 17,
   "id": "6cc725fa-f178-4988-ab82-a43bcef07421",
   "metadata": {},
   "outputs": [
    {
     "name": "stdout",
     "output_type": "stream",
     "text": [
      "에코\n",
      "비디오에코\n"
     ]
    }
   ],
   "source": [
    "from game import echo, echo_v\n",
    "echo.echo_test()\n",
    "echo_v.echo_test()"
   ]
  },
  {
   "cell_type": "code",
   "execution_count": 6,
   "id": "e5e73556-c4ac-49dd-bea2-d96b3814ce3b",
   "metadata": {},
   "outputs": [
    {
     "name": "stdout",
     "output_type": "stream",
     "text": [
      "비디오에코\n",
      "비디오에코\n"
     ]
    }
   ],
   "source": [
    "# 짧지만 중복의 위험이 있다. 그리고 명시적이지 않다.\n",
    "from game.echo import echo_test\n",
    "from game.echo_v import echo_test # 중복된게 있다면 제일 마지막 껄 가져온다. \n",
    "# 만약 다르게 쓰고 싶다면 as 를 넣어 사용한다.\n",
    "echo_test() # 비디오에코\n",
    "echo_test() # 비디오 에코"
   ]
  },
  {
   "cell_type": "code",
   "execution_count": 29,
   "id": "17e091eb-999d-4b6a-84f7-1cb320d817f0",
   "metadata": {},
   "outputs": [
    {
     "name": "stdout",
     "output_type": "stream",
     "text": [
      "랜더링\n"
     ]
    }
   ],
   "source": [
    "from game.graphic import render\n",
    "\n",
    "render.render_test()"
   ]
  },
  {
   "cell_type": "code",
   "execution_count": 7,
   "id": "53a47c22-b042-4fb6-85c6-e4d0e664c6a9",
   "metadata": {},
   "outputs": [
    {
     "name": "stdout",
     "output_type": "stream",
     "text": [
      "3.6\n",
      "The version of game is 3.6\n"
     ]
    }
   ],
   "source": [
    "# __init__.py를 사용하기\n",
    "import game\n",
    "print(game.VERSION)\n",
    "game.print_version_info()"
   ]
  },
  {
   "cell_type": "code",
   "execution_count": 8,
   "id": "73420ad1-6819-496f-96bb-74a2f9a319bc",
   "metadata": {},
   "outputs": [],
   "source": [
    "#__init__.py 은 한번만 로드됨\n",
    "import game"
   ]
  },
  {
   "cell_type": "code",
   "execution_count": 9,
   "id": "60adfbf1-6aef-461c-ab5a-e1762e911e07",
   "metadata": {},
   "outputs": [
    {
     "name": "stdout",
     "output_type": "stream",
     "text": [
      "랜더링\n"
     ]
    }
   ],
   "source": [
    "#__init__.py 는 패키지내에 내 모듈을 미리 import 할 수 있다.\n",
    "game.render_test()"
   ]
  },
  {
   "cell_type": "code",
   "execution_count": 2,
   "id": "86ba329a-f766-4f4a-84b0-26fd7209f524",
   "metadata": {},
   "outputs": [],
   "source": [
    "import game.graphic"
   ]
  },
  {
   "cell_type": "code",
   "execution_count": 5,
   "id": "4c4409c4-d172-49b6-becd-ac68b69e774f",
   "metadata": {},
   "outputs": [
    {
     "name": "stdout",
     "output_type": "stream",
     "text": [
      "The version of this graphic of game is 3.7\n"
     ]
    }
   ],
   "source": [
    "game.graphic.print_version_info()"
   ]
  },
  {
   "cell_type": "code",
   "execution_count": 1,
   "id": "cc859996-28f5-4e04-8277-6018286043e1",
   "metadata": {},
   "outputs": [
    {
     "name": "stdout",
     "output_type": "stream",
     "text": [
      "Initializing Game...\n"
     ]
    }
   ],
   "source": [
    "# __all__ 사용하기\n",
    "from game.graphic import *"
   ]
  },
  {
   "cell_type": "code",
   "execution_count": 2,
   "id": "edd0ec43-9851-439a-9620-bda41e8a250c",
   "metadata": {},
   "outputs": [
    {
     "name": "stdout",
     "output_type": "stream",
     "text": [
      "비디오에코\n"
     ]
    }
   ],
   "source": [
    "echo.echo_test()"
   ]
  },
  {
   "cell_type": "code",
   "execution_count": 1,
   "id": "e6bab7bb-6eeb-47a2-a663-e328f300858e",
   "metadata": {},
   "outputs": [
    {
     "name": "stdout",
     "output_type": "stream",
     "text": [
      "Initializing Game...\n"
     ]
    }
   ],
   "source": [
    "#relative  패키지\n",
    "from game.graphic.render import render_test"
   ]
  },
  {
   "cell_type": "code",
   "execution_count": 2,
   "id": "ef81e8a2-46e4-4c13-b995-098019215673",
   "metadata": {},
   "outputs": [
    {
     "name": "stdout",
     "output_type": "stream",
     "text": [
      "랜더링\n",
      "에코\n"
     ]
    }
   ],
   "source": [
    "#비디오 에코가 아닌 사운드 에코 \n",
    "render_test()"
   ]
  },
  {
   "cell_type": "markdown",
   "id": "ff8445b0-5bee-4e7e-a36a-e3b46aee9137",
   "metadata": {},
   "source": [
    "# 예외처리"
   ]
  },
  {
   "cell_type": "markdown",
   "id": "3b5b7864-acd9-48a8-8270-377577f8c9bc",
   "metadata": {},
   "source": [
    "## 오류발생\n",
    "- 오타\n",
    "- 존재하지 않는 파일을 지정 또는 사용\n",
    "- 문법 오류\n",
    "- 수학적 오류\n",
    "- 인덱스 오류\n",
    "## 오류 예외 처리 기법\n",
    "- try-except 문\n",
    "- try-finally 문\n",
    "- 여러개의 오류 처리\n",
    "- try-else 문"
   ]
  },
  {
   "cell_type": "code",
   "execution_count": 3,
   "id": "e9e284e2-512f-4aff-82b6-92f968b0ba7c",
   "metadata": {},
   "outputs": [
    {
     "ename": "FileNotFoundError",
     "evalue": "[Errno 2] No such file or directory: '뜬금파일'",
     "output_type": "error",
     "traceback": [
      "\u001b[1;31m---------------------------------------------------------------------------\u001b[0m",
      "\u001b[1;31mFileNotFoundError\u001b[0m                         Traceback (most recent call last)",
      "Cell \u001b[1;32mIn[3], line 1\u001b[0m\n\u001b[1;32m----> 1\u001b[0m f \u001b[38;5;241m=\u001b[39m \u001b[38;5;28;43mopen\u001b[39;49m\u001b[43m(\u001b[49m\u001b[38;5;124;43m'\u001b[39;49m\u001b[38;5;124;43m뜬금파일\u001b[39;49m\u001b[38;5;124;43m'\u001b[39;49m\u001b[43m,\u001b[49m\u001b[43m \u001b[49m\u001b[38;5;124;43m'\u001b[39;49m\u001b[38;5;124;43mr\u001b[39;49m\u001b[38;5;124;43m'\u001b[39;49m\u001b[43m)\u001b[49m\n",
      "File \u001b[1;32m~\\AppData\\Local\\Programs\\Python\\Python313\\Lib\\site-packages\\IPython\\core\\interactiveshell.py:324\u001b[0m, in \u001b[0;36m_modified_open\u001b[1;34m(file, *args, **kwargs)\u001b[0m\n\u001b[0;32m    317\u001b[0m \u001b[38;5;28;01mif\u001b[39;00m file \u001b[38;5;129;01min\u001b[39;00m {\u001b[38;5;241m0\u001b[39m, \u001b[38;5;241m1\u001b[39m, \u001b[38;5;241m2\u001b[39m}:\n\u001b[0;32m    318\u001b[0m     \u001b[38;5;28;01mraise\u001b[39;00m \u001b[38;5;167;01mValueError\u001b[39;00m(\n\u001b[0;32m    319\u001b[0m         \u001b[38;5;124mf\u001b[39m\u001b[38;5;124m\"\u001b[39m\u001b[38;5;124mIPython won\u001b[39m\u001b[38;5;124m'\u001b[39m\u001b[38;5;124mt let you open fd=\u001b[39m\u001b[38;5;132;01m{\u001b[39;00mfile\u001b[38;5;132;01m}\u001b[39;00m\u001b[38;5;124m by default \u001b[39m\u001b[38;5;124m\"\u001b[39m\n\u001b[0;32m    320\u001b[0m         \u001b[38;5;124m\"\u001b[39m\u001b[38;5;124mas it is likely to crash IPython. If you know what you are doing, \u001b[39m\u001b[38;5;124m\"\u001b[39m\n\u001b[0;32m    321\u001b[0m         \u001b[38;5;124m\"\u001b[39m\u001b[38;5;124myou can use builtins\u001b[39m\u001b[38;5;124m'\u001b[39m\u001b[38;5;124m open.\u001b[39m\u001b[38;5;124m\"\u001b[39m\n\u001b[0;32m    322\u001b[0m     )\n\u001b[1;32m--> 324\u001b[0m \u001b[38;5;28;01mreturn\u001b[39;00m \u001b[43mio_open\u001b[49m\u001b[43m(\u001b[49m\u001b[43mfile\u001b[49m\u001b[43m,\u001b[49m\u001b[43m \u001b[49m\u001b[38;5;241;43m*\u001b[39;49m\u001b[43margs\u001b[49m\u001b[43m,\u001b[49m\u001b[43m \u001b[49m\u001b[38;5;241;43m*\u001b[39;49m\u001b[38;5;241;43m*\u001b[39;49m\u001b[43mkwargs\u001b[49m\u001b[43m)\u001b[49m\n",
      "\u001b[1;31mFileNotFoundError\u001b[0m: [Errno 2] No such file or directory: '뜬금파일'"
     ]
    }
   ],
   "source": [
    "f = open('뜬금파일', 'r')\n",
    "# FileNotFoundError: [Errno 2] No such file or directory: '뜬금파일'"
   ]
  },
  {
   "cell_type": "code",
   "execution_count": 4,
   "id": "987b8e3d-28b7-455e-9d00-58607f7cf34b",
   "metadata": {},
   "outputs": [
    {
     "ename": "ZeroDivisionError",
     "evalue": "division by zero",
     "output_type": "error",
     "traceback": [
      "\u001b[1;31m---------------------------------------------------------------------------\u001b[0m",
      "\u001b[1;31mZeroDivisionError\u001b[0m                         Traceback (most recent call last)",
      "Cell \u001b[1;32mIn[4], line 1\u001b[0m\n\u001b[1;32m----> 1\u001b[0m \u001b[38;5;241;43m4\u001b[39;49m\u001b[38;5;241;43m/\u001b[39;49m\u001b[38;5;241;43m0\u001b[39;49m\n",
      "\u001b[1;31mZeroDivisionError\u001b[0m: division by zero"
     ]
    }
   ],
   "source": [
    "4/0"
   ]
  },
  {
   "cell_type": "code",
   "execution_count": 6,
   "id": "4a105bcc-8287-4716-b6a6-0e60d47b5fa7",
   "metadata": {},
   "outputs": [
    {
     "ename": "SyntaxError",
     "evalue": "invalid syntax (1569446225.py, line 4)",
     "output_type": "error",
     "traceback": [
      "\u001b[1;36m  Cell \u001b[1;32mIn[6], line 4\u001b[1;36m\u001b[0m\n\u001b[1;33m    list index out of range\u001b[0m\n\u001b[1;37m         ^\u001b[0m\n\u001b[1;31mSyntaxError\u001b[0m\u001b[1;31m:\u001b[0m invalid syntax\n"
     ]
    }
   ],
   "source": [
    "a = [1,2,3]\n",
    "print(a[7])\n",
    "# ZeroDivisionError: division by zero\n",
    "list index out of range"
   ]
  },
  {
   "cell_type": "code",
   "execution_count": 11,
   "id": "0882f46f-20d7-44d1-a3f1-3c4b9380351d",
   "metadata": {},
   "outputs": [
    {
     "name": "stdout",
     "output_type": "stream",
     "text": [
      "없는거 찾지마\n",
      "[Errno 2] No such file or directory: '뜬금파일'\n",
      "코드 작성을 마칩니다.\n"
     ]
    }
   ],
   "source": [
    "\n",
    "try: \n",
    "    f= open('뜬금파일', 'r')\n",
    "    print('안녕')\n",
    "except FileNotFoundError as e :\n",
    "    if e:\n",
    "        print('없는거 찾지마', '혼자있고싶어.')\n",
    "    print(e)\n",
    "finally:\n",
    "    print('코드 작성을 마칩니다.')"
   ]
  },
  {
   "cell_type": "code",
   "execution_count": 8,
   "id": "a582112d-5dbf-436a-aa28-5d731144cd2a",
   "metadata": {},
   "outputs": [
    {
     "name": "stdout",
     "output_type": "stream",
     "text": [
      "0으로 나눌수 없어요 division by zero\n"
     ]
    }
   ],
   "source": [
    "# 지정한 이름의 예외처리 as로 별칭가능\n",
    "try:\n",
    "    4/0\n",
    "except ZeroDivisionError as e:\n",
    "    print('0으로 나눌수 없어요',e)\n",
    "    "
   ]
  },
  {
   "cell_type": "code",
   "execution_count": 7,
   "id": "e8a7433d-4bc4-42a1-af46-1ac70d83fc64",
   "metadata": {},
   "outputs": [
    {
     "name": "stdout",
     "output_type": "stream",
     "text": [
      "0으로 나누지 마세요\n"
     ]
    }
   ],
   "source": [
    "# try-except-finally 3단계도 가능, finally 는 에러가 나도 무조건 처리하는것(여기서는 파일 닫기)\n",
    "try:\n",
    "    f= open('foo.txt','w')\n",
    "    f.write(4/0)\n",
    "except:\n",
    "    print(\"0으로 나누지 마세요\")\n",
    "finally:\n",
    "    f.close()"
   ]
  },
  {
   "cell_type": "code",
   "execution_count": 2,
   "id": "bd6e6ad3-7d97-40df-b939-b72a51577398",
   "metadata": {},
   "outputs": [
    {
     "name": "stdout",
     "output_type": "stream",
     "text": [
      "tuple index out of range\n"
     ]
    }
   ],
   "source": [
    "# 테스트 해볼것 2개 이상의 오류를 동일하게 처리\n",
    "try:\n",
    "    a=1,2\n",
    "    print(a[512])\n",
    "    4/0\n",
    "except ZeroDivisionError :\n",
    "    print(\"0으로 나누지 마세요\")\n",
    "except IndexError as e :\n",
    "    print(e)"
   ]
  },
  {
   "cell_type": "code",
   "execution_count": 13,
   "id": "96bafc57-8bb8-4167-8760-d88e5bc12b9b",
   "metadata": {},
   "outputs": [
    {
     "name": "stdin",
     "output_type": "stream",
     "text": [
      "나이를 입력하세요 20\n"
     ]
    },
    {
     "name": "stdout",
     "output_type": "stream",
     "text": [
      "환영합니다.\n",
      "==================== \n",
      "분석끝\n"
     ]
    }
   ],
   "source": [
    "#try-else 문\n",
    "try:\n",
    "    age = int(input(\"나이를 입력하세요\"))\n",
    "except:\n",
    "    print(\"입력이 정확하지 않습니다.\")\n",
    "else:\n",
    "    if age <=18:\n",
    "        print('미성년자는 출입금지')\n",
    "    else:\n",
    "        print('환영합니다.')\n",
    "finally:\n",
    "    print('='*20,'\\n분석끝')"
   ]
  },
  {
   "cell_type": "code",
   "execution_count": 15,
   "id": "670b7d0f-9d5c-47fb-b062-a7f46c2ae7a3",
   "metadata": {},
   "outputs": [
    {
     "name": "stdin",
     "output_type": "stream",
     "text": [
      "나이를 입력하세요 30\n"
     ]
    },
    {
     "name": "stdout",
     "output_type": "stream",
     "text": [
      "환영합니다.\n",
      "==================== \n",
      "분석끝\n"
     ]
    }
   ],
   "source": [
    "#try-else 문 생략\n",
    "try:\n",
    "    age = int(input(\"나이를 입력하세요\"))\n",
    "    if age <=18:\n",
    "        print('미성년자는 출입금지')\n",
    "    else:\n",
    "        print('환영합니다.')\n",
    "except:\n",
    "    print(\"입력이 정확하지 않습니다.\")\n",
    "finally:\n",
    "    print('='*20,'\\n분석끝')"
   ]
  },
  {
   "cell_type": "code",
   "execution_count": 20,
   "id": "fb7ee40b-e65d-4b78-aa1f-d015d720b03c",
   "metadata": {},
   "outputs": [
    {
     "name": "stdout",
     "output_type": "stream",
     "text": [
      "반가워\n"
     ]
    }
   ],
   "source": [
    "# 오류 회피하기\n",
    "try:\n",
    "    print('반가워')\n",
    "    f=open('없는파일','r') # 이 에러지점부터 이후로는 처리안함.\n",
    "    print('안녕')\n",
    "except FileNotFoundError :\n",
    "    pass"
   ]
  },
  {
   "cell_type": "code",
   "execution_count": null,
   "id": "80dbc109-141e-4256-b2a4-376de03ace6c",
   "metadata": {},
   "outputs": [],
   "source": [
    "# 오류 일부러 발생시키기 (클래스 상속기반)"
   ]
  },
  {
   "cell_type": "code",
   "execution_count": 23,
   "id": "430b1b45-7dba-4216-b950-094995aa4939",
   "metadata": {},
   "outputs": [],
   "source": [
    "#테스트\n",
    "class Bird:\n",
    "    def fly(self) :\n",
    "        raise NotImplementedError"
   ]
  },
  {
   "cell_type": "code",
   "execution_count": 26,
   "id": "8523204e-76d6-4af2-a754-279e174e4088",
   "metadata": {},
   "outputs": [],
   "source": [
    "class Eagle(Bird):\n",
    "    def fly(self):\n",
    "        print(\"난 독수리다.\")"
   ]
  },
  {
   "cell_type": "code",
   "execution_count": 24,
   "id": "f4be7bb4-7c33-46cc-be3f-18bf8a71b916",
   "metadata": {},
   "outputs": [
    {
     "ename": "NotImplementedError",
     "evalue": "",
     "output_type": "error",
     "traceback": [
      "\u001b[1;31m---------------------------------------------------------------------------\u001b[0m",
      "\u001b[1;31mNotImplementedError\u001b[0m                       Traceback (most recent call last)",
      "Cell \u001b[1;32mIn[24], line 2\u001b[0m\n\u001b[0;32m      1\u001b[0m bird \u001b[38;5;241m=\u001b[39mBird()\n\u001b[1;32m----> 2\u001b[0m \u001b[43mbird\u001b[49m\u001b[38;5;241;43m.\u001b[39;49m\u001b[43mfly\u001b[49m\u001b[43m(\u001b[49m\u001b[43m)\u001b[49m\n",
      "Cell \u001b[1;32mIn[23], line 4\u001b[0m, in \u001b[0;36mBird.fly\u001b[1;34m(self)\u001b[0m\n\u001b[0;32m      3\u001b[0m \u001b[38;5;28;01mdef\u001b[39;00m\u001b[38;5;250m \u001b[39m\u001b[38;5;21mfly\u001b[39m(\u001b[38;5;28mself\u001b[39m) :\n\u001b[1;32m----> 4\u001b[0m     \u001b[38;5;28;01mraise\u001b[39;00m \u001b[38;5;167;01mNotImplementedError\u001b[39;00m\n",
      "\u001b[1;31mNotImplementedError\u001b[0m: "
     ]
    }
   ],
   "source": [
    "bird =Bird()\n",
    "bird.fly()"
   ]
  },
  {
   "cell_type": "code",
   "execution_count": 27,
   "id": "0c57fee4-d7ce-4f34-8d90-d39357acdaa2",
   "metadata": {},
   "outputs": [
    {
     "name": "stdout",
     "output_type": "stream",
     "text": [
      "난 독수리다.\n"
     ]
    }
   ],
   "source": [
    "eagle=Eagle()\n",
    "eagle.fly()"
   ]
  },
  {
   "cell_type": "code",
   "execution_count": 29,
   "id": "596643bb-3fe9-4c6f-99ed-f57778e792cd",
   "metadata": {},
   "outputs": [],
   "source": [
    "# 예외 만들기\n",
    "# dir(Exception)\n",
    "class MyError(Exception):\n",
    "    pass"
   ]
  },
  {
   "cell_type": "code",
   "execution_count": 30,
   "id": "c8ebd05c-8570-4302-a35a-747288fe3d14",
   "metadata": {},
   "outputs": [],
   "source": [
    "def say_nick(nick):\n",
    "    if nick == \"바보\":\n",
    "        raise MyError()\n",
    "    print(nick)"
   ]
  },
  {
   "cell_type": "code",
   "execution_count": 32,
   "id": "3f0825fb-5f20-45c1-8537-16f60a735077",
   "metadata": {},
   "outputs": [
    {
     "name": "stdout",
     "output_type": "stream",
     "text": [
      "천사\n"
     ]
    },
    {
     "ename": "MyError",
     "evalue": "",
     "output_type": "error",
     "traceback": [
      "\u001b[1;31m---------------------------------------------------------------------------\u001b[0m",
      "\u001b[1;31mMyError\u001b[0m                                   Traceback (most recent call last)",
      "Cell \u001b[1;32mIn[32], line 2\u001b[0m\n\u001b[0;32m      1\u001b[0m say_nick(\u001b[38;5;124m\"\u001b[39m\u001b[38;5;124m천사\u001b[39m\u001b[38;5;124m\"\u001b[39m)\n\u001b[1;32m----> 2\u001b[0m \u001b[43msay_nick\u001b[49m\u001b[43m(\u001b[49m\u001b[38;5;124;43m\"\u001b[39;49m\u001b[38;5;124;43m바보\u001b[39;49m\u001b[38;5;124;43m\"\u001b[39;49m\u001b[43m)\u001b[49m\n",
      "Cell \u001b[1;32mIn[30], line 3\u001b[0m, in \u001b[0;36msay_nick\u001b[1;34m(nick)\u001b[0m\n\u001b[0;32m      1\u001b[0m \u001b[38;5;28;01mdef\u001b[39;00m\u001b[38;5;250m \u001b[39m\u001b[38;5;21msay_nick\u001b[39m(nick):\n\u001b[0;32m      2\u001b[0m     \u001b[38;5;28;01mif\u001b[39;00m nick \u001b[38;5;241m==\u001b[39m \u001b[38;5;124m\"\u001b[39m\u001b[38;5;124m바보\u001b[39m\u001b[38;5;124m\"\u001b[39m:\n\u001b[1;32m----> 3\u001b[0m         \u001b[38;5;28;01mraise\u001b[39;00m MyError()\n\u001b[0;32m      4\u001b[0m     \u001b[38;5;28mprint\u001b[39m(nick)\n",
      "\u001b[1;31mMyError\u001b[0m: "
     ]
    }
   ],
   "source": [
    "say_nick(\"천사\")\n",
    "say_nick(\"바보\")"
   ]
  },
  {
   "cell_type": "code",
   "execution_count": 39,
   "id": "24daa312-bbe5-49b2-a907-7c99e306745a",
   "metadata": {},
   "outputs": [
    {
     "name": "stdout",
     "output_type": "stream",
     "text": [
      "천사\n",
      "욕하지마 나 바보아냐 욕하지마 그래도 사람은 착해\n"
     ]
    }
   ],
   "source": [
    "try:\n",
    "    say_nick(\"천사\")\n",
    "    say_nick(\"바보\")\n",
    "except MyError as e:\n",
    "    print(\"욕하지마 나 바보아냐\", e)"
   ]
  },
  {
   "cell_type": "code",
   "execution_count": 40,
   "id": "16eeac14-b7cb-4c68-9143-349e9441fe8f",
   "metadata": {},
   "outputs": [],
   "source": [
    "class MyError(Exception):\n",
    "    def __str__(self):\n",
    "        return \"욕하지마 그래도 사람은 착해\""
   ]
  },
  {
   "cell_type": "code",
   "execution_count": null,
   "id": "7756f33a-ab18-41c5-88a4-ad006ba098ba",
   "metadata": {},
   "outputs": [],
   "source": []
  }
 ],
 "metadata": {
  "kernelspec": {
   "display_name": "Python 3 (ipykernel)",
   "language": "python",
   "name": "python3"
  },
  "language_info": {
   "codemirror_mode": {
    "name": "ipython",
    "version": 3
   },
   "file_extension": ".py",
   "mimetype": "text/x-python",
   "name": "python",
   "nbconvert_exporter": "python",
   "pygments_lexer": "ipython3",
   "version": "3.13.1"
  }
 },
 "nbformat": 4,
 "nbformat_minor": 5
}
