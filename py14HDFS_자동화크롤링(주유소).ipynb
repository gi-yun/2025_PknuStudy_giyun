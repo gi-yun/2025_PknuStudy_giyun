{
 "cells": [
  {
   "cell_type": "code",
   "execution_count": 3,
   "id": "71b22be1-d217-443e-9123-46a3b21e53a6",
   "metadata": {},
   "outputs": [
    {
     "name": "stdout",
     "output_type": "stream",
     "text": [
      "Requirement already satisfied: xlrd in c:\\users\\admin\\appdata\\local\\programs\\python\\python313\\lib\\site-packages (2.0.1)\n",
      "Requirement already satisfied: openpyxl in c:\\users\\admin\\appdata\\local\\programs\\python\\python313\\lib\\site-packages (3.1.5)\n",
      "Requirement already satisfied: et-xmlfile in c:\\users\\admin\\appdata\\local\\programs\\python\\python313\\lib\\site-packages (from openpyxl) (2.0.0)\n"
     ]
    }
   ],
   "source": [
    "# !pip install xlrd\n",
    "# !pip install openpyxl"
   ]
  },
  {
   "cell_type": "code",
   "execution_count": 2,
   "id": "1341af2f-5113-49b4-8b98-e7dc32155753",
   "metadata": {},
   "outputs": [],
   "source": [
    "from hdfs import InsecureClient\n",
    "from io import BytesIO\n",
    "import pandas as pd"
   ]
  },
  {
   "cell_type": "code",
   "execution_count": 1,
   "id": "1908eeca-73a0-441e-b50a-aeed4b98ae28",
   "metadata": {},
   "outputs": [
    {
     "ename": "NameError",
     "evalue": "name 'InsecureClient' is not defined",
     "output_type": "error",
     "traceback": [
      "\u001b[0;31m---------------------------------------------------------------------------\u001b[0m",
      "\u001b[0;31mNameError\u001b[0m                                 Traceback (most recent call last)",
      "Cell \u001b[0;32mIn[1], line 1\u001b[0m\n\u001b[0;32m----> 1\u001b[0m hdfs \u001b[38;5;241m=\u001b[39m \u001b[43mInsecureClient\u001b[49m(\u001b[38;5;124m'\u001b[39m\u001b[38;5;124mhttp://namenode:9870\u001b[39m\u001b[38;5;124m'\u001b[39m, user\u001b[38;5;241m=\u001b[39m\u001b[38;5;124m\"\u001b[39m\u001b[38;5;124mhadoop\u001b[39m\u001b[38;5;124m\"\u001b[39m)\n\u001b[1;32m      2\u001b[0m hdfs_path \u001b[38;5;241m=\u001b[39m \u001b[38;5;124m'\u001b[39m\u001b[38;5;124m/user/hadoop/upload_oil/\u001b[39m\u001b[38;5;124m'\u001b[39m\n\u001b[1;32m      4\u001b[0m file_list \u001b[38;5;241m=\u001b[39m hdfs\u001b[38;5;241m.\u001b[39mlist(hdfs_path)\n",
      "\u001b[0;31mNameError\u001b[0m: name 'InsecureClient' is not defined"
     ]
    }
   ],
   "source": [
    "hdfs = InsecureClient('http://namenode:9870', user=\"hadoop\")\n",
    "hdfs_path = '/user/hadoop/upload_oil/'\n",
    "\n",
    "file_list = hdfs.list(hdfs_path)\n",
    "datas = []\n",
    "for n in file_list:\n",
    "    with hdfs.read(hdfs_path + n) as reader :\n",
    "        raw_data = reader.read()\n",
    "        buffer = BytesIO(raw_data)\n",
    "        df = pd.read_excel(buffer, engine=\"xlrd\")\n",
    "        datas.append(df)\n",
    "datas\n",
    "        # print(file_list)"
   ]
  },
  {
   "cell_type": "code",
   "execution_count": null,
   "id": "57ced62c-d0dc-4df4-8e19-b0d3a906762e",
   "metadata": {},
   "outputs": [],
   "source": []
  }
 ],
 "metadata": {
  "kernelspec": {
   "display_name": "Python 3 (ipykernel)",
   "language": "python",
   "name": "python3"
  },
  "language_info": {
   "codemirror_mode": {
    "name": "ipython",
    "version": 3
   },
   "file_extension": ".py",
   "mimetype": "text/x-python",
   "name": "python",
   "nbconvert_exporter": "python",
   "pygments_lexer": "ipython3",
   "version": "3.10.12"
  }
 },
 "nbformat": 4,
 "nbformat_minor": 5
}
