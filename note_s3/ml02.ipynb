{
 "cells": [
  {
   "cell_type": "code",
   "execution_count": 5,
   "id": "4ffbb373",
   "metadata": {},
   "outputs": [
    {
     "name": "stdout",
     "output_type": "stream",
     "text": [
      "모델의 정확도: 1.00\n"
     ]
    }
   ],
   "source": [
    "import pandas as pd\n",
    "import numpy as np\n",
    "from sklearn.model_selection import train_test_split\n",
    "from sklearn.neighbors import KNeighborsClassifier\n",
    "from sklearn.metrics import accuracy_score\n",
    "\n",
    "# 데이터 준비\n",
    "data = {\n",
    "    \"단맛\": [8, 2, 6, 9, 3, 4, 7, 2, 5, 7, 1, 10, 4, 5, 6, 3, 8, 2, 9, 1],\n",
    "    \"신맛\": [2, 8, 6, 1, 7, 3, 2, 2, 5, 1, 9, 1, 6, 5, 4, 8, 3, 9, 2, 8],\n",
    "    \"간식종류\": [\n",
    "        \"초콜릿\", \"젤리\", \"젤리\", \"초콜릿\", \"젤리\",\n",
    "        \"감자칩\", \"초콜릿\", \"감자칩\", \"젤리\", \"초콜릿\",\n",
    "        \"젤리\", \"초콜릿\", \"감자칩\", \"젤리\", \"감자칩\",\n",
    "        \"젤리\", \"초콜릿\", \"젤리\", \"초콜릿\", \"젤리\"\n",
    "    ]\n",
    "}\n",
    "df = pd.DataFrame(data)\n",
    "\n",
    "# 1. 입출력 분리\n",
    "X = df[[\"단맛\", \"신맛\"]]\n",
    "y = df[\"간식종류\"]\n",
    "# 2. 데이터 분할\n",
    "X_train, X_test, y_train, y_test = train_test_split(X, y, test_size=0.3, random_state=42)\n",
    "# 3. 모델 생성\n",
    "model = KNeighborsClassifier(n_neighbors=3)\n",
    "# 4. 모델 학습\n",
    "model.fit(X_train, y_train)\n",
    "# 5. 예측\n",
    "y_pred = model.predict(X_test)\n",
    "# 6. 정확도 평가\n",
    "accuracy = accuracy_score(y_test, y_pred)\n",
    "print(f\"모델의 정확도: {accuracy:.2f}\")"
   ]
  },
  {
   "cell_type": "code",
   "execution_count": 6,
   "id": "d28925fd",
   "metadata": {},
   "outputs": [
    {
     "name": "stdout",
     "output_type": "stream",
     "text": [
      "추천 간식:  젤리\n"
     ]
    }
   ],
   "source": [
    "x_new = pd.DataFrame([[6,5]], columns=[\"단맛\", \"신맛\"])\n",
    "print(\"추천 간식: \", model.predict(x_new)[0])"
   ]
  }
 ],
 "metadata": {
  "kernelspec": {
   "display_name": "Python 3",
   "language": "python",
   "name": "python3"
  },
  "language_info": {
   "codemirror_mode": {
    "name": "ipython",
    "version": 3
   },
   "file_extension": ".py",
   "mimetype": "text/x-python",
   "name": "python",
   "nbconvert_exporter": "python",
   "pygments_lexer": "ipython3",
   "version": "3.13.1"
  }
 },
 "nbformat": 4,
 "nbformat_minor": 5
}
