{
 "cells": [
  {
   "cell_type": "markdown",
   "id": "7e68e5de-46f1-4813-a8d6-2e32626897ee",
   "metadata": {},
   "source": [
    "# 모듈"
   ]
  },
  {
   "cell_type": "markdown",
   "id": "a9c46956-f36b-437f-9b97-f6ff806357c0",
   "metadata": {},
   "source": [
    "## 모듈 만들기"
   ]
  },
  {
   "cell_type": "code",
   "execution_count": 16,
   "id": "684c1a03-2083-42d7-945d-fc6973526df8",
   "metadata": {
    "jp-MarkdownHeadingCollapsed": true
   },
   "outputs": [],
   "source": [
    "#모듈 만들기\n",
    "def add(a,b):\n",
    "     return a+b\n",
    "def sub(a,b):\n",
    "    return a-b"
   ]
  },
  {
   "cell_type": "code",
   "execution_count": 14,
   "id": "bfb34a80-4d16-48c5-9ee0-f6d43e95a2e9",
   "metadata": {},
   "outputs": [],
   "source": [
    "# print(add(1,2))\n",
    "# print(sub(2,1))"
   ]
  },
  {
   "cell_type": "code",
   "execution_count": 1,
   "id": "b072f6f9-6975-4e08-a34c-9e5e4edd2024",
   "metadata": {},
   "outputs": [
    {
     "name": "stdout",
     "output_type": "stream",
     "text": [
      "33\n",
      "11\n"
     ]
    }
   ],
   "source": [
    "import mod1\n",
    "print(mod1.add(11,22))\n",
    "print(mod1.sub(33,22))"
   ]
  },
  {
   "cell_type": "code",
   "execution_count": 18,
   "id": "58a8ad94-cda2-49aa-b0ff-c0fbb753bc6f",
   "metadata": {},
   "outputs": [],
   "source": [
    "with open (\"mod2.py\",\"w\") as f:\n",
    "    data=\"\"\"def mul(a,b):\n",
    "    return a*b\n",
    "def div(a,b):\n",
    "    return a/b\"\"\"\n",
    "    f.write(data)"
   ]
  },
  {
   "cell_type": "code",
   "execution_count": 20,
   "id": "9d68091e-580e-4135-a9d2-b3900494e833",
   "metadata": {},
   "outputs": [
    {
     "name": "stdout",
     "output_type": "stream",
     "text": [
      "12\n",
      "2.0\n"
     ]
    }
   ],
   "source": [
    "import mod2\n",
    "print(mod2.mul(3,4))\n",
    "print(mod2.div(4,2))"
   ]
  },
  {
   "cell_type": "code",
   "execution_count": 3,
   "id": "73615976-0929-4ca4-9393-04d259f599da",
   "metadata": {},
   "outputs": [
    {
     "name": "stdout",
     "output_type": "stream",
     "text": [
      "33\n",
      "11\n",
      "12\n",
      "2.0\n"
     ]
    }
   ],
   "source": [
    "import mod1, mod2\n",
    "print(mod1.add(11,22))\n",
    "print(mod1.sub(33,22))\n",
    "print(mod2.mul(3,4))\n",
    "print(mod2.div(4,2))"
   ]
  },
  {
   "cell_type": "code",
   "execution_count": 5,
   "id": "ca0a5b4e-2298-4170-b8fc-94b1f39d7e5d",
   "metadata": {},
   "outputs": [
    {
     "name": "stdout",
     "output_type": "stream",
     "text": [
      "33\n",
      "11\n",
      "12\n",
      "2.0\n"
     ]
    }
   ],
   "source": [
    "# import mod1 as m1\n",
    "# import mod2 as m2\n",
    "import mod1 as m1, mod2 as m2 \n",
    "print(m1.add(11,22))\n",
    "print(m1.sub(33,22))\n",
    "print(m2.mul(3,4))\n",
    "print(m2.div(4,2))"
   ]
  },
  {
   "cell_type": "code",
   "execution_count": 8,
   "id": "939d996a-4292-489f-a3d0-e4b209a53841",
   "metadata": {},
   "outputs": [
    {
     "name": "stdout",
     "output_type": "stream",
     "text": [
      "77\n",
      "33\n"
     ]
    }
   ],
   "source": [
    "from mod1 import add, sub #충돌날 경우가 있기에 이방식은 추천하지 않는다.\n",
    "print(add(33,44))\n",
    "print(sub(44,11))"
   ]
  },
  {
   "cell_type": "code",
   "execution_count": 9,
   "id": "b737c733-6f02-4807-9cf7-529d885cc99b",
   "metadata": {},
   "outputs": [
    {
     "name": "stdout",
     "output_type": "stream",
     "text": [
      "15\n"
     ]
    }
   ],
   "source": [
    "from mod2 import * #데이터가 이상하게 나올수 있음 이방식도 추천하지 않는다.\n",
    "print(mul(3,5))"
   ]
  },
  {
   "cell_type": "markdown",
   "id": "a668e52e-12da-4cf6-9cb5-caf2345c383b",
   "metadata": {},
   "source": [
    "## `__main__`의 의미"
   ]
  },
  {
   "cell_type": "code",
   "execution_count": 19,
   "id": "9a6260db-6934-40d9-b5ff-9d4759b95965",
   "metadata": {},
   "outputs": [],
   "source": [
    "with open(\"mod1.py\",\"a\",) as f:\n",
    "    text = \"\"\"\\nprint(add(1,4))\\nprint(sub(4,2))\"\"\"\n",
    "    f.write(text)"
   ]
  },
  {
   "cell_type": "code",
   "execution_count": 33,
   "id": "364aa4e2-2543-4699-b3e9-73dde438349a",
   "metadata": {},
   "outputs": [],
   "source": [
    "# %%bash : 우분투"
   ]
  },
  {
   "cell_type": "code",
   "execution_count": 2,
   "id": "92daf0a0-2457-40d3-acf5-cee5ae0a34cd",
   "metadata": {},
   "outputs": [
    {
     "name": "stdout",
     "output_type": "stream",
     "text": [
      "Microsoft Windows [Version 10.0.26100.3194]\n",
      "(c) Microsoft Corporation. All rights reserved.\n",
      "\n",
      "gy\\code>\n",
      "D:\\kgy\\code>python mod1.py\n",
      "5\n",
      "2\n",
      "__main__\n",
      "�� ���Ϸ� ������ �Ǿ����.\n",
      "\n",
      "D:\\kgy\\code>"
     ]
    }
   ],
   "source": [
    "%%cmd\n",
    "\n",
    "python mod1.py"
   ]
  },
  {
   "cell_type": "code",
   "execution_count": 4,
   "id": "82c981fd-94c8-4cb1-836f-83a055686333",
   "metadata": {},
   "outputs": [
    {
     "name": "stdout",
     "output_type": "stream",
     "text": [
      "5\n",
      "2\n",
      "mod1\n",
      "전 모듈로 임포트 되었어요.\n",
      "mod1\n"
     ]
    },
    {
     "data": {
      "text/plain": [
       "['__builtins__',\n",
       " '__cached__',\n",
       " '__doc__',\n",
       " '__file__',\n",
       " '__loader__',\n",
       " '__name__',\n",
       " '__package__',\n",
       " '__spec__',\n",
       " 'add',\n",
       " 'sub']"
      ]
     },
     "execution_count": 4,
     "metadata": {},
     "output_type": "execute_result"
    }
   ],
   "source": [
    "import mod1\n",
    "# print(\"mod1__name__\")\n",
    "dir(mod1)"
   ]
  },
  {
   "cell_type": "code",
   "execution_count": 3,
   "id": "2699da74-2381-4308-b98e-aa3c6df9a439",
   "metadata": {},
   "outputs": [],
   "source": [
    "with open('mod1.py', 'a') as f:\n",
    "    content =\"\\nprint(__name__)\"\n",
    "    f.write(content)"
   ]
  },
  {
   "cell_type": "markdown",
   "id": "0e37c3a7-9f5f-4775-a2c6-da0eac4bf4f5",
   "metadata": {},
   "source": [
    "## 예제 문제 "
   ]
  },
  {
   "cell_type": "markdown",
   "id": "cadef2f0-20c1-4276-92dd-269ae4d3731d",
   "metadata": {},
   "source": [
    "# 삼성전자의 현 시세 55000\n",
    "cmd에서 파일로 실행했을 때\n",
    "\n",
    "삼성전자의 시세가 나오고\n",
    "\n",
    "임포트 했을 땐\n",
    "아무것도 나오지 않게 하라."
   ]
  },
  {
   "cell_type": "code",
   "execution_count": 3,
   "id": "93584376-3726-40e9-b408-d8a5ffbcace1",
   "metadata": {},
   "outputs": [],
   "source": [
    "\n",
    "with open('sam.py','w',encoding=\"utf-8\") as f:\n",
    "    content =\"\"\"import requests as req\n",
    "def Sam(name):\n",
    "    url=\"https://finance.naver.com/sise/sise_market_sum.naver\"\n",
    "    web = req.get(url)\n",
    "    html = web.text\n",
    "    f1 =html.find(name)\n",
    "    print(name)\n",
    "    print(html[f1:f1+100][19:50].replace('<td class=\"number\">',\"\").replace('</td>',\"원\"))\n",
    "print(Sam(\"삼성전자\"))\n",
    "if __name__ == \"__main__\":\n",
    "    print(\"전 파일로 실행이 되었어요.\")\n",
    "else:\n",
    "    print(\"전 모듈로 임포트 되었어요.\")\"\"\"\n",
    "    f.write(content)"
   ]
  },
  {
   "cell_type": "code",
   "execution_count": 6,
   "id": "c23f11cf-b788-43a9-8617-ca51b66ac533",
   "metadata": {},
   "outputs": [
    {
     "ename": "TypeError",
     "evalue": "'module' object is not callable",
     "output_type": "error",
     "traceback": [
      "\u001b[1;31m---------------------------------------------------------------------------\u001b[0m",
      "\u001b[1;31mTypeError\u001b[0m                                 Traceback (most recent call last)",
      "Cell \u001b[1;32mIn[6], line 2\u001b[0m\n\u001b[0;32m      1\u001b[0m \u001b[38;5;28;01mimport\u001b[39;00m\u001b[38;5;250m \u001b[39m\u001b[38;5;21;01msam\u001b[39;00m\n\u001b[1;32m----> 2\u001b[0m \u001b[38;5;28mdir\u001b[39m(\u001b[43msam\u001b[49m\u001b[43m(\u001b[49m\u001b[38;5;124;43m\"\u001b[39;49m\u001b[38;5;124;43m기아\u001b[39;49m\u001b[38;5;124;43m\"\u001b[39;49m\u001b[43m)\u001b[49m)\n",
      "\u001b[1;31mTypeError\u001b[0m: 'module' object is not callable"
     ]
    }
   ],
   "source": [
    "import sam\n",
    "dir(sam())"
   ]
  },
  {
   "cell_type": "code",
   "execution_count": 5,
   "id": "47637215-9180-49c4-a90f-251e28a739bf",
   "metadata": {},
   "outputs": [
    {
     "name": "stdout",
     "output_type": "stream",
     "text": [
      "Microsoft Windows [Version 10.0.26100.3194]\n",
      "(c) Microsoft Corporation. All rights reserved.\n",
      "\n",
      "gy\\code>\n",
      "D:\\kgy\\code>python sam.py\n",
      "�Ｚ����\n",
      "55,800��\n",
      "\n",
      "None\n",
      "�� ���Ϸ� ������ �Ǿ����.\n",
      "\n",
      "D:\\kgy\\code>"
     ]
    }
   ],
   "source": [
    "%%cmd\n",
    "\n",
    "python sam.py"
   ]
  },
  {
   "cell_type": "code",
   "execution_count": 18,
   "id": "c7a6fb5b-d3ba-4492-b346-0fefdae00ef8",
   "metadata": {},
   "outputs": [
    {
     "name": "stdout",
     "output_type": "stream",
     "text": [
      "-financial-service\" onClick=\"clickcr(this, 'fot.service', '', '', event);\" target=\"_blank\">이용약관</a>\n",
      "\n",
      "-f\n",
      " onClick=\"clickcr(this, 'fot.se\n",
      "전 파일로 실행이 되었어요.\n"
     ]
    }
   ],
   "source": [
    "# with open('sam.py','w',encoding=\"utf-8\") as f:\n",
    "#     content =\n",
    "import sys \n",
    "class Data:\n",
    "    import requests as req\n",
    "    def __init__(self,name):    \n",
    "        self.name=sys.argv[1]\n",
    "        self.url=\"https://finance.naver.com/sise/sise_market_sum.naver\"\n",
    "        self.web = self.req.get(self.url)\n",
    "        self.html = self.web.text\n",
    "        self.f1 =self.html.find(self.name)\n",
    "    def Sam(self):\n",
    "        print(self.html[self.f1:self.f1+100])\n",
    "        return f'{self.name}\\n{self.html[self.f1:self.f1+100][19:50].replace('d class=\"number\">',\"\").replace('<td class=\"number\">',\"\").replace('</td>',\"원\")}'\n",
    "dd = Data(sys.argv[1])\n",
    "print(dd.Sam())\n",
    "if __name__ == \"__main__\":\n",
    "    print(\"전 파일로 실행이 되었어요.\")\n",
    "else:\n",
    "    print(\"전 모듈로 임포트 되었어요.\")\n",
    "    # f.write(content)"
   ]
  },
  {
   "cell_type": "code",
   "execution_count": null,
   "id": "cdba0325-aa01-4111-b26c-152ef374380c",
   "metadata": {},
   "outputs": [],
   "source": []
  }
 ],
 "metadata": {
  "kernelspec": {
   "display_name": "Python 3 (ipykernel)",
   "language": "python",
   "name": "python3"
  },
  "language_info": {
   "codemirror_mode": {
    "name": "ipython",
    "version": 3
   },
   "file_extension": ".py",
   "mimetype": "text/x-python",
   "name": "python",
   "nbconvert_exporter": "python",
   "pygments_lexer": "ipython3",
   "version": "3.13.1"
  }
 },
 "nbformat": 4,
 "nbformat_minor": 5
}
