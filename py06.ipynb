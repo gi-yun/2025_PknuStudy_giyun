{
 "cells": [
  {
   "cell_type": "markdown",
   "id": "7e68e5de-46f1-4813-a8d6-2e32626897ee",
   "metadata": {},
   "source": [
    "# 모듈"
   ]
  },
  {
   "cell_type": "markdown",
   "id": "a9c46956-f36b-437f-9b97-f6ff806357c0",
   "metadata": {},
   "source": [
    "## 모듈 만들기"
   ]
  },
  {
   "cell_type": "code",
   "execution_count": 16,
   "id": "684c1a03-2083-42d7-945d-fc6973526df8",
   "metadata": {
    "jp-MarkdownHeadingCollapsed": true
   },
   "outputs": [],
   "source": [
    "#모듈 만들기\n",
    "def add(a,b):\n",
    "     return a+b\n",
    "def sub(a,b):\n",
    "    return a-b"
   ]
  },
  {
   "cell_type": "code",
   "execution_count": 14,
   "id": "bfb34a80-4d16-48c5-9ee0-f6d43e95a2e9",
   "metadata": {},
   "outputs": [],
   "source": [
    "# print(add(1,2))\n",
    "# print(sub(2,1))"
   ]
  },
  {
   "cell_type": "code",
   "execution_count": 1,
   "id": "b072f6f9-6975-4e08-a34c-9e5e4edd2024",
   "metadata": {},
   "outputs": [
    {
     "name": "stdout",
     "output_type": "stream",
     "text": [
      "33\n",
      "11\n"
     ]
    }
   ],
   "source": [
    "import mod1\n",
    "print(mod1.add(11,22))\n",
    "print(mod1.sub(33,22))"
   ]
  },
  {
   "cell_type": "code",
   "execution_count": 18,
   "id": "58a8ad94-cda2-49aa-b0ff-c0fbb753bc6f",
   "metadata": {},
   "outputs": [],
   "source": [
    "with open (\"mod2.py\",\"w\") as f:\n",
    "    data=\"\"\"def mul(a,b):\n",
    "    return a*b\n",
    "def div(a,b):\n",
    "    return a/b\"\"\"\n",
    "    f.write(data)"
   ]
  },
  {
   "cell_type": "code",
   "execution_count": 20,
   "id": "9d68091e-580e-4135-a9d2-b3900494e833",
   "metadata": {},
   "outputs": [
    {
     "name": "stdout",
     "output_type": "stream",
     "text": [
      "12\n",
      "2.0\n"
     ]
    }
   ],
   "source": [
    "import mod2\n",
    "print(mod2.mul(3,4))\n",
    "print(mod2.div(4,2))"
   ]
  },
  {
   "cell_type": "code",
   "execution_count": 3,
   "id": "73615976-0929-4ca4-9393-04d259f599da",
   "metadata": {},
   "outputs": [
    {
     "name": "stdout",
     "output_type": "stream",
     "text": [
      "33\n",
      "11\n",
      "12\n",
      "2.0\n"
     ]
    }
   ],
   "source": [
    "import mod1, mod2\n",
    "print(mod1.add(11,22))\n",
    "print(mod1.sub(33,22))\n",
    "print(mod2.mul(3,4))\n",
    "print(mod2.div(4,2))"
   ]
  },
  {
   "cell_type": "code",
   "execution_count": 5,
   "id": "ca0a5b4e-2298-4170-b8fc-94b1f39d7e5d",
   "metadata": {},
   "outputs": [
    {
     "name": "stdout",
     "output_type": "stream",
     "text": [
      "33\n",
      "11\n",
      "12\n",
      "2.0\n"
     ]
    }
   ],
   "source": [
    "# import mod1 as m1\n",
    "# import mod2 as m2\n",
    "import mod1 as m1, mod2 as m2 \n",
    "print(m1.add(11,22))\n",
    "print(m1.sub(33,22))\n",
    "print(m2.mul(3,4))\n",
    "print(m2.div(4,2))"
   ]
  },
  {
   "cell_type": "code",
   "execution_count": 8,
   "id": "939d996a-4292-489f-a3d0-e4b209a53841",
   "metadata": {},
   "outputs": [
    {
     "name": "stdout",
     "output_type": "stream",
     "text": [
      "77\n",
      "33\n"
     ]
    }
   ],
   "source": [
    "from mod1 import add, sub #충돌날 경우가 있기에 이방식은 추천하지 않는다.\n",
    "print(add(33,44))\n",
    "print(sub(44,11))"
   ]
  },
  {
   "cell_type": "code",
   "execution_count": 9,
   "id": "b737c733-6f02-4807-9cf7-529d885cc99b",
   "metadata": {},
   "outputs": [
    {
     "name": "stdout",
     "output_type": "stream",
     "text": [
      "15\n"
     ]
    }
   ],
   "source": [
    "from mod2 import * #데이터가 이상하게 나올수 있음 이방식도 추천하지 않는다.\n",
    "print(mul(3,5))"
   ]
  },
  {
   "cell_type": "markdown",
   "id": "a668e52e-12da-4cf6-9cb5-caf2345c383b",
   "metadata": {},
   "source": [
    "## `__main__`의 의미"
   ]
  },
  {
   "cell_type": "code",
   "execution_count": 19,
   "id": "9a6260db-6934-40d9-b5ff-9d4759b95965",
   "metadata": {},
   "outputs": [],
   "source": [
    "with open(\"mod1.py\",\"a\",) as f:\n",
    "    text = \"\"\"\\nprint(add(1,4))\\nprint(sub(4,2))\"\"\"\n",
    "    f.write(text)"
   ]
  },
  {
   "cell_type": "code",
   "execution_count": 33,
   "id": "364aa4e2-2543-4699-b3e9-73dde438349a",
   "metadata": {},
   "outputs": [],
   "source": [
    "# %%bash : 우분투"
   ]
  },
  {
   "cell_type": "code",
   "execution_count": 2,
   "id": "92daf0a0-2457-40d3-acf5-cee5ae0a34cd",
   "metadata": {},
   "outputs": [
    {
     "name": "stdout",
     "output_type": "stream",
     "text": [
      "Microsoft Windows [Version 10.0.26100.3194]\n",
      "(c) Microsoft Corporation. All rights reserved.\n",
      "\n",
      "gy\\code>\n",
      "D:\\kgy\\code>python mod1.py\n",
      "5\n",
      "2\n",
      "__main__\n",
      "�� ���Ϸ� ������ �Ǿ����.\n",
      "\n",
      "D:\\kgy\\code>"
     ]
    }
   ],
   "source": [
    "%%cmd\n",
    "\n",
    "python mod1.py"
   ]
  },
  {
   "cell_type": "code",
   "execution_count": 4,
   "id": "82c981fd-94c8-4cb1-836f-83a055686333",
   "metadata": {},
   "outputs": [
    {
     "name": "stdout",
     "output_type": "stream",
     "text": [
      "5\n",
      "2\n",
      "mod1\n",
      "전 모듈로 임포트 되었어요.\n",
      "mod1\n"
     ]
    },
    {
     "data": {
      "text/plain": [
       "['__builtins__',\n",
       " '__cached__',\n",
       " '__doc__',\n",
       " '__file__',\n",
       " '__loader__',\n",
       " '__name__',\n",
       " '__package__',\n",
       " '__spec__',\n",
       " 'add',\n",
       " 'sub']"
      ]
     },
     "execution_count": 4,
     "metadata": {},
     "output_type": "execute_result"
    }
   ],
   "source": [
    "import mod1\n",
    "# print(\"mod1__name__\")\n",
    "dir(mod1)"
   ]
  },
  {
   "cell_type": "code",
   "execution_count": 3,
   "id": "2699da74-2381-4308-b98e-aa3c6df9a439",
   "metadata": {},
   "outputs": [],
   "source": [
    "with open('mod1.py', 'a') as f:\n",
    "    content =\"\\nprint(__name__)\"\n",
    "    f.write(content)"
   ]
  },
  {
   "cell_type": "markdown",
   "id": "0e37c3a7-9f5f-4775-a2c6-da0eac4bf4f5",
   "metadata": {},
   "source": [
    "## 예제 문제 "
   ]
  },
  {
   "cell_type": "markdown",
   "id": "cadef2f0-20c1-4276-92dd-269ae4d3731d",
   "metadata": {},
   "source": [
    "# 삼성전자의 현 시세 55000\n",
    "cmd에서 파일로 실행했을 때\n",
    "\n",
    "삼성전자의 시세가 나오고\n",
    "\n",
    "임포트 했을 땐\n",
    "아무것도 나오지 않게 하라."
   ]
  },
  {
   "cell_type": "code",
   "execution_count": 3,
   "id": "93584376-3726-40e9-b408-d8a5ffbcace1",
   "metadata": {},
   "outputs": [],
   "source": [
    "\n",
    "with open('sam.py','w',encoding=\"utf-8\") as f:\n",
    "    content =\"\"\"import requests as req\n",
    "def Sam(name):\n",
    "    url=\"https://finance.naver.com/sise/sise_market_sum.naver\"\n",
    "    web = req.get(url)\n",
    "    html = web.text\n",
    "    f1 =html.find(name)\n",
    "    print(name)\n",
    "    print(html[f1:f1+100][19:50].replace('<td class=\"number\">',\"\").replace('</td>',\"원\"))\n",
    "print(Sam(\"삼성전자\"))\n",
    "if __name__ == \"__main__\":\n",
    "    print(\"전 파일로 실행이 되었어요.\")\n",
    "else:\n",
    "    print(\"전 모듈로 임포트 되었어요.\")\"\"\"\n",
    "    f.write(content)"
   ]
  },
  {
   "cell_type": "code",
   "execution_count": 19,
   "id": "c23f11cf-b788-43a9-8617-ca51b66ac533",
   "metadata": {},
   "outputs": [
    {
     "name": "stdout",
     "output_type": "stream",
     "text": [
      "-financial-service\" onClick=\"clickcr(this, 'fot.service', '', '', event);\" target=\"_blank\">이용약관</a>\n",
      "\n",
      "-f\n",
      " onClick=\"clickcr(this, 'fot.se\n",
      "전 모듈로 임포트 되었어요.\n"
     ]
    },
    {
     "ename": "TypeError",
     "evalue": "'module' object is not callable",
     "output_type": "error",
     "traceback": [
      "\u001b[1;31m---------------------------------------------------------------------------\u001b[0m",
      "\u001b[1;31mTypeError\u001b[0m                                 Traceback (most recent call last)",
      "Cell \u001b[1;32mIn[19], line 2\u001b[0m\n\u001b[0;32m      1\u001b[0m \u001b[38;5;28;01mimport\u001b[39;00m\u001b[38;5;250m \u001b[39m\u001b[38;5;21;01msam\u001b[39;00m\n\u001b[1;32m----> 2\u001b[0m \u001b[38;5;28mdir\u001b[39m(\u001b[43msam\u001b[49m\u001b[43m(\u001b[49m\u001b[43m)\u001b[49m)\n",
      "\u001b[1;31mTypeError\u001b[0m: 'module' object is not callable"
     ]
    }
   ],
   "source": [
    "import sam\n",
    "dir(sam())"
   ]
  },
  {
   "cell_type": "code",
   "execution_count": 21,
   "id": "c9e593f8-7ed7-405e-a5b9-a2763f84741a",
   "metadata": {},
   "outputs": [
    {
     "name": "stdout",
     "output_type": "stream",
     "text": [
      "Microsoft Windows [Version 10.0.26100.3194]\n",
      "(c) Microsoft Corporation. All rights reserved.\n",
      "\n",
      "gy\\code>\n",
      "D:\\kgy\\code>python sam.py ?�성?�자\n",
      "\n",
      "?�성?�자\n",
      "\n",
      "�� ���Ϸ� ������ �Ǿ����.\n",
      "\n",
      "D:\\kgy\\code>"
     ]
    }
   ],
   "source": [
    "%%cmd\n",
    "\n",
    "python sam.py 삼성전자"
   ]
  },
  {
   "cell_type": "code",
   "execution_count": 18,
   "id": "c7a6fb5b-d3ba-4492-b346-0fefdae00ef8",
   "metadata": {},
   "outputs": [
    {
     "name": "stdout",
     "output_type": "stream",
     "text": [
      "-financial-service\" onClick=\"clickcr(this, 'fot.service', '', '', event);\" target=\"_blank\">이용약관</a>\n",
      "\n",
      "-f\n",
      " onClick=\"clickcr(this, 'fot.se\n",
      "전 파일로 실행이 되었어요.\n"
     ]
    }
   ],
   "source": [
    "# with open('sam.py','w',encoding=\"utf-8\") as f:\n",
    "#     content =\n",
    "import sys \n",
    "class Data:\n",
    "    import requests as req\n",
    "    def __init__(self,name):    \n",
    "        self.name=sys.argv[1]\n",
    "        self.url=\"https://finance.naver.com/sise/sise_market_sum.naver\"\n",
    "        self.web = self.req.get(self.url)\n",
    "        self.html = self.web.text\n",
    "        self.f1 =self.html.find(self.name)\n",
    "    def Sam(self):\n",
    "        print(self.html[self.f1:self.f1+100])\n",
    "        return f'{self.name}\\n{self.html[self.f1:self.f1+100][19:50].replace('d class=\"number\">',\"\").replace('<td class=\"number\">',\"\").replace('</td>',\"원\")}'\n",
    "dd = Data(sys.argv[1])\n",
    "print(dd.Sam())\n",
    "if __name__ == \"__main__\":\n",
    "    print(\"전 파일로 실행이 되었어요.\")\n",
    "else:\n",
    "    print(\"전 모듈로 임포트 되었어요.\")\n",
    "    # f.write(content)"
   ]
  },
  {
   "cell_type": "markdown",
   "id": "56b0f3e1-f000-415e-83c1-4bbed24d2f37",
   "metadata": {},
   "source": [
    "## 클래스나 변수등을 포함한 모듈"
   ]
  },
  {
   "cell_type": "code",
   "execution_count": 24,
   "id": "06df1932-73f0-41ee-aa89-a034ee40204d",
   "metadata": {},
   "outputs": [],
   "source": [
    "with open(\"mod3.py\", \"w\") as f:\n",
    "    text = \"\"\"PI =3.141592\\n\\nclass Math:\\n\\tdef solv(self,r):\\n\\t\\treturn PI * (r**2)\\n\\ndef add(a,b):\\n\\treturn a + b\"\"\"\n",
    "    f.write(text)"
   ]
  },
  {
   "cell_type": "code",
   "execution_count": 6,
   "id": "b5560389-f345-4c85-b090-9492c48ab831",
   "metadata": {},
   "outputs": [
    {
     "name": "stdout",
     "output_type": "stream",
     "text": [
      "3.141592\n",
      "8\n",
      "78.5398\n",
      "78.5398\n"
     ]
    },
    {
     "data": {
      "text/plain": [
       "['Math',\n",
       " 'PI',\n",
       " '__builtins__',\n",
       " '__cached__',\n",
       " '__doc__',\n",
       " '__file__',\n",
       " '__loader__',\n",
       " '__name__',\n",
       " '__package__',\n",
       " '__spec__',\n",
       " 'add']"
      ]
     },
     "execution_count": 6,
     "metadata": {},
     "output_type": "execute_result"
    }
   ],
   "source": [
    "import mod3\n",
    "# 변수\n",
    "print(mod3.PI)\n",
    "a= mod3.Math()\n",
    "#함수\n",
    "print(mod3.add(3,5))\n",
    "#클래스\n",
    "print(mod3.Math().solv(5))\n",
    "print(a.solv(5))\n",
    "dir(mod3)"
   ]
  },
  {
   "cell_type": "markdown",
   "id": "627bf05a-3ad6-49ea-bbe4-7141e0d80939",
   "metadata": {},
   "source": [
    "## 다른 디렉터리에 있는 모듈 불러오는 방법"
   ]
  },
  {
   "cell_type": "code",
   "execution_count": 2,
   "id": "a6d9547f-7f19-4d22-a0c7-dfaee46987d0",
   "metadata": {},
   "outputs": [
    {
     "data": {
      "text/plain": [
       "['C:\\\\Users\\\\Admin\\\\AppData\\\\Local\\\\Programs\\\\Python\\\\Python313\\\\python313.zip',\n",
       " 'C:\\\\Users\\\\Admin\\\\AppData\\\\Local\\\\Programs\\\\Python\\\\Python313\\\\DLLs',\n",
       " 'C:\\\\Users\\\\Admin\\\\AppData\\\\Local\\\\Programs\\\\Python\\\\Python313\\\\Lib',\n",
       " 'C:\\\\Users\\\\Admin\\\\AppData\\\\Local\\\\Programs\\\\Python\\\\Python313',\n",
       " '',\n",
       " 'C:\\\\Users\\\\Admin\\\\AppData\\\\Local\\\\Programs\\\\Python\\\\Python313\\\\Lib\\\\site-packages',\n",
       " 'C:\\\\Users\\\\Admin\\\\AppData\\\\Local\\\\Programs\\\\Python\\\\Python313\\\\Lib\\\\site-packages\\\\win32',\n",
       " 'C:\\\\Users\\\\Admin\\\\AppData\\\\Local\\\\Programs\\\\Python\\\\Python313\\\\Lib\\\\site-packages\\\\win32\\\\lib',\n",
       " 'C:\\\\Users\\\\Admin\\\\AppData\\\\Local\\\\Programs\\\\Python\\\\Python313\\\\Lib\\\\site-packages\\\\Pythonwin']"
      ]
     },
     "execution_count": 2,
     "metadata": {},
     "output_type": "execute_result"
    }
   ],
   "source": [
    "import sys \n",
    "sys.path"
   ]
  },
  {
   "cell_type": "code",
   "execution_count": 8,
   "id": "f4701d66-818d-45ce-bd48-6aee03b8d9e6",
   "metadata": {},
   "outputs": [],
   "source": [
    "sys.path.append('D:\\\\kgy\\\\code\\\\mymod') # 초기화 하면 사라짐 (1회용)"
   ]
  },
  {
   "cell_type": "code",
   "execution_count": 1,
   "id": "53e7d702-5081-414e-9b59-64dc58bc0ea7",
   "metadata": {},
   "outputs": [
    {
     "ename": "NameError",
     "evalue": "name 'sys' is not defined",
     "output_type": "error",
     "traceback": [
      "\u001b[1;31m---------------------------------------------------------------------------\u001b[0m",
      "\u001b[1;31mNameError\u001b[0m                                 Traceback (most recent call last)",
      "Cell \u001b[1;32mIn[1], line 1\u001b[0m\n\u001b[1;32m----> 1\u001b[0m \u001b[43msys\u001b[49m\u001b[38;5;241m.\u001b[39mpath\n",
      "\u001b[1;31mNameError\u001b[0m: name 'sys' is not defined"
     ]
    }
   ],
   "source": [
    "sys.path"
   ]
  },
  {
   "cell_type": "markdown",
   "id": "b3279060-e45b-45bf-a422-daeafcacc164",
   "metadata": {
    "jp-MarkdownHeadingCollapsed": true
   },
   "source": [
    "- $env:PYTHONPATH=D:\\kgy\\code\\mymod\n",
    "- PS PYTHONPATH = D:\\kgy\\code\\mymod"
   ]
  },
  {
   "cell_type": "code",
   "execution_count": 4,
   "id": "d327abba-84fe-44f1-a706-88a49291337e",
   "metadata": {
    "scrolled": true
   },
   "outputs": [
    {
     "name": "stdout",
     "output_type": "stream",
     "text": [
      "Requirement already satisfied: pip in c:\\users\\admin\\appdata\\local\\programs\\python\\python313\\lib\\site-packages (25.0)\n",
      "Collecting pip\n",
      "  Downloading pip-25.0.1-py3-none-any.whl.metadata (3.7 kB)\n",
      "Downloading pip-25.0.1-py3-none-any.whl (1.8 MB)\n",
      "   ---------------------------------------- 0.0/1.8 MB ? eta -:--:--\n",
      "   ---------------------------------------- 1.8/1.8 MB 9.6 MB/s eta 0:00:00\n"
     ]
    },
    {
     "name": "stderr",
     "output_type": "stream",
     "text": [
      "\n",
      "[notice] A new release of pip is available: 25.0 -> 25.0.1\n",
      "[notice] To update, run: python.exe -m pip install --upgrade pip\n",
      "ERROR: To modify pip, please run the following command:\n",
      "C:\\Users\\Admin\\AppData\\Local\\Programs\\Python\\Python313\\python.exe -m pip install --upgrade pip\n"
     ]
    }
   ],
   "source": [
    "# !pip install python-dotenv\n",
    "# !pip install --upgrade pip"
   ]
  },
  {
   "cell_type": "code",
   "execution_count": 26,
   "id": "ed966d85-eb36-46bb-ac86-b81dc7969d82",
   "metadata": {},
   "outputs": [
    {
     "name": "stdout",
     "output_type": "stream",
     "text": [
      "010-9999-9999\n",
      "https://www.google.com/\n",
      "이게될까?\n"
     ]
    }
   ],
   "source": [
    "from dotenv import load_dotenv\n",
    "import os\n",
    "\n",
    " # .env #  파일 로드\n",
    "load_dotenv()\n",
    "\n",
    "SKY= os.getenv(\"SECRET.KEY\")\n",
    "print(SKY)\n",
    "DBUG= os.getenv(\"DEBUG\")\n",
    "print(DBUG)\n",
    "Test = os.getenv(\"Test\")\n",
    "print(Test)"
   ]
  },
  {
   "cell_type": "code",
   "execution_count": 35,
   "id": "134c6307-55e6-410c-82a7-3584ba91a4b4",
   "metadata": {},
   "outputs": [
    {
     "name": "stdout",
     "output_type": "stream",
     "text": [
      "{\n",
      "\t\"lastBuildDate\":\"Thu, 13 Feb 2025 15:46:31 +0900\",\n",
      "\t\"total\":9350267,\n",
      "\t\"start\":1,\n",
      "\t\"display\":5,\n",
      "\t\"items\":[\n",
      "\t\t{\n",
      "\t\t\t\"title\":\"직장인들이 퇴근 후 공부하기 힘든 이유 (feat. 4년차... \",\n",
      "\t\t\t\"link\":\"https:\\/\\/blog.naver.com\\/yoonslack\\/223759359421\",\n",
      "\t\t\t\"description\":\"사실 해도 그만 ~~ 안 해도 그만 ~~ 이라는 생각이 떠나지 않아서 처음 <b>취업<\\/b>을 할 때 공부했던 거에 비해서는 지금 이 공부에 대한 헝그리 정신이 없었거든요 이럴 땐 여러 선구자들의 조언대로 환경을 냅다 바꿔... \",\n",
      "\t\t\t\"bloggername\":\"좋은날 맛지도 ✨\",\n",
      "\t\t\t\"bloggerlink\":\"blog.naver.com\\/yoonslack\",\n",
      "\t\t\t\"postdate\":\"20250213\"\n",
      "\t\t},\n",
      "\t\t{\n",
      "\t\t\t\"title\":\"경력증명서 재직증명서 차이 대체 인터넷 발급 방법 알아두기\",\n",
      "\t\t\t\"link\":\"https:\\/\\/blog.naver.com\\/nabbeneye2\\/223759360360\",\n",
      "\t\t\t\"description\":\"과거나 현재에 일을 하고 있는 직원들이 발급을 받을 수가 있으며, 해당 서류는 이직\\/<b>취업<\\/b>\\/학업\\/경력 증명 등에 사용이 됩니다. 근무기간과 일을 했던 직무내용이나 퇴사한 날짜 등이 상세하게 기록이 되어있으며... \",\n",
      "\t\t\t\"bloggername\":\"깐따의 재테크\",\n",
      "\t\t\t\"bloggerlink\":\"blog.naver.com\\/nabbeneye2\",\n",
      "\t\t\t\"postdate\":\"20250213\"\n",
      "\t\t},\n",
      "\t\t{\n",
      "\t\t\t\"title\":\"LH 청년매입임대주택 입주 후기 ㅣ ep01. LH청약플러스 모집... \",\n",
      "\t\t\t\"link\":\"https:\\/\\/blog.naver.com\\/zerome40\\/223759360428\",\n",
      "\t\t\t\"description\":\"안녕하세요 -`♥´- 여러분 저는 <b>취업<\\/b>하고나서 집 가까운게 짱! 이라는 생각으로 회사 근처(전북 지역) 원룸에서 살게 되었는데요~ 5년 간 월세로 한 집에 살다보니 ① 주변 환경을 변화시켜 보자 ② 짐이 점점... \",\n",
      "\t\t\t\"bloggername\":\"뇽카이브\",\n",
      "\t\t\t\"bloggerlink\":\"blog.naver.com\\/zerome40\",\n",
      "\t\t\t\"postdate\":\"20250213\"\n",
      "\t\t},\n",
      "\t\t{\n",
      "\t\t\t\"title\":\"컴퓨터활용능력2급 실기, 2025년 3월 개강안내 - 오전반... \",\n",
      "\t\t\t\"link\":\"https:\\/\\/blog.naver.com\\/wi-zard\\/223759359852\",\n",
      "\t\t\t\"description\":\"https:\\/\\/hrd.work24.go.kr\\/hrdp\\/co\\/pcobo\\/PCOBO0100P.do?tracseId=AIG20240000460989&amp;tracseTme=11&amp;crseTracseSe=C0061&amp;trainstCstmrId=500035666684&amp;tracseReqstsCd=undefined&amp;cstmConsTme=undefined#undefined 국비교육 받고, 자격증 취득하고, <b>취업<\\/b>하자!!... \",\n",
      "\t\t\t\"bloggername\":\"위자드컴퓨터학원\",\n",
      "\t\t\t\"bloggerlink\":\"blog.naver.com\\/wi-zard\",\n",
      "\t\t\t\"postdate\":\"20250213\"\n",
      "\t\t},\n",
      "\t\t{\n",
      "\t\t\t\"title\":\"내연녀소송 법적 책임은\",\n",
      "\t\t\t\"link\":\"https:\\/\\/blog.naver.com\\/gjwldus9909\\/223759358115\",\n",
      "\t\t\t\"description\":\"형사 처벌과 추가적인 법적 조치 만약 혐의가 인정될 경우, 3년 이상의 징역형이 선고될 수 있으며, 이와 함께 신상 공개, <b>취업<\\/b> 제한, 전자 발찌 착용 등의 추가적인 법적 제재가 따를 수도 있습니다. 따라서 법적... \",\n",
      "\t\t\t\"bloggername\":\"이혼·상간소송 특화-법무법인 감명 이혼가사전담센터\",\n",
      "\t\t\t\"bloggerlink\":\"blog.naver.com\\/gjwldus9909\",\n",
      "\t\t\t\"postdate\":\"20250213\"\n",
      "\t\t}\n",
      "\t]\n",
      "}\n"
     ]
    }
   ],
   "source": [
    "# 네이버 검색 API 예제 - 블로그 검색\n",
    "import os\n",
    "import sys\n",
    "import urllib.request\n",
    "from dotenv import load_dotenv\n",
    "\n",
    "load_dotenv()\n",
    "client_id = os.environ.get(\"MY_ID\")\n",
    "client_secret = os.environ.get(\"MY_SECRET\")\n",
    "encText = urllib.parse.quote(\"취업\")\n",
    "url = \"https://openapi.naver.com/v1/search/blog?query=\" + encText + '&display=5&start=1&sort=date'   # JSON 결과\n",
    "# url = \"https://openapi.naver.com/v1/search/blog.xml?query=\" + encText # XML 결과\n",
    "request = urllib.request.Request(url)\n",
    "request.add_header(\"X-Naver-Client-Id\",client_id)\n",
    "request.add_header(\"X-Naver-Client-Secret\",client_secret)\n",
    "response = urllib.request.urlopen(request)\n",
    "rescode = response.getcode()\n",
    "if(rescode==200):\n",
    "    response_body = response.read()\n",
    "    print(response_body.decode('utf-8'))\n",
    "else:\n",
    "    print(\"Error Code:\" + rescode)"
   ]
  },
  {
   "cell_type": "code",
   "execution_count": 40,
   "id": "1c1b7129-db0b-4d44-b98b-7e771169b72e",
   "metadata": {},
   "outputs": [
    {
     "name": "stdout",
     "output_type": "stream",
     "text": [
      "{'title': '[<b>속보</b>] 임종훈 한미사이언스 대표 사임…송영숙, 대표 선임', 'originallink': 'https://biz.sbs.co.kr/article_hub/20000217807?division=NAVER', 'link': 'https://n.news.naver.com/mnews/article/374/0000425302?sid=101', 'description': '임종훈 한미사이언스 대표 사임…송영숙 회장, 대표 선임', 'pubDate': 'Thu, 13 Feb 2025 16:23:00 +0900'}\n",
      "[속보] 임종훈 한미사이언스 대표 사임…송영숙, 대표 선임\n",
      "임종훈 한미사이언스 대표 사임…송영숙 회장, 대표 선임\n",
      "https://biz.sbs.co.kr/article_hub/20000217807?division=NAVER\n",
      "{'title': '[<b>속보</b>]최상목 &quot;정부도 추경 필요 입장&quot;', 'originallink': 'https://www.sedaily.com/NewsView/2GOYDUZ775', 'link': 'https://n.news.naver.com/mnews/article/011/0004450210?sid=101', 'description': '정부가 추가경정예산(추경) 편성의 필요성을 인정하며 국회와 논의할 뜻을 밝혔다. 최상목 권한대행은 이날 오후 국회에서 열린 대정부질문에서 더불어민주당이 발표한 35조 원 규모의 추경 예산과 관련해 대통령실만... ', 'pubDate': 'Thu, 13 Feb 2025 16:22:00 +0900'}\n",
      "[속보]최상목 &quot;정부도 추경 필요 입장&quot;\n",
      "정부가 추가경정예산(추경) 편성의 필요성을 인정하며 국회와 논의할 뜻을 밝혔다. 최상목 권한대행은 이날 오후 국회에서 열린 대정부질문에서 더불어민주당이 발표한 35조 원 규모의 추경 예산과 관련해 대통령실만... \n",
      "https://www.sedaily.com/NewsView/2GOYDUZ775\n",
      "{'title': '[<b>속보</b>] 한미사이언스 대표이사, 임종훈에서 송영숙으로 변경', 'originallink': 'https://www.sedaily.com/NewsView/2GOYCTWQSP', 'link': 'https://n.news.naver.com/mnews/article/011/0004450207?sid=103', 'description': '한미사이언스(008930)는 임종훈 한미사이언스 대표가 사임함에 따라 이사회 결의를 통해 송영숙 대표이사를 신규선임했다고 13일 밝혔다.', 'pubDate': 'Thu, 13 Feb 2025 16:21:00 +0900'}\n",
      "[속보] 한미사이언스 대표이사, 임종훈에서 송영숙으로 변경\n",
      "한미사이언스(008930)는 임종훈 한미사이언스 대표가 사임함에 따라 이사회 결의를 통해 송영숙 대표이사를 신규선임했다고 13일 밝혔다.\n",
      "https://www.sedaily.com/NewsView/2GOYCTWQSP\n",
      "{'title': '[<b>속보</b>] 국힘 윤리위, 尹 제명·출당 등 징계 않기로', 'originallink': 'https://www.imaeil.com/page/view/2025021316083091059', 'link': 'https://n.news.naver.com/mnews/article/088/0000930918?sid=100', 'description': '국민의힘 중앙윤리위원회가 12·3 비상계엄을 선포한 윤석열 대통령에 대한 징계 절차 종결을 선언하고 제명·탈당 권유 등 징계 조치를 하지 않기로 결론을 내렸다. 여상원 윤리위원장은 13일 오전 서울 여의도 당사에서... ', 'pubDate': 'Thu, 13 Feb 2025 16:20:00 +0900'}\n",
      "[속보] 국힘 윤리위, 尹 제명·출당 등 징계 않기로\n",
      "국민의힘 중앙윤리위원회가 12·3 비상계엄을 선포한 윤석열 대통령에 대한 징계 절차 종결을 선언하고 제명·탈당 권유 등 징계 조치를 하지 않기로 결론을 내렸다. 여상원 윤리위원장은 13일 오전 서울 여의도 당사에서... \n",
      "https://www.imaeil.com/page/view/2025021316083091059\n",
      "{'title': '[<b>속보</b>] 조성현 &quot;이진우, 계엄 당일 공포탄 챙기라고 지시&quot;', 'originallink': 'https://www.newscj.com/news/articleView.html?idxno=3233672', 'link': 'https://www.newscj.com/news/articleView.html?idxno=3233672', 'description': '조성현 &quot;이진우, 계엄 당일 공포탄 챙기라고 지시&quot;', 'pubDate': 'Thu, 13 Feb 2025 16:20:00 +0900'}\n",
      "[속보] 조성현 &quot;이진우, 계엄 당일 공포탄 챙기라고 지시&quot;\n",
      "조성현 &quot;이진우, 계엄 당일 공포탄 챙기라고 지시&quot;\n",
      "https://www.newscj.com/news/articleView.html?idxno=3233672\n"
     ]
    }
   ],
   "source": [
    "# 네이버 검색 API 예제 - 블로그 검색\n",
    "import os\n",
    "import sys\n",
    "import urllib.request\n",
    "from dotenv import load_dotenv\n",
    "import json\n",
    "\n",
    "load_dotenv()\n",
    "client_id = os.environ.get(\"MY_ID\")\n",
    "client_secret = os.environ.get(\"MY_SECRET\")\n",
    "encText = urllib.parse.quote(\"속보\")\n",
    "url = \"https://openapi.naver.com/v1/search/news?query=\" + encText + '&display=5&start=1&sort=date'   # JSON 결과\n",
    "# url = \"https://openapi.naver.com/v1/search/blog.xml?query=\" + encText # XML 결과\n",
    "request = urllib.request.Request(url)\n",
    "request.add_header(\"X-Naver-Client-Id\",client_id)\n",
    "request.add_header(\"X-Naver-Client-Secret\",client_secret)\n",
    "response = urllib.request.urlopen(request)\n",
    "rescode = response.getcode()\n",
    "if(rescode==200):\n",
    "    response_body = response.read()\n",
    "    result = response_body.decode(\"utf-8\")\n",
    "    data = json.loads(result)\n",
    "    ldata=data['items']\n",
    "    for n in ldata:\n",
    "        print(n)\n",
    "        print(n['title'].replace('<b>','').replace('</b>',''))\n",
    "        print(n['description'])\n",
    "        print(n['originallink'])\n",
    "    \n",
    "else:\n",
    "    print(\"Error Code:\" + rescode)"
   ]
  },
  {
   "cell_type": "code",
   "execution_count": null,
   "id": "3e62060a-e739-4031-ac0b-1345c96a5dfa",
   "metadata": {},
   "outputs": [],
   "source": []
  }
 ],
 "metadata": {
  "kernelspec": {
   "display_name": "Python 3 (ipykernel)",
   "language": "python",
   "name": "python3"
  },
  "language_info": {
   "codemirror_mode": {
    "name": "ipython",
    "version": 3
   },
   "file_extension": ".py",
   "mimetype": "text/x-python",
   "name": "python",
   "nbconvert_exporter": "python",
   "pygments_lexer": "ipython3",
   "version": "3.13.1"
  }
 },
 "nbformat": 4,
 "nbformat_minor": 5
}
