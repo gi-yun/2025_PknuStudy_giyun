{
 "cells": [
  {
   "cell_type": "markdown",
   "id": "07b7f45f-d944-4821-a7a6-5271826fdc10",
   "metadata": {},
   "source": [
    "# 내장함수"
   ]
  },
  {
   "cell_type": "markdown",
   "id": "e75aea10-71ad-4c6c-a56d-b76eea8cb073",
   "metadata": {},
   "source": [
    "## abs\n",
    "- abs(x)는 어떤 숫자를 입력받았을 때 그 숫자의 절댓값을 리턴하는 함수이다."
   ]
  },
  {
   "cell_type": "code",
   "execution_count": 3,
   "id": "259d4f0e-9a82-4dfe-8f10-949c973cdc18",
   "metadata": {},
   "outputs": [
    {
     "name": "stdout",
     "output_type": "stream",
     "text": [
      "3\n",
      "3\n",
      "1.2\n"
     ]
    }
   ],
   "source": [
    "print(abs(3))\n",
    "print(abs(-3))\n",
    "print(abs(-1.2))"
   ]
  },
  {
   "cell_type": "markdown",
   "id": "72e14b25-0eb4-4e7c-8de1-d5ae7fb4f298",
   "metadata": {},
   "source": [
    "## all\n",
    "all(x)는 반복 가능한 데이터 x를 입력값으로 받으며 이x의 요소가 모두 참이면<br>\n",
    "True, 거짓이 하나라도 있으면 False를 리턴한다."
   ]
  },
  {
   "cell_type": "code",
   "execution_count": 9,
   "id": "2fa67cc9-8244-44c0-b288-d5a34a37f2a7",
   "metadata": {},
   "outputs": [
    {
     "name": "stdout",
     "output_type": "stream",
     "text": [
      "True\n",
      "False\n",
      "True\n"
     ]
    }
   ],
   "source": [
    "print(all([1,2,3]))\n",
    "print(all([1,2,3,0]))\n",
    "print(all([])) # *특이사항 값이 빈 값인 경우 True값을 리턴한다."
   ]
  },
  {
   "cell_type": "markdown",
   "id": "b8989083-b3dc-4ead-907e-5ad199f0cf90",
   "metadata": {},
   "source": [
    "## any\n",
    "any(x)는 반복 가능한 데이터 x를 입력으로 받아 x의 요소 중 하나라도 참이 있으면 True를 리턴하고 x가 모두 거짓일 때만 False를 리턴한다.<br>\n",
    "즉,  all(x)의 반대로 작동한다."
   ]
  },
  {
   "cell_type": "code",
   "execution_count": 15,
   "id": "13384503-8862-4d13-8c64-5375d1fdce9f",
   "metadata": {},
   "outputs": [
    {
     "name": "stdout",
     "output_type": "stream",
     "text": [
      "True\n",
      "False\n",
      "False\n"
     ]
    }
   ],
   "source": [
    "print(any([1,2,3,0]))\n",
    "print(any([0,\"\"]))\n",
    "print(any([])) # 빈 값일 경우 False를 리턴한다."
   ]
  },
  {
   "cell_type": "markdown",
   "id": "7a5f42b0-2871-4287-9ca1-739529bf4b3a",
   "metadata": {},
   "source": [
    "## chr\n",
    "chr(i)는 유니코드 숫자 값을 입력받아 그 코드에 해당하는 문자를 리턴하는 함수이다."
   ]
  },
  {
   "cell_type": "code",
   "execution_count": 21,
   "id": "d0c049f3-c28e-4ea0-a925-56c69b3473de",
   "metadata": {},
   "outputs": [
    {
     "name": "stdout",
     "output_type": "stream",
     "text": [
      "a\n",
      "가\n",
      "65\n",
      "44032\n"
     ]
    }
   ],
   "source": [
    "# 아스키 코드\n",
    "print(chr(97))\n",
    "print(chr(44032))\n",
    "# 유니코드 - UTF-8\n",
    "print(ord('A'))\n",
    "print(ord('가'))"
   ]
  },
  {
   "cell_type": "markdown",
   "id": "cb04b617-7fc5-4c30-bd2a-de5deae0eef1",
   "metadata": {},
   "source": [
    "## 예제 문제"
   ]
  },
  {
   "cell_type": "code",
   "execution_count": 44,
   "id": "9964a7be-c26e-4c32-a527-3df163c7f303",
   "metadata": {},
   "outputs": [
    {
     "name": "stdout",
     "output_type": "stream",
     "text": [
      "A\n",
      "B\n",
      "C\n",
      "D\n",
      "E\n",
      "F\n",
      "G\n",
      "H\n",
      "I\n",
      "J\n",
      "K\n",
      "L\n",
      "M\n",
      "N\n",
      "O\n",
      "P\n",
      "Q\n",
      "R\n",
      "S\n",
      "T\n",
      "U\n",
      "V\n",
      "W\n",
      "X\n",
      "Y\n",
      "Z\n"
     ]
    }
   ],
   "source": [
    "# 1) 아스키코드표를 보고 A부터 Z까지 차례로 모두 출력하라.\n",
    "A = ord(\"A\") #65\n",
    "Z = ord(\"Z\") #90\n",
    "\n",
    "\n",
    "for n in range(65,91):\n",
    "    print(chr(n))"
   ]
  },
  {
   "cell_type": "code",
   "execution_count": 43,
   "id": "ccdb433d-651a-4221-ab51-459b88969ae0",
   "metadata": {},
   "outputs": [
    {
     "name": "stdout",
     "output_type": "stream",
     "text": [
      "z\n",
      "y\n",
      "x\n",
      "w\n",
      "v\n",
      "u\n",
      "t\n",
      "s\n",
      "r\n",
      "q\n",
      "p\n",
      "o\n",
      "n\n",
      "m\n",
      "l\n",
      "k\n",
      "j\n",
      "i\n",
      "h\n",
      "g\n",
      "f\n",
      "e\n",
      "d\n",
      "c\n",
      "b\n",
      "a\n"
     ]
    }
   ],
   "source": [
    "# 2) 소문자 z부터 a까지 역순으로 모두 차례대로 출력하라.\n",
    "\n",
    "a = ord(\"a\") #97\n",
    "z = ord(\"z\") #122\n",
    "\n",
    "\n",
    "for n in range(122,96,-1):\n",
    "    print(chr(n))"
   ]
  },
  {
   "cell_type": "code",
   "execution_count": 55,
   "id": "817c71c8-f077-49f9-a318-0a1e70574166",
   "metadata": {},
   "outputs": [
    {
     "name": "stdout",
     "output_type": "stream",
     "text": [
      "A1\n",
      "A2\n",
      "A3\n",
      "A4\n",
      "A5\n",
      "A6\n",
      "A7\n",
      "A8\n",
      "A9\n",
      "A10\n",
      "B1\n",
      "B2\n",
      "B3\n",
      "B4\n",
      "B5\n",
      "B6\n",
      "B7\n",
      "B8\n",
      "B9\n",
      "B10\n",
      "C1\n",
      "C2\n",
      "C3\n",
      "C4\n",
      "C5\n",
      "C6\n",
      "C7\n",
      "C8\n",
      "C9\n",
      "C10\n"
     ]
    }
   ],
   "source": [
    "# 3) A1부터 A10까지 증가 후 B1부터 B10까지 증가 그리고 C1부터 C10까지 증가하게 하라.\n",
    "num = 0\n",
    "A = ord(\"A\") #65\n",
    "check=0\n",
    "while num<3 :\n",
    "    for n in range(1,11):\n",
    "        print(f'{chr(A+num)}{n}')\n",
    "    num+=1"
   ]
  },
  {
   "cell_type": "code",
   "execution_count": 14,
   "id": "55e623f3-e993-43d5-a427-75d3f8847e22",
   "metadata": {},
   "outputs": [
    {
     "name": "stdin",
     "output_type": "stream",
     "text": [
      "단어를 입력하세요:  우병우\n"
     ]
    },
    {
     "name": "stdout",
     "output_type": "stream",
     "text": [
      "똑같다\n"
     ]
    },
    {
     "name": "stdin",
     "output_type": "stream",
     "text": [
      "문장을 입력하세요:  life is good\n"
     ]
    },
    {
     "name": "stdout",
     "output_type": "stream",
     "text": [
      "가장 긴 단어는: ['life', 'good']\n"
     ]
    },
    {
     "name": "stdin",
     "output_type": "stream",
     "text": [
      "숫자를 입력하세요:  100 200 3\n"
     ]
    },
    {
     "name": "stdout",
     "output_type": "stream",
     "text": [
      "짝수: [100, 200]\n",
      "홀수: [3]\n"
     ]
    },
    {
     "name": "stdin",
     "output_type": "stream",
     "text": [
      "당신의 기분을 한 문장으로 표현해주세요:  기분이 좋아\n"
     ]
    },
    {
     "name": "stdout",
     "output_type": "stream",
     "text": [
      "입력된 단어: ['기분이', '좋아']\n",
      "긍정적인 단어: ['좋아']\n",
      "부정적인 단어: []\n",
      "기분이 좋아 보이네요!\n"
     ]
    },
    {
     "name": "stdin",
     "output_type": "stream",
     "text": [
      "원하시는 문장을 입력하세요 aa bb cc\n"
     ]
    },
    {
     "name": "stdout",
     "output_type": "stream",
     "text": [
      "Aa Bb Cc\n"
     ]
    }
   ],
   "source": [
    "class Team2:\n",
    "    def __init__(self):\n",
    "        self.cont=\"\"\n",
    "        self.res=[]\n",
    "        self.word = \"\"\n",
    "        self.lst = \"\"\n",
    "        self.long_result=[]\n",
    "        self.pw = []\n",
    "        self.nw = []\n",
    "        self.status = \"\"\n",
    "        \n",
    "    #거꾸로 읽어도 같은 단어를 확인하는 함수\n",
    "    def compare(self):\n",
    "        self.word=input(\"단어를 입력하세요: \")\n",
    "        if self.word==self.word[::-1]:\n",
    "            print(\"똑같다\")\n",
    "        else: \n",
    "            print(\"다르다\")\n",
    "    # 홀수 짝수 나누는 조건 함수 * display_numbers의 하위 함수\n",
    "    def ex2(self):\n",
    "        self.lst = list(map(int, input(\"숫자를 입력하세요: \").split()))\n",
    "        lst1 = [i for i in self.lst if i % 2 == 0]\n",
    "        lst2 = [i for i in self.lst if i % 2 != 0]\n",
    "        return lst1, lst2\n",
    "        \n",
    "    #홀수 짝수를 나누어 주는 함수\n",
    "    def display_numbers(self):\n",
    "        num1, num2 = self.ex2()\n",
    "        print(\"짝수:\", num1)\n",
    "        print(\"홀수:\", num2)\n",
    "\n",
    "    #가장 긴 단어를 가져오는 함수\n",
    "    def longest_words(self):\n",
    "        long_result = self.long_result\n",
    "        words = input(\"문장을 입력하세요: \").split()\n",
    "        max_len = len(max(words, key=len))\n",
    "    \n",
    "        for word in words:\n",
    "            if len(word) == max_len:\n",
    "                long_result.append(word)\n",
    "    \n",
    "        print(\"가장 긴 단어는:\", long_result)\n",
    "\n",
    "    # 문장을 받는 함수 *p4의 하위 함수\n",
    "    def face(self):\n",
    "        self.status = input(\"당신의 기분을 한 문장으로 표현해주세요: \").split()\n",
    "        return self.status\n",
    "\n",
    "    # 문장을 보고 기분을 나타내는 함수\n",
    "    def p4(self):\n",
    "        self.face()\n",
    "        positive_words = [\"좋아\", \"행복\", \"멋져\", \"최고\", \"사랑해\"]\n",
    "        negative_words = [\"싫어\", \"화나\", \"짜증\", \"별로\", \"나빠\"]\n",
    "\n",
    "        print(\"입력된 단어:\", self.status)\n",
    "        \n",
    "        for i in self.status:\n",
    "            if i in positive_words:\n",
    "                self.pw.append(i)\n",
    "            elif i in negative_words:\n",
    "                self.nw.append(i)\n",
    "                \n",
    "        print(\"긍정적인 단어:\", self.pw)\n",
    "        print(\"부정적인 단어:\", self.nw)\n",
    "\n",
    "        if len(self.pw) > len(self.nw):\n",
    "            print(\"기분이 좋아 보이네요!\")\n",
    "        elif len(self.nw) > len(self.pw):\n",
    "            print(\"기분이 나빠 보이네요.\")\n",
    "        else:\n",
    "            print(\"평범한 하루네요.\")\n",
    "\n",
    "    #단어 첫글자가 소문자일시 대문자로 바꿔주는 함수\n",
    "    def p5(self):\n",
    "        self.cont=input(\"원하시는 문장을 입력하세요\")\n",
    "        ls=self.cont.split(\" \")\n",
    "        a=ord('a')\n",
    "        z=ord('z')\n",
    "        for n in ls:\n",
    "            up=ord(n[0])\n",
    "            if a<=up and up<=z :\n",
    "                word=n[0].upper()+n[1:]\n",
    "                self.res.append(word)\n",
    "        print(\" \".join(self.res))\n",
    "\n",
    "obj = Team2()\n",
    "obj.compare()\n",
    "obj.longest_words()\n",
    "obj.display_numbers()\n",
    "obj.p4()\n",
    "obj.p5()"
   ]
  },
  {
   "cell_type": "code",
   "execution_count": null,
   "id": "e72a3a29-c1cb-4202-8226-7564342d1353",
   "metadata": {},
   "outputs": [],
   "source": []
  },
  {
   "cell_type": "code",
   "execution_count": null,
   "id": "4bc05585-fc6d-4a86-a75a-9a720296028e",
   "metadata": {},
   "outputs": [],
   "source": [
    "positive_words = [\"좋아\", \"행복\", \"멋져\", \"최고\", \"사랑해\"]\n",
    "negative_words = [\"싫어\", \"화나\", \"짜증\", \"별로\", \"나빠\"]\n",
    "text = input(\"당신의 기분을 한 문장으로 표현해주세요: \")\n",
    "\n",
    "# 간단1\n",
    "# for v in positive_words:\n",
    "#     if v in text:\n",
    "#         print(\"기분이 좋아보이네요.\")\n",
    "# for n in negative_words:\n",
    "#     if n in text:\n",
    "#         print(\"기분이 나빠보이네요.\")\n",
    "\n",
    "# 해설2\n",
    "# if any(word in text for word in positive_words):\n",
    "#     print(\"기분이 좋아보이네요\")\n",
    "# elif any(word in text for word in negative_words):\n",
    "#     print(\"기분이 나빠보이네요\")\n",
    "# else:\n",
    "#     print(\"보통이시네요.\")\n",
    "\n",
    "# 해설3\n",
    "# pos = [v for v in positive_words if v in text]\n",
    "# print(pos,len(pos))\n",
    "# neg = [n for n in negative_words if n in text]\n",
    "# print(neg,len(neg))\n",
    "# if len(pos)> len(neg):\n",
    "# # abs(len(pos) - len(neg))>0 값의 차이, 크기, 변화폭\n",
    "#      print(\"기분이 좋아보이네요\")\n",
    "# elif len(pos)< len(neg):\n",
    "#      print(\"기분이 나빠보이네요\")\n",
    "# else:\n",
    "#     print(\"보통이시네요.\")\n",
    "\n",
    "# 해설4\n",
    "# pnum = 0\n",
    "# text = text.split(\" \")\n",
    "# for v in positive_words:\n",
    "#     for s in text:\n",
    "#         if v == s:\n",
    "#             pnum += 1\n",
    "#             print(pnum)\n",
    "# for x in negative_words:\n",
    "#     for y in text:\n",
    "#         if x == y:\n",
    "#             pnum -= 1\n",
    "#             print(pnum)\n",
    "# print(pnum)"
   ]
  },
  {
   "cell_type": "code",
   "execution_count": 1,
   "id": "9bdddad3-039a-4a73-9502-24b35a1990f0",
   "metadata": {},
   "outputs": [
    {
     "name": "stdout",
     "output_type": "stream",
     "text": [
      "Collecting konlpy\n",
      "  Downloading konlpy-0.6.0-py2.py3-none-any.whl.metadata (1.9 kB)\n",
      "Collecting JPype1>=0.7.0 (from konlpy)\n",
      "  Downloading jpype1-1.5.2-cp313-cp313-win_amd64.whl.metadata (5.0 kB)\n",
      "Collecting lxml>=4.1.0 (from konlpy)\n",
      "  Downloading lxml-5.3.1-cp313-cp313-win_amd64.whl.metadata (3.8 kB)\n",
      "Requirement already satisfied: numpy>=1.6 in c:\\users\\admin\\appdata\\local\\programs\\python\\python313\\lib\\site-packages (from konlpy) (2.2.2)\n",
      "Requirement already satisfied: packaging in c:\\users\\admin\\appdata\\local\\programs\\python\\python313\\lib\\site-packages (from JPype1>=0.7.0->konlpy) (24.2)\n",
      "Downloading konlpy-0.6.0-py2.py3-none-any.whl (19.4 MB)\n",
      "   ---------------------------------------- 0.0/19.4 MB ? eta -:--:--\n",
      "   --------------------- ------------------ 10.5/19.4 MB 76.5 MB/s eta 0:00:01\n",
      "   ---------------------------------------  19.4/19.4 MB 48.7 MB/s eta 0:00:01\n",
      "   ---------------------------------------- 19.4/19.4 MB 45.8 MB/s eta 0:00:00\n",
      "Downloading jpype1-1.5.2-cp313-cp313-win_amd64.whl (356 kB)\n",
      "Downloading lxml-5.3.1-cp313-cp313-win_amd64.whl (3.8 MB)\n",
      "   ---------------------------------------- 0.0/3.8 MB ? eta -:--:--\n",
      "   ---------------------------------------- 3.8/3.8 MB 84.3 MB/s eta 0:00:00\n",
      "Installing collected packages: lxml, JPype1, konlpy\n",
      "Successfully installed JPype1-1.5.2 konlpy-0.6.0 lxml-5.3.1\n"
     ]
    },
    {
     "name": "stderr",
     "output_type": "stream",
     "text": [
      "\n",
      "[notice] A new release of pip is available: 25.0 -> 25.0.1\n",
      "[notice] To update, run: python.exe -m pip install --upgrade pip\n"
     ]
    }
   ],
   "source": [
    "!pip install konlpy"
   ]
  },
  {
   "cell_type": "code",
   "execution_count": 44,
   "id": "c9ac130c-da04-45a9-b1c0-31652b180017",
   "metadata": {},
   "outputs": [
    {
     "name": "stdin",
     "output_type": "stream",
     "text": [
      "당신의 기분을 한 문장으로 표현해주세요:  기분이 나빠\n"
     ]
    },
    {
     "name": "stdout",
     "output_type": "stream",
     "text": [
      "['기분', '이', '나쁘다']\n"
     ]
    }
   ],
   "source": [
    "from konlpy.tag import Okt\n",
    "\n",
    "#한글 형태소 분석기\n",
    "okt = Okt()\n",
    "\n",
    "positive_words = [\"좋아\", \"행복\", \"멋져\", \"최고\", \"사랑해\"]\n",
    "negative_words = [\"싫어\", \"화나\", \"짜증\", \"별로\", \"나쁘다\"]\n",
    "text =  input(\"당신의 기분을 한 문장으로 표현해주세요: \")\n",
    "\n",
    "words = okt.morphs(text, stem= True)\n",
    "print(words)"
   ]
  },
  {
   "cell_type": "code",
   "execution_count": 3,
   "id": "d489700a-8252-49eb-8222-ac54af081f4d",
   "metadata": {},
   "outputs": [
    {
     "name": "stderr",
     "output_type": "stream",
     "text": [
      "java version \"1.8.0_441\"\n",
      "Java(TM) SE Runtime Environment (build 1.8.0_441-b07)\n",
      "Java HotSpot(TM) 64-Bit Server VM (build 25.441-b07, mixed mode)\n"
     ]
    }
   ],
   "source": [
    "!java -version"
   ]
  },
  {
   "cell_type": "code",
   "execution_count": 5,
   "id": "3d099d12-7668-4212-8f55-2dd03b19fb23",
   "metadata": {},
   "outputs": [
    {
     "data": {
      "text/plain": [
       "(2, 1)"
      ]
     },
     "execution_count": 5,
     "metadata": {},
     "output_type": "execute_result"
    }
   ],
   "source": [
    "divmod(7,3)"
   ]
  },
  {
   "cell_type": "code",
   "execution_count": 43,
   "id": "4349d726-83af-4c09-88cf-00d442e77ff2",
   "metadata": {},
   "outputs": [
    {
     "name": "stdout",
     "output_type": "stream",
     "text": [
      "0 body\n",
      "1 foo\n",
      "2 bar\n",
      "1 순위 과일은: apple\n",
      "2 순위 과일은: banana\n",
      "3 순위 과일은: kiwi\n",
      "4 순위 과일은: cherry\n",
      "5 순위 과일은: mango\n"
     ]
    }
   ],
   "source": [
    "# enumerate ** 열거하다.\n",
    "for i, name in enumerate(['body', 'foo', 'bar']):\n",
    "    print(i, name)\n",
    "\n",
    "\n",
    "fruit = ['apple','banana','kiwi','cherry','mango']\n",
    "for i, f in enumerate(fruit, start= 1):\n",
    "    print(i,'순위 과일은:',f)"
   ]
  },
  {
   "cell_type": "code",
   "execution_count": null,
   "id": "5d0f37a0-e6cc-47c1-ada7-6c89347f7a24",
   "metadata": {},
   "outputs": [],
   "source": [
    "# 문자열로 구성된 실행값을 리턴, 보안문제로 추천하진 않음.\n",
    "print(eval('1,2'))\n",
    "\n",
    "print(eval(\"'A'+'1'\"))"
   ]
  },
  {
   "cell_type": "code",
   "execution_count": 7,
   "id": "9aee7b09-7f31-429b-a2bf-5269fae7b389",
   "metadata": {},
   "outputs": [
    {
     "name": "stdout",
     "output_type": "stream",
     "text": [
      "[1, 2, 6]\n"
     ]
    }
   ],
   "source": [
    "#양수만 판단해서 꺼내는 함수\n",
    "def positive(l):\n",
    "    result = []\n",
    "    for i in l :\n",
    "        if i>0 :\n",
    "            result.append(i) #리스트에 i 추가\n",
    "    return result\n",
    "print(positive([1,-3,2,0,-5,6]))"
   ]
  },
  {
   "cell_type": "code",
   "execution_count": 16,
   "id": "19c0c702-6700-48ae-b7a9-c606dbf18392",
   "metadata": {},
   "outputs": [
    {
     "name": "stdout",
     "output_type": "stream",
     "text": [
      "[1, 2, 6]\n"
     ]
    }
   ],
   "source": [
    "def pos(l):\n",
    "    return[i for i in l if i> 0]\n",
    "print(pos([1,-3,2,0,-5,6]))"
   ]
  },
  {
   "cell_type": "code",
   "execution_count": 26,
   "id": "530c56d9-bcd2-4ce4-9eee-6c09f6d78d50",
   "metadata": {},
   "outputs": [
    {
     "name": "stdout",
     "output_type": "stream",
     "text": [
      "[1, 2, 6]\n",
      "[1, 2, 6]\n",
      "[1, 2, 6]\n"
     ]
    }
   ],
   "source": [
    "#filter\n",
    "def positive(x):\n",
    "    return x>0\n",
    "l = [1,-3, 2, 0,-5, 6]\n",
    "print(list(filter(positive, [1,-3, 2, 0, -5, 6])))\n",
    "print(list(filter(positive, l)))\n",
    "print(list(filter(lambda x : x>0, l)))\n"
   ]
  },
  {
   "cell_type": "code",
   "execution_count": 28,
   "id": "e764386c-242a-44a1-bf17-0503672a240c",
   "metadata": {},
   "outputs": [
    {
     "name": "stdout",
     "output_type": "stream",
     "text": [
      "1\n",
      "2\n",
      "6\n"
     ]
    }
   ],
   "source": [
    "for n in filter(lambda x : x>0, l): #range(4)\n",
    "    print(n)"
   ]
  },
  {
   "cell_type": "code",
   "execution_count": 32,
   "id": "932eb050-3e9f-4938-8273-c3fe71a5a0fb",
   "metadata": {},
   "outputs": [
    {
     "name": "stdout",
     "output_type": "stream",
     "text": [
      "0xea\n",
      "0o352\n",
      "0b11101010\n"
     ]
    }
   ],
   "source": [
    "# hex, oct, bin\n",
    "print(hex(234))\n",
    "print(oct(234))\n",
    "print(bin(234))"
   ]
  },
  {
   "cell_type": "code",
   "execution_count": 35,
   "id": "28a82707-9b13-482d-9be7-944502b39f38",
   "metadata": {},
   "outputs": [
    {
     "name": "stdout",
     "output_type": "stream",
     "text": [
      "140725303837672\n",
      "140725303837672\n",
      "140725303837672\n",
      "True\n"
     ]
    }
   ],
   "source": [
    "# id 고유 주솟값 리턴\n",
    "a = 3\n",
    "print (id(3))\n",
    "print(id(a))\n",
    "b=a\n",
    "print(id(b))\n",
    "print(all([id(a)==id(a),id(a)==id(b)]))"
   ]
  },
  {
   "cell_type": "code",
   "execution_count": 36,
   "id": "d67fc58f-51be-4c4d-b8e5-cd96ef258c64",
   "metadata": {},
   "outputs": [],
   "source": [
    "# input\n",
    "# input은 스트링으로 값을 전달 받는다. 그러므로 int나 float으로 변경할 것"
   ]
  },
  {
   "cell_type": "code",
   "execution_count": 37,
   "id": "b2ec93be-862f-4d86-b165-1954f6bf29da",
   "metadata": {},
   "outputs": [],
   "source": [
    "# int *\n",
    "# 문자를 숫자로 변환, 정수로 변환, 소수점이 사라짐."
   ]
  },
  {
   "cell_type": "code",
   "execution_count": 47,
   "id": "3ac98542-0850-42c7-a970-7d50cdad5f55",
   "metadata": {},
   "outputs": [
    {
     "name": "stdout",
     "output_type": "stream",
     "text": [
      "True\n",
      "True\n",
      "False\n"
     ]
    }
   ],
   "source": [
    "# isinstance(object, class)인스턴스 확인용\n",
    "\n",
    "class Person:\n",
    "    def p(self):\n",
    "        return(\"사람입니다.\")\n",
    "class Animal:pass\n",
    "    \n",
    "a = Person()\n",
    "b = Person()\n",
    "c = Animal()\n",
    "a.p()\n",
    "b.p()\n",
    "print(isinstance(a,Person))\n",
    "print(isinstance(b,Person))\n",
    "print(isinstance(c,Person))"
   ]
  },
  {
   "cell_type": "code",
   "execution_count": 48,
   "id": "99a0ee39-9fa8-4165-b941-5b9e9932259f",
   "metadata": {},
   "outputs": [],
   "source": [
    "# len"
   ]
  },
  {
   "cell_type": "code",
   "execution_count": 42,
   "id": "3f8e199a-8aeb-444f-b36e-7f4232239c99",
   "metadata": {},
   "outputs": [
    {
     "data": {
      "text/plain": [
       "[2, 4, 6, 8]"
      ]
     },
     "execution_count": 42,
     "metadata": {},
     "output_type": "execute_result"
    }
   ],
   "source": [
    "# list\n",
    "list(map(lambda x: x*2,[1,2,3,4]))"
   ]
  },
  {
   "cell_type": "code",
   "execution_count": 50,
   "id": "e894a32e-8189-40ce-bb14-9b8c1390ff19",
   "metadata": {},
   "outputs": [
    {
     "name": "stdout",
     "output_type": "stream",
     "text": [
      "[2, 4, 6, 8]\n"
     ]
    }
   ],
   "source": [
    "# map\n",
    "def two_times(numberList) :\n",
    "    result =[]\n",
    "    for number in numberList:\n",
    "        result.append(number*2)\n",
    "    return result\n",
    "\n",
    "result = two_times([1,2,3,4])\n",
    "print(result)"
   ]
  },
  {
   "cell_type": "code",
   "execution_count": 54,
   "id": "b3b1b6f5-1b58-467d-b05a-360b05104fd7",
   "metadata": {},
   "outputs": [
    {
     "data": {
      "text/plain": [
       "[2, 4, 6, 8]"
      ]
     },
     "execution_count": 54,
     "metadata": {},
     "output_type": "execute_result"
    }
   ],
   "source": [
    "def two_times(x):\n",
    "    return x*2\n",
    "\n",
    "list(map(two_times,[1,2,3,4]))"
   ]
  },
  {
   "cell_type": "code",
   "execution_count": 55,
   "id": "7b1413b4-2d69-4e4f-8fa1-bf2efc02c1f1",
   "metadata": {},
   "outputs": [
    {
     "data": {
      "text/plain": [
       "[2, 4, 6, 8]"
      ]
     },
     "execution_count": 55,
     "metadata": {},
     "output_type": "execute_result"
    }
   ],
   "source": [
    "list(map(lambda a:a*2, [1,2,3,4]))"
   ]
  },
  {
   "cell_type": "code",
   "execution_count": 41,
   "id": "90ee2344-37eb-466c-aebe-08135f6253a6",
   "metadata": {},
   "outputs": [
    {
     "name": "stdout",
     "output_type": "stream",
     "text": [
      "True\n",
      "False\n",
      "15\n",
      "50\n",
      "150\n",
      "[2, 3, 6]\n",
      "[2, 4, 6]\n",
      "[11, 12, 13, 14, 15, 16]\n",
      "[10, 20, 30, 40, 50, 60]\n",
      "[110, 120, 130, 140, 150, 160]\n"
     ]
    }
   ],
   "source": [
    "# 테스트\n",
    "li = {1,2,3,4,5,6}\n",
    "def odd(x):\n",
    "    return x&2 !=0\n",
    "def even(x):\n",
    "    return x%2 ==0\n",
    "def add(x):\n",
    "    return x+10\n",
    "def mul(x):\n",
    "    return x*10\n",
    "def addmul(x):\n",
    "    return (x+10)*10\n",
    "print(odd(3))\n",
    "print(even(3))\n",
    "print(add(5))\n",
    "print(mul(5))\n",
    "print(addmul(5))\n",
    "\n",
    "print(list(filter(odd,li)))\n",
    "print(list(filter(even,li)))\n",
    "print(list(map(add,li)))\n",
    "print(list(map(mul,li)))\n",
    "print(list(map(addmul,li)))"
   ]
  },
  {
   "cell_type": "code",
   "execution_count": 71,
   "id": "491748fb-c6db-42c7-b90e-a4123a83981a",
   "metadata": {},
   "outputs": [
    {
     "data": {
      "text/plain": [
       "'y'"
      ]
     },
     "execution_count": 71,
     "metadata": {},
     "output_type": "execute_result"
    }
   ],
   "source": [
    "# max\n",
    "max(1,21,3,14,56,16,7)\n",
    "max('python') #문자일 경우 유니코드 값으로 판단"
   ]
  },
  {
   "cell_type": "code",
   "execution_count": 72,
   "id": "026eac16-f498-4911-9dcf-2b44530aa38e",
   "metadata": {},
   "outputs": [
    {
     "data": {
      "text/plain": [
       "'h'"
      ]
     },
     "execution_count": 72,
     "metadata": {},
     "output_type": "execute_result"
    }
   ],
   "source": [
    "# min\n",
    "min(1,21,3,14,56,16,7)\n",
    "min('python') #문자일 경우 유니코드 값으로 판단"
   ]
  },
  {
   "cell_type": "code",
   "execution_count": 78,
   "id": "750dd300-057b-4586-8d57-705951b1e7a1",
   "metadata": {},
   "outputs": [
    {
     "data": {
      "text/plain": [
       "'aa\\naa\\naa\\n'"
      ]
     },
     "execution_count": 78,
     "metadata": {},
     "output_type": "execute_result"
    }
   ],
   "source": [
    "# open \n",
    "f= open('text.txt', 'r',encoding=\"utf-8\")\n",
    "f.read()"
   ]
  },
  {
   "cell_type": "code",
   "execution_count": 80,
   "id": "74776376-9b1a-4536-91fc-0ba4831b34ee",
   "metadata": {},
   "outputs": [
    {
     "name": "stdout",
     "output_type": "stream",
     "text": [
      "32\n"
     ]
    }
   ],
   "source": [
    "# pow x를 y 제곱한 결괏값을 리턴하는 함수\n",
    "print(pow(2,5))"
   ]
  },
  {
   "cell_type": "code",
   "execution_count": 86,
   "id": "ea518361-2440-492a-acfb-2b3310a95794",
   "metadata": {},
   "outputs": [
    {
     "name": "stdout",
     "output_type": "stream",
     "text": [
      "[0, 1, 2, 3, 4]\n",
      "[5, 6, 7, 8, 9]\n",
      "[5, 7, 9]\n",
      "[5, 4, 3, 2, 1]\n"
     ]
    }
   ],
   "source": [
    "# range **\n",
    "# 인수가 하나\n",
    "print(list(range(5)))\n",
    "# 인수가 둘\n",
    "print(list(range(5,10)))\n",
    "# 인수가 셋\n",
    "print(list(range(5,10,2)))\n",
    "# 인수가 역순\n",
    "print(list(range(5,0,-1)))"
   ]
  },
  {
   "cell_type": "code",
   "execution_count": 96,
   "id": "8226a5a0-3acd-45b2-a7e7-138531eae552",
   "metadata": {},
   "outputs": [
    {
     "name": "stdout",
     "output_type": "stream",
     "text": [
      "3\n",
      "4\n",
      "4\n",
      "3.44\n",
      "3.5\n"
     ]
    }
   ],
   "source": [
    "#round\n",
    "print(round(3.4))\n",
    "print(round(3.5))\n",
    "print(round(3.6))\n",
    "print(round(3.44444,2))\n",
    "print(round(3.45,1))"
   ]
  },
  {
   "cell_type": "code",
   "execution_count": 101,
   "id": "7d867122-c614-45d4-8f8f-3acbb0d9b122",
   "metadata": {},
   "outputs": [
    {
     "name": "stdout",
     "output_type": "stream",
     "text": [
      "[1, 2, 3, 4, 5, 6, 7]\n",
      "[7, 6, 5, 4, 3, 2, 1]\n"
     ]
    }
   ],
   "source": [
    "# sorted(iterable) 정렬된 리스트로 리턴\n",
    "s0=[3,2,1,4,5,6,7]\n",
    "# s0.sort()\n",
    "s0.sort(reverse=True)\n",
    "s1 =sorted(s0)\n",
    "print(s1)\n",
    "print(s0)"
   ]
  },
  {
   "cell_type": "code",
   "execution_count": 103,
   "id": "7b6939e4-81a5-4a1b-8f2f-72d1ba16b1ba",
   "metadata": {},
   "outputs": [
    {
     "name": "stdout",
     "output_type": "stream",
     "text": [
      "23 <class 'str'>\n",
      "23 <class 'int'>\n"
     ]
    }
   ],
   "source": [
    "# str 문자열로 변환\n",
    "st = str(23)\n",
    "num=23\n",
    "print(st,type(st))\n",
    "print(num,type(num))"
   ]
  },
  {
   "cell_type": "code",
   "execution_count": 104,
   "id": "eab4e43b-8f47-40c8-a18d-1c4e7d7814ff",
   "metadata": {},
   "outputs": [
    {
     "name": "stdout",
     "output_type": "stream",
     "text": [
      "6\n",
      "15\n"
     ]
    }
   ],
   "source": [
    "# sum * 이터러블데이터의 합을 리턴\n",
    "print(sum([1,2,3]))\n",
    "print(sum([4,5,6]))"
   ]
  },
  {
   "cell_type": "code",
   "execution_count": 106,
   "id": "f1ebaeba-05dc-4317-a56d-0c2965417b4a",
   "metadata": {},
   "outputs": [
    {
     "name": "stdout",
     "output_type": "stream",
     "text": [
      "('a', 'b', 'c')\n",
      "(1, 2, 3)\n",
      "(1, 2, 3)\n"
     ]
    }
   ],
   "source": [
    "# tuple\n",
    "print(tuple(\"abc\"))\n",
    "print(tuple([1,2,3]))\n",
    "print(tuple((1,2,3)))"
   ]
  },
  {
   "cell_type": "code",
   "execution_count": 108,
   "id": "9bec712f-b330-4e4b-b9a0-5a3842013072",
   "metadata": {},
   "outputs": [],
   "source": [
    "# type"
   ]
  },
  {
   "cell_type": "code",
   "execution_count": 117,
   "id": "5a199e21-e879-47b0-a602-1f3e217b98fb",
   "metadata": {},
   "outputs": [
    {
     "name": "stdout",
     "output_type": "stream",
     "text": [
      "[(1, 4), (2, 5), (3, 6)]\n",
      "[(1, 4, 7), (2, 5, 8), (3, 6, 9)]\n",
      "[('a', 'd'), ('b', 'e'), ('c', 'f')]\n",
      "[('apple', 'dog'), ('banana', 'cat'), ('kiwi', 'elephant'), ('cherry', 'lion'), ('mango', 'Rabbit')]\n",
      "1:apple => dog\n",
      "2:banana => cat\n",
      "3:kiwi => elephant\n",
      "4:cherry => lion\n",
      "5:mango => Rabbit\n"
     ]
    }
   ],
   "source": [
    "# zip 묶어서 리턴\n",
    "print(list(zip([1,2,3],[4,5,6])))\n",
    "print(list(zip([1,2,3,],[4,5,6],[7,8,9])))\n",
    "print(list(zip(\"abc\",\"def\")))\n",
    "num =[1,2,3,4,5]\n",
    "fruit = ['apple','banana','kiwi','cherry','mango']\n",
    "animal = ['dog','cat','elephant','lion','Rabbit']\n",
    "print(list(zip(fruit,animal)))\n",
    "for f, a, n in zip(fruit, animal, num):\n",
    "    print(f'{n}:{f} => {a}')"
   ]
  },
  {
   "cell_type": "markdown",
   "id": "d334519f-5d2d-4c8c-81e3-e7cf174f0da8",
   "metadata": {},
   "source": [
    "# 표준 라이브러리"
   ]
  },
  {
   "cell_type": "markdown",
   "id": "a94fd4bc-292d-46c6-8dde-b351ad982c88",
   "metadata": {},
   "source": [
    "## datetime"
   ]
  },
  {
   "cell_type": "code",
   "execution_count": 151,
   "id": "b658af5c-69c2-4ce7-a8c2-f548522582dd",
   "metadata": {},
   "outputs": [
    {
     "name": "stdout",
     "output_type": "stream",
     "text": [
      "157 days, 0:00:00\n",
      "172 days, 0:00:00\n",
      "전체 수업기간: 172 일\n",
      "남은 수업기간: 157 일\n",
      "지난 수업기간: 15 일\n"
     ]
    }
   ],
   "source": [
    "#datetime.date 날짜 라이브러리\n",
    "import datetime\n",
    "day1 =  datetime.date(2025,2,3)\n",
    "day2 =  datetime.date(2025,7,25)\n",
    "sub1=day2-day1\n",
    "now=datetime.datetime.now().date() # date() 를 넣으면 date 타입으로 변환\n",
    "sub2 = day2-now\n",
    "print(day2-now)\n",
    "print(sub)\n",
    "print(\"전체 수업기간:\" , sub1.days,\"일\")\n",
    "print(\"남은 수업기간:\" , sub2.days,\"일\")\n",
    "print(\"지난 수업기간:\" , sub1.days-sub2.days,\"일\")"
   ]
  },
  {
   "cell_type": "code",
   "execution_count": 150,
   "id": "75a4ea38-704a-402d-ac37-7a4235e4c006",
   "metadata": {},
   "outputs": [
    {
     "name": "stdout",
     "output_type": "stream",
     "text": [
      "그날은 월요일 입니다.\n"
     ]
    }
   ],
   "source": [
    "days= [\"월\",\"화\",\"수\",\"목\",\"금\",\"토\",\"일\"]\n",
    "day = datetime.date(2000,4,3)\n",
    "day.weekday() # 0 은 월요일 ... 6은 일요일이다.\n",
    "print(\"그날은 \"+ days[day.weekday()]+\"요일 입니다.\")"
   ]
  },
  {
   "cell_type": "code",
   "execution_count": 145,
   "id": "36000e6c-aeee-4685-8e58-fe6f8e33237c",
   "metadata": {},
   "outputs": [
    {
     "data": {
      "text/plain": [
       "1"
      ]
     },
     "execution_count": 145,
     "metadata": {},
     "output_type": "execute_result"
    }
   ],
   "source": [
    "day.isoweekday()"
   ]
  },
  {
   "cell_type": "code",
   "execution_count": 7,
   "id": "8ce572b0-b7ce-40e0-b4ac-b4e061b0eb96",
   "metadata": {},
   "outputs": [
    {
     "name": "stdout",
     "output_type": "stream",
     "text": [
      "수료후 추석까지 73일 남았고, 추석은 월요일 입니다.\n"
     ]
    }
   ],
   "source": [
    "import datetime as da\n",
    "def chu():\n",
    "    days= [\"월\",\"화\",\"수\",\"목\",\"금\",\"토\",\"일\"]\n",
    "    com = da.date(2025,7,25)\n",
    "    ch = da.date(2025,10,6)\n",
    "    week=ch.weekday() # 0, 월요일\n",
    "    diff = ch-com # 73일\n",
    "    return(f'수료후 추석까지 {diff.days}일 남았고, 추석은 {days[week]}요일 입니다.')\n",
    "\n",
    "if __name__==\"__main__\" : # 파일을 부르면 동작한다.\n",
    "    print(chu()) # 현재는 chu() 함수를 출력하게 만들었다."
   ]
  },
  {
   "cell_type": "markdown",
   "id": "b6236460-8ac9-4eea-9e8d-d7924b9205e0",
   "metadata": {},
   "source": [
    "## time"
   ]
  },
  {
   "cell_type": "code",
   "execution_count": 12,
   "id": "ee3c2126-34e2-40c5-8a0e-67c18b02f9e2",
   "metadata": {},
   "outputs": [
    {
     "data": {
      "text/plain": [
       "1739855669.312403"
      ]
     },
     "execution_count": 12,
     "metadata": {},
     "output_type": "execute_result"
    }
   ],
   "source": [
    "# time.time\n",
    "import time\n",
    "time.time()"
   ]
  },
  {
   "cell_type": "code",
   "execution_count": 13,
   "id": "ade3bdeb-a764-4e3f-b060-9a4bd17b3612",
   "metadata": {},
   "outputs": [
    {
     "name": "stdout",
     "output_type": "stream",
     "text": [
      "time.struct_time(tm_year=2025, tm_mon=2, tm_mday=18, tm_hour=14, tm_min=14, tm_sec=56, tm_wday=1, tm_yday=49, tm_isdst=0)\n"
     ]
    }
   ],
   "source": [
    "# time.localtime\n",
    "tt= time.localtime(time.time())\n",
    "print(tt)"
   ]
  },
  {
   "cell_type": "code",
   "execution_count": 15,
   "id": "f523491c-6966-423d-a7c6-78542b9c8026",
   "metadata": {},
   "outputs": [
    {
     "data": {
      "text/plain": [
       "'Tue Feb 18 14:16:17 2025'"
      ]
     },
     "execution_count": 15,
     "metadata": {},
     "output_type": "execute_result"
    }
   ],
   "source": [
    "# time.asctime\n",
    "time.asctime(time.localtime(time.time())) # time.ctime()"
   ]
  },
  {
   "cell_type": "code",
   "execution_count": 18,
   "id": "326f584c-9559-4e40-ab6e-a9fb1ae32d54",
   "metadata": {},
   "outputs": [
    {
     "data": {
      "text/plain": [
       "'Tue Feb 18 14:19:29 2025'"
      ]
     },
     "execution_count": 18,
     "metadata": {},
     "output_type": "execute_result"
    }
   ],
   "source": [
    "#time.ctime()\n",
    "time.ctime()"
   ]
  },
  {
   "cell_type": "code",
   "execution_count": 20,
   "id": "028203cd-24e0-46cf-b164-15446e2dbf9a",
   "metadata": {},
   "outputs": [
    {
     "data": {
      "text/plain": [
       "'Tue Feb 18 14:20:19 2025'"
      ]
     },
     "execution_count": 20,
     "metadata": {},
     "output_type": "execute_result"
    }
   ],
   "source": [
    "# time.strftime\n",
    "time.strftime('%x',time.localtime(time.time()))\n",
    "time.strftime('%x',time.localtime(time.time()))\n",
    "time.strftime('%c',time.localtime(time.time()))"
   ]
  },
  {
   "cell_type": "code",
   "execution_count": 23,
   "id": "82910e13-a93f-4be2-8982-e03e43a632a3",
   "metadata": {},
   "outputs": [
    {
     "name": "stdout",
     "output_type": "stream",
     "text": [
      "10"
     ]
    }
   ],
   "source": [
    "#time.sleep\n",
    "import time as t\n",
    "for i in range(1,11):\n",
    "    print(i,end='\\r')\n",
    "    t.sleep(1)"
   ]
  },
  {
   "cell_type": "markdown",
   "id": "c5c6c649-1c5c-4f84-a564-b2bb44075b74",
   "metadata": {},
   "source": [
    "## Math.gcd, math.lcm"
   ]
  },
  {
   "cell_type": "code",
   "execution_count": 40,
   "id": "ba0ffd59-3571-4b90-80df-64bf67237bbc",
   "metadata": {},
   "outputs": [
    {
     "name": "stdout",
     "output_type": "stream",
     "text": [
      "3.141592653589793\n",
      "20\n",
      "75\n"
     ]
    }
   ],
   "source": [
    "import math\n",
    "print(math.pi) # pi 값\n",
    "print(math.gcd(60,100,80)) # 최대공약수 값\n",
    "print(math.lcm(15,25)) # 최소공배수 값"
   ]
  },
  {
   "cell_type": "markdown",
   "id": "acd5c5a8-5d77-4e11-9aa3-dc539522eef1",
   "metadata": {},
   "source": [
    "## random"
   ]
  },
  {
   "cell_type": "code",
   "execution_count": 39,
   "id": "c3981bd3-a7c8-4ac0-a7ce-4f7cc5ee606c",
   "metadata": {},
   "outputs": [
    {
     "name": "stdout",
     "output_type": "stream",
     "text": [
      "0.028379378368204478\n",
      "6\n"
     ]
    }
   ],
   "source": [
    "# r.choice()\n",
    "import random as r\n",
    "print(r.random()) # 0.0에서 1.0사이의 난수 리턴\n",
    "print(r.randint(1,10)) #a에서 b 까지의 난수 리턴"
   ]
  },
  {
   "cell_type": "code",
   "execution_count": 38,
   "id": "c0523a10-8f40-4aa7-ad0c-020aaf815646",
   "metadata": {},
   "outputs": [
    {
     "name": "stdout",
     "output_type": "stream",
     "text": [
      "22 66 22 22 55 33 "
     ]
    }
   ],
   "source": [
    "# r.choice()\n",
    "data = [11,22,33,44,55,66]\n",
    "for n in range(6):\n",
    "    print(r.choice(data),end=' ') "
   ]
  },
  {
   "cell_type": "code",
   "execution_count": 37,
   "id": "76a4f687-977f-440e-b886-97e47f7ee097",
   "metadata": {},
   "outputs": [
    {
     "name": "stdout",
     "output_type": "stream",
     "text": [
      "[16, 1, 18, 17, 12, 10, 5, 8, 6, 3, 7, 9, 15, 2, 13, 19, 11, 14, 4, 20] 20\n",
      "{1, 2, 3, 4, 5, 6, 7, 8, 9, 10, 11, 12, 13, 14, 15, 16, 17, 18, 19, 20} 20\n"
     ]
    }
   ],
   "source": [
    "# r.sample()\n",
    "li = list(range(1,21))\n",
    "arr = []\n",
    "for n in r.sample(li,len(li)):\n",
    "    arr.append(n)\n",
    "print(arr, len(arr))\n",
    "sarr = set(arr)\n",
    "print(sarr,len(sarr))"
   ]
  },
  {
   "cell_type": "markdown",
   "id": "82d164c7-58ad-4962-a310-339b1645b2c1",
   "metadata": {},
   "source": [
    "## itertools.zip_longest"
   ]
  },
  {
   "cell_type": "code",
   "execution_count": 1,
   "id": "47994dec-6093-42f2-95c0-500ca816e321",
   "metadata": {},
   "outputs": [
    {
     "name": "stdout",
     "output_type": "stream",
     "text": [
      "[('한민서', '사탕'), ('황지민', '초콜릿'), ('이영철', '젤리')]\n"
     ]
    }
   ],
   "source": [
    "students = [\"한민서\", '황지민', '이영철', '이광수', '김승민']\n",
    "snacks = ['사탕', '초콜릿','젤리']\n",
    "\n",
    "result = zip(students, snacks)\n",
    "print(list(result))"
   ]
  },
  {
   "cell_type": "code",
   "execution_count": 2,
   "id": "1199c22e-73e8-4105-88b0-c610e7ddef94",
   "metadata": {},
   "outputs": [
    {
     "name": "stdout",
     "output_type": "stream",
     "text": [
      "[('한민서', '사탕'), ('황지민', '초콜릿'), ('이영철', '젤리'), ('이광수', '새우깡'), ('김승민', '새우깡')]\n"
     ]
    }
   ],
   "source": [
    "# itertools.zip_longest\n",
    "import itertools\n",
    "students = [\"한민서\", '황지민', '이영철', '이광수', '김승민']\n",
    "snacks = ['사탕', '초콜릿','젤리']\n",
    "\n",
    "# zip 은 작은 배열에 길이를 맞춤\n",
    "result = itertools.zip_longest(students, snacks, fillvalue='새우깡')\n",
    "print(list(result))"
   ]
  },
  {
   "cell_type": "code",
   "execution_count": 4,
   "id": "b187cc5b-aeca-4302-9354-4db7476280ef",
   "metadata": {},
   "outputs": [
    {
     "name": "stdout",
     "output_type": "stream",
     "text": [
      "[('1', '2'), ('1', '3'), ('2', '1'), ('2', '3'), ('3', '1'), ('3', '2')]\n",
      "1 2\n",
      "1 3\n",
      "2 1\n",
      "2 3\n",
      "3 1\n",
      "3 2\n"
     ]
    }
   ],
   "source": [
    "#itertools.permutaion\n",
    "import itertools\n",
    "a=list(itertools.permutations(['1','2','3'],2))\n",
    "print(a)\n",
    "\n",
    "for a,b in itertools.permutations(['1','2','3'],2):\n",
    "    print(a,b)"
   ]
  },
  {
   "cell_type": "code",
   "execution_count": 12,
   "id": "c6562fcc-a43a-4250-bc20-12442ead14dc",
   "metadata": {},
   "outputs": [
    {
     "name": "stdout",
     "output_type": "stream",
     "text": [
      "<itertools.combinations object at 0x0000021724B19300>\n",
      "8145060\n",
      "8145060\n",
      "15890700\n"
     ]
    }
   ],
   "source": [
    "#itertools.combination 응용\n",
    "import itertools\n",
    "lotto = itertools.combinations(range(1,46),6)\n",
    "print(lotto)\n",
    "ls=list(lotto)\n",
    "print(len(ls))\n",
    "# for num in lotto:\n",
    "#     print(num)\n",
    "print(len(list(itertools.combinations(range(1,46),6))))\n",
    "\n",
    "#중복 조합을 사용하는 함수\n",
    "# itertools.combinations_with_replacement\n",
    "print(len(list(itertools.combinations_with_replacement(range(1,46),6))))"
   ]
  },
  {
   "cell_type": "markdown",
   "id": "e1794fb7-4329-4e29-baac-2b32306e02a9",
   "metadata": {},
   "source": [
    "## functools.reduce"
   ]
  },
  {
   "cell_type": "code",
   "execution_count": 18,
   "id": "4216e905-683b-402b-a0d3-20a4cee4a005",
   "metadata": {},
   "outputs": [
    {
     "name": "stdout",
     "output_type": "stream",
     "text": [
      "15\n"
     ]
    }
   ],
   "source": [
    "def add(data):\n",
    "    result = 0\n",
    "    for i in data:\n",
    "        result+=i\n",
    "    return result\n",
    "\n",
    "data = [1,2,3,4,5]\n",
    "result = add(data)\n",
    "print(result)"
   ]
  },
  {
   "cell_type": "code",
   "execution_count": 21,
   "id": "076c9c5b-7494-4f86-97e7-ffd38da2bab5",
   "metadata": {},
   "outputs": [
    {
     "name": "stdout",
     "output_type": "stream",
     "text": [
      "15\n"
     ]
    }
   ],
   "source": [
    "# functools.reduce\n",
    "import functools\n",
    "data = [1,2,3,4,5]\n",
    "result = functools.reduce(lambda x,y:x +y,data)\n",
    "print(result)"
   ]
  },
  {
   "cell_type": "code",
   "execution_count": 22,
   "id": "42b08fee-0bd3-4424-a2d3-796520ec3f02",
   "metadata": {},
   "outputs": [
    {
     "name": "stdout",
     "output_type": "stream",
     "text": [
      "8\n"
     ]
    }
   ],
   "source": [
    "import functools\n",
    "num_list = [3,2,8,1,6,7]\n",
    "max_num = functools.reduce(lambda x, y: x if x > y else y , num_list)\n",
    "print(max_num)"
   ]
  },
  {
   "cell_type": "markdown",
   "id": "ab78f739-28c3-4b7c-9ded-0c8e8659ea33",
   "metadata": {},
   "source": [
    "## operator.itemgetter"
   ]
  },
  {
   "cell_type": "code",
   "execution_count": 29,
   "id": "4b7ba242-0ebe-4edf-afa1-e28e5062437b",
   "metadata": {},
   "outputs": [
    {
     "name": "stdout",
     "output_type": "stream",
     "text": [
      "[('sally', 17, 'B'), ('jane', 22, 'A'), ('dave', 32, 'B')]\n"
     ]
    }
   ],
   "source": [
    "# operator.itemgetter\n",
    "from operator import itemgetter\n",
    "\n",
    "students = [\n",
    "    (\"jane\",22,'A'),\n",
    "    (\"dave\",32,'B'),\n",
    "    (\"sally\",17,'B')\n",
    "]\n",
    "\n",
    "result = sorted(students, key=itemgetter(1))\n",
    "print(result)"
   ]
  },
  {
   "cell_type": "code",
   "execution_count": 31,
   "id": "b97a1078-133f-4fa3-b3a8-0ab6d08fc793",
   "metadata": {},
   "outputs": [
    {
     "name": "stdout",
     "output_type": "stream",
     "text": [
      "[('sally', '17', 'B'), ('jane', '22', 'A'), ('dave', '32', 'B')]\n"
     ]
    }
   ],
   "source": [
    "from operator import itemgetter\n",
    "name = [\"jane\",\"dave\",\"sally\"]\n",
    "age = [\"22\",\"32\",\"17\"]\n",
    "grade = ['A','B','B']\n",
    "\n",
    "students = zip(name, age, grade)\n",
    "\n",
    "result = sorted(students, key=itemgetter(1))\n",
    "print(result)"
   ]
  },
  {
   "cell_type": "code",
   "execution_count": 30,
   "id": "96bcc382-1f30-4375-9245-91063b687105",
   "metadata": {},
   "outputs": [
    {
     "name": "stdout",
     "output_type": "stream",
     "text": [
      "[{'name': 'sally', 'age': 17, 'grade': 'B'}, {'name': 'jane', 'age': 22, 'grade': 'A'}, {'name': 'dave', 'age': 32, 'grade': 'B'}]\n"
     ]
    }
   ],
   "source": [
    "students = [\n",
    "    {\"name\":\"jane\",\"age\":22,\"grade\":'A'},\n",
    "    {\"name\":\"dave\",\"age\":32,\"grade\":'B'},\n",
    "    {\"name\":\"sally\",\"age\":17,\"grade\":'B'}\n",
    "]\n",
    "result = sorted(students, key=itemgetter(\"age\"))\n",
    "print(result)"
   ]
  },
  {
   "cell_type": "code",
   "execution_count": 32,
   "id": "92a5f933-d8ea-4070-8168-982a5bc7548e",
   "metadata": {},
   "outputs": [
    {
     "name": "stdout",
     "output_type": "stream",
     "text": [
      "[]\n"
     ]
    }
   ],
   "source": [
    "name = [\"jane\",\"dave\",\"sally\"]\n",
    "age = [\"22\",\"32\",\"17\"]\n",
    "grade = ['A','B','B']\n",
    "\n",
    "\n",
    "result = sorted(students, key=itemgetter(\"age\"))\n",
    "print(result)"
   ]
  },
  {
   "cell_type": "code",
   "execution_count": null,
   "id": "f1de0a24-0658-41ad-9d5e-2c67876fc82d",
   "metadata": {},
   "outputs": [],
   "source": [
    "# operator.attrgetter()"
   ]
  },
  {
   "cell_type": "markdown",
   "id": "9345f5c6-2d25-477e-8e57-0bdb105ed916",
   "metadata": {},
   "source": [
    "## shutil"
   ]
  },
  {
   "cell_type": "code",
   "execution_count": 37,
   "id": "4f7330ae-46c9-488b-80c7-119c5951cfb4",
   "metadata": {},
   "outputs": [
    {
     "ename": "FileNotFoundError",
     "evalue": "[Errno 2] No such file or directory: 'text1.txt'",
     "output_type": "error",
     "traceback": [
      "\u001b[1;31m---------------------------------------------------------------------------\u001b[0m",
      "\u001b[1;31mFileNotFoundError\u001b[0m                         Traceback (most recent call last)",
      "Cell \u001b[1;32mIn[37], line 3\u001b[0m\n\u001b[0;32m      1\u001b[0m \u001b[38;5;66;03m# shutil복사하는 개념\u001b[39;00m\n\u001b[0;32m      2\u001b[0m \u001b[38;5;28;01mimport\u001b[39;00m\u001b[38;5;250m \u001b[39m\u001b[38;5;21;01mshutil\u001b[39;00m\u001b[38;5;241m,\u001b[39m\u001b[38;5;250m \u001b[39m\u001b[38;5;21;01mtime\u001b[39;00m\u001b[38;5;250m \u001b[39m\u001b[38;5;28;01mas\u001b[39;00m\u001b[38;5;250m \u001b[39m\u001b[38;5;21;01mt\u001b[39;00m\n\u001b[1;32m----> 3\u001b[0m \u001b[43mshutil\u001b[49m\u001b[38;5;241;43m.\u001b[39;49m\u001b[43mcopy\u001b[49m\u001b[43m(\u001b[49m\u001b[38;5;124;43m\"\u001b[39;49m\u001b[38;5;124;43mtext1.txt\u001b[39;49m\u001b[38;5;124;43m\"\u001b[39;49m\u001b[43m,\u001b[49m\u001b[38;5;124;43m\"\u001b[39;49m\u001b[38;5;124;43mtext1.txt.bak\u001b[39;49m\u001b[38;5;124;43m\"\u001b[39;49m\u001b[43m)\u001b[49m\n",
      "File \u001b[1;32m~\\AppData\\Local\\Programs\\Python\\Python313\\Lib\\shutil.py:428\u001b[0m, in \u001b[0;36mcopy\u001b[1;34m(src, dst, follow_symlinks)\u001b[0m\n\u001b[0;32m    426\u001b[0m \u001b[38;5;28;01mif\u001b[39;00m os\u001b[38;5;241m.\u001b[39mpath\u001b[38;5;241m.\u001b[39misdir(dst):\n\u001b[0;32m    427\u001b[0m     dst \u001b[38;5;241m=\u001b[39m os\u001b[38;5;241m.\u001b[39mpath\u001b[38;5;241m.\u001b[39mjoin(dst, os\u001b[38;5;241m.\u001b[39mpath\u001b[38;5;241m.\u001b[39mbasename(src))\n\u001b[1;32m--> 428\u001b[0m \u001b[43mcopyfile\u001b[49m\u001b[43m(\u001b[49m\u001b[43msrc\u001b[49m\u001b[43m,\u001b[49m\u001b[43m \u001b[49m\u001b[43mdst\u001b[49m\u001b[43m,\u001b[49m\u001b[43m \u001b[49m\u001b[43mfollow_symlinks\u001b[49m\u001b[38;5;241;43m=\u001b[39;49m\u001b[43mfollow_symlinks\u001b[49m\u001b[43m)\u001b[49m\n\u001b[0;32m    429\u001b[0m copymode(src, dst, follow_symlinks\u001b[38;5;241m=\u001b[39mfollow_symlinks)\n\u001b[0;32m    430\u001b[0m \u001b[38;5;28;01mreturn\u001b[39;00m dst\n",
      "File \u001b[1;32m~\\AppData\\Local\\Programs\\Python\\Python313\\Lib\\shutil.py:260\u001b[0m, in \u001b[0;36mcopyfile\u001b[1;34m(src, dst, follow_symlinks)\u001b[0m\n\u001b[0;32m    258\u001b[0m     os\u001b[38;5;241m.\u001b[39msymlink(os\u001b[38;5;241m.\u001b[39mreadlink(src), dst)\n\u001b[0;32m    259\u001b[0m \u001b[38;5;28;01melse\u001b[39;00m:\n\u001b[1;32m--> 260\u001b[0m     \u001b[38;5;28;01mwith\u001b[39;00m \u001b[38;5;28;43mopen\u001b[39;49m\u001b[43m(\u001b[49m\u001b[43msrc\u001b[49m\u001b[43m,\u001b[49m\u001b[43m \u001b[49m\u001b[38;5;124;43m'\u001b[39;49m\u001b[38;5;124;43mrb\u001b[39;49m\u001b[38;5;124;43m'\u001b[39;49m\u001b[43m)\u001b[49m \u001b[38;5;28;01mas\u001b[39;00m fsrc:\n\u001b[0;32m    261\u001b[0m         \u001b[38;5;28;01mtry\u001b[39;00m:\n\u001b[0;32m    262\u001b[0m             \u001b[38;5;28;01mwith\u001b[39;00m \u001b[38;5;28mopen\u001b[39m(dst, \u001b[38;5;124m'\u001b[39m\u001b[38;5;124mwb\u001b[39m\u001b[38;5;124m'\u001b[39m) \u001b[38;5;28;01mas\u001b[39;00m fdst:\n\u001b[0;32m    263\u001b[0m                 \u001b[38;5;66;03m# macOS\u001b[39;00m\n",
      "\u001b[1;31mFileNotFoundError\u001b[0m: [Errno 2] No such file or directory: 'text1.txt'"
     ]
    }
   ],
   "source": [
    "# shutil복사하는 개념\n",
    "import shutil, time as t\n",
    "shutil.copy(\"text1.txt\",\"text1.txt.bak\")"
   ]
  },
  {
   "cell_type": "code",
   "execution_count": 43,
   "id": "2aca8e49-48c4-4d46-98b0-0ed651ecd497",
   "metadata": {},
   "outputs": [
    {
     "name": "stdout",
     "output_type": "stream",
     "text": [
      "29346\n",
      "29351\n",
      "29356\n",
      "29361\n",
      "29366\n"
     ]
    }
   ],
   "source": [
    "import shutil , time as t\n",
    "for n in range(5) :\n",
    "    tstamp = str(round(t.time()))[-5:]\n",
    "    print(tstamp)\n",
    "    shutil.copy(\"test.txt\",f'./backup/README_{tstamp}.md.bak')\n",
    "    t.sleep(5)"
   ]
  },
  {
   "cell_type": "markdown",
   "id": "1cf182cc-8636-457e-abf1-cd303137519d",
   "metadata": {},
   "source": [
    "## glob"
   ]
  },
  {
   "cell_type": "code",
   "execution_count": 48,
   "id": "287b5b6d-cdac-4150-89b4-e257b916736c",
   "metadata": {},
   "outputs": [
    {
     "name": "stdout",
     "output_type": "stream",
     "text": [
      "./backup\\README_17399.md.bak\n",
      "./backup\\README_29346.md.bak\n",
      "./backup\\README_29351.md.bak\n",
      "./backup\\README_29356.md.bak\n",
      "./backup\\README_29361.md.bak\n",
      "./backup\\README_29366.md.bak\n"
     ]
    }
   ],
   "source": [
    "# glob 파일 이름 모두를 알아야 할 때 사용하는 묘듈\n",
    "import glob\n",
    "for file  in glob.glob(\"./backup/*.bak\"):\n",
    "    print(file)"
   ]
  },
  {
   "cell_type": "code",
   "execution_count": 54,
   "id": "1aeeff4d-8d01-4370-9f20-16da56bf5a8f",
   "metadata": {},
   "outputs": [],
   "source": [
    "import pickle\n",
    "f = open(\"test.txt\", 'wb')\n",
    "data = {1: 'python', 2:'you need'}\n",
    "pickle.dump(data, f)\n",
    "f.close()"
   ]
  },
  {
   "cell_type": "code",
   "execution_count": 57,
   "id": "6637aa99-7cdd-4059-8239-078b70503f62",
   "metadata": {},
   "outputs": [
    {
     "name": "stdout",
     "output_type": "stream",
     "text": [
      "{1: 'python', 2: 'you need'}\n"
     ]
    }
   ],
   "source": [
    "import pickle\n",
    "f = open(\"test.txt\", 'rb')\n",
    "data = pickle.load(f)\n",
    "f.close()\n",
    "print(data)"
   ]
  },
  {
   "cell_type": "markdown",
   "id": "867ffad2-066a-4633-979a-3209f35aead0",
   "metadata": {},
   "source": [
    "## OS"
   ]
  },
  {
   "cell_type": "code",
   "execution_count": 59,
   "id": "e3ed5912-6be9-417f-a6d0-ebba09736d1f",
   "metadata": {},
   "outputs": [
    {
     "data": {
      "text/plain": [
       "'C:\\\\Program Files (x86)\\\\Common Files\\\\Oracle\\\\Java\\\\java8path;C:\\\\Program Files (x86)\\\\Common Files\\\\Oracle\\\\Java\\\\javapath;C:\\\\WINDOWS\\\\system32;C:\\\\WINDOWS;C:\\\\WINDOWS\\\\System32\\\\Wbem;C:\\\\WINDOWS\\\\System32\\\\WindowsPowerShell\\\\v1.0\\\\;C:\\\\WINDOWS\\\\System32\\\\OpenSSH\\\\;C:\\\\Program Files (x86)\\\\NVIDIA Corporation\\\\PhysX\\\\Common;C:\\\\Program Files\\\\Bandizip\\\\;C:\\\\Dev\\\\IDE\\\\Microsoft VS Code\\\\bin;C:\\\\Program Files\\\\Git\\\\cmd;C:\\\\Users\\\\Admin\\\\AppData\\\\Local\\\\Programs\\\\Python\\\\Python313\\\\Scripts\\\\;C:\\\\Users\\\\Admin\\\\AppData\\\\Local\\\\Programs\\\\Python\\\\Python313\\\\;C:\\\\Users\\\\Admin\\\\AppData\\\\Local\\\\Microsoft\\\\WindowsApps;C:\\\\Users\\\\Admin\\\\AppData\\\\Local\\\\GitHubDesktop\\\\bin;C:\\\\Program Files (x86)\\\\Java\\\\jre1.8.0_441\\\\bin;'"
      ]
     },
     "execution_count": 59,
     "metadata": {},
     "output_type": "execute_result"
    }
   ],
   "source": [
    "import os\n",
    "os.environ # 내 시스템의 환경 변숫값을 알고 싶을 때\n",
    "os.environ['PATH'] # 본인 경로"
   ]
  },
  {
   "cell_type": "markdown",
   "id": "13c47035-cad7-4d21-b1d0-a830a4749db7",
   "metadata": {},
   "source": [
    "## Zipfile"
   ]
  },
  {
   "cell_type": "code",
   "execution_count": 61,
   "id": "29a9d8eb-32f7-4846-b78f-6c04fa25d201",
   "metadata": {},
   "outputs": [],
   "source": [
    "# import zipfile\n",
    "\n",
    "# #파일 합치기\n",
    "# with zipfile.ZipFile('mytext.zip','w') as myzip:\n",
    "#     myzip.write('a.txt')\n",
    "#     myzip.write('b.txt')\n",
    "#     myzip.write('c.txt')\n",
    "# with zipfile.ZipFile('mytext.zip') as myzip:\n",
    "#     myzip.extractall()"
   ]
  },
  {
   "cell_type": "code",
   "execution_count": 64,
   "id": "8b62dba8-daee-4bf3-b712-be27356ea83b",
   "metadata": {},
   "outputs": [],
   "source": [
    "# # 특정 파일만 해제하기\n",
    "# with zipfile.ZipFile('mytext.zip') as myzip:\n",
    "#     myzip.extract('a.txt')"
   ]
  },
  {
   "cell_type": "markdown",
   "id": "91904a79-4207-48af-9a45-fb21fdd036b4",
   "metadata": {},
   "source": [
    "## threading"
   ]
  },
  {
   "cell_type": "code",
   "execution_count": 72,
   "id": "45d0c57f-8d26-4a73-9736-fba594aa7888",
   "metadata": {},
   "outputs": [
    {
     "name": "stdout",
     "output_type": "stream",
     "text": [
      "strat\n",
      "working:0\n",
      "\n",
      "working:1\n",
      "\n",
      "working:2\n",
      "\n",
      "working:3\n",
      "\n",
      "working:4\n",
      "\n",
      "working:0\n",
      "\n",
      "working:1\n",
      "\n",
      "working:2\n",
      "\n",
      "working:3\n",
      "\n",
      "working:4\n",
      "\n",
      "working:0\n",
      "\n",
      "working:1\n",
      "\n",
      "working:2\n",
      "\n",
      "working:3\n",
      "\n",
      "working:4\n",
      "\n",
      "working:0\n",
      "\n",
      "working:1\n",
      "\n",
      "working:2\n",
      "\n",
      "working:3\n",
      "\n",
      "working:4\n",
      "\n",
      "working:0\n",
      "\n",
      "working:1\n",
      "\n",
      "working:2\n",
      "\n",
      "working:3\n",
      "\n",
      "working:4\n",
      "\n",
      "End\n"
     ]
    }
   ],
   "source": [
    "# threading\n",
    "import time\n",
    "\n",
    "def long_task(): #5초의 시간이 걸리는 함수\n",
    "    for i in range(5):\n",
    "        time.sleep(1) #1초대기\n",
    "        print(\"working:%s\\n\" %i)\n",
    "print(\"strat\")\n",
    "for i in range(5):\n",
    "    long_task()\n",
    "print(\"End\")"
   ]
  },
  {
   "cell_type": "code",
   "execution_count": 76,
   "id": "9c7d87f2-f93a-436f-913b-a25a33ce43aa",
   "metadata": {},
   "outputs": [
    {
     "name": "stdout",
     "output_type": "stream",
     "text": [
      "Start\n",
      "End\n",
      "working:0\n",
      "\n",
      "working:0\n",
      "\n",
      "working:0\n",
      "\n",
      "working:0\n",
      "\n",
      "working:0\n",
      "\n",
      "working:1\n",
      "working:1\n",
      "\n",
      "working:1\n",
      "\n",
      "working:1\n",
      "\n",
      "working:1\n",
      "\n",
      "\n",
      "working:2\n",
      "working:2\n",
      "\n",
      "working:2\n",
      "\n",
      "working:2\n",
      "\n",
      "\n",
      "working:2\n",
      "\n",
      "working:3\n",
      "working:3\n",
      "\n",
      "working:3\n",
      "\n",
      "working:3\n",
      "\n",
      "working:3\n",
      "\n",
      "\n",
      "working:4\n",
      "working:4\n",
      "\n",
      "\n",
      "working:4\n",
      "\n",
      "working:4\n",
      "\n",
      "working:4\n",
      "\n"
     ]
    }
   ],
   "source": [
    "import time\n",
    "import threading\n",
    "def long_task(): #5초의 시간이 걸리는 함수\n",
    "    for i in range(5):\n",
    "        time.sleep(1) #1초대기\n",
    "        print(\"working:%s\\n\" % i)\n",
    "print(\"Start\")\n",
    "\n",
    "threads = []\n",
    "for i in range(5):\n",
    "    # long_task()\n",
    "    t = threading.Thread(target=long_task) # 스레드 생성\n",
    "    threads.append(t)\n",
    "\n",
    "for t in threads:\n",
    "    t.start() # 스레드 실행\n",
    "\n",
    "\n",
    "print(\"End\")"
   ]
  },
  {
   "cell_type": "code",
   "execution_count": 79,
   "id": "7807f544-ee7d-4517-8551-8ca43bb9abbf",
   "metadata": {},
   "outputs": [
    {
     "name": "stdout",
     "output_type": "stream",
     "text": [
      "Start\n",
      "working:0\n",
      "working:0\n",
      "\n",
      "working:0\n",
      "\n",
      "working:0\n",
      "\n",
      "working:0\n",
      "\n",
      "\n",
      "working:1\n",
      "working:1\n",
      "\n",
      "working:1\n",
      "\n",
      "working:1\n",
      "\n",
      "working:1\n",
      "\n",
      "\n",
      "working:2\n",
      "working:2\n",
      "\n",
      "\n",
      "working:2\n",
      "\n",
      "working:2\n",
      "\n",
      "working:2\n",
      "\n",
      "working:3\n",
      "working:3\n",
      "\n",
      "working:3\n",
      "\n",
      "working:3\n",
      "\n",
      "working:3\n",
      "\n",
      "\n",
      "working:4\n",
      "\n",
      "working:4\n",
      "\n",
      "working:4\n",
      "\n",
      "working:4\n",
      "\n",
      "working:4\n",
      "\n",
      "End\n"
     ]
    }
   ],
   "source": [
    "import time\n",
    "import threading\n",
    "def long_task(): #5초의 시간이 걸리는 함수\n",
    "    for i in range(5):\n",
    "        time.sleep(1) #1초대기\n",
    "        print(\"working:%s\\n\" % i)\n",
    "print(\"Start\")\n",
    "\n",
    "threads = []\n",
    "for i in range(5):\n",
    "    # long_task()\n",
    "    t = threading.Thread(target=long_task) # 스레드 생성\n",
    "    threads.append(t)\n",
    "\n",
    "for t in threads:\n",
    "    t.start() # 스레드 실행\n",
    "    \n",
    "for t in threads:\n",
    "    t.join()\n",
    "\n",
    "print(\"End\")"
   ]
  },
  {
   "cell_type": "markdown",
   "id": "3fcf5019-4a22-4a48-abbf-ffaa2942e518",
   "metadata": {},
   "source": [
    "## etc"
   ]
  },
  {
   "cell_type": "code",
   "execution_count": null,
   "id": "18aab733-66f5-4bb3-aa40-ad62e0112607",
   "metadata": {},
   "outputs": [],
   "source": [
    "# tempfile\n",
    "import tempfile\n",
    "filename = tempfile.mkstemp()\n",
    "filename\n",
    "f.close"
   ]
  },
  {
   "cell_type": "code",
   "execution_count": 81,
   "id": "9c404c5b-4d3e-496d-8b16-cdb1201b749e",
   "metadata": {},
   "outputs": [
    {
     "name": "stdout",
     "output_type": "stream",
     "text": [
      "오류가 발생했습니다.\n",
      "Traceback (most recent call last):\n",
      "  File \"C:\\Users\\Admin\\AppData\\Local\\Temp\\ipykernel_480\\1910241354.py\", line 12, in main\n",
      "    b()\n",
      "    ~^^\n",
      "  File \"C:\\Users\\Admin\\AppData\\Local\\Temp\\ipykernel_480\\1910241354.py\", line 8, in b\n",
      "    a()\n",
      "    ~^^\n",
      "  File \"C:\\Users\\Admin\\AppData\\Local\\Temp\\ipykernel_480\\1910241354.py\", line 5, in a\n",
      "    return 1/0\n",
      "           ~^~\n",
      "ZeroDivisionError: division by zero\n",
      "\n"
     ]
    }
   ],
   "source": [
    "# traceback\n",
    "import traceback\n",
    "\n",
    "def a():\n",
    "    return 1/0\n",
    "\n",
    "def b():\n",
    "    a()\n",
    "\n",
    "def main():\n",
    "    try:\n",
    "        b()\n",
    "    except:\n",
    "        print(\"오류가 발생했습니다.\")\n",
    "        print(traceback.format_exc())\n",
    "main()"
   ]
  },
  {
   "cell_type": "markdown",
   "id": "6f4c603b-b572-4b0c-9c85-abacd01cc465",
   "metadata": {},
   "source": [
    "## JSON"
   ]
  },
  {
   "cell_type": "code",
   "execution_count": null,
   "id": "ab904e3d-16a0-4771-8420-745d7cf20f7e",
   "metadata": {},
   "outputs": [],
   "source": [
    "{\n",
    "    \"name\":\"홍길동\",\n",
    "    \"birth\":\"0525\",\n",
    "    \"age\":30,\n",
    "}"
   ]
  },
  {
   "cell_type": "code",
   "execution_count": 96,
   "id": "344f921d-e412-4608-9aef-3dbeffa1255d",
   "metadata": {},
   "outputs": [],
   "source": [
    "import requests\n",
    "import json\n",
    "url = 'https://jsonplaceholder.typicode.com/todos'\n",
    "res = requests.get(url)\n",
    "# for n in res.json():\n",
    "#     print(n)\n",
    "# print(res.json()[0])\n",
    "data = res.json()[0]\n",
    "with open('todo.json','w',encoding='utf-8') as f:\n",
    "    json.dump(data,f)\n",
    "    "
   ]
  },
  {
   "cell_type": "code",
   "execution_count": 4,
   "id": "641b7d61-bd8d-4788-9ebd-95ad4adb682e",
   "metadata": {},
   "outputs": [
    {
     "name": "stdout",
     "output_type": "stream",
     "text": [
      "<class 'dict'>\n"
     ]
    }
   ],
   "source": [
    "import json\n",
    "with open('todo.json') as f :\n",
    "    data = json.load(f)\n",
    "print(type(data))\n"
   ]
  },
  {
   "cell_type": "code",
   "execution_count": 15,
   "id": "d7bfb421-192c-49e9-803f-a497fec67a74",
   "metadata": {},
   "outputs": [],
   "source": [
    "# import json\n",
    "# with open('myinfo.json') as f :\n",
    "#     data = json.load(f)\n",
    "# print(type(data))"
   ]
  },
  {
   "cell_type": "code",
   "execution_count": 10,
   "id": "9e73f13d-f7e9-4285-a8f0-9597cf60a1a0",
   "metadata": {},
   "outputs": [
    {
     "data": {
      "text/plain": [
       "'{\"name\": \"\\\\ud64d\\\\uae38\\\\ub3d9\", \"birth\": \"0525\", \"age\": 30}'"
      ]
     },
     "execution_count": 10,
     "metadata": {},
     "output_type": "execute_result"
    }
   ],
   "source": [
    "import json\n",
    "d= {\"name\":\"홍길동\", \"birth\":\"0525\",\"age\":30}\n",
    "json_data = json.dumps(d)\n",
    "json_data"
   ]
  },
  {
   "cell_type": "code",
   "execution_count": 11,
   "id": "f26ece26-ab97-407e-838c-b4d0f4c83592",
   "metadata": {},
   "outputs": [
    {
     "data": {
      "text/plain": [
       "{'name': '홍길동', 'birth': '0525', 'age': 30}"
      ]
     },
     "execution_count": 11,
     "metadata": {},
     "output_type": "execute_result"
    }
   ],
   "source": [
    "json.loads(json_data)"
   ]
  },
  {
   "cell_type": "markdown",
   "id": "5b808fb3-2378-470d-a61a-0cca404659b5",
   "metadata": {},
   "source": [
    "## urllib"
   ]
  },
  {
   "cell_type": "code",
   "execution_count": 24,
   "id": "3e358f6e-4292-4ac1-879b-1bffefc9ac83",
   "metadata": {},
   "outputs": [],
   "source": [
    "import urllib.request\n",
    "\n",
    "def get_wikidocs(page):\n",
    "    resource = 'https://wikidocs.net/{}'.format(page)\n",
    "    with urllib.request.urlopen(resource) as s:\n",
    "        with open('wikidocs_%s.html' % page, 'wb') as f:\n",
    "            f.write(s.read())\n",
    "get_wikidocs(12)"
   ]
  },
  {
   "cell_type": "code",
   "execution_count": 29,
   "id": "53998f66-246e-44ab-8f8b-f204e36bbe1a",
   "metadata": {},
   "outputs": [],
   "source": [
    "import urllib.request\n",
    "import time as t\n",
    "def get_posts(page):\n",
    "    resource = f'https://jsonplaceholder.typicode.com/posts/{page}'\n",
    "    with urllib.request.urlopen(resource) as s:\n",
    "        with open(f'post_{page}.html', 'wb') as f:\n",
    "            f.write(s.read())\n",
    "for n in range(1,11):\n",
    "    get_posts(n)\n",
    "    t.sleep(0.1)\n"
   ]
  },
  {
   "cell_type": "markdown",
   "id": "69f9dd72-6cc1-42e0-b5bc-9beae1e6bdfc",
   "metadata": {},
   "source": [
    "## webbrowser"
   ]
  },
  {
   "cell_type": "code",
   "execution_count": 17,
   "id": "a80033bd-0065-4429-9c1d-6cafda815555",
   "metadata": {},
   "outputs": [
    {
     "data": {
      "text/plain": [
       "True"
      ]
     },
     "execution_count": 17,
     "metadata": {},
     "output_type": "execute_result"
    }
   ],
   "source": [
    "import webbrowser\n",
    "\n",
    "webbrowser.open_new('http://python.org')"
   ]
  }
 ],
 "metadata": {
  "kernelspec": {
   "display_name": "Python 3 (ipykernel)",
   "language": "python",
   "name": "python3"
  },
  "language_info": {
   "codemirror_mode": {
    "name": "ipython",
    "version": 3
   },
   "file_extension": ".py",
   "mimetype": "text/x-python",
   "name": "python",
   "nbconvert_exporter": "python",
   "pygments_lexer": "ipython3",
   "version": "3.11.6"
  }
 },
 "nbformat": 4,
 "nbformat_minor": 5
}
