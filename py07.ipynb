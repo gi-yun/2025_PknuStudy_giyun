{
 "cells": [
  {
   "cell_type": "markdown",
   "id": "07b7f45f-d944-4821-a7a6-5271826fdc10",
   "metadata": {},
   "source": [
    "# 내장함수"
   ]
  },
  {
   "cell_type": "markdown",
   "id": "e75aea10-71ad-4c6c-a56d-b76eea8cb073",
   "metadata": {},
   "source": [
    "## abs\n",
    "- abs(x)는 어떤 숫자를 입력받았을 때 그 숫자의 절댓값을 리턴하는 함수이다."
   ]
  },
  {
   "cell_type": "code",
   "execution_count": 3,
   "id": "259d4f0e-9a82-4dfe-8f10-949c973cdc18",
   "metadata": {},
   "outputs": [
    {
     "name": "stdout",
     "output_type": "stream",
     "text": [
      "3\n",
      "3\n",
      "1.2\n"
     ]
    }
   ],
   "source": [
    "print(abs(3))\n",
    "print(abs(-3))\n",
    "print(abs(-1.2))"
   ]
  },
  {
   "cell_type": "markdown",
   "id": "72e14b25-0eb4-4e7c-8de1-d5ae7fb4f298",
   "metadata": {},
   "source": [
    "## all\n",
    "all(x)는 반복 가능한 데이터 x를 입력값으로 받으며 이x의 요소가 모두 참이면<br>\n",
    "True, 거짓이 하나라도 있으면 False를 리턴한다."
   ]
  },
  {
   "cell_type": "code",
   "execution_count": 9,
   "id": "2fa67cc9-8244-44c0-b288-d5a34a37f2a7",
   "metadata": {},
   "outputs": [
    {
     "name": "stdout",
     "output_type": "stream",
     "text": [
      "True\n",
      "False\n",
      "True\n"
     ]
    }
   ],
   "source": [
    "print(all([1,2,3]))\n",
    "print(all([1,2,3,0]))\n",
    "print(all([])) # *특이사항 값이 빈 값인 경우 True값을 리턴한다."
   ]
  },
  {
   "cell_type": "markdown",
   "id": "b8989083-b3dc-4ead-907e-5ad199f0cf90",
   "metadata": {},
   "source": [
    "## any\n",
    "any(x)는 반복 가능한 데이터 x를 입력으로 받아 x의 요소 중 하나라도 참이 있으면 True를 리턴하고 x가 모두 거짓일 때만 False를 리턴한다.<br>\n",
    "즉,  all(x)의 반대로 작동한다."
   ]
  },
  {
   "cell_type": "code",
   "execution_count": 15,
   "id": "13384503-8862-4d13-8c64-5375d1fdce9f",
   "metadata": {},
   "outputs": [
    {
     "name": "stdout",
     "output_type": "stream",
     "text": [
      "True\n",
      "False\n",
      "False\n"
     ]
    }
   ],
   "source": [
    "print(any([1,2,3,0]))\n",
    "print(any([0,\"\"]))\n",
    "print(any([])) # 빈 값일 경우 False를 리턴한다."
   ]
  },
  {
   "cell_type": "markdown",
   "id": "7a5f42b0-2871-4287-9ca1-739529bf4b3a",
   "metadata": {},
   "source": [
    "## chr\n",
    "chr(i)는 유니코드 숫자 값을 입력받아 그 코드에 해당하는 문자를 리턴하는 함수이다."
   ]
  },
  {
   "cell_type": "code",
   "execution_count": 18,
   "id": "d0c049f3-c28e-4ea0-a925-56c69b3473de",
   "metadata": {},
   "outputs": [
    {
     "name": "stdout",
     "output_type": "stream",
     "text": [
      "a\n",
      "가\n"
     ]
    }
   ],
   "source": [
    "print(chr(97))\n",
    "print(chr(44032))"
   ]
  },
  {
   "cell_type": "code",
   "execution_count": null,
   "id": "0be3affe-ec5b-408e-8536-9e8a473bdd5e",
   "metadata": {},
   "outputs": [],
   "source": []
  }
 ],
 "metadata": {
  "kernelspec": {
   "display_name": "Python 3 (ipykernel)",
   "language": "python",
   "name": "python3"
  },
  "language_info": {
   "codemirror_mode": {
    "name": "ipython",
    "version": 3
   },
   "file_extension": ".py",
   "mimetype": "text/x-python",
   "name": "python",
   "nbconvert_exporter": "python",
   "pygments_lexer": "ipython3",
   "version": "3.13.1"
  }
 },
 "nbformat": 4,
 "nbformat_minor": 5
}
