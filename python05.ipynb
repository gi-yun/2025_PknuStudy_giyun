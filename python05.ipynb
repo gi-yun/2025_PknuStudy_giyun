{
 "cells": [
  {
   "cell_type": "markdown",
   "id": "14f08738-956b-404d-af60-bbda3ad39ed2",
   "metadata": {},
   "source": [
    "# 클래스"
   ]
  },
  {
   "cell_type": "code",
   "execution_count": null,
   "id": "6d46bfd0-46f0-4fde-90ac-cebd59143ef6",
   "metadata": {
    "jp-MarkdownHeadingCollapsed": true
   },
   "outputs": [],
   "source": [
    "what = [1,2,3,4]\n",
    "what2 = ['a','b','c']\n",
    "who = 11,22,33,44\n",
    "print(what,type(what))\n",
    "print(what2,type(what2))\n",
    "print(who,type(who))"
   ]
  },
  {
   "cell_type": "code",
   "execution_count": 5,
   "id": "053cb057-5df2-4558-9a05-5e746faa734c",
   "metadata": {},
   "outputs": [],
   "source": [
    "# dir(list)"
   ]
  },
  {
   "cell_type": "code",
   "execution_count": 12,
   "id": "ccfec7cd-1159-4fa8-919f-c274b378e21e",
   "metadata": {},
   "outputs": [],
   "source": [
    "# dir(tuple)"
   ]
  },
  {
   "cell_type": "markdown",
   "id": "0f5741b1-d0d3-4689-bcc2-10d29d416596",
   "metadata": {},
   "source": [
    "## 클래스 기본"
   ]
  },
  {
   "cell_type": "code",
   "execution_count": 79,
   "id": "0e26048f-f7b5-43a2-97b1-35a25ee54fae",
   "metadata": {},
   "outputs": [
    {
     "name": "stdout",
     "output_type": "stream",
     "text": [
      "3\n",
      "7\n",
      "3\n",
      "10\n"
     ]
    }
   ],
   "source": [
    "# 함수로 구성\n",
    "result1=0\n",
    "result2=0\n",
    "\n",
    "def add1(num): #계산기 1\n",
    "    global result1\n",
    "    result1 += num\n",
    "    return result1\n",
    "\n",
    "def add2(num): #계산기 2\n",
    "    global result2\n",
    "    result2 += num\n",
    "    return result2\n",
    "\n",
    "    \n",
    "print(add1(3)) # +3\n",
    "print(add1(4))# 3+4\n",
    "print(add2(3))\n",
    "print(add2(7))"
   ]
  },
  {
   "cell_type": "markdown",
   "id": "537bb5de-a6c5-475e-8ab8-c378f78a7966",
   "metadata": {},
   "source": [
    "클래스 (Class): 클래스는 객체의 설계도나 청사진과 같은 개념입니다. 속성과 메서드를 정의하여 객체의 구조와 동작을 설명합니다.\n",
    "\n",
    "인스턴스 (Instance): 클래스에 정의된 속성과 메서드를 바탕으로 생성된 실제 객체를 인스턴스라고 합니다. 즉, 클래스의 구체적인 구현물입니다."
   ]
  },
  {
   "cell_type": "code",
   "execution_count": 28,
   "id": "d60168ff-5e9b-4d4a-af06-d34048b1d7b0",
   "metadata": {},
   "outputs": [
    {
     "name": "stdout",
     "output_type": "stream",
     "text": [
      "3\n",
      "7\n",
      "5\n",
      "3\n",
      "1\n",
      "-1\n",
      "-3\n",
      "-5\n",
      "3\n",
      "6\n",
      "9\n",
      "16\n",
      "23\n",
      "30\n",
      "37\n",
      "44\n",
      "51\n",
      "58\n",
      "55\n",
      "52\n",
      "49\n"
     ]
    }
   ],
   "source": [
    "# 클래스 구성\n",
    "class Calculator:\n",
    "    \n",
    "    def __init__(self): \n",
    "        self.result = 0\n",
    "    \n",
    "    def add(self,num): \n",
    "        self.result += num\n",
    "        return self.result\n",
    "    def sub(self,num): \n",
    "        self.result -= num\n",
    "        return self.result\n",
    "\n",
    "cal1 = Calculator() #인스턴스 화\n",
    "cal2 = Calculator()\n",
    "\n",
    "print(cal1.add(3))\n",
    "print(cal1.add(4))\n",
    "print(cal1.sub(2))\n",
    "print(cal1.sub(2))\n",
    "print(cal1.sub(2))\n",
    "print(cal1.sub(2))\n",
    "print(cal1.sub(2))\n",
    "print(cal1.sub(2))\n",
    "print(cal2.add(3))\n",
    "print(cal2.add(3))\n",
    "print(cal2.add(3))\n",
    "print(cal2.add(7))\n",
    "print(cal2.add(7))\n",
    "print(cal2.add(7))\n",
    "print(cal2.add(7))\n",
    "print(cal2.add(7))\n",
    "print(cal2.add(7))\n",
    "print(cal2.add(7))\n",
    "print(cal2.sub(3))\n",
    "print(cal2.sub(3))\n",
    "print(cal2.sub(3))"
   ]
  },
  {
   "cell_type": "markdown",
   "id": "6c1a4e26-e061-4e78-be9c-29e6ce63fbee",
   "metadata": {},
   "source": [
    "## 생성자"
   ]
  },
  {
   "cell_type": "code",
   "execution_count": 76,
   "id": "f320529a-767b-4310-8b02-652cb59cac0a",
   "metadata": {},
   "outputs": [],
   "source": [
    "class Dduk:\n",
    "    def __init__(self, won, ea):\n",
    "        self.won=won\n",
    "        self.ea=ea\n",
    "    def dduk(self):\n",
    "        result = self.won* self.ea\n",
    "        print(f'배가 고파서 떡볶이집에서 {result}원어치 먹었다.')\n",
    "    def odeng(self):\n",
    "        result = self.won*2*self.ea\n",
    "        print(f'배가 고파서 떡볶이집에서 오뎅을 {result}원 어치를 먹었다.')\n",
    "    def sundae(self):\n",
    "        result = self.won*3*self.ea\n",
    "        print(f'배가 고파서 떡볶이집에서 순대를 {result}원 어치를 먹었다.')\n",
    "        "
   ]
  },
  {
   "cell_type": "code",
   "execution_count": 67,
   "id": "48759924-8a10-4567-adc6-653647a86666",
   "metadata": {},
   "outputs": [],
   "source": [
    "성훈 = Dduk(2000,3)\n",
    "희성 = Dduk(3000,2)\n",
    "기윤 = Dduk(1500,6)"
   ]
  },
  {
   "cell_type": "code",
   "execution_count": 68,
   "id": "13f7239b-75cd-4241-8232-e07e6d30280a",
   "metadata": {},
   "outputs": [
    {
     "name": "stdout",
     "output_type": "stream",
     "text": [
      "배가 고파서 떡볶이집에서 6000원어치 먹었다.\n",
      "배가 고파서 떡볶이집에서 오뎅을 12000원 어치를 먹었다.\n"
     ]
    }
   ],
   "source": [
    "성훈.dduk()\n",
    "성훈.odeng()"
   ]
  },
  {
   "cell_type": "code",
   "execution_count": 70,
   "id": "352018a6-23c6-4fdb-8089-89ae7a7e7a21",
   "metadata": {},
   "outputs": [
    {
     "name": "stdout",
     "output_type": "stream",
     "text": [
      "배가 고파서 떡볶이집에서 6000원어치 먹었다.\n",
      "배가 고파서 떡볶이집에서 오뎅을 12000원 어치를 먹었다.\n"
     ]
    }
   ],
   "source": [
    "희성.dduk()\n",
    "희성.odeng()"
   ]
  },
  {
   "cell_type": "code",
   "execution_count": 69,
   "id": "9cf441af-0e78-4f1f-bf2d-fe29a4d3abcc",
   "metadata": {},
   "outputs": [
    {
     "name": "stdout",
     "output_type": "stream",
     "text": [
      "배가 고파서 떡볶이집에서 9000원어치 먹었다.\n",
      "배가 고파서 떡볶이집에서 오뎅을 18000원 어치를 먹었다.\n"
     ]
    }
   ],
   "source": [
    "기윤.dduk()\n",
    "기윤.odeng()"
   ]
  },
  {
   "cell_type": "code",
   "execution_count": 71,
   "id": "d939921a-25c5-437d-b8c3-e9b1254cd951",
   "metadata": {},
   "outputs": [],
   "source": [
    "성훈.__init__(3000,3)"
   ]
  },
  {
   "cell_type": "code",
   "execution_count": 72,
   "id": "cca9b6c2-2711-4eb4-96f9-242b29d8071d",
   "metadata": {},
   "outputs": [
    {
     "name": "stdout",
     "output_type": "stream",
     "text": [
      "배가 고파서 떡볶이집에서 9000원어치 먹었다.\n",
      "배가 고파서 떡볶이집에서 오뎅을 18000원 어치를 먹었다.\n"
     ]
    }
   ],
   "source": [
    "성훈.dduk()\n",
    "성훈.odeng()"
   ]
  },
  {
   "cell_type": "code",
   "execution_count": 77,
   "id": "a815ea85-caf3-4a7a-aa15-7cc5e91f08f0",
   "metadata": {},
   "outputs": [
    {
     "name": "stdout",
     "output_type": "stream",
     "text": [
      "배가 고파서 떡볶이집에서 8000원어치 먹었다.\n",
      "배가 고파서 떡볶이집에서 오뎅을 16000원 어치를 먹었다.\n",
      "배가 고파서 떡볶이집에서 순대를 24000원 어치를 먹었다.\n"
     ]
    }
   ],
   "source": [
    "기윤=Dduk(2000,4)\n",
    "기윤.dduk()\n",
    "기윤.odeng()\n",
    "기윤.sundae()"
   ]
  },
  {
   "cell_type": "code",
   "execution_count": 78,
   "id": "deec6721-dd6e-4f65-b13f-bd614394d998",
   "metadata": {},
   "outputs": [
    {
     "name": "stdout",
     "output_type": "stream",
     "text": [
      "배가 고파서 떡볶이집에서 21000원어치 먹었다.\n",
      "배가 고파서 떡볶이집에서 오뎅을 42000원 어치를 먹었다.\n",
      "배가 고파서 떡볶이집에서 순대를 63000원 어치를 먹었다.\n"
     ]
    }
   ],
   "source": [
    "기윤.__init__(3500,6)\n",
    "기윤.dduk()\n",
    "기윤.odeng()\n",
    "기윤.sundae()"
   ]
  },
  {
   "cell_type": "markdown",
   "id": "16659e21-11a9-4baa-b9e0-b26d42ff7994",
   "metadata": {},
   "source": [
    "## 예제들"
   ]
  },
  {
   "cell_type": "code",
   "execution_count": 48,
   "id": "85a3663c-57e7-4f3a-8e2f-eb57b7d40612",
   "metadata": {},
   "outputs": [
    {
     "name": "stdout",
     "output_type": "stream",
     "text": [
      "방가방가 저는 고전 인사입니다!!\n"
     ]
    }
   ],
   "source": [
    "# 테스트1\n",
    "def test():\n",
    "    #__doc__ : 함수 설명란\n",
    "    \"\"\"\n",
    "    이것은 예로부터 전해오는 고전 인사 입니다. == DocString\n",
    "    \"\"\"\n",
    "    # 안녕하세요\n",
    "    print(\"방가방가 저는 고전 인사입니다!!\")\n",
    "test()"
   ]
  },
  {
   "cell_type": "code",
   "execution_count": 49,
   "id": "dfc6bb37-3f1a-48e9-b0fd-faef71c2bce0",
   "metadata": {},
   "outputs": [],
   "source": [
    "# dir(test)"
   ]
  },
  {
   "cell_type": "code",
   "execution_count": 50,
   "id": "7ddb0d50-cca7-4894-b414-29e399b8c182",
   "metadata": {},
   "outputs": [
    {
     "name": "stdout",
     "output_type": "stream",
     "text": [
      "\n",
      "이것은 예로부터 전해오는 고전 인사 입니다. == DocString\n",
      "\n",
      "Help on function test in module __main__:\n",
      "\n",
      "test()\n",
      "    이것은 예로부터 전해오는 고전 인사 입니다. == DocString\n",
      "\n"
     ]
    }
   ],
   "source": [
    "print(test.__doc__)\n",
    "\n",
    "help(test)"
   ]
  },
  {
   "cell_type": "code",
   "execution_count": 51,
   "id": "d8ec97e6-f15b-48fe-a8bc-22e2a40598ff",
   "metadata": {},
   "outputs": [
    {
     "name": "stdout",
     "output_type": "stream",
     "text": [
      "{'name': 'HD', 'color': 'Blue'}\n",
      "Car:HD,Color:Blue\n",
      "Car:Kia,Color:White\n"
     ]
    }
   ],
   "source": [
    "# 테스트 2 \n",
    "# class의 self없이 함수 만들기\n",
    "def set_car(name, color):\n",
    "    return {\"name\":name,\"color\":color}\n",
    "def get_car_info(car):\n",
    "    return f\"Car:{car['name']},Color:{car['color']}\"\n",
    "\n",
    "# 자동차를 생성\n",
    "car = set_car(\"HD\",\"Blue\")\n",
    "print(car)\n",
    "# 자동차 정보를 생성\n",
    "print(get_car_info(car))\n",
    "\n",
    "print(get_car_info(set_car(\"Kia\",\"White\")))"
   ]
  },
  {
   "cell_type": "code",
   "execution_count": 52,
   "id": "0b070c26-ff21-4e59-8160-954ab15814e3",
   "metadata": {},
   "outputs": [
    {
     "name": "stdout",
     "output_type": "stream",
     "text": [
      "Car:HD,Color:Yellow\n",
      "Car:Kia,Color:White\n"
     ]
    }
   ],
   "source": [
    "# 테스트 3\n",
    "class Car:\n",
    "    def set_car(name, color):\n",
    "        return {\"name\":name,\"color\":color}\n",
    "    def get_car_info(car):\n",
    "        return f\"Car:{car['name']},Color:{car['color']}\"\n",
    "\n",
    "car1 = Car.set_car(\"HD\",\"Yellow\")\n",
    "car2 = Car.set_car(\"Kia\",\"White\")\n",
    "print(Car.get_car_info(car1))\n",
    "print(Car.get_car_info(car2))"
   ]
  },
  {
   "cell_type": "code",
   "execution_count": 53,
   "id": "4afb4e2f-b4b8-40ea-8b88-8f54fcffce82",
   "metadata": {},
   "outputs": [
    {
     "name": "stdout",
     "output_type": "stream",
     "text": [
      "Car:HD,Color:Black\n",
      "Car:Kia,Color:Gray\n"
     ]
    }
   ],
   "source": [
    "# 테스트 4\n",
    "class Car:\n",
    "    def __init__(self,name,color): # 생성자\n",
    "        self.name = name\n",
    "        self.color = color   \n",
    "    def get_car_info(self):\n",
    "        return f\"Car:{self.name},Color:{self.color}\"\n",
    "\n",
    "car1 = Car(\"HD\",\"Black\")\n",
    "car2 = Car(\"Kia\",\"Gray\")\n",
    "\n",
    "print(car1.get_car_info())\n",
    "print(car2.get_car_info())"
   ]
  },
  {
   "cell_type": "code",
   "execution_count": 54,
   "id": "60eccea6-53e3-4056-b50e-abed99b91069",
   "metadata": {},
   "outputs": [],
   "source": [
    "# 테스트 5\n",
    "class Car:\n",
    "    def __init__(self,name,color): # 생성자\n",
    "        self.name = name\n",
    "        self.color = color\n",
    "        self.speed = 0 # 초기값 0\n",
    "    def get_car_info(self):\n",
    "        return f\"Car:{self.name},Color:{self.color}\"\n",
    "    def acc(self, amount):\n",
    "        self.speed += amount # 속도가 증가\n",
    "        return f\"{self.name} 속도 올려요. 현재속도는 {self.speed}Km/h\""
   ]
  },
  {
   "cell_type": "code",
   "execution_count": 55,
   "id": "562f3570-9b7b-4d8c-819c-0d6b98b550d1",
   "metadata": {},
   "outputs": [
    {
     "name": "stdout",
     "output_type": "stream",
     "text": [
      "Car:HD,Color:Black\n",
      "Car:Kia,Color:Gray\n"
     ]
    }
   ],
   "source": [
    "car1 = Car(\"HD\",\"Black\")\n",
    "car2 = Car(\"Kia\",\"Gray\")\n",
    "print(car1.get_car_info())\n",
    "print(car2.get_car_info())"
   ]
  },
  {
   "cell_type": "code",
   "execution_count": 56,
   "id": "f79f91fb-0dde-4fb6-9309-422ca0c2eb0c",
   "metadata": {},
   "outputs": [
    {
     "name": "stdout",
     "output_type": "stream",
     "text": [
      "HD 속도 올려요. 현재속도는 30Km/h\n",
      "Kia 속도 올려요. 현재속도는 50Km/h\n",
      "HD 속도 올려요. 현재속도는 40Km/h\n"
     ]
    }
   ],
   "source": [
    "print(car1.acc(30))\n",
    "print(car2.acc(50))\n",
    "print(car1.acc(10))"
   ]
  },
  {
   "cell_type": "code",
   "execution_count": 57,
   "id": "ab10f2ed-1217-45b6-bf2e-018bfdde63e8",
   "metadata": {
    "scrolled": true
   },
   "outputs": [
    {
     "name": "stdout",
     "output_type": "stream",
     "text": [
      "HD 속도 올려요. 현재속도는 41Km/h\n",
      "HD 속도 올려요. 현재속도는 42Km/h\n",
      "HD 속도 올려요. 현재속도는 43Km/h\n",
      "HD 속도 올려요. 현재속도는 44Km/h\n",
      "HD 속도 올려요. 현재속도는 45Km/h\n",
      "HD 속도 올려요. 현재속도는 46Km/h\n",
      "HD 속도 올려요. 현재속도는 47Km/h\n",
      "HD 속도 올려요. 현재속도는 48Km/h\n",
      "HD 속도 올려요. 현재속도는 49Km/h\n",
      "HD 속도 올려요. 현재속도는 50Km/h\n",
      "100Km/h 속도 유지중...\n"
     ]
    }
   ],
   "source": [
    "# 테스트 연습\n",
    "import time as t\n",
    "for n in range(10):\n",
    "    print(car1.acc(1))\n",
    "    t.sleep(1)\n",
    "print(\"100Km/h 속도 유지중...\")"
   ]
  },
  {
   "cell_type": "code",
   "execution_count": 58,
   "id": "223c536e-13a8-4add-9b1a-6ca3d9ef9c81",
   "metadata": {},
   "outputs": [],
   "source": [
    "# 테스트 6 상속\n",
    "class Mycar(Car):\n",
    "    def turbo(self):\n",
    "        self.speed += 50        \n",
    "        return(f\"내차가 나른다!! 터보 ! {self.speed} Km/h\")    \n",
    "    def acc(self):\n",
    "        self.speed += 30 # 속도가 증가\n",
    "        return f\"{self.name}의 {self.speed}!!\" "
   ]
  },
  {
   "cell_type": "code",
   "execution_count": 59,
   "id": "cce83810-067d-41b0-bfda-29b1cfe1a812",
   "metadata": {},
   "outputs": [
    {
     "name": "stdout",
     "output_type": "stream",
     "text": [
      "Kia 속도 올려요. 현재속도는 10Km/h\n",
      "mycar의 30!!\n"
     ]
    }
   ],
   "source": [
    "my = Mycar(\"mycar\",\"skyblue\")\n",
    "car0 = Car(\"Kia\",\"Gray\")\n",
    "print(car0.acc(10))\n",
    "print(my.acc())"
   ]
  },
  {
   "cell_type": "code",
   "execution_count": 60,
   "id": "046420c5-3188-4d9a-9ad0-731a0464e99b",
   "metadata": {},
   "outputs": [
    {
     "name": "stdout",
     "output_type": "stream",
     "text": [
      "내차가 나른다!! 터보 ! 80 Km/h\n",
      "내차가 나른다!! 터보 ! 130 Km/h\n"
     ]
    }
   ],
   "source": [
    "print(my.turbo())\n",
    "print(my.turbo())"
   ]
  },
  {
   "cell_type": "markdown",
   "id": "bd92a882-b0fe-4b5c-a419-d8198853a803",
   "metadata": {},
   "source": [
    "객체 지향 프로그래밍(Object-Orented) OOP\n",
    "\n",
    "객체지향의 핵심:<br>\n",
    "캡슐화<br>\n",
    "상속<br>\n",
    "다형성<br>\n",
    "클래스 : class Car <br>\n",
    "객체: car1 =Car(\"HD\", \"Blue\")\n",
    "\n",
    "객체지향의 장점: <br>\n",
    "  코드의 재사용성 <br>\n",
    "  유지보수가 용이<br>\n",
    "  작성시 효율성"
   ]
  },
  {
   "cell_type": "code",
   "execution_count": 2,
   "id": "9c236f48-5792-4ee4-9bdf-25b4bf359b52",
   "metadata": {},
   "outputs": [],
   "source": [
    "#테스트 7\n",
    "class Pet:\n",
    "    def __init__(self,name,species):\n",
    "        \"\"\"펫을 생성\"\"\"\n",
    "        self.name = name\n",
    "        self.species = species\n",
    "        self.hunger = 50 # 초기 배고픔 수치( 0 ~ 100)\n",
    "    def feed(self):\n",
    "        \"\"\"밥을 주면 배고픔 감소\"\"\"\n",
    "        if self.hunger > 10:\n",
    "            self.hunger-=10\n",
    "            return f\"{self.name}에게 밥을 줬습니다! 배고픔:{self.hunger}\"\n",
    "    def play(self):\n",
    "        \"\"\"놀아주면 배고픔이 증가\"\"\"\n",
    "        if self.hunger < 80:\n",
    "            self.hunger +=20\n",
    "        else:\n",
    "            self.hunger = 100\n",
    "        return f\"{self.name}와 아주 잘 놀아줬어요!!!~~~ 배고픔:{self.hunger}\""
   ]
  },
  {
   "cell_type": "code",
   "execution_count": 3,
   "id": "9368a448-ed94-4b79-9a8a-716202444edd",
   "metadata": {},
   "outputs": [
    {
     "name": "stdout",
     "output_type": "stream",
     "text": [
      "뽀삐에게 밥을 줬습니다! 배고픔:40\n",
      "뽀삐에게 밥을 줬습니다! 배고픔:30\n",
      "아지와 아주 잘 놀아줬어요!!!~~~ 배고픔:70\n",
      "아지와 아주 잘 놀아줬어요!!!~~~ 배고픔:90\n",
      "아지와 아주 잘 놀아줬어요!!!~~~ 배고픔:100\n",
      "뽀삐와 아주 잘 놀아줬어요!!!~~~ 배고픔:50\n",
      "뽀삐와 아주 잘 놀아줬어요!!!~~~ 배고픔:70\n",
      "컁이와 아주 잘 놀아줬어요!!!~~~ 배고픔:70\n",
      "컁이와 아주 잘 놀아줬어요!!!~~~ 배고픔:90\n",
      "컁이에게 밥을 줬습니다! 배고픔:80\n"
     ]
    }
   ],
   "source": [
    "# 펫생성\n",
    "dog1 = Pet(\"뽀삐\",\"말티즈\")\n",
    "dog2 = Pet(\"아지\",\"요크\")\n",
    "cat = Pet(\"컁이\",\"나만고양없어\")\n",
    "print(dog1.feed())\n",
    "print(dog1.feed())\n",
    "print(dog2.play())\n",
    "print(dog2.play())\n",
    "print(dog2.play())\n",
    "print(dog1.play())\n",
    "print(dog1.play())\n",
    "print(cat.play())\n",
    "print(cat.play())\n",
    "print(cat.feed())"
   ]
  },
  {
   "cell_type": "code",
   "execution_count": null,
   "id": "ed765a0e-ef1f-46c4-9658-646b36bd1e31",
   "metadata": {},
   "outputs": [],
   "source": []
  }
 ],
 "metadata": {
  "kernelspec": {
   "display_name": "Python 3 (ipykernel)",
   "language": "python",
   "name": "python3"
  },
  "language_info": {
   "codemirror_mode": {
    "name": "ipython",
    "version": 3
   },
   "file_extension": ".py",
   "mimetype": "text/x-python",
   "name": "python",
   "nbconvert_exporter": "python",
   "pygments_lexer": "ipython3",
   "version": "3.13.1"
  }
 },
 "nbformat": 4,
 "nbformat_minor": 5
}
