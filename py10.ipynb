{
 "cells": [
  {
   "cell_type": "code",
   "execution_count": 6,
   "id": "fde01e1d-8f88-4dce-9171-4084c995a6d6",
   "metadata": {
    "colab": {
     "base_uri": "https://localhost:8080/"
    },
    "id": "fde01e1d-8f88-4dce-9171-4084c995a6d6",
    "outputId": "8ebe58fa-822c-4b36-bbb7-fea8bb240614"
   },
   "outputs": [
    {
     "name": "stdout",
     "output_type": "stream",
     "text": [
      "저장되었습니다.\n"
     ]
    }
   ],
   "source": [
    "with open('/content/drive/MyDrive/PK_PY/ReadME.md','w') as f:\n",
    "    data = f.write('반가워요.')\n",
    "    print('저장되었습니다.')"
   ]
  },
  {
   "cell_type": "code",
   "execution_count": 4,
   "id": "e17ri0I1ij9I",
   "metadata": {
    "colab": {
     "base_uri": "https://localhost:8080/"
    },
    "id": "e17ri0I1ij9I",
    "outputId": "b6f1ce0a-4081-455d-8645-810efafaad6b"
   },
   "outputs": [
    {
     "name": "stdout",
     "output_type": "stream",
     "text": [
      "Mounted at /content/drive\n"
     ]
    }
   ],
   "source": [
    "from google.colab import drive\n",
    "drive.mount('/content/drive')"
   ]
  },
  {
   "cell_type": "code",
   "execution_count": null,
   "id": "kfjI-3S0idhM",
   "metadata": {
    "id": "kfjI-3S0idhM"
   },
   "outputs": [],
   "source": []
  },
  {
   "cell_type": "markdown",
   "id": "SHvGnZOQi-Ue",
   "metadata": {
    "id": "SHvGnZOQi-Ue"
   },
   "source": [
    "# 넘파이(numpy)"
   ]
  },
  {
   "cell_type": "markdown",
   "id": "ueq70PfGjm72",
   "metadata": {
    "id": "ueq70PfGjm72"
   },
   "source": [
    "- ndim:축의 개수\n",
    "- shape:배열의 차원정보\n",
    "- size: 배열안에 있는 원소의 총개수\n",
    "- dtype: 배열원소의 자료형"
   ]
  },
  {
   "cell_type": "markdown",
   "id": "D6Nk-MeouNxn",
   "metadata": {
    "id": "D6Nk-MeouNxn"
   },
   "source": [
    "## 1차원과 속성들"
   ]
  },
  {
   "cell_type": "code",
   "execution_count": 17,
   "id": "2j05BwekjByO",
   "metadata": {
    "colab": {
     "base_uri": "https://localhost:8080/"
    },
    "id": "2j05BwekjByO",
    "outputId": "c2aec442-dd37-4a55-d1bc-e5ebdc9ac153"
   },
   "outputs": [
    {
     "name": "stdout",
     "output_type": "stream",
     "text": [
      "[0 1 2 3 4] <class 'numpy.ndarray'>\n",
      "1\n",
      "(5,)\n",
      "5\n",
      "4\n",
      "[1 2]\n"
     ]
    }
   ],
   "source": [
    "import numpy as np\n",
    "narry = np.array(range(5))\n",
    "print(narry,type (narry))\n",
    "print(narry.ndim)\n",
    "print(narry.shape)\n",
    "print(narry.size)\n",
    "print(narry[4])\n",
    "print(narry[1:3]) # <= x <"
   ]
  },
  {
   "cell_type": "code",
   "execution_count": 27,
   "id": "82o8rBl3jJRv",
   "metadata": {
    "colab": {
     "base_uri": "https://localhost:8080/"
    },
    "id": "82o8rBl3jJRv",
    "outputId": "f9790584-dbf3-4058-ae27-73de787b8d6d"
   },
   "outputs": [
    {
     "name": "stdout",
     "output_type": "stream",
     "text": [
      "[1 2 3 4] <class 'numpy.ndarray'>\n",
      "1 <class 'numpy.int64'>\n",
      "[1 2 3 4] int64\n",
      "['1' '2' 'a' 'b'] <U21\n",
      "['1' '2' 'a' 'b'] <U1\n"
     ]
    }
   ],
   "source": [
    "narr1 = np.array([1,2,3,4])\n",
    "narr2 = np.array([1,2,'a','b'])\n",
    "narr3 = np.array([1,2,'a','b'], dtype='str')\n",
    "print(narr1,type(narr1))\n",
    "print(narr1[0],type(narr1[0]))\n",
    "print(narr1,narr1.dtype)\n",
    "print(narr2,narr2.dtype)\n",
    "print(narr3,narr3.dtype)"
   ]
  },
  {
   "cell_type": "code",
   "execution_count": 104,
   "id": "bxoa5HW2p2rQ",
   "metadata": {
    "colab": {
     "base_uri": "https://localhost:8080/"
    },
    "id": "bxoa5HW2p2rQ",
    "outputId": "a1834994-196e-4801-f0d5-dbfe79025424"
   },
   "outputs": [
    {
     "name": "stdout",
     "output_type": "stream",
     "text": [
      "[[0 0]\n",
      " [0 0]] 2 int64 (2, 2) 4 <class 'numpy.ndarray'>\n",
      "[[1. 1.]\n",
      " [1. 1.]] 2 float64 (2, 2) 4 <class 'numpy.ndarray'>\n",
      "[[3 3 3]\n",
      " [3 3 3]\n",
      " [3 3 3]] 2 int64 (3, 3) 10 <class 'numpy.ndarray'>\n",
      "[['number' 'number' 'number']\n",
      " ['number' 'number' 'number']\n",
      " ['number' 'number' 'number']] 2 <U6 (3, 3) 9 <class 'numpy.ndarray'>\n",
      "[[1. 0. 0.]\n",
      " [0. 1. 0.]\n",
      " [0. 0. 1.]] 2 float64 (3, 3) 9 <class 'numpy.ndarray'>\n",
      "[ 0 20 40 60 80] 1 int64 (5,) 5 <class 'numpy.ndarray'>\n",
      "[ 0 20 40 60 80] 1 int64 (5,) 5 <class 'numpy.ndarray'>\n"
     ]
    }
   ],
   "source": [
    "narr4 = np.zeros((2,2), dtype='int64')\n",
    "narr5 = np.ones((2,2))\n",
    "narr6 = np.full((3,3),3)\n",
    "narr7 = np.full((3,3),'number')\n",
    "narr8 = np.eye(3)\n",
    "narr9 = np.linspace(0,100,5,endpoint=False,dtype='int64')\n",
    "narr10 = np.arange(0,100,20)\n",
    "print(narr4,narr4.ndim,narr4.dtype,narr4.shape,narr4.size ,type(narr4))\n",
    "print(narr5,narr5.ndim,narr5.dtype,narr5.shape,narr5.size ,type(narr5))\n",
    "print(narr6,narr6.ndim,narr6.dtype,narr6.shape,narry.size ,type(narr6))\n",
    "print(narr7,narr7.ndim,narr7.dtype,narr7.shape,narr7.size ,type(narr7))\n",
    "print(narr8,narr8.ndim,narr8.dtype,narr8.shape,narr8.size ,type(narr8))\n",
    "print(narr9,narr9.ndim,narr9.dtype,narr9.shape,narr9.size ,type(narr9))\n",
    "print(narr10,narr10.ndim,narr10.dtype,narr10.shape,narr10.size ,type(narr10))"
   ]
  },
  {
   "cell_type": "markdown",
   "id": "erLnvQ43uUhW",
   "metadata": {
    "id": "erLnvQ43uUhW"
   },
   "source": [
    "## 2차원 배열"
   ]
  },
  {
   "cell_type": "code",
   "execution_count": 47,
   "id": "It_rmD5JvZmn",
   "metadata": {
    "colab": {
     "base_uri": "https://localhost:8080/"
    },
    "id": "It_rmD5JvZmn",
    "outputId": "000cfb37-64e9-456a-fe83-a52495548710"
   },
   "outputs": [
    {
     "name": "stdout",
     "output_type": "stream",
     "text": [
      "[2, 3, 4, 5, 6, 7, 8, 9]\n",
      "[2 3 4 5 6 7 8 9]\n"
     ]
    }
   ],
   "source": [
    "print(list(range(2,10)))\n",
    "print(np.arange(2,10))"
   ]
  },
  {
   "cell_type": "code",
   "execution_count": 43,
   "id": "5ED5WB3glDWe",
   "metadata": {
    "colab": {
     "base_uri": "https://localhost:8080/"
    },
    "id": "5ED5WB3glDWe",
    "outputId": "f5dd9e92-ed32-4a38-83b3-735227d4a297"
   },
   "outputs": [
    {
     "name": "stdout",
     "output_type": "stream",
     "text": [
      "[[0 0]\n",
      " [0 0]] 2 int64 (2, 2) 4 <class 'numpy.ndarray'>\n"
     ]
    }
   ],
   "source": [
    "arr1 = np.array([[0,0],[0,0]])\n",
    "print(arr1,arr1.ndim,arr1.dtype, arr1.shape, arr1.size,type(arr1))"
   ]
  },
  {
   "cell_type": "code",
   "execution_count": 57,
   "id": "LGLEAvdNvQnF",
   "metadata": {
    "colab": {
     "base_uri": "https://localhost:8080/"
    },
    "id": "LGLEAvdNvQnF",
    "outputId": "2f97a49b-8b7f-4f7f-d889-1b573eb1b514"
   },
   "outputs": [
    {
     "name": "stdout",
     "output_type": "stream",
     "text": [
      "차원 2 데이터타입 int64 형태 (3, 3) 9 크기 <class 'numpy.ndarray'> [[1 2 3]\n",
      " [4 5 6]\n",
      " [7 8 9]]\n",
      "차원 2 데이터타입 int64 형태 (3, 3) 9 크기 <class 'numpy.ndarray'> [[1 2 3]\n",
      " [4 5 6]\n",
      " [7 8 9]]\n",
      "차원 2 데이터타입 int64 형태 (5, 2) 10 크기 <class 'numpy.ndarray'> [[ 1  2]\n",
      " [ 3  4]\n",
      " [ 5  6]\n",
      " [ 7  8]\n",
      " [ 9 10]]\n",
      "차원 3 데이터타입 int64 형태 (3, 3, 3) 27 크기 <class 'numpy.ndarray'> [[[ 1  2  3]\n",
      "  [ 4  5  6]\n",
      "  [ 7  8  9]]\n",
      "\n",
      " [[10 11 12]\n",
      "  [13 14 15]\n",
      "  [16 17 18]]\n",
      "\n",
      " [[19 20 21]\n",
      "  [22 23 24]\n",
      "  [25 26 27]]]\n"
     ]
    }
   ],
   "source": [
    "arr2 = np.array([1,2,3,4,5,6,7,8,9]).reshape(3,3)\n",
    "arr3 = np.arange(1,10).reshape(3,3)\n",
    "arr4 = np.arange(1,11).reshape(2,5)\n",
    "arr5 = np.arange(1,11).reshape(5,2)\n",
    "arr6 = np.arange(1,28).reshape(3,3,3)\n",
    "print('차원',arr2.ndim,'데이터타입',arr2.dtype, '형태',arr2.shape, arr2.size,'크기',type(arr2),arr2)\n",
    "print('차원',arr3.ndim,'데이터타입',arr3.dtype, '형태',arr3.shape, arr3.size,'크기',type(arr3),arr3)\n",
    "print('차원',arr5.ndim,'데이터타입',arr5.dtype, '형태',arr5.shape, arr5.size,'크기',type(arr5),arr5)\n",
    "print('차원',arr6.ndim,'데이터타입',arr6.dtype, '형태',arr6.shape, arr6.size,'크기',type(arr6),arr6)"
   ]
  },
  {
   "cell_type": "code",
   "execution_count": 100,
   "id": "YFl3aQyDv5NE",
   "metadata": {
    "colab": {
     "base_uri": "https://localhost:8080/"
    },
    "id": "YFl3aQyDv5NE",
    "outputId": "11b1bcc3-4eb9-4bf4-cc58-a60a9d38c5b0"
   },
   "outputs": [
    {
     "name": "stdout",
     "output_type": "stream",
     "text": [
      "[[ 1  2  3  4  5  6  7  8  9]\n",
      " [10 11 12 13 14 15 16 17 18]\n",
      " [19 20 21 22 23 24 25 26 27]]\n",
      "=======================\n",
      "[[1]\n",
      " [2]\n",
      " [3]\n",
      " [4]\n",
      " [5]\n",
      " [6]\n",
      " [7]]\n",
      "=======================\n",
      "[[ 1  2]\n",
      " [ 3  4]\n",
      " [ 5  6]\n",
      " [ 7  8]\n",
      " [ 9 10]]\n",
      "=======================\n",
      "[[ 1  2  3  4  5  6  7]\n",
      " [ 8  9 10 11 12 13 14]\n",
      " [15 16 17 18 19 20 21]]\n",
      "=======================\n",
      "[[[ 1]\n",
      "  [ 2]\n",
      "  [ 3]]\n",
      "\n",
      " [[ 4]\n",
      "  [ 5]\n",
      "  [ 6]]\n",
      "\n",
      " [[ 7]\n",
      "  [ 8]\n",
      "  [ 9]]\n",
      "\n",
      " [[10]\n",
      "  [11]\n",
      "  [12]]]\n"
     ]
    }
   ],
   "source": [
    "t1 = np.arange(1,28).reshape(3,9)\n",
    "t2 = np.arange(1,8).reshape(7,1)\n",
    "t3 = np.arange(1,11).reshape(5,2)\n",
    "t4 = np.arange(1,22).reshape(3,7)\n",
    "t5 = np.arange(1,13).reshape(4,3,1)\n",
    "print(t1)\n",
    "print(\"=\"*23)\n",
    "print(t2)\n",
    "print(\"=\"*23)\n",
    "print(t3)\n",
    "print(\"=\"*23)\n",
    "print(t4)\n",
    "print(\"=\"*23)\n",
    "print(t5)"
   ]
  },
  {
   "cell_type": "code",
   "execution_count": 93,
   "id": "ds7QvW283QmE",
   "metadata": {
    "colab": {
     "base_uri": "https://localhost:8080/"
    },
    "id": "ds7QvW283QmE",
    "outputId": "4f2f1bbc-0dcd-4801-9eed-7c2d397d81b5"
   },
   "outputs": [
    {
     "name": "stdout",
     "output_type": "stream",
     "text": [
      "[[ 1  2]\n",
      " [ 3  4]\n",
      " [ 5  6]\n",
      " [ 7  8]\n",
      " [ 9 10]]\n"
     ]
    }
   ],
   "source": [
    "t1 = np.arange(1,11).reshape(5,2)\n",
    "print(t1)"
   ]
  },
  {
   "cell_type": "code",
   "execution_count": 176,
   "id": "bS82C1tE4k3d",
   "metadata": {
    "colab": {
     "base_uri": "https://localhost:8080/"
    },
    "id": "bS82C1tE4k3d",
    "outputId": "5cab5d1b-9bce-4c23-b449-620442b41636"
   },
   "outputs": [
    {
     "name": "stdout",
     "output_type": "stream",
     "text": [
      "[12 13 14]\n",
      "[[ 4  5  6  7]\n",
      " [11 12 13 14]\n",
      " [18 19 20 21]]\n",
      "[[12 13]\n",
      " [19 20]]\n",
      "[4 5 6 7]\n",
      "[11 12 13 14]\n",
      "[18 19 20 21]\n",
      "[13 14 15 16 17 18 19 20 21]\n",
      "[array([[False, False, False, False, False, False, False],\n",
      "       [False, False, False, False, False,  True,  True],\n",
      "       [ True,  True,  True,  True,  True,  True,  True]])]\n",
      "[ 2  4  6  8 10 12 14 16 18 20]\n",
      "[array([[False,  True, False,  True, False,  True, False],\n",
      "       [ True, False,  True, False,  True, False,  True],\n",
      "       [False,  True, False,  True, False,  True, False]])]\n"
     ]
    }
   ],
   "source": [
    "print(t1[1][2:5])\n",
    "print(t4[:3,3:])\n",
    "print(t4[1:3,4:-1])\n",
    "print(t4[0][3:])\n",
    "print(t4[1][3:])\n",
    "print(t4[2][3:])\n",
    "print(t4[t4>12])\n",
    "print([t4>12])\n",
    "print(t4[t4 % 2 ==0])\n",
    "print([t4 % 2 ==0])  # 필터역할 가능\n"
   ]
  },
  {
   "cell_type": "code",
   "execution_count": 178,
   "id": "AI6isj8JFr_O",
   "metadata": {
    "colab": {
     "base_uri": "https://localhost:8080/"
    },
    "id": "AI6isj8JFr_O",
    "outputId": "5e0e6ae9-8463-4230-aa9e-407b16aaefaf"
   },
   "outputs": [
    {
     "name": "stdout",
     "output_type": "stream",
     "text": [
      "덧셈 [ 7  9 11 13 15]\n",
      "뺄셈 [5 5 5 5 5]\n",
      "곱셈 [ 6 14 24 36 50]\n",
      "나눗셈 [6.         3.5        2.66666667 2.25       2.        ]\n"
     ]
    }
   ],
   "source": [
    "# np 배열 연산 // shape 가 같을 경우 원소별 연산이 가능\n",
    "np2 =np.array([1,2,3,4,5])\n",
    "np1 =np.array([6,7,8,9,10])\n",
    "print(\"덧셈\",np1+np2)\n",
    "print(\"뺄셈\",np1-np2)\n",
    "print(\"곱셈\",np1*np2)\n",
    "print(\"나눗셈\",np1/np2)"
   ]
  },
  {
   "cell_type": "code",
   "execution_count": 184,
   "id": "RXcDOjHpGAWe",
   "metadata": {
    "colab": {
     "base_uri": "https://localhost:8080/"
    },
    "id": "RXcDOjHpGAWe",
    "outputId": "3d13f926-fae7-43f5-9e3d-afd4db9452d8"
   },
   "outputs": [
    {
     "name": "stdout",
     "output_type": "stream",
     "text": [
      "[16 17 18 19 20]\n"
     ]
    }
   ],
   "source": [
    "# 브로드캐스팅\n",
    "np3 =np1 +10\n",
    "print(np3)"
   ]
  },
  {
   "cell_type": "code",
   "execution_count": 195,
   "id": "c8aaqf6wG6Xi",
   "metadata": {
    "colab": {
     "base_uri": "https://localhost:8080/"
    },
    "id": "c8aaqf6wG6Xi",
    "outputId": "da85efeb-f25d-4c7a-a097-3c5fa121f148"
   },
   "outputs": [
    {
     "name": "stdout",
     "output_type": "stream",
     "text": [
      "===스칼라와 연산===\n",
      "[[1 2 3]\n",
      " [4 5 6]\n",
      " [7 8 9]]\n",
      "=======================\n",
      "[[ 4  5  6]\n",
      " [ 7  8  9]\n",
      " [10 11 12]]\n",
      "=======================\n",
      "[[ 2  4  6]\n",
      " [ 8 10 12]\n",
      " [14 16 18]]\n",
      "===2D 와 1D 의 연산===\n",
      "=======================\n",
      "[[12 24 36]\n",
      " [15 27 39]\n",
      " [18 30 42]]\n",
      "=======================\n",
      "[[ 11  44  99]\n",
      " [ 44 110 198]\n",
      " [ 77 176 297]]\n"
     ]
    }
   ],
   "source": [
    "br1 = np.arange(1,10).reshape(3,3)\n",
    "br2 = np.array([11,22,33]).reshape(1,3)\n",
    "# 스칼라와 연산\n",
    "print(\"===스칼라와 연산===\")\n",
    "print(br1)\n",
    "print(\"=\"*23)\n",
    "print(br1+3)\n",
    "print(\"=\"*23)\n",
    "print(br1*2)\n",
    "# 2D 와 1D 의 연산\n",
    "print(\"===2D 와 1D 의 연산===\")\n",
    "print(\"=\"*23)\n",
    "print(br1+br2)\n",
    "print(\"=\"*23)\n",
    "print(br1*br2)"
   ]
  },
  {
   "cell_type": "code",
   "execution_count": 203,
   "id": "_Jocy8R8G-bn",
   "metadata": {
    "colab": {
     "base_uri": "https://localhost:8080/"
    },
    "id": "_Jocy8R8G-bn",
    "outputId": "4301ba4f-4ae5-467a-928d-ec3be528702b"
   },
   "outputs": [
    {
     "name": "stdout",
     "output_type": "stream",
     "text": [
      "[[1 2 3]\n",
      " [4 5 6]\n",
      " [7 8 9]]\n",
      "[[1 2 3 4 5 6 7 8 9]]\n",
      "[1 2 3 4 5 6 7 8 9]\n"
     ]
    }
   ],
   "source": [
    "# flatten 처리\n",
    "ff=np.arange(1,10).reshape(3,3)\n",
    "print(ff)\n",
    "print(ff.reshape(1,9))\n",
    "print(ff.flatten())"
   ]
  },
  {
   "cell_type": "code",
   "execution_count": null,
   "id": "bfe980d2-573d-4cbd-859f-9cb7fe18d72b",
   "metadata": {},
   "outputs": [],
   "source": []
  }
 ],
 "metadata": {
  "colab": {
   "provenance": [],
   "toc_visible": true
  },
  "kernelspec": {
   "display_name": "Python 3 (ipykernel)",
   "language": "python",
   "name": "python3"
  },
  "language_info": {
   "codemirror_mode": {
    "name": "ipython",
    "version": 3
   },
   "file_extension": ".py",
   "mimetype": "text/x-python",
   "name": "python",
   "nbconvert_exporter": "python",
   "pygments_lexer": "ipython3",
   "version": "3.13.1"
  }
 },
 "nbformat": 4,
 "nbformat_minor": 5
}
