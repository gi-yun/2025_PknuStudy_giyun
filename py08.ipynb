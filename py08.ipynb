{
 "cells": [
  {
   "cell_type": "markdown",
   "id": "d9497278-0d23-420b-a735-b85f580ef567",
   "metadata": {},
   "source": [
    "# 외부 라이브러리"
   ]
  },
  {
   "cell_type": "markdown",
   "id": "d7a712fc-2181-4ebd-9479-c53ba375bf52",
   "metadata": {},
   "source": [
    "## pip *"
   ]
  },
  {
   "cell_type": "markdown",
   "id": "87628b59-e4ea-4302-ba5f-21e282866548",
   "metadata": {},
   "source": [
    "- venv1 생성 후 백업: pip freeze > requirements.txt\n",
    "- venv2 생성 후 복구: pip install -r requirements.txt\n",
    "- venv3 jupyterlab 설치후 matplotlib 설치 후 백업하고\n",
    "- venv4 에 pip 리스트 그대로 복구하라.\n",
    "- venv5 에 numpy 2.2.2 버전으로 복구되도록 requirements.txt 수정 후 복구하라."
   ]
  },
  {
   "cell_type": "markdown",
   "id": "0f249e14-985d-41ad-8cea-b2d0929390e6",
   "metadata": {},
   "source": [
    "## Faker "
   ]
  },
  {
   "cell_type": "code",
   "execution_count": 1,
   "id": "fd2f2fce-36e0-4066-ac32-14e753f53b1a",
   "metadata": {},
   "outputs": [
    {
     "name": "stdout",
     "output_type": "stream",
     "text": [
      "Collecting Faker\n",
      "  Downloading Faker-36.1.1-py3-none-any.whl.metadata (15 kB)\n",
      "Collecting tzdata (from Faker)\n",
      "  Downloading tzdata-2025.1-py2.py3-none-any.whl.metadata (1.4 kB)\n",
      "Downloading Faker-36.1.1-py3-none-any.whl (1.9 MB)\n",
      "   ---------------------------------------- 0.0/1.9 MB ? eta -:--:--\n",
      "   ---------- ----------------------------- 0.5/1.9 MB 3.6 MB/s eta 0:00:01\n",
      "   --------------------------- ------------ 1.3/1.9 MB 4.1 MB/s eta 0:00:01\n",
      "   ---------------------------------------- 1.9/1.9 MB 3.8 MB/s eta 0:00:00\n",
      "Downloading tzdata-2025.1-py2.py3-none-any.whl (346 kB)\n",
      "Installing collected packages: tzdata, Faker\n",
      "Successfully installed Faker-36.1.1 tzdata-2025.1\n"
     ]
    },
    {
     "name": "stderr",
     "output_type": "stream",
     "text": [
      "\n",
      "[notice] A new release of pip is available: 25.0 -> 25.0.1\n",
      "[notice] To update, run: python.exe -m pip install --upgrade pip\n"
     ]
    }
   ],
   "source": [
    "!pip install Faker"
   ]
  },
  {
   "cell_type": "code",
   "execution_count": 17,
   "id": "23086032-c0bb-47e7-83cc-409c435ddf34",
   "metadata": {},
   "outputs": [
    {
     "data": {
      "text/plain": [
       "[{'name': '송상호',\n",
       "  'id': 'vnam',\n",
       "  'phone': '02-5512-2301',\n",
       "  'email': 'gimminseo@example.org'},\n",
       " {'name': '김준서',\n",
       "  'id': 'ominjae',\n",
       "  'phone': '02-3742-1530',\n",
       "  'email': 'seonghogim@example.org'},\n",
       " {'name': '김영수',\n",
       "  'id': 'suminhwang',\n",
       "  'phone': '063-250-3917',\n",
       "  'email': 'subingim@example.net'},\n",
       " {'name': '박현지',\n",
       "  'id': 'smun',\n",
       "  'phone': '052-559-6135',\n",
       "  'email': 'borami@example.com'},\n",
       " {'name': '김정웅',\n",
       "  'id': 'junhoi',\n",
       "  'phone': '044-978-2160',\n",
       "  'email': 'mbag@example.com'},\n",
       " {'name': '한영진',\n",
       "  'id': 'jihye88',\n",
       "  'phone': '019-293-1660',\n",
       "  'email': 'seojun30@example.net'},\n",
       " {'name': '성광수',\n",
       "  'id': 'oyang',\n",
       "  'phone': '018-009-3469',\n",
       "  'email': 'usubin@example.org'},\n",
       " {'name': '김영자',\n",
       "  'id': 'gimsumin',\n",
       "  'phone': '016-368-0121',\n",
       "  'email': 'seonyeong86@example.org'},\n",
       " {'name': '조지아',\n",
       "  'id': 'ogjai',\n",
       "  'phone': '010-4049-1731',\n",
       "  'email': 'subingim@example.com'},\n",
       " {'name': '이성훈',\n",
       "  'id': 'jaehoyang',\n",
       "  'phone': '042-255-8037',\n",
       "  'email': 'jeongsiggim@example.org'}]"
      ]
     },
     "execution_count": 17,
     "metadata": {},
     "output_type": "execute_result"
    }
   ],
   "source": [
    "from faker import Faker\n",
    "fake = Faker('ko-KR')\n",
    "[{'name':fake.name(), 'id':fake.user_name(), 'phone':fake.phone_number(),'email':fake.email()} for n in range(10)]"
   ]
  },
  {
   "cell_type": "markdown",
   "id": "cff2e1ce-cb29-4514-9487-955a701cbf4e",
   "metadata": {},
   "source": [
    "<table style=\"float:left;width:400px\">\n",
    "<thead>\n",
    "<tr>\n",
    "<th>항목</th>\n",
    "<th>설명</th>\n",
    "</tr>\n",
    "</thead>\n",
    "<tbody>\n",
    "<tr>\n",
    "<td>fake.name()</td>\n",
    "<td>이름</td>\n",
    "</tr>\n",
    "<tr>\n",
    "<td>fake.address()</td>\n",
    "<td>주소</td>\n",
    "</tr>\n",
    "<tr>\n",
    "<td>fake.postcode()</td>\n",
    "<td>우편 번호</td>\n",
    "</tr>\n",
    "<tr>\n",
    "<td>fake.country()</td>\n",
    "<td>국가명</td>\n",
    "</tr>\n",
    "<tr>\n",
    "<td>fake.company()</td>\n",
    "<td>회사명</td>\n",
    "</tr>\n",
    "<tr>\n",
    "<td>fake.job()</td>\n",
    "<td>직업명</td>\n",
    "</tr>\n",
    "<tr>\n",
    "<td>fake.phone_number()</td>\n",
    "<td>휴대전화 번호</td>\n",
    "</tr>\n",
    "<tr>\n",
    "<td>fake.email()</td>\n",
    "<td>이메일 주소</td>\n",
    "</tr>\n",
    "<tr>\n",
    "<td>fake.user_name()</td>\n",
    "<td>사용자명</td>\n",
    "</tr>\n",
    "<tr>\n",
    "<td>fake.pyint(min_value=0, max_value=100)</td>\n",
    "<td>0부터 100 사이의 임의의 숫자</td>\n",
    "</tr>\n",
    "<tr>\n",
    "<td>fake.ipv4_private()</td>\n",
    "<td>IP 주소</td>\n",
    "</tr>\n",
    "<tr>\n",
    "<td>fake.text()</td>\n",
    "<td>임의의 문장 (한글 임의의 문장은 <code>fake.catch_phrase()</code> 사용)</td>\n",
    "</tr>\n",
    "<tr>\n",
    "<td>fake.color_name()</td>\n",
    "<td>색상명</td>\n",
    "</tr>\n",
    "</tbody>\n",
    "</table>"
   ]
  },
  {
   "cell_type": "code",
   "execution_count": 9,
   "id": "f0bbf9ce-0a01-48a3-b159-aca59c32334f",
   "metadata": {},
   "outputs": [
    {
     "name": "stdout",
     "output_type": "stream",
     "text": [
      "1위: IVE (아이브), / IVE (아이브)\n",
      "\n",
      "1위: REBEL HEART / IVE (아이브) \n",
      "2위: HOME SWEET HOME (feat. 태양, 대성) / G-DRAGON \n",
      "3위: 나는 반딧불 / 황가람 \n",
      "4위: Whiplash / aespa \n",
      "5위: APT. / 로제 (ROSÉ) \n",
      "6위: 오늘만 I LOVE YOU / Bruno Mars \n",
      "7위: Drowning / BOYNEXTDOOR \n",
      "8위: ATTITUDE / WOODZ \n",
      "9위: toxic till the end / IVE (아이브) \n",
      "10위: Dash / 로제 (ROSÉ) \n",
      "11위: POWER / PLAVE \n",
      "12위: HAPPY / G-DRAGON \n",
      "13위: 내게 사랑이 뭐냐고 물어본다면 / DAY6 (데이식스) \n",
      "14위: RIZZ / 로이킴 \n",
      "15위: DRIP / PLAVE \n",
      "16위: Chroma Drift / BABYMONSTER \n",
      "17위: Island / PLAVE \n",
      "18위: 소나기 / PLAVE \n",
      "19위: 12:32 (A to T) / 이클립스 (ECLIPSE) \n",
      "20위: 너와의 모든 지금 / PLAVE \n",
      " "
     ]
    }
   ],
   "source": [
    "import requests as req\n",
    "from bs4 import BeautifulSoup as bs\n",
    "url = \"https://www.melon.com/chart/index.htm\"\n",
    "headers = {\"user-agent\":\"Mozilla/5.0 (Windows NT 10.0; Win64; x64) AppleWebKit/537.36 (KHTML, like Gecko) Chrome/133.0.0.0 Safari/537.36\"}\n",
    "web = req.get(url, headers = headers)\n",
    "soup = bs(web.content, 'html.parser')\n",
    "\n",
    "title = soup.select_one(\".wrap_song_info\")\n",
    "atitle =  title.select_one('a')\n",
    "\n",
    "aname0 =  title.select_one('.checkEllipsis')\n",
    "aname = aname0.select_one('a')\n",
    "\n",
    "print(f'1위: {aname0.text}, / {aname.text}')\n",
    "\n",
    "print()\n",
    "rtitle = soup.select('.rank01')[:20]\n",
    "name = soup.select('.checkEllipsis a')[:20]\n",
    "str=''\n",
    "for i, (t,n) in enumerate(zip(rtitle,name),1):\n",
    "    str+=f'{i}위: {t.text.strip()} / {n.text} \\n'\n",
    "print(str, end=' ')"
   ]
  },
  {
   "cell_type": "code",
   "execution_count": 22,
   "id": "2c74db71-4941-4020-aac1-4ef92ac34c0b",
   "metadata": {},
   "outputs": [
    {
     "name": "stdout",
     "output_type": "stream",
     "text": [
      "None\n"
     ]
    }
   ],
   "source": [
    "import requests as req\n",
    "from bs4 import BeautifulSoup as bs\n",
    "\n",
    "\n",
    "url =\"https://finance.naver.com/sise/sise_market_sum.naver\"\n",
    "headers = {\"user-agent\":\"Mozilla/5.0 (Windows NT 10.0; Win64; x64) AppleWebKit/537.36 (KHTML, like Gecko) Chrome/133.0.0.0 Safari/537.36\"}\n",
    "web = req.get(url, headers=headers)\n",
    "soup = bs(web.content, 'html.parser')\n",
    "# print(soup)\n",
    "title = soup.select_one('.td title')\n",
    "print(title)"
   ]
  },
  {
   "cell_type": "code",
   "execution_count": 32,
   "id": "defec621-d03b-462e-892f-3b9ea1992759",
   "metadata": {},
   "outputs": [
    {
     "name": "stdout",
     "output_type": "stream",
     "text": [
      "Collecting html5lib\n",
      "  Downloading html5lib-1.1-py2.py3-none-any.whl.metadata (16 kB)\n",
      "Requirement already satisfied: six>=1.9 in c:\\users\\admin\\appdata\\local\\programs\\python\\python313\\lib\\site-packages (from html5lib) (1.17.0)\n",
      "Requirement already satisfied: webencodings in c:\\users\\admin\\appdata\\local\\programs\\python\\python313\\lib\\site-packages (from html5lib) (0.5.1)\n",
      "Downloading html5lib-1.1-py2.py3-none-any.whl (112 kB)\n",
      "Installing collected packages: html5lib\n",
      "Successfully installed html5lib-1.1\n"
     ]
    },
    {
     "name": "stderr",
     "output_type": "stream",
     "text": [
      "\n",
      "[notice] A new release of pip is available: 25.0 -> 25.0.1\n",
      "[notice] To update, run: python.exe -m pip install --upgrade pip\n"
     ]
    }
   ],
   "source": [
    "!pip install html5lib"
   ]
  },
  {
   "cell_type": "code",
   "execution_count": 14,
   "id": "aa4cfbf4-20fc-424a-8862-c716d5f4a12c",
   "metadata": {},
   "outputs": [
    {
     "name": "stdout",
     "output_type": "stream",
     "text": [
      "===============\n",
      "월 2025.02.17\n",
      "---------------\n",
      "정식-5,500원\n",
      "강황밥\n",
      "김치콩나물국\n",
      "돈육바싹불고기\n",
      "모듬잡채\n",
      "멸치새우견과볶음\n",
      "상추겉절이\n",
      "포기김치\n",
      "\n",
      "===============\n",
      "화 2025.02.18\n",
      "---------------\n",
      "정식-5,500원\n",
      "백미밥\n",
      "물만두국\n",
      "순살닭매콤조림\n",
      "쫄면야채무침\n",
      "파래무무침\n",
      "참나물겉절이\n",
      "포기김치\n",
      "\n",
      "===============\n",
      "수 2025.02.19\n",
      "---------------\n",
      "정식-5,500원\n",
      "백미밥\n",
      "모듬어묵국\n",
      "함박스테이크/치즈/소스\n",
      "스파게티/소스\n",
      "치커리유자청샐러드\n",
      "콩나물무침\n",
      "포기김치\n",
      "\n",
      "===============\n",
      "목 2025.02.20\n",
      "---------------\n",
      "정식-5,500원\n",
      "잡곡밥\n",
      "홍합미역국\n",
      "순살치킨/맛초킹소스\n",
      "꼬시레기두부무침\n",
      "잡채어묵조림\n",
      "상추겉절이\n",
      "포기김치\n",
      "\n",
      "===============\n",
      "금 2025.02.21\n",
      "---------------\n",
      "정식-5,500원\n",
      "백미밥\n",
      "국수\n",
      "깐풍기/소스\n",
      "알감자버터구이\n",
      "도토리묵김치무침\n",
      "열무겉절이\n",
      "포기김치\n",
      "\n"
     ]
    }
   ],
   "source": [
    "import requests as req\n",
    "from bs4 import BeautifulSoup as bs\n",
    "\n",
    "\n",
    "url =\"https://www.pusan.ac.kr/kor/CMS/MenuMgr/menuListOnBuilding.do?mCode=MN202\"\n",
    "headers = {\"user-agent\":\"Mozilla/5.0 (Windows NT 10.0; Win64; x64) AppleWebKit/537.36 (KHTML, like Gecko) Chrome/133.0.0.0 Safari/537.36\"}\n",
    "web = req.get(url, headers=headers)\n",
    "soup = bs(web.content, 'html5lib')\n",
    "menucard = soup.select(\".menu-tbl\")\n",
    "won = soup.select('.menu-tit01')\n",
    "menu = soup.select('h3.menu-tit01+p')\n",
    "day= soup.select('.day')\n",
    "date= soup.select('.date')\n",
    "for d,dd,w, m in zip(day,date,won,menu):\n",
    "    print(\"=\"*15)\n",
    "    print(d.text,dd.text)\n",
    "    print(\"-\"*15)\n",
    "    print(w.text+'\\n'+m.text)"
   ]
  },
  {
   "cell_type": "code",
   "execution_count": null,
   "id": "212238ea-8362-42c8-ac46-8eac4b3da3f2",
   "metadata": {},
   "outputs": [],
   "source": []
  }
 ],
 "metadata": {
  "kernelspec": {
   "display_name": "Python 3 (ipykernel)",
   "language": "python",
   "name": "python3"
  },
  "language_info": {
   "codemirror_mode": {
    "name": "ipython",
    "version": 3
   },
   "file_extension": ".py",
   "mimetype": "text/x-python",
   "name": "python",
   "nbconvert_exporter": "python",
   "pygments_lexer": "ipython3",
   "version": "3.13.1"
  }
 },
 "nbformat": 4,
 "nbformat_minor": 5
}
