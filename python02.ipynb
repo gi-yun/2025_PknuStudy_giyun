{
 "cells": [
  {
   "cell_type": "markdown",
   "id": "f29dcf00-8471-4558-8943-2783fc8287ca",
   "metadata": {},
   "source": [
    "# 자료형"
   ]
  },
  {
   "cell_type": "markdown",
   "id": "03307ccc-2654-4127-978b-2595ed4fde94",
   "metadata": {},
   "source": [
    "## 리스트 자료형"
   ]
  },
  {
   "cell_type": "markdown",
   "id": "6d68534e-b1c7-44de-a310-c32b63052c9e",
   "metadata": {},
   "source": [
    "### 리스트의 인덱싱과 슬라이딩"
   ]
  },
  {
   "cell_type": "code",
   "execution_count": 1,
   "id": "3c4a4d80-ee12-46dc-a422-2b58c9318825",
   "metadata": {},
   "outputs": [],
   "source": [
    "odd = [1,3,5,7,9]"
   ]
  },
  {
   "cell_type": "code",
   "execution_count": 6,
   "id": "4cc4f99c-774c-4e89-b5d8-ee9c38be0f59",
   "metadata": {},
   "outputs": [
    {
     "name": "stdout",
     "output_type": "stream",
     "text": [
      "is\n"
     ]
    }
   ],
   "source": [
    "a=[]\n",
    "b=[1,2,3]\n",
    "c=[\"Life\", \"is\", \"too\", \"short\"]\n",
    "d=[1,2,\"Life\",\"is\"]\n",
    "e=[1,2,[\"Life\",\"is\"]]\n",
    "print(e[2][1])"
   ]
  },
  {
   "cell_type": "code",
   "execution_count": 7,
   "id": "f4c4f566-d21c-48dc-babb-f141800c082d",
   "metadata": {},
   "outputs": [
    {
     "data": {
      "text/plain": [
       "5"
      ]
     },
     "execution_count": 7,
     "metadata": {},
     "output_type": "execute_result"
    }
   ],
   "source": [
    "b[1]+b[2]"
   ]
  },
  {
   "cell_type": "code",
   "execution_count": 8,
   "id": "63285d71-7e53-4d77-a86c-721ed3486bfd",
   "metadata": {},
   "outputs": [
    {
     "name": "stdout",
     "output_type": "stream",
     "text": [
      "5\n",
      "Lifeshort\n",
      "LifeLifeLife\n"
     ]
    }
   ],
   "source": [
    "print(b[1]+b[2])\n",
    "print(c[0]+c[3])\n",
    "print(c[0]*b[2])"
   ]
  },
  {
   "cell_type": "code",
   "execution_count": 9,
   "id": "239c4763-9907-46a7-9eb4-62470c5991dc",
   "metadata": {},
   "outputs": [
    {
     "data": {
      "text/plain": [
       "'short'"
      ]
     },
     "execution_count": 9,
     "metadata": {},
     "output_type": "execute_result"
    }
   ],
   "source": [
    "c[-1]"
   ]
  },
  {
   "cell_type": "code",
   "execution_count": 15,
   "id": "fff154b8-0401-4010-b987-24b74e442663",
   "metadata": {},
   "outputs": [
    {
     "name": "stdout",
     "output_type": "stream",
     "text": [
      "[11, 22, 33, 44, 55]\n",
      "[33, 44, 55]\n",
      "[11, 22]\n",
      "[44, 55]\n",
      "[55, 44, 33, 22, 11]\n"
     ]
    }
   ],
   "source": [
    "# 리스트의 슬라이싱\n",
    "a = [11,22,33,44,55]\n",
    "a[0:2]\n",
    "print(a[:])\n",
    "print(a[2:])\n",
    "print(a[:-3])\n",
    "print(a[-2:])\n",
    "print(a[::-1])"
   ]
  },
  {
   "cell_type": "code",
   "execution_count": 17,
   "id": "172ef787-5b41-4766-adf5-0c946e5c864a",
   "metadata": {},
   "outputs": [
    {
     "data": {
      "text/plain": [
       "[2, 3]"
      ]
     },
     "execution_count": 17,
     "metadata": {},
     "output_type": "execute_result"
    }
   ],
   "source": [
    "a = [1,2,3,4,5]\n",
    "a[1:3]"
   ]
  },
  {
   "cell_type": "markdown",
   "id": "0a5819fd-c2f1-4661-aeaa-c2f720630bc0",
   "metadata": {},
   "source": [
    "### 리스트 연산하기"
   ]
  },
  {
   "cell_type": "code",
   "execution_count": 45,
   "id": "cb877be0-9b0c-4027-a334-dc28e358eadd",
   "metadata": {},
   "outputs": [
    {
     "name": "stdout",
     "output_type": "stream",
     "text": [
      "[11, 22, 33, 44, 55, 66]\n",
      "[11, 22, 33, 11, 22, 33, 11, 22, 33]\n"
     ]
    },
    {
     "data": {
      "text/plain": [
       "9"
      ]
     },
     "execution_count": 45,
     "metadata": {},
     "output_type": "execute_result"
    }
   ],
   "source": [
    "a = [11,22,33]\n",
    "b = [44,55,66]\n",
    "# 리스트 더하기\n",
    "print(a+b) # 다른 언어는 이런 더하기가 안됨\n",
    "c = a * 3\n",
    "# 리스트 반복하기\n",
    "print(c)\n",
    "len(c)"
   ]
  },
  {
   "cell_type": "code",
   "execution_count": 46,
   "id": "04e6dbd5-7473-4d3f-8519-60e9093454f6",
   "metadata": {},
   "outputs": [
    {
     "name": "stdout",
     "output_type": "stream",
     "text": [
      "[11, 22, 44]\n",
      "[11, '', 44]\n",
      "[11, 44]\n"
     ]
    }
   ],
   "source": [
    "# 리스트 값 수정하기\n",
    "a = [11,22,33]\n",
    "a[2] = 44\n",
    "print(a)\n",
    "\n",
    "# a[3] = 55 #없는 요소를 수정하는 것은 에러\n",
    "#print(a)\n",
    "\n",
    "a[1] ='' #빈칸 수정 삽입\n",
    "print(a)\n",
    "\n",
    "del a[1] # 리스트 값 삭제하기\n",
    "print(a)"
   ]
  },
  {
   "cell_type": "code",
   "execution_count": 47,
   "id": "d0a69758-6180-4d5c-a47c-7f1f6fd6b02f",
   "metadata": {},
   "outputs": [
    {
     "name": "stdout",
     "output_type": "stream",
     "text": [
      "[11, 22, 33, 11, 22, 33, 11, 22, 33]\n",
      "[22, 33, 11, 22, 33]\n"
     ]
    }
   ],
   "source": [
    "# 리스트 슬라이싱으로 삭제\n",
    "print(c)\n",
    "del c[0:4]\n",
    "print(c)"
   ]
  },
  {
   "cell_type": "markdown",
   "id": "2292c938-56ff-4579-8179-c32a7f368eb9",
   "metadata": {},
   "source": [
    "### 리스트 관련 함수 "
   ]
  },
  {
   "cell_type": "code",
   "execution_count": 44,
   "id": "e5b84580-df1b-42a0-910f-7db3c822721d",
   "metadata": {},
   "outputs": [
    {
     "data": {
      "text/plain": [
       "['__add__',\n",
       " '__class__',\n",
       " '__class_getitem__',\n",
       " '__contains__',\n",
       " '__delattr__',\n",
       " '__delitem__',\n",
       " '__dir__',\n",
       " '__doc__',\n",
       " '__eq__',\n",
       " '__format__',\n",
       " '__ge__',\n",
       " '__getattribute__',\n",
       " '__getitem__',\n",
       " '__getstate__',\n",
       " '__gt__',\n",
       " '__hash__',\n",
       " '__iadd__',\n",
       " '__imul__',\n",
       " '__init__',\n",
       " '__init_subclass__',\n",
       " '__iter__',\n",
       " '__le__',\n",
       " '__len__',\n",
       " '__lt__',\n",
       " '__mul__',\n",
       " '__ne__',\n",
       " '__new__',\n",
       " '__reduce__',\n",
       " '__reduce_ex__',\n",
       " '__repr__',\n",
       " '__reversed__',\n",
       " '__rmul__',\n",
       " '__setattr__',\n",
       " '__setitem__',\n",
       " '__sizeof__',\n",
       " '__str__',\n",
       " '__subclasshook__',\n",
       " 'append',\n",
       " 'clear',\n",
       " 'copy',\n",
       " 'count',\n",
       " 'extend',\n",
       " 'index',\n",
       " 'insert',\n",
       " 'pop',\n",
       " 'remove',\n",
       " 'reverse',\n",
       " 'sort']"
      ]
     },
     "execution_count": 44,
     "metadata": {},
     "output_type": "execute_result"
    }
   ],
   "source": [
    "dir(list)"
   ]
  },
  {
   "cell_type": "code",
   "execution_count": 55,
   "id": "23b219c2-604b-4876-aa49-33c53e12b7f8",
   "metadata": {},
   "outputs": [
    {
     "name": "stdout",
     "output_type": "stream",
     "text": [
      "[]\n"
     ]
    }
   ],
   "source": [
    "# 리스트 요소 비우기\n",
    "c.clear()\n",
    "print(c)"
   ]
  },
  {
   "cell_type": "markdown",
   "id": "73fdb425-11b3-404f-821f-5dd25dfda5df",
   "metadata": {},
   "source": [
    "#### 리스트에 요소 추가하기 append()"
   ]
  },
  {
   "cell_type": "code",
   "execution_count": 63,
   "id": "b5bc7449-dc03-42f3-b2a0-a31f38ed5c14",
   "metadata": {},
   "outputs": [],
   "source": [
    "a=[] # 리스트 초기화"
   ]
  },
  {
   "cell_type": "code",
   "execution_count": 62,
   "id": "13a36bc3-b131-4603-a7df-bc3236217642",
   "metadata": {},
   "outputs": [
    {
     "name": "stdout",
     "output_type": "stream",
     "text": [
      "[4]\n",
      "[4, [11, 22]]\n"
     ]
    }
   ],
   "source": [
    "a.append(4)\n",
    "print(a)\n",
    "a.append([11,22])\n",
    "print(a)"
   ]
  },
  {
   "cell_type": "code",
   "execution_count": 67,
   "id": "e3abaf59-2234-4b4c-a9d7-2064b6c95e74",
   "metadata": {},
   "outputs": [],
   "source": [
    "b=[]\n",
    "num = 0"
   ]
  },
  {
   "cell_type": "code",
   "execution_count": 74,
   "id": "e6c377e7-aa80-4800-b1ec-6ee6359ae7bf",
   "metadata": {},
   "outputs": [
    {
     "name": "stdout",
     "output_type": "stream",
     "text": [
      "[1, 1, 1, 2, 3, 4]\n"
     ]
    }
   ],
   "source": [
    "num +=1\n",
    "b.append(num)\n",
    "print(b)"
   ]
  },
  {
   "cell_type": "code",
   "execution_count": 75,
   "id": "2c3c8782-7517-4789-93d0-8377ec50b7ed",
   "metadata": {},
   "outputs": [
    {
     "name": "stdout",
     "output_type": "stream",
     "text": [
      "[1, 1, 1, 2, 3, 4]\n"
     ]
    }
   ],
   "source": [
    "print(b)"
   ]
  },
  {
   "cell_type": "code",
   "execution_count": 76,
   "id": "f7c25b95-172c-4b2a-b4de-c47dd026d7d2",
   "metadata": {},
   "outputs": [
    {
     "name": "stdout",
     "output_type": "stream",
     "text": [
      "[11, 22, 33, 44, 55]\n"
     ]
    }
   ],
   "source": [
    "# 리스트 정렬 (오른차순)- sort\n",
    "a= [11,44,33,22,55]\n",
    "a.sort()\n",
    "print(a)"
   ]
  },
  {
   "cell_type": "code",
   "execution_count": 79,
   "id": "b042d4c7-3984-499a-91b7-72ed378e1988",
   "metadata": {},
   "outputs": [
    {
     "name": "stdout",
     "output_type": "stream",
     "text": [
      "[55, 44, 33, 22, 11]\n"
     ]
    }
   ],
   "source": [
    "# 리스트 정렬 (내림차순)- sort\n",
    "a= [11,44,33,22,55]\n",
    "a.sort(reverse=True)\n",
    "print(a)"
   ]
  },
  {
   "cell_type": "code",
   "execution_count": 81,
   "id": "c6a94429-4048-47cb-bf06-cea92364d80a",
   "metadata": {},
   "outputs": [
    {
     "name": "stdout",
     "output_type": "stream",
     "text": [
      "[66, 77, 88, 99, 0]\n",
      "[0, 66, 77, 88, 99]\n",
      "[99, 88, 77, 66, 0]\n"
     ]
    }
   ],
   "source": [
    "# 리스트정렬 원본 유지하기\n",
    "aa = [66,77,88,99,0]\n",
    "bb = sorted(aa)\n",
    "cc = sorted(aa,reverse=True)\n",
    "print(aa)\n",
    "print(bb)\n",
    "print(cc)\n"
   ]
  },
  {
   "cell_type": "code",
   "execution_count": 85,
   "id": "1d682bf5-3f69-45e3-afbf-a00924caac54",
   "metadata": {},
   "outputs": [
    {
     "name": "stdout",
     "output_type": "stream",
     "text": [
      "['banana', 'kiwi', 'orange', 'melon', 'pear', 'apple', 'strawberry', 'blueberry']\n",
      "['kiwi', 'pear', 'melon', 'apple', 'banana', 'orange', 'blueberry', 'strawberry']\n",
      "['strawberry', 'blueberry', 'banana', 'orange', 'melon', 'apple', 'kiwi', 'pear']\n"
     ]
    }
   ],
   "source": [
    "# sorted 응용\n",
    "fruit = ['banana','kiwi','orange','melon','pear','apple','strawberry','blueberry']\n",
    "result = sorted(fruit, key=len)\n",
    "result2 = sorted(fruit, key=len, reverse=True)\n",
    "\n",
    "print(fruit)\n",
    "print(result)\n",
    "print(result2)"
   ]
  },
  {
   "cell_type": "code",
   "execution_count": 77,
   "id": "9852d307-d12e-47dc-8ce3-d7424fa22ce4",
   "metadata": {},
   "outputs": [
    {
     "name": "stdout",
     "output_type": "stream",
     "text": [
      "['c', 'b', 'a']\n"
     ]
    }
   ],
   "source": [
    "a=['a','b','c']\n",
    "a.reverse()\n",
    "print(a)"
   ]
  },
  {
   "cell_type": "code",
   "execution_count": 97,
   "id": "d8706605-a2ec-41e9-a8b4-e927e5dae677",
   "metadata": {},
   "outputs": [
    {
     "name": "stdout",
     "output_type": "stream",
     "text": [
      "과일을 먹어볼까?\n",
      "kiwi 냠냠 맛있다.\n",
      "pear 냠냠 맛있다.\n",
      "melon 냠냠 맛있다.\n",
      "apple 냠냠 맛있다.\n",
      "banana 못먹겠어! 웩!\n",
      "orange 냠냠 맛있다.\n",
      "blueberry 냠냠 맛있다.\n",
      "strawberry 냠냠 맛있다.\n",
      "와~다먹었다.\n"
     ]
    }
   ],
   "source": [
    "print(\"과일을 먹어볼까?\")\n",
    "for r in result :\n",
    "    if r == 'banana' :\n",
    "        print(r+ \" 못먹겠어! 웩!\")\n",
    "    if r!= 'banana' :  # else :\n",
    "        print(r + ' 냠냠 맛있다.')\n",
    "print('와~다먹었다.')"
   ]
  },
  {
   "cell_type": "code",
   "execution_count": 100,
   "id": "b488b412-6ebc-48e8-82ee-0bd4961640cc",
   "metadata": {},
   "outputs": [
    {
     "data": {
      "text/plain": [
       "3"
      ]
     },
     "execution_count": 100,
     "metadata": {},
     "output_type": "execute_result"
    }
   ],
   "source": [
    "# 인덱스 반환 -index\n",
    "fruit = ['banana','kiwi','orange','melon','pear','apple','strawberry','blueberry']\n",
    "fruit.index('melon')"
   ]
  },
  {
   "cell_type": "code",
   "execution_count": 110,
   "id": "159c634d-280b-4162-900c-d9689c5e099e",
   "metadata": {},
   "outputs": [
    {
     "name": "stdin",
     "output_type": "stream",
     "text": [
      "먹고싶은 과일을 입력하세요 apple\n"
     ]
    },
    {
     "name": "stdout",
     "output_type": "stream",
     "text": [
      "apple를 좋아하시는 군요!!! 그것은 6 번 째에 있습니다.\n"
     ]
    }
   ],
   "source": [
    "# 인덱스 응용\n",
    "fruit = ['banana','kiwi','orange','melon','pear','apple','strawberry','blueberry']\n",
    "want = input('먹고싶은 과일을 입력하세요')\n",
    "where = fruit.index(want)\n",
    "print(f'{want}를 좋아하시는 군요!!! 그것은 {where + 1} 번 째에 있습니다.')"
   ]
  },
  {
   "cell_type": "code",
   "execution_count": 114,
   "id": "809e28a7-96cf-463a-8aa4-1eb3cabce234",
   "metadata": {},
   "outputs": [
    {
     "name": "stdout",
     "output_type": "stream",
     "text": [
      "[11, 22, 33, 55, 66, 77]\n",
      "[11, 22, 33, 44, 55, 66, 77]\n"
     ]
    }
   ],
   "source": [
    "# 리스트에 요소 삽입 - insert\n",
    "num =[11,22,33,55,66,77]\n",
    "print(num)\n",
    "num.insert(3,44)\n",
    "print(num)"
   ]
  },
  {
   "cell_type": "code",
   "execution_count": 127,
   "id": "9a815cda-c2eb-4670-90ef-67519d5f00bb",
   "metadata": {},
   "outputs": [],
   "source": [
    "ex=[]"
   ]
  },
  {
   "cell_type": "code",
   "execution_count": 133,
   "id": "822d3a77-716e-4221-b6b3-0e1c0b96f8e0",
   "metadata": {},
   "outputs": [
    {
     "name": "stdout",
     "output_type": "stream",
     "text": [
      "['맨앞', 5, 5]\n",
      "['맨앞', 5, '-1인덱스', 5]\n",
      "['맨앞', 5, '-1인덱스', 5, '제일 끝']\n"
     ]
    }
   ],
   "source": [
    "ex.insert(0,\"맨앞\")\n",
    "print(ex)\n",
    "ex.insert(-1,\"-1인덱스\")\n",
    "print(ex)\n",
    "ex.insert(len(ex),\"제일 끝\")\n",
    "print(ex)"
   ]
  },
  {
   "cell_type": "code",
   "execution_count": 7,
   "id": "87f8fd19-5d80-48a4-8d41-3ffe01b4b623",
   "metadata": {},
   "outputs": [
    {
     "name": "stdout",
     "output_type": "stream",
     "text": [
      "[1, 2, 1, 2, 3]\n"
     ]
    }
   ],
   "source": [
    "# 리스트 요소제거 -remove\n",
    "a = [1,2,3,1,2,3]\n",
    "a.remove(3)\n",
    "print(a)"
   ]
  },
  {
   "cell_type": "code",
   "execution_count": 20,
   "id": "ed217e63-3a8a-4471-b060-fab00a721116",
   "metadata": {},
   "outputs": [],
   "source": [
    "# 리스트 요소 끄집어 내기 -pop\n",
    "a = [1,2,3]"
   ]
  },
  {
   "cell_type": "code",
   "execution_count": 19,
   "id": "3f9d895e-14b4-4026-9681-33dbac68becf",
   "metadata": {},
   "outputs": [
    {
     "name": "stdout",
     "output_type": "stream",
     "text": [
      "받은거 3\n",
      "[1, 2]\n"
     ]
    }
   ],
   "source": [
    "hand = a.pop() # 리턴값을 받음\n",
    "print(\"받은거\",hand)\n",
    "print(a)"
   ]
  },
  {
   "cell_type": "code",
   "execution_count": 26,
   "id": "f60a9396-7321-4f01-91af-cde0c791e976",
   "metadata": {},
   "outputs": [
    {
     "name": "stdout",
     "output_type": "stream",
     "text": [
      "[1, 3]\n"
     ]
    },
    {
     "data": {
      "text/plain": [
       "2"
      ]
     },
     "execution_count": 26,
     "metadata": {},
     "output_type": "execute_result"
    }
   ],
   "source": [
    "a = [1,2,3]\n",
    "bb=a.pop(1)\n",
    "print(a)\n",
    "bb"
   ]
  },
  {
   "cell_type": "code",
   "execution_count": 34,
   "id": "9333a236-74d7-45c0-87e6-4e3546b78651",
   "metadata": {},
   "outputs": [
    {
     "name": "stdout",
     "output_type": "stream",
     "text": [
      "2\n"
     ]
    },
    {
     "data": {
      "text/plain": [
       "5"
      ]
     },
     "execution_count": 34,
     "metadata": {},
     "output_type": "execute_result"
    }
   ],
   "source": [
    "# 리스트에 포함된 요소 x의 개수 세기 - Count\n",
    "st =  \"안녕하세요 반가워요\"\n",
    "print(st.count(\"요\"))\n",
    "\n",
    "a =[1,2,3,1,1,1,1]\n",
    "a.count(1)"
   ]
  },
  {
   "cell_type": "code",
   "execution_count": 39,
   "id": "1bcb901e-7101-4a94-b0ff-d6e48e33dd75",
   "metadata": {},
   "outputs": [
    {
     "data": {
      "text/plain": [
       "[1, 2, 3, 4, 5]"
      ]
     },
     "execution_count": 39,
     "metadata": {},
     "output_type": "execute_result"
    }
   ],
   "source": [
    "# 리스트 확장 -extend\n",
    "a = [1,2,3]\n",
    "a.extend([4,5]) # extend(x) 에서 x에는 리스트만 올수 있으며 a 리스트에 x리스트를 더한후 출력\n",
    "a"
   ]
  },
  {
   "cell_type": "code",
   "execution_count": 40,
   "id": "5e76c2c5-d1cd-4b4b-9718-59ee651aad71",
   "metadata": {},
   "outputs": [
    {
     "name": "stdout",
     "output_type": "stream",
     "text": [
      "[1, 2, 3, 4, 5, 6, 7]\n",
      "[1, 2, 3, 4, 5, 6, 7, 6, 7]\n"
     ]
    }
   ],
   "source": [
    "b=[6,7]\n",
    "a.extend(b)\n",
    "print(a)\n",
    "print(a+b)"
   ]
  },
  {
   "cell_type": "code",
   "execution_count": null,
   "id": "2c5ffb9a-22ba-41bd-96dd-d209fba41979",
   "metadata": {},
   "outputs": [],
   "source": [
    "# 장바구니  *사용한 함수 : append(), format, index 사용"
   ]
  },
  {
   "cell_type": "code",
   "execution_count": null,
   "id": "4a307312-c63b-45f7-8ad2-8a2fe1f4288c",
   "metadata": {},
   "outputs": [],
   "source": [
    "bag = []"
   ]
  },
  {
   "cell_type": "code",
   "execution_count": 78,
   "id": "2964bd1d-f55e-4701-a172-dd811aad0999",
   "metadata": {},
   "outputs": [
    {
     "name": "stdin",
     "output_type": "stream",
     "text": [
      "필요한 항목을 넣어주세요. 맥주\n"
     ]
    },
    {
     "name": "stdout",
     "output_type": "stream",
     "text": [
      "장바구니에는 ['호박', '감자', '술', '맥주']들이 있습니다.\n"
     ]
    }
   ],
   "source": [
    "# Create 생성\n",
    "inp = input('필요한 항목을 넣어주세요.')\n",
    "bag.append(inp)\n",
    "print(f'장바구니에는 {bag}들이 있습니다.')"
   ]
  },
  {
   "cell_type": "code",
   "execution_count": 74,
   "id": "d269944f-a753-447d-bdc1-b7152e91510f",
   "metadata": {},
   "outputs": [
    {
     "name": "stdout",
     "output_type": "stream",
     "text": [
      "호박을(를) 꺼내서 장바구니에 []가 남았습니다.\n"
     ]
    }
   ],
   "source": [
    "# FIFO 출력(Queue 출력)\n",
    "hand = bag.pop(0)\n",
    "print(f'{hand}을(를) 꺼내서 장바구니에 {bag}가 남았습니다.')"
   ]
  },
  {
   "cell_type": "code",
   "execution_count": 84,
   "id": "2b759753-347b-46ad-a827-13c3f0f499e2",
   "metadata": {},
   "outputs": [
    {
     "name": "stdout",
     "output_type": "stream",
     "text": [
      "바구니에 ['호박', '감자', '소주', '맥주', '피자'] 물품이 있습니다.\n"
     ]
    },
    {
     "name": "stdin",
     "output_type": "stream",
     "text": [
      "꺼내고 싶은 물품을 입력하세요 소주\n"
     ]
    },
    {
     "name": "stdout",
     "output_type": "stream",
     "text": [
      "바구니에서 소주 꺼내어 ['호박', '감자', '맥주', '피자']이 남았습니다.\n"
     ]
    }
   ],
   "source": [
    "# 선택 출력\n",
    "bag = ['호박', '감자', '소주', '맥주', '피자']\n",
    "print(f'바구니에 {bag} 물품이 있습니다.')\n",
    "bring = input('꺼내고 싶은 물품을 입력하세요')\n",
    "hand2 =bag.pop(bag.index(bring))\n",
    "print(f'바구니에서 {hand2} 꺼내어 {bag}이 남았습니다.')\n"
   ]
  },
  {
   "cell_type": "code",
   "execution_count": 69,
   "id": "31ee9727-8d93-40c1-8595-82ae7166f715",
   "metadata": {},
   "outputs": [
    {
     "name": "stdout",
     "output_type": "stream",
     "text": [
      "[11, 22, 33, 55, 66]\n",
      "44 을(를) 제거하였습니다.\n"
     ]
    }
   ],
   "source": [
    "#테스트\n",
    "choice = 44\n",
    "a = [11,22,33,44,55,66]\n",
    "hands = a.remove(choice)\n",
    "print(a)\n",
    "print(f'{choice} 을(를) 제거하였습니다.')"
   ]
  },
  {
   "cell_type": "markdown",
   "id": "b6be22f7-1cdd-4d3b-9861-d5f65983de15",
   "metadata": {},
   "source": [
    "#### 실습"
   ]
  },
  {
   "cell_type": "code",
   "execution_count": 96,
   "id": "9e2f0e74-9b69-47c0-b58c-c9f4ef912f2b",
   "metadata": {},
   "outputs": [
    {
     "name": "stdin",
     "output_type": "stream",
     "text": [
      "추가할 물건 이름을 적어주세요. 사과\n",
      "어느 물품의 오른쪽에 넣어둘까요? 맥주\n"
     ]
    },
    {
     "name": "stdout",
     "output_type": "stream",
     "text": [
      "4\n",
      "['호박', '감자', '소주', '맥주', '사과', '피자']\n"
     ]
    }
   ],
   "source": [
    "# 실습 # index(), insert() _내가만든 답\n",
    "bag = ['호박','감자','소주','맥주','피자']\n",
    "# 물품 하나를 추가하기. 단, 지정한 물품 바로 뒤에 추가하기\n",
    "test1 = input('추가할 물건 이름을 적어주세요.')\n",
    "test2 = input('어느 물품의 오른쪽에 넣어둘까요?')\n",
    "hand = bag.index(test2)+1\n",
    "print(hand)\n",
    "hand2=bag.insert(hand,test1)\n",
    "print(bag)"
   ]
  },
  {
   "cell_type": "code",
   "execution_count": 101,
   "id": "6d63ef6e-fc40-444e-a708-ad7e5dcba7a5",
   "metadata": {},
   "outputs": [
    {
     "name": "stdin",
     "output_type": "stream",
     "text": [
      "추가할 물건 이름을 적어주세요. 사과\n",
      "어느 물품의 오른쪽에 넣어둘까요? 맥주\n"
     ]
    },
    {
     "name": "stdout",
     "output_type": "stream",
     "text": [
      "['호박', '감자', '소주', '맥주', '사과', '피자']\n"
     ]
    }
   ],
   "source": [
    "# 실습 # index(), insert() _ 선생님의 답안\n",
    "bag = ['호박','감자','소주','맥주','피자']\n",
    "# 물품 하나를 추가하기. 단, 지정한 물품 바로 뒤에 추가하기\n",
    "thing = input('추가할 물건 이름을 적어주세요.')\n",
    "where = input('어느 물품의 오른쪽에 넣어둘까요?')\n",
    "where2 = bag.index(where) + 1\n",
    "bag.insert(where2,thing)\n",
    "print(bag)"
   ]
  },
  {
   "cell_type": "code",
   "execution_count": 105,
   "id": "514a79fd-5cc9-4a6f-aa83-081140fdc1ca",
   "metadata": {},
   "outputs": [
    {
     "name": "stdin",
     "output_type": "stream",
     "text": [
      "내가 누구게? 숫자를 입력하세요. 1234\n"
     ]
    },
    {
     "name": "stdout",
     "output_type": "stream",
     "text": [
      "1278 <class 'int'>\n"
     ]
    }
   ],
   "source": [
    "# 테스트\n",
    "num = int(input('내가 누구게? 숫자를 입력하세요.'))\n",
    "print(num +44,type(num))"
   ]
  },
  {
   "cell_type": "code",
   "execution_count": 116,
   "id": "960b0723-ebf1-44ca-9eca-b8f219ac3622",
   "metadata": {},
   "outputs": [
    {
     "name": "stdin",
     "output_type": "stream",
     "text": [
      "계산하고자 하는 달러를 입력하세요. 1\n"
     ]
    },
    {
     "name": "stdout",
     "output_type": "stream",
     "text": [
      "1달러는 원화로 1449.94원 입니다.\n"
     ]
    }
   ],
   "source": [
    "# 환율 계산기 만들기 _내가 만든 답\n",
    "\n",
    "test1 = int(input(\"계산하고자 하는 달러를 입력하세요.\"))\n",
    "test2 =1449.94\n",
    "result = test1*test2\n",
    "print(f'요청하신 {test1}달러는 원화로 {result}원 입니다.')"
   ]
  },
  {
   "cell_type": "code",
   "execution_count": 121,
   "id": "ec7d8435-7062-449b-80e7-c031209db2c6",
   "metadata": {},
   "outputs": [
    {
     "name": "stdin",
     "output_type": "stream",
     "text": [
      "계산하고자 하는 달러를 입력하세요. 1\n"
     ]
    },
    {
     "name": "stdout",
     "output_type": "stream",
     "text": [
      "1달러는 1,450원 이므로\n",
      "요청하신 1달러는 원화로 1,450원 입니다.\n"
     ]
    }
   ],
   "source": [
    "# 선생님 답안\n",
    "exc=1450\n",
    "dollor = int(input(\"계산하고자 하는 달러를 입력하세요.\"))\n",
    "won = dollor*exc\n",
    "print(f'1달러는 {exc:,}원 이므로\\n요청하신 {dollor}달러는 원화로 {won:,}원 입니다.') # {:,} 3자리 마다 쉽표가 찍힌다."
   ]
  },
  {
   "cell_type": "code",
   "execution_count": 265,
   "id": "5c85507e-c696-4894-abde-18db6f7d1599",
   "metadata": {},
   "outputs": [
    {
     "name": "stdout",
     "output_type": "stream",
     "text": [
      "4409\n",
      "1,460.8\n"
     ]
    }
   ],
   "source": [
    "import requests\n",
    "import json\n",
    "url = '' \n",
    "res = requests.get(url).text\n",
    "data = json.loads(res)\n",
    "print(res.find('1,460'))\n",
    "# print(data,type(data))\n",
    "print(res[4409:4416])\n",
    "data[-1]\n",
    "\n",
    "result = data[-1]['deal_bas_r']\n",
    "# print(result,type(result))\n",
    "\n",
    "\n",
    "#스트링을 숫자로 바꾸어라. 단 쉽표는 전처리하여 사용가능하게 하라."
   ]
  },
  {
   "cell_type": "code",
   "execution_count": 193,
   "id": "76a9172d-2075-4559-85e9-c35ea7f5dfdf",
   "metadata": {},
   "outputs": [
    {
     "name": "stdin",
     "output_type": "stream",
     "text": [
      "질문3 3\n"
     ]
    },
    {
     "name": "stdout",
     "output_type": "stream",
     "text": [
      "1\n",
      "2\n",
      "3\n"
     ]
    }
   ],
   "source": [
    "# 질문 연속 input을 넣었을 때 예쁘게 줄을 바꾸는 방법\n",
    "from IPython.display import clear_output\n",
    "inp1 = input('질문1')\n",
    "clear_output(wait=True)\n",
    "inp2 = input('질문2')\n",
    "clear_output(wait=True)\n",
    "inp3 = input('질문3')\n",
    "print(inp1)\n",
    "print(inp2)\n",
    "print(inp3)"
   ]
  },
  {
   "cell_type": "code",
   "execution_count": 194,
   "id": "11ba7fe2-a88a-4f0a-b1f6-6fe91cc20d73",
   "metadata": {},
   "outputs": [
    {
     "data": {
      "text/plain": [
       "0.30000000000000004"
      ]
     },
     "execution_count": 194,
     "metadata": {},
     "output_type": "execute_result"
    }
   ],
   "source": [
    "0.1+0.2"
   ]
  },
  {
   "cell_type": "code",
   "execution_count": 203,
   "id": "7d14cf71-446a-4c59-83ee-9b250d8ea468",
   "metadata": {},
   "outputs": [
    {
     "name": "stdout",
     "output_type": "stream",
     "text": [
      "2898.8\n"
     ]
    }
   ],
   "source": [
    "#질문 2 \n",
    "# from decimal import Decimal *더 정밀한 계산\n",
    "rr = 1449.4*2\n",
    "# result = Decimal(rr)*2\n",
    "print(round(rr,1))"
   ]
  },
  {
   "cell_type": "markdown",
   "id": "3943c848-8735-4217-9bbd-c180e19d341d",
   "metadata": {},
   "source": [
    "## 튜플 자료형"
   ]
  },
  {
   "cell_type": "code",
   "execution_count": 207,
   "id": "b4e97d0c-a330-45d3-ace1-41a739ad2d69",
   "metadata": {},
   "outputs": [
    {
     "name": "stdout",
     "output_type": "stream",
     "text": [
      "()\n",
      "(1,)\n",
      "(1, 2, 3)\n",
      "(1, 2, 3)\n",
      "('a', 'b', ('ab', 'cd'))\n"
     ]
    }
   ],
   "source": [
    "t1 =()\n",
    "t2 =(1,) # 한개의 요소만 가질때는 쉽표(,)를 붙여야 한다.\n",
    "t3 =(1,2,3)\n",
    "t4 = 1,2,3 # 괄호생략 가능\n",
    "t5 =('a','b',('ab','cd'))\n",
    "print(t1)\n",
    "print(t2)\n",
    "print(t3)\n",
    "print(t4)\n",
    "print(t5)"
   ]
  },
  {
   "cell_type": "code",
   "execution_count": 211,
   "id": "c54a1221-d890-40fc-a6e1-dde957962b0b",
   "metadata": {},
   "outputs": [],
   "source": [
    "# 튜플의 요소값을 삭제하려 할 때\n",
    "t1 = (1,2,'a','b')\n",
    "# del t1[0]"
   ]
  },
  {
   "attachments": {
    "728b7055-bc5b-4dd1-99b8-76cae0e6fc2b.png": {
     "image/png": "[encoded data removed]"
    }
   },
   "cell_type": "markdown",
   "id": "535a67f3-a3fb-4d23-90e1-25d3eb7b9ab0",
   "metadata": {},
   "source": [
    "![image.png](attachment:728b7055-bc5b-4dd1-99b8-76cae0e6fc2b.png)"
   ]
  },
  {
   "cell_type": "code",
   "execution_count": 213,
   "id": "c1f1206e-7e9a-4b15-8d84-fb14454f9bf1",
   "metadata": {},
   "outputs": [],
   "source": [
    "# 튜플 요솟값을 변경하려 할 때\n",
    "t1 = (1,2,'a','b')\n",
    "# t1[0] = 'c'"
   ]
  },
  {
   "attachments": {
    "5610588e-4f35-4fdb-98b5-6ed4ec9bddaa.png": {
     "image/png": "[encoded data removed]"
    }
   },
   "cell_type": "markdown",
   "id": "9a0feffa-5a74-4713-82bb-a0434a78b1af",
   "metadata": {},
   "source": [
    "![image.png](attachment:5610588e-4f35-4fdb-98b5-6ed4ec9bddaa.png)"
   ]
  },
  {
   "cell_type": "code",
   "execution_count": 214,
   "id": "19e01ce8-eb13-4138-9e9a-b334cc673148",
   "metadata": {},
   "outputs": [
    {
     "data": {
      "text/plain": [
       "['__add__',\n",
       " '__class__',\n",
       " '__class_getitem__',\n",
       " '__contains__',\n",
       " '__delattr__',\n",
       " '__dir__',\n",
       " '__doc__',\n",
       " '__eq__',\n",
       " '__format__',\n",
       " '__ge__',\n",
       " '__getattribute__',\n",
       " '__getitem__',\n",
       " '__getnewargs__',\n",
       " '__getstate__',\n",
       " '__gt__',\n",
       " '__hash__',\n",
       " '__init__',\n",
       " '__init_subclass__',\n",
       " '__iter__',\n",
       " '__le__',\n",
       " '__len__',\n",
       " '__lt__',\n",
       " '__mul__',\n",
       " '__ne__',\n",
       " '__new__',\n",
       " '__reduce__',\n",
       " '__reduce_ex__',\n",
       " '__repr__',\n",
       " '__rmul__',\n",
       " '__setattr__',\n",
       " '__sizeof__',\n",
       " '__str__',\n",
       " '__subclasshook__',\n",
       " 'count',\n",
       " 'index']"
      ]
     },
     "execution_count": 214,
     "metadata": {},
     "output_type": "execute_result"
    }
   ],
   "source": [
    "dir(tuple) #tuple()"
   ]
  },
  {
   "cell_type": "code",
   "execution_count": 215,
   "id": "9280c6f8-0841-4b84-9099-e857fae9f5e0",
   "metadata": {},
   "outputs": [
    {
     "name": "stdout",
     "output_type": "stream",
     "text": [
      "1 b\n"
     ]
    }
   ],
   "source": [
    "# 인덱싱하기\n",
    "t1 = (1,2,'a','b')\n",
    "print(t1[0],t1[3])"
   ]
  },
  {
   "cell_type": "code",
   "execution_count": 216,
   "id": "49aa741b-4821-4193-a44e-ab03d6a0f0b5",
   "metadata": {},
   "outputs": [
    {
     "name": "stdout",
     "output_type": "stream",
     "text": [
      "(2, 'a', 'b')\n"
     ]
    }
   ],
   "source": [
    "# 슬라이싱\n",
    "t1 = (1,2,'a','b')\n",
    "print(t1[1:])"
   ]
  },
  {
   "cell_type": "code",
   "execution_count": 217,
   "id": "d1e4cc51-193d-4563-a0da-0b275c9d7324",
   "metadata": {},
   "outputs": [
    {
     "name": "stdout",
     "output_type": "stream",
     "text": [
      "(1, 2, 'a', 'b', 3, 4)\n"
     ]
    }
   ],
   "source": [
    "# 튜플 더하기\n",
    "t1 =(1,2,'a','b')\n",
    "t2 = (3,4)\n",
    "t3 = t1+t2\n",
    "print(t3)"
   ]
  },
  {
   "cell_type": "code",
   "execution_count": 218,
   "id": "75b85e09-1513-485f-a5c1-2d20211ee0a0",
   "metadata": {},
   "outputs": [
    {
     "name": "stdout",
     "output_type": "stream",
     "text": [
      "(3, 4, 3, 4, 3, 4)\n"
     ]
    }
   ],
   "source": [
    "# 튜플 곱하기\n",
    "t2 = (3,4)\n",
    "t3 = t2*3\n",
    "print(t3)"
   ]
  },
  {
   "cell_type": "code",
   "execution_count": 219,
   "id": "7d6cb91d-2167-4d34-a0e9-3805b7f52196",
   "metadata": {},
   "outputs": [
    {
     "data": {
      "text/plain": [
       "4"
      ]
     },
     "execution_count": 219,
     "metadata": {},
     "output_type": "execute_result"
    }
   ],
   "source": [
    "t1 = (1,2,'a','b')\n",
    "len(t1)"
   ]
  },
  {
   "cell_type": "markdown",
   "id": "084f3708-eb48-4777-9c6f-70298167245b",
   "metadata": {},
   "source": [
    "## 딕셔러리 자료형"
   ]
  },
  {
   "cell_type": "code",
   "execution_count": 221,
   "id": "a81838fe-2adf-4fa4-a435-46c127132b2b",
   "metadata": {},
   "outputs": [
    {
     "name": "stdout",
     "output_type": "stream",
     "text": [
      "pey\n",
      "010-9999-1234\n",
      "1118\n"
     ]
    }
   ],
   "source": [
    "dic = {'name':'pey', 'phone':'010-9999-1234','birth':'1118'}\n",
    "print(dic['name'])\n",
    "print(dic['phone'])\n",
    "print(dic['birth'])"
   ]
  },
  {
   "cell_type": "code",
   "execution_count": 223,
   "id": "6678d8ed-f9ad-4635-8dee-a9e28ca89848",
   "metadata": {},
   "outputs": [
    {
     "name": "stdout",
     "output_type": "stream",
     "text": [
      "11\n",
      "11\n",
      "11\n"
     ]
    }
   ],
   "source": [
    "al = [11,22,33,44,55]\n",
    "at= 11,22,33,44,55\n",
    "ad = {0:11,1:22,2:33,3:44,4:55}\n",
    "print(al[0])\n",
    "print(at[0])\n",
    "print(ad[0])"
   ]
  },
  {
   "cell_type": "code",
   "execution_count": 230,
   "id": "c8b42207-33e5-4ad6-aa66-d7c0219e1081",
   "metadata": {},
   "outputs": [
    {
     "name": "stdout",
     "output_type": "stream",
     "text": [
      "11\n",
      "22\n",
      "33\n",
      "44\n",
      "55\n",
      "==========\n",
      "11\n",
      "22\n",
      "33\n",
      "44\n",
      "55\n",
      "==========\n",
      "0\n",
      "1\n",
      "2\n",
      "3\n",
      "4\n"
     ]
    }
   ],
   "source": [
    "# test\n",
    "for l in al :\n",
    "    print(l)\n",
    "print('='*10)\n",
    "for t in at :\n",
    "    print(t)\n",
    "print('='*10)\n",
    "for d in ad :\n",
    "    print(d)"
   ]
  },
  {
   "cell_type": "code",
   "execution_count": 233,
   "id": "00c8fbe8-24d3-48aa-a953-ada7b570b3b1",
   "metadata": {},
   "outputs": [
    {
     "name": "stdout",
     "output_type": "stream",
     "text": [
      "[1, 2, 3, 4, 5]\n"
     ]
    }
   ],
   "source": [
    "a = {'aa':[1,2,3,4,5]}\n",
    "print(a['aa'])"
   ]
  },
  {
   "cell_type": "code",
   "execution_count": 235,
   "id": "d578a62b-9c71-4eb3-ac4f-2369dd71ae6c",
   "metadata": {},
   "outputs": [
    {
     "data": {
      "text/plain": [
       "'010-9999-1234'"
      ]
     },
     "execution_count": 235,
     "metadata": {},
     "output_type": "execute_result"
    }
   ],
   "source": [
    "dic2 = {'aa':{'name':'pey', 'phone':'010-9999-1234','birth':'1118'}}\n",
    "dic2['aa']['phone']"
   ]
  },
  {
   "cell_type": "markdown",
   "id": "6b4248a0-3c3f-4cf4-8699-854ec275c18d",
   "metadata": {},
   "source": [
    "### 딕셔너리 쌍 추가, 삭제하기"
   ]
  },
  {
   "cell_type": "code",
   "execution_count": 238,
   "id": "90429bf9-20cc-4e71-a9ac-d0a7f673bac0",
   "metadata": {},
   "outputs": [
    {
     "name": "stdout",
     "output_type": "stream",
     "text": [
      "{'name': 'pey', 'phone': '010-9999-1234', 'birth': '1118', 'address': 'busan'}\n"
     ]
    }
   ],
   "source": [
    "dic = {'name':'pey', 'phone':'010-9999-1234','birth':'1118'}\n",
    "dic['address'] = 'busan'\n",
    "print(dic)"
   ]
  },
  {
   "cell_type": "code",
   "execution_count": 246,
   "id": "63fb6fa6-6a98-4cff-9dbf-32ed6d666464",
   "metadata": {},
   "outputs": [
    {
     "name": "stdout",
     "output_type": "stream",
     "text": [
      "{'name': 'pey', 'phone': '010-9999-1234', 'birth': '1118', 'address': 'busan', 'array': [1, 2, 3, 4, 5]}\n"
     ]
    }
   ],
   "source": [
    "dic['array'] =[1,2,3,4,5]\n",
    "print(dic)"
   ]
  },
  {
   "cell_type": "code",
   "execution_count": 247,
   "id": "11088de3-f207-4c79-97e5-2301a10dc121",
   "metadata": {},
   "outputs": [
    {
     "name": "stdout",
     "output_type": "stream",
     "text": [
      "{'name': 'pey', 'phone': '010-9999-1234', 'birth': '1118', 'address': 'busan', 'array': [1, 2, 3, 4, 5]}\n",
      "{'name': 'pey', 'phone': '010-9999-1234', 'birth': '1118', 'address': 'busan'}\n"
     ]
    }
   ],
   "source": [
    "print(dic)\n",
    "del dic['array']\n",
    "print(dic)"
   ]
  },
  {
   "cell_type": "code",
   "execution_count": 249,
   "id": "15c09e4f-8d71-41cf-aa95-9903db98dac3",
   "metadata": {},
   "outputs": [
    {
     "data": {
      "text/plain": [
       "{1: 'b'}"
      ]
     },
     "execution_count": 249,
     "metadata": {},
     "output_type": "execute_result"
    }
   ],
   "source": [
    "# 딕셔너리 만들 때 주의할 사항\n",
    "# 딕셔너리에서 Key는 고유한 갑이므로 중복되는 Key 값을 설정해 놓으면 하나를 제외한 나머지 것들이 모두 무시된다는 점을 주의 해야함\n",
    "\n",
    "a = {1:'a', 1:'b'}\n",
    "a"
   ]
  },
  {
   "cell_type": "code",
   "execution_count": null,
   "id": "c20312fe-13c0-4cd4-8fc7-d497efaa0a0e",
   "metadata": {},
   "outputs": [],
   "source": []
  }
 ],
 "metadata": {
  "kernelspec": {
   "display_name": "Python 3 (ipykernel)",
   "language": "python",
   "name": "python3"
  },
  "language_info": {
   "codemirror_mode": {
    "name": "ipython",
    "version": 3
   },
   "file_extension": ".py",
   "mimetype": "text/x-python",
   "name": "python",
   "nbconvert_exporter": "python",
   "pygments_lexer": "ipython3",
   "version": "3.13.1"
  }
 },
 "nbformat": 4,
 "nbformat_minor": 5
}
