{
 "cells": [
  {
   "cell_type": "code",
   "execution_count": null,
   "id": "032ae9a1-76bc-4c71-bcc2-fb845ce00fa8",
   "metadata": {},
   "outputs": [],
   "source": [
    "from selenium import webdriver\n",
    "from selenium.webdriver.chrome.service import Service\n",
    "from selenium.webdriver.common.keys import Keys\n",
    "from selenium.webdriver.chrome.options import Options\n",
    "from selenium.webdriver.support.ui import Select, WebDriverWait\n",
    "from selenium.webdriver.support import expected_conditions as EC\n",
    "from selenium.webdriver.common.by import By\n",
    "import time\n",
    "import re\n",
    "from bs4 import BeautifulSoup as bs\n",
    "import pandas as pd\n",
    "from hdfs import InsecureClient\n",
    "from datetime import datetime # datetime 모듈 임포트"
   ]
  },
  {
   "cell_type": "code",
   "execution_count": 33,
   "id": "1fa84adc-f556-4808-b6a0-ae57f0c51730",
   "metadata": {},
   "outputs": [
    {
     "name": "stdout",
     "output_type": "stream",
     "text": [
      "Instagram\n",
      "로그인시도 아이디/비밀번호\n",
      "아이디 및 비번입력완료\n",
      "확인 및 이동\n",
      "부산여행의 검색시작!!🐧\n",
      "첫카드 클릭\n",
      "본문내용 busantravel인증됨💙함께여서 더욱 재밌는 부산 여행 36곳 총정리💙청량한 뷰는 물론, 로맨틱함 가득한 스팟,축제에 가을명소까지 요기조기 모아봤어! :)이번엔 여기로 가볼까?@@-#부산여행 #부산여행추천 #부산여행코스 #부산데이트 #데이트추천카페26주\n",
      "본문내용 busantravel인증됨💙함께여서 더욱 재밌는 부산 여행 36곳 총정리💙청량한 뷰는 물론, 로맨틱함 가득한 스팟,축제에 가을명소까지 요기조기 모아봤어! :)이번엔 여기로 가볼까?@@-#부산여행 #부산여행추천 #부산여행코스 #부산데이트 #데이트추천카페26주\n",
      "본문내용 busantravel인증됨💙함께여서 더욱 재밌는 부산 여행 36곳 총정리💙청량한 뷰는 물론, 로맨틱함 가득한 스팟,축제에 가을명소까지 요기조기 모아봤어! :)이번엔 여기로 가볼까?@@-#부산여행 #부산여행추천 #부산여행코스 #부산데이트 #데이트추천카페26주\n",
      "본문내용 busantravel인증됨💙함께여서 더욱 재밌는 부산 여행 36곳 총정리💙청량한 뷰는 물론, 로맨틱함 가득한 스팟,축제에 가을명소까지 요기조기 모아봤어! :)이번엔 여기로 가볼까?@@-#부산여행 #부산여행추천 #부산여행코스 #부산데이트 #데이트추천카페26주\n",
      "본문내용 busantravel인증됨💙함께여서 더욱 재밌는 부산 여행 36곳 총정리💙청량한 뷰는 물론, 로맨틱함 가득한 스팟,축제에 가을명소까지 요기조기 모아봤어! :)이번엔 여기로 가볼까?@@-#부산여행 #부산여행추천 #부산여행코스 #부산데이트 #데이트추천카페26주\n"
     ]
    },
    {
     "ename": "InvalidSessionIdException",
     "evalue": "Message: invalid session id: session deleted as the browser has closed the connection\nfrom disconnected: not connected to DevTools\n  (Session info: chrome=135.0.7049.84)\nStacktrace:\n\tGetHandleVerifier [0x00007FF633BF5335+78597]\n\tGetHandleVerifier [0x00007FF633BF5390+78688]\n\t(No symbol) [0x00007FF6339A91AA]\n\t(No symbol) [0x00007FF633994EF5]\n\t(No symbol) [0x00007FF6339B9F04]\n\t(No symbol) [0x00007FF633A2ED0F]\n\t(No symbol) [0x00007FF633A4EBB2]\n\t(No symbol) [0x00007FF633A26EC3]\n\t(No symbol) [0x00007FF6339F03F8]\n\t(No symbol) [0x00007FF6339F1163]\n\tGetHandleVerifier [0x00007FF633E9EEED+2870973]\n\tGetHandleVerifier [0x00007FF633E99698+2848360]\n\tGetHandleVerifier [0x00007FF633EB6973+2967875]\n\tGetHandleVerifier [0x00007FF633C1017A+188746]\n\tGetHandleVerifier [0x00007FF633C1845F+222255]\n\tGetHandleVerifier [0x00007FF633BFD2B4+111236]\n\tGetHandleVerifier [0x00007FF633BFD462+111666]\n\tGetHandleVerifier [0x00007FF633BE3589+5465]\n\tBaseThreadInitThunk [0x00007FFCE4D7E8D7+23]\n\tRtlUserThreadStart [0x00007FFCE5DD14FC+44]\n",
     "output_type": "error",
     "traceback": [
      "\u001b[1;31m---------------------------------------------------------------------------\u001b[0m",
      "\u001b[1;31mInvalidSessionIdException\u001b[0m                 Traceback (most recent call last)",
      "Cell \u001b[1;32mIn[33], line 74\u001b[0m\n\u001b[0;32m     72\u001b[0m \u001b[38;5;28mprint\u001b[39m(\u001b[38;5;124m\"\u001b[39m\u001b[38;5;124m본문내용\u001b[39m\u001b[38;5;124m\"\u001b[39m,content)\n\u001b[0;32m     73\u001b[0m time\u001b[38;5;241m.\u001b[39msleep(\u001b[38;5;241m2\u001b[39m)\n\u001b[1;32m---> 74\u001b[0m nextBt \u001b[38;5;241m=\u001b[39m \u001b[43mwait\u001b[49m\u001b[38;5;241;43m.\u001b[39;49m\u001b[43muntil\u001b[49m\u001b[43m(\u001b[49m\u001b[43mEC\u001b[49m\u001b[38;5;241;43m.\u001b[39;49m\u001b[43mpresence_of_element_located\u001b[49m\u001b[43m(\u001b[49m\u001b[43m(\u001b[49m\u001b[43mBy\u001b[49m\u001b[38;5;241;43m.\u001b[39;49m\u001b[43mCSS_SELECTOR\u001b[49m\u001b[43m,\u001b[49m\u001b[43m \u001b[49m\u001b[38;5;124;43m\"\u001b[39;49m\u001b[38;5;124;43mbody > div.x1n2onr6.xzkaem6 > div.x9f619.x1n2onr6.x1ja2u2z > div > div.x1uvtmcs.x4k7w5x.x1h91t0o.x1beo9mf.xaigb6o.x12ejxvf.x3igimt.xarpa2k.xedcshv.x1lytzrv.x1t2pt76.x7ja8zs.x1n2onr6.x1qrby5j.x1jfb8zj > div > div > div > div > div.xb88tzc.xw2csxc.x1odjw0f.x5fp0pe.x1qjc9v5.xjbqb8w.x1lcm9me.x1yr5g0i.xrt01vj.x10y3i5r.xr1yuqi.xkrivgy.x4ii5y1.x1gryazu.x15h9jz8.x47corl.xh8yej3.xir0mxb.x1juhsu6 > div > article > div > div._aatk._aatl > div > div.x1lliihq.x1n2onr6 > div.x9f619.xjbqb8w.x78zum5.x168nmei.x13lgxp2.x5pf9jr.xo71vjh.x10l6tqk.x1ey2m1c.x13vifvy.x17qophe.xds687c.x1plvlek.xryxfnj.x1c4vz4f.x2lah0s.xdt5ytf.xqjyukv.x1qjc9v5.x1oa3qoh.x1nhvcw1 > div > button > div\u001b[39;49m\u001b[38;5;124;43m\"\u001b[39;49m\u001b[43m)\u001b[49m\u001b[43m)\u001b[49m\u001b[43m)\u001b[49m\n\u001b[0;32m     75\u001b[0m nextBt\u001b[38;5;241m.\u001b[39mclick()\n\u001b[0;32m     76\u001b[0m time\u001b[38;5;241m.\u001b[39msleep(\u001b[38;5;241m4\u001b[39m)    \n",
      "File \u001b[1;32m~\\AppData\\Local\\Programs\\Python\\Python313\\Lib\\site-packages\\selenium\\webdriver\\support\\wait.py:137\u001b[0m, in \u001b[0;36mWebDriverWait.until\u001b[1;34m(self, method, message)\u001b[0m\n\u001b[0;32m    135\u001b[0m \u001b[38;5;28;01mwhile\u001b[39;00m \u001b[38;5;28;01mTrue\u001b[39;00m:\n\u001b[0;32m    136\u001b[0m     \u001b[38;5;28;01mtry\u001b[39;00m:\n\u001b[1;32m--> 137\u001b[0m         value \u001b[38;5;241m=\u001b[39m \u001b[43mmethod\u001b[49m\u001b[43m(\u001b[49m\u001b[38;5;28;43mself\u001b[39;49m\u001b[38;5;241;43m.\u001b[39;49m\u001b[43m_driver\u001b[49m\u001b[43m)\u001b[49m\n\u001b[0;32m    138\u001b[0m         \u001b[38;5;28;01mif\u001b[39;00m value:\n\u001b[0;32m    139\u001b[0m             \u001b[38;5;28;01mreturn\u001b[39;00m value\n",
      "File \u001b[1;32m~\\AppData\\Local\\Programs\\Python\\Python313\\Lib\\site-packages\\selenium\\webdriver\\support\\expected_conditions.py:110\u001b[0m, in \u001b[0;36mpresence_of_element_located.<locals>._predicate\u001b[1;34m(driver)\u001b[0m\n\u001b[0;32m    109\u001b[0m \u001b[38;5;28;01mdef\u001b[39;00m\u001b[38;5;250m \u001b[39m\u001b[38;5;21m_predicate\u001b[39m(driver: WebDriverOrWebElement):\n\u001b[1;32m--> 110\u001b[0m     \u001b[38;5;28;01mreturn\u001b[39;00m \u001b[43mdriver\u001b[49m\u001b[38;5;241;43m.\u001b[39;49m\u001b[43mfind_element\u001b[49m\u001b[43m(\u001b[49m\u001b[38;5;241;43m*\u001b[39;49m\u001b[43mlocator\u001b[49m\u001b[43m)\u001b[49m\n",
      "File \u001b[1;32m~\\AppData\\Local\\Programs\\Python\\Python313\\Lib\\site-packages\\selenium\\webdriver\\remote\\webdriver.py:898\u001b[0m, in \u001b[0;36mWebDriver.find_element\u001b[1;34m(self, by, value)\u001b[0m\n\u001b[0;32m    895\u001b[0m         \u001b[38;5;28;01mraise\u001b[39;00m NoSuchElementException(\u001b[38;5;124mf\u001b[39m\u001b[38;5;124m\"\u001b[39m\u001b[38;5;124mCannot locate relative element with: \u001b[39m\u001b[38;5;132;01m{\u001b[39;00mby\u001b[38;5;241m.\u001b[39mroot\u001b[38;5;132;01m}\u001b[39;00m\u001b[38;5;124m\"\u001b[39m)\n\u001b[0;32m    896\u001b[0m     \u001b[38;5;28;01mreturn\u001b[39;00m elements[\u001b[38;5;241m0\u001b[39m]\n\u001b[1;32m--> 898\u001b[0m \u001b[38;5;28;01mreturn\u001b[39;00m \u001b[38;5;28;43mself\u001b[39;49m\u001b[38;5;241;43m.\u001b[39;49m\u001b[43mexecute\u001b[49m\u001b[43m(\u001b[49m\u001b[43mCommand\u001b[49m\u001b[38;5;241;43m.\u001b[39;49m\u001b[43mFIND_ELEMENT\u001b[49m\u001b[43m,\u001b[49m\u001b[43m \u001b[49m\u001b[43m{\u001b[49m\u001b[38;5;124;43m\"\u001b[39;49m\u001b[38;5;124;43musing\u001b[39;49m\u001b[38;5;124;43m\"\u001b[39;49m\u001b[43m:\u001b[49m\u001b[43m \u001b[49m\u001b[43mby\u001b[49m\u001b[43m,\u001b[49m\u001b[43m \u001b[49m\u001b[38;5;124;43m\"\u001b[39;49m\u001b[38;5;124;43mvalue\u001b[39;49m\u001b[38;5;124;43m\"\u001b[39;49m\u001b[43m:\u001b[49m\u001b[43m \u001b[49m\u001b[43mvalue\u001b[49m\u001b[43m}\u001b[49m\u001b[43m)\u001b[49m[\u001b[38;5;124m\"\u001b[39m\u001b[38;5;124mvalue\u001b[39m\u001b[38;5;124m\"\u001b[39m]\n",
      "File \u001b[1;32m~\\AppData\\Local\\Programs\\Python\\Python313\\Lib\\site-packages\\selenium\\webdriver\\remote\\webdriver.py:429\u001b[0m, in \u001b[0;36mWebDriver.execute\u001b[1;34m(self, driver_command, params)\u001b[0m\n\u001b[0;32m    427\u001b[0m response \u001b[38;5;241m=\u001b[39m \u001b[38;5;28mself\u001b[39m\u001b[38;5;241m.\u001b[39mcommand_executor\u001b[38;5;241m.\u001b[39mexecute(driver_command, params)\n\u001b[0;32m    428\u001b[0m \u001b[38;5;28;01mif\u001b[39;00m response:\n\u001b[1;32m--> 429\u001b[0m     \u001b[38;5;28;43mself\u001b[39;49m\u001b[38;5;241;43m.\u001b[39;49m\u001b[43merror_handler\u001b[49m\u001b[38;5;241;43m.\u001b[39;49m\u001b[43mcheck_response\u001b[49m\u001b[43m(\u001b[49m\u001b[43mresponse\u001b[49m\u001b[43m)\u001b[49m\n\u001b[0;32m    430\u001b[0m     response[\u001b[38;5;124m\"\u001b[39m\u001b[38;5;124mvalue\u001b[39m\u001b[38;5;124m\"\u001b[39m] \u001b[38;5;241m=\u001b[39m \u001b[38;5;28mself\u001b[39m\u001b[38;5;241m.\u001b[39m_unwrap_value(response\u001b[38;5;241m.\u001b[39mget(\u001b[38;5;124m\"\u001b[39m\u001b[38;5;124mvalue\u001b[39m\u001b[38;5;124m\"\u001b[39m, \u001b[38;5;28;01mNone\u001b[39;00m))\n\u001b[0;32m    431\u001b[0m     \u001b[38;5;28;01mreturn\u001b[39;00m response\n",
      "File \u001b[1;32m~\\AppData\\Local\\Programs\\Python\\Python313\\Lib\\site-packages\\selenium\\webdriver\\remote\\errorhandler.py:232\u001b[0m, in \u001b[0;36mErrorHandler.check_response\u001b[1;34m(self, response)\u001b[0m\n\u001b[0;32m    230\u001b[0m         alert_text \u001b[38;5;241m=\u001b[39m value[\u001b[38;5;124m\"\u001b[39m\u001b[38;5;124malert\u001b[39m\u001b[38;5;124m\"\u001b[39m]\u001b[38;5;241m.\u001b[39mget(\u001b[38;5;124m\"\u001b[39m\u001b[38;5;124mtext\u001b[39m\u001b[38;5;124m\"\u001b[39m)\n\u001b[0;32m    231\u001b[0m     \u001b[38;5;28;01mraise\u001b[39;00m exception_class(message, screen, stacktrace, alert_text)  \u001b[38;5;66;03m# type: ignore[call-arg]  # mypy is not smart enough here\u001b[39;00m\n\u001b[1;32m--> 232\u001b[0m \u001b[38;5;28;01mraise\u001b[39;00m exception_class(message, screen, stacktrace)\n",
      "\u001b[1;31mInvalidSessionIdException\u001b[0m: Message: invalid session id: session deleted as the browser has closed the connection\nfrom disconnected: not connected to DevTools\n  (Session info: chrome=135.0.7049.84)\nStacktrace:\n\tGetHandleVerifier [0x00007FF633BF5335+78597]\n\tGetHandleVerifier [0x00007FF633BF5390+78688]\n\t(No symbol) [0x00007FF6339A91AA]\n\t(No symbol) [0x00007FF633994EF5]\n\t(No symbol) [0x00007FF6339B9F04]\n\t(No symbol) [0x00007FF633A2ED0F]\n\t(No symbol) [0x00007FF633A4EBB2]\n\t(No symbol) [0x00007FF633A26EC3]\n\t(No symbol) [0x00007FF6339F03F8]\n\t(No symbol) [0x00007FF6339F1163]\n\tGetHandleVerifier [0x00007FF633E9EEED+2870973]\n\tGetHandleVerifier [0x00007FF633E99698+2848360]\n\tGetHandleVerifier [0x00007FF633EB6973+2967875]\n\tGetHandleVerifier [0x00007FF633C1017A+188746]\n\tGetHandleVerifier [0x00007FF633C1845F+222255]\n\tGetHandleVerifier [0x00007FF633BFD2B4+111236]\n\tGetHandleVerifier [0x00007FF633BFD462+111666]\n\tGetHandleVerifier [0x00007FF633BE3589+5465]\n\tBaseThreadInitThunk [0x00007FFCE4D7E8D7+23]\n\tRtlUserThreadStart [0x00007FFCE5DD14FC+44]\n"
     ]
    }
   ],
   "source": [
    "# Chrome 옵션 설정\n",
    "options = Options()\n",
    "options.binary_location = \"./chrome-win64/chrome.exe\" # chrome 경로 설정\n",
    "options.add_argument(\"--no-sandbox\") # sandbox 설정\n",
    "# options.add_argument(\"--headless=new\")  # 헤드리스\n",
    "options.add_argument(\"--disable-dev-shm-usage\") # 공유메모리 설정\n",
    "options.add_argument(\"--window-size=1920,1080\") # 화면크기설정 , 반응형 웹 대비\n",
    "options.add_argument(\"--user-agent=Mozilla/5.0 (Windows NT 10.0; Win64; x64) AppleWebKit/537.36 (KHTML, like Gecko) Chrome/113.0.5672.126 Safari/537.36\")\n",
    "# options.add_argument(\"--disable-gpu\") # GPU 비활성화\n",
    "\n",
    "# ChromeDriver 설정\n",
    "service = Service(\"chromedriver.exe\")\n",
    "driver = webdriver.Chrome(service=service, options=options)\n",
    "driver.get(\"https://www.instagram.com/\")  # https://www.opinet.co.kr/searRgSelect.do\n",
    "print(driver.title)\n",
    "time.sleep(4) # 페이지 로드 기다림\n",
    "\n",
    "email = '01092747820'\n",
    "passwd = 'rlarldbs@2029403'\n",
    "print(\"로그인시도 아이디/비밀번호\")\n",
    "\n",
    "# 아이디(이메일) 기입\n",
    "input_id = driver.find_element(By.CSS_SELECTOR, \"#loginForm > div.x9f619.xjbqb8w.x78zum5.x168nmei.x13lgxp2.x5pf9jr.xo71vjh.xqui205.x1n2onr6.x1plvlek.xryxfnj.x1c4vz4f.x2lah0s.xdt5ytf.xqjyukv.x1qjc9v5.x1oa3qoh.x1nhvcw1 > div:nth-child(1) > div > label > input\")\n",
    "input_id.clear()\n",
    "time.sleep(1)\n",
    "input_id.send_keys(email)\n",
    "time.sleep(2)\n",
    "\n",
    "# 비번 기입\n",
    "input_pw = driver.find_element(By.CSS_SELECTOR, \"#loginForm > div.x9f619.xjbqb8w.x78zum5.x168nmei.x13lgxp2.x5pf9jr.xo71vjh.xqui205.x1n2onr6.x1plvlek.xryxfnj.x1c4vz4f.x2lah0s.xdt5ytf.xqjyukv.x1qjc9v5.x1oa3qoh.x1nhvcw1 > div:nth-child(2) > div > label > input\") \n",
    "input_pw.clear()\n",
    "input_pw.send_keys(passwd)\n",
    "time.sleep(2)\n",
    "print(\"아이디 및 비번입력완료\")\n",
    "\n",
    "# 학인 및 이동\n",
    "submit = driver.find_element(By.CSS_SELECTOR, \"#loginForm > div.x9f619.xjbqb8w.x78zum5.x168nmei.x13lgxp2.x5pf9jr.xo71vjh.xqui205.x1n2onr6.x1plvlek.xryxfnj.x1c4vz4f.x2lah0s.xdt5ytf.xqjyukv.x1qjc9v5.x1oa3qoh.x1nhvcw1 > div:nth-child(3)\")\n",
    "submit.click()\n",
    "print(\"확인 및 이동\")\n",
    "time.sleep(6)\n",
    "\n",
    "try:\n",
    "    popup = driver.find_element(By.CSS_SELECTOR, \"div.x1gryazu.xh8yej3.x10o80wk.x14k21rp.x17snn68.x6osk4m.x1porb0y.x8vgawa > section > main > div > div > div > div\")\n",
    "    popup.click()\n",
    "    time.sleep(3)\n",
    "except:    \n",
    "    pass\n",
    "\n",
    "def insta_search(inword):\n",
    "    url_ori = f\"https://www.instagram.com/explore/search/keyword/?q={inword}\"\n",
    "    return url_ori\n",
    "\n",
    "word = \"부산여행\"\n",
    "url = insta_search(word)\n",
    "driver.get(url)\n",
    "print(f\"{word}의 검색시작!!🐧\")\n",
    "time.sleep(8)\n",
    "\n",
    "# 로드 결과\n",
    "wait = WebDriverWait(driver, 10)\n",
    "select_box1 = wait.until(EC.presence_of_element_located((By.CSS_SELECTOR,\"div.x78zum5.xdt5ytf.xwrv7xz.x1n2onr6.xph46j.xfcsdxf.xsybdxg.x1bzgcud > div > div:nth-child(1) > div:nth-child(1) > div > a\")))\n",
    "select_box1.click()\n",
    "print(\"첫카드 클릭\")\n",
    "time.sleep(7)\n",
    "info = []\n",
    "for n in range(5):\n",
    "    html = driver.page_source\n",
    "    soup = bs(html, 'html.parser')\n",
    "    # 1. 본문내용 가져오기\n",
    "    content = soup.select_one('div._a9zr').get_text()\n",
    "    info.append(content)\n",
    "    print(\"본문내용\",content)\n",
    "    time.sleep(2)\n",
    "    nextBt = wait.until(EC.presence_of_element_located((By.CSS_SELECTOR, \"body > div.x1n2onr6.xzkaem6 > div.x9f619.x1n2onr6.x1ja2u2z > div > div.x1uvtmcs.x4k7w5x.x1h91t0o.x1beo9mf.xaigb6o.x12ejxvf.x3igimt.xarpa2k.xedcshv.x1lytzrv.x1t2pt76.x7ja8zs.x1n2onr6.x1qrby5j.x1jfb8zj > div > div > div > div > div.xb88tzc.xw2csxc.x1odjw0f.x5fp0pe.x1qjc9v5.xjbqb8w.x1lcm9me.x1yr5g0i.xrt01vj.x10y3i5r.xr1yuqi.xkrivgy.x4ii5y1.x1gryazu.x15h9jz8.x47corl.xh8yej3.xir0mxb.x1juhsu6 > div > article > div > div._aatk._aatl > div > div.x1lliihq.x1n2onr6 > div.x9f619.xjbqb8w.x78zum5.x168nmei.x13lgxp2.x5pf9jr.xo71vjh.x10l6tqk.x1ey2m1c.x13vifvy.x17qophe.xds687c.x1plvlek.xryxfnj.x1c4vz4f.x2lah0s.xdt5ytf.xqjyukv.x1qjc9v5.x1oa3qoh.x1nhvcw1 > div > button > div\")))\n",
    "    nextBt.click()\n",
    "    time.sleep(4)    "
   ]
  },
  {
   "cell_type": "code",
   "execution_count": null,
   "id": "6dc68d8f-8f75-4812-8861-12b0a6ff73e8",
   "metadata": {},
   "outputs": [],
   "source": [
    "# service.stop()"
   ]
  },
  {
   "cell_type": "code",
   "execution_count": null,
   "id": "35f01793-c4e8-47ea-a547-7d69767223dc",
   "metadata": {},
   "outputs": [],
   "source": []
  },
  {
   "cell_type": "code",
   "execution_count": null,
   "id": "0b74ed15-7fd8-441e-91cf-d31348e1bb3c",
   "metadata": {},
   "outputs": [],
   "source": []
  }
 ],
 "metadata": {
  "kernelspec": {
   "display_name": "Python 3 (ipykernel)",
   "language": "python",
   "name": "python3"
  },
  "language_info": {
   "codemirror_mode": {
    "name": "ipython",
    "version": 3
   },
   "file_extension": ".py",
   "mimetype": "text/x-python",
   "name": "python",
   "nbconvert_exporter": "python",
   "pygments_lexer": "ipython3",
   "version": "3.13.1"
  }
 },
 "nbformat": 4,
 "nbformat_minor": 5
}
