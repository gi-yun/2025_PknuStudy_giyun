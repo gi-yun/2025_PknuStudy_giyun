{
 "cells": [
  {
   "cell_type": "markdown",
   "id": "12cfda76-fd8d-4463-8b18-ca051c8a4b2c",
   "metadata": {},
   "source": [
    "# 되새김문제 풀기 p149 ~ p151 and 로또뽑기"
   ]
  },
  {
   "cell_type": "markdown",
   "id": "6cfdd8cd-4b6b-4874-b49b-1c3ab4e73000",
   "metadata": {},
   "source": [
    "## 1. 조건문의 참과 거짓\n",
    "다음 코드의 결괏은 무엇일까?\n",
    "- a=\"Life is too short, ou need python\"\n",
    "- if \"wife\" in a : print(\"wife\")\n",
    "- elif \"python\" in a and \"you\" not in a : print(\"python\")\n",
    "- elif \"shirt\" not in a : print(\"shirt\")\n",
    "- elif \"need\" in a : print(\"need\")\n",
    "- else : print(\"none\")"
   ]
  },
  {
   "cell_type": "code",
   "execution_count": null,
   "id": "00cd0fe3-31e7-4cbc-9c2a-a24560ac9991",
   "metadata": {},
   "outputs": [],
   "source": [
    "a=\"Life is too short, ou need python\"\n",
    "if \"wife\" in a : print(\"wife\")\n",
    "elif \"python\" in a and \"you\" not in a : print(\"python\")\n",
    "elif \"shirt\" not in a : print(\"shirt\")\n",
    "elif \"need\" in a : print(\"need\")\n",
    "else : print(\"none\")"
   ]
  },
  {
   "cell_type": "markdown",
   "id": "c3311bb0-ed6c-45ef-ba91-6c2cb5526639",
   "metadata": {},
   "source": [
    "## 2. 3의 배수의 합 구하기\n",
    "- while문을 사용해 1부터 1000까지의 자연수 중 3의 배수의 합을 구해보자.\n",
    "- result = 0\n",
    "- i = 1\n",
    "- while i <= 1000 :\n",
    "-    if(   &nbsp;&nbsp;&nbsp;&nbsp;&nbsp;&nbsp;   )\n",
    "-        result+=i\n",
    "-    i+=1\n",
    "- print(result)"
   ]
  },
  {
   "cell_type": "code",
   "execution_count": 1,
   "id": "ff308d62-f409-4a23-a86c-b2d8eabf61d5",
   "metadata": {},
   "outputs": [
    {
     "name": "stdout",
     "output_type": "stream",
     "text": [
      "166833\n"
     ]
    }
   ],
   "source": [
    "result = 0\n",
    "i = 1\n",
    "while i <= 1000 :\n",
    "    if i%3==0 :\n",
    "        result+=i\n",
    "    i+=1\n",
    "print(result)"
   ]
  },
  {
   "cell_type": "markdown",
   "id": "7c47e481-471c-41e7-9ec1-55ac3ec71347",
   "metadata": {},
   "source": [
    "## 3. 별 표시하기\n",
    "while 문을 사용하여 다음과 같이 별(*)을 표시하는 프로그램을 작성해 보자.\n",
    "- i = 0\n",
    "- while True :\n",
    "-     i+= 1 <- while 문을 수행할 때 1씩 증가\n",
    "-     if         : break <- i 값이 5를 초과하면 while 문을 벗어난다.\n",
    "-     print(      ) <- i 값의 개수만큼 '*'을 출력"
   ]
  },
  {
   "cell_type": "code",
   "execution_count": 2,
   "id": "a5f21479-4d13-48ec-944f-68e3506546b3",
   "metadata": {},
   "outputs": [
    {
     "name": "stdout",
     "output_type": "stream",
     "text": [
      "*\n",
      "**\n",
      "***\n",
      "****\n",
      "*****\n"
     ]
    }
   ],
   "source": [
    "i = 0\n",
    "while True :\n",
    "    i+= 1\n",
    "    if i>5 : break\n",
    "    print(i*\"*\")"
   ]
  },
  {
   "cell_type": "markdown",
   "id": "9bd85b47-18ab-489f-9e30-8757ccbd6f05",
   "metadata": {},
   "source": [
    "## 4. 1부터 100까지 출력하기\n",
    "for 문을 사용해 1부터 100까지의 숫자를 출력해 보자\n",
    "- for i in [               ]\n",
    "- print(i)\n",
    "- 1\n",
    "- 2\n",
    "- 3\n",
    "- 4\n",
    "- 5\n",
    "- 6\n",
    "- 7\n",
    "- 8\n",
    "- 9\n",
    "- 10\n",
    "- ..."
   ]
  },
  {
   "cell_type": "code",
   "execution_count": 15,
   "id": "0bf884e8-5ec9-4f6a-abef-583acab0a085",
   "metadata": {},
   "outputs": [
    {
     "name": "stdout",
     "output_type": "stream",
     "text": [
      "1\n",
      "2\n",
      "3\n",
      "4\n",
      "5\n",
      "6\n",
      "7\n",
      "8\n",
      "9\n",
      "10\n",
      "11\n",
      "12\n",
      "13\n",
      "14\n",
      "15\n",
      "16\n",
      "17\n",
      "18\n",
      "19\n",
      "20\n",
      "21\n",
      "22\n",
      "23\n",
      "24\n",
      "25\n",
      "26\n",
      "27\n",
      "28\n",
      "29\n",
      "30\n",
      "31\n",
      "32\n",
      "33\n",
      "34\n",
      "35\n",
      "36\n",
      "37\n",
      "38\n",
      "39\n",
      "40\n",
      "41\n",
      "42\n",
      "43\n",
      "44\n",
      "45\n",
      "46\n",
      "47\n",
      "48\n",
      "49\n",
      "50\n",
      "51\n",
      "52\n",
      "53\n",
      "54\n",
      "55\n",
      "56\n",
      "57\n",
      "58\n",
      "59\n",
      "60\n",
      "61\n",
      "62\n",
      "63\n",
      "64\n",
      "65\n",
      "66\n",
      "67\n",
      "68\n",
      "69\n",
      "70\n",
      "71\n",
      "72\n",
      "73\n",
      "74\n",
      "75\n",
      "76\n",
      "77\n",
      "78\n",
      "79\n",
      "80\n",
      "81\n",
      "82\n",
      "83\n",
      "84\n",
      "85\n",
      "86\n",
      "87\n",
      "88\n",
      "89\n",
      "90\n",
      "91\n",
      "92\n",
      "93\n",
      "94\n",
      "95\n",
      "96\n",
      "97\n",
      "98\n",
      "99\n",
      "100\n"
     ]
    }
   ],
   "source": [
    "for i in range(1,101) :\n",
    "    print(i)"
   ]
  },
  {
   "cell_type": "markdown",
   "id": "6d8270cb-9865-4488-baef-2d11a53aabc5",
   "metadata": {},
   "source": [
    "## 5. 평균 점수 구하기\n",
    "A 학급에 총 10명의 학생이 있다. 이 학생들의 중간고사 점수는 다음과 같다.\n",
    "\n",
    "- [70, 60, 55, 75, 95, 90, 80, 80, 85, 100]\n",
    "- for 문을 사용하여 A 학급의 평균 점수를 구해 보자.\n",
    "- A = [70, 60, 55, 75, 95, 90, 80, 80, 85, 100]\n",
    "- total = 0\n",
    "- for score in A :\n",
    "- total +=(&nbsp;&nbsp;&nbsp;&nbsp;&nbsp;&nbsp;&nbsp;&nbsp;&nbsp;&nbsp;&nbsp;&nbsp;&nbsp;)\n",
    "- average = (&nbsp;&nbsp;&nbsp;&nbsp;&nbsp;&nbsp;&nbsp;&nbsp;&nbsp;&nbsp;&nbsp;&nbsp;&nbsp;)\n",
    "- print(average)"
   ]
  },
  {
   "cell_type": "code",
   "execution_count": 13,
   "id": "4f44b249-4558-4c75-92ca-0fdf2ded87fb",
   "metadata": {},
   "outputs": [
    {
     "name": "stdout",
     "output_type": "stream",
     "text": [
      "79.0\n"
     ]
    }
   ],
   "source": [
    "A = [70, 60, 55, 75, 95, 90, 80, 80, 85, 100]\n",
    "total = 0\n",
    "for score in A :\n",
    "    total +=(score)\n",
    "    average = (total/len(A))\n",
    "print(average)"
   ]
  },
  {
   "cell_type": "markdown",
   "id": "62e2c81d-d212-43e6-ac2e-df6d35ed6345",
   "metadata": {},
   "source": [
    "## 6. 컴프리헨션 사용하기\n",
    "다음 소스 코드는 리스크의 요소 중에서 홀수만 골라 2를 곱한 값을 result 리스트에 담는 예제이다.\n",
    "- numbers = [1,2,3,4,5]\n",
    "- result = []\n",
    "- for n in numbers:\n",
    "-    if n % 2 == 1:\n",
    "-        result.append(n *2)\n",
    "- print(result)\n",
    "이 코드를 리스트 컴프리헨션을 사용하여 표현해 보자."
   ]
  },
  {
   "cell_type": "code",
   "execution_count": 2,
   "id": "35f719a7-c837-4dec-98f2-4320a741f57e",
   "metadata": {},
   "outputs": [
    {
     "name": "stdout",
     "output_type": "stream",
     "text": [
      "[2, 6, 10]\n"
     ]
    }
   ],
   "source": [
    "numbers = [1,2,3,4,5]\n",
    "result = []\n",
    "for n in numbers:\n",
    "    if n % 2 == 1:\n",
    "        result.append(n *2)\n",
    "print(result)"
   ]
  },
  {
   "cell_type": "code",
   "execution_count": null,
   "id": "4ee0624b-6298-4365-b5f5-7e5227326075",
   "metadata": {},
   "outputs": [],
   "source": [
    "numbers = [1,2,3,4,5]\n",
    "result = [n*2 for n in numbers if n%2 ==1 ]\n",
    "print(result)"
   ]
  },
  {
   "cell_type": "markdown",
   "id": "9eba59e8-4146-45ed-a1eb-2d7991110447",
   "metadata": {},
   "source": [
    "## 로또 생성기\n",
    "\n",
    "1) 6가지 숫자가 선택 되어야 함.\n",
    "2) 중복되면 안됨.\n",
    "3) 오름차순으로 정리하기\n",
    "4) 10만회 돌리고\n",
    "각각 번호가 나온 것을 카운팅 하기\n",
    "5) 각 번호를 퍼센트 내기 (소숫점 두자리)\n",
    "6) 제일 높게 나온 확률 순서대로 번호 3개 추천하기"
   ]
  },
  {
   "cell_type": "code",
   "execution_count": null,
   "id": "20093751-cc35-4127-8fdf-73fde5fbbd15",
   "metadata": {},
   "outputs": [],
   "source": [
    "import random as r\n",
    "num = 20 \n",
    "rl =[]\n",
    "while num:\n",
    "    num-=1\n",
    "    ran = r.randint(1,55)\n",
    "    rl.append(ran)\n",
    "    for a in rl :\n",
    "        print(ran)\n",
    "        if a==ran :\n",
    "            rl.append(ran)\n",
    "\n",
    "    \n",
    "    \n",
    "    # rset=set(rl)\n",
    "    # rlset=list(rset)\n",
    "    # ll=rlset.sort()\n",
    "    \n",
    "    \n",
    "print(rl)"
   ]
  },
  {
   "cell_type": "code",
   "execution_count": null,
   "id": "302deb01-bf91-4b96-8307-2914f8df08cc",
   "metadata": {},
   "outputs": [],
   "source": []
  },
  {
   "cell_type": "code",
   "execution_count": null,
   "id": "89885ef1-8d0a-4859-bb42-bc41e8a3d826",
   "metadata": {},
   "outputs": [],
   "source": []
  }
 ],
 "metadata": {
  "kernelspec": {
   "display_name": "Python 3 (ipykernel)",
   "language": "python",
   "name": "python3"
  },
  "language_info": {
   "codemirror_mode": {
    "name": "ipython",
    "version": 3
   },
   "file_extension": ".py",
   "mimetype": "text/x-python",
   "name": "python",
   "nbconvert_exporter": "python",
   "pygments_lexer": "ipython3",
   "version": "3.13.1"
  }
 },
 "nbformat": 4,
 "nbformat_minor": 5
}
