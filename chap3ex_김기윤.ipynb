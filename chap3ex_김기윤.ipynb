{
 "cells": [
  {
   "cell_type": "markdown",
   "id": "12cfda76-fd8d-4463-8b18-ca051c8a4b2c",
   "metadata": {},
   "source": [
    "# 되새김문제 풀기 p149 ~ p151"
   ]
  },
  {
   "cell_type": "markdown",
   "id": "6cfdd8cd-4b6b-4874-b49b-1c3ab4e73000",
   "metadata": {},
   "source": [
    "## 1. 조건문의 참과 거짓\n",
    "다음 코드의 결괏은 무엇일까?\n",
    "- a=\"Life is too short, ou need python\"\n",
    "- if \"wife\" in a : print(\"wife\")\n",
    "- elif \"python\" in a and \"you\" not in a : print(\"python\")\n",
    "- elif \"shirt\" not in a : print(\"shirt\")\n",
    "- elif \"need\" in a : print(\"need\")\n",
    "- else : print(\"none\")"
   ]
  },
  {
   "cell_type": "code",
   "execution_count": 1,
   "id": "00cd0fe3-31e7-4cbc-9c2a-a24560ac9991",
   "metadata": {},
   "outputs": [
    {
     "name": "stdout",
     "output_type": "stream",
     "text": [
      "python\n"
     ]
    }
   ],
   "source": [
    "a=\"Life is too short, ou need python\"\n",
    "if \"wife\" in a : print(\"wife\")\n",
    "elif \"python\" in a and \"you\" not in a : print(\"python\")\n",
    "elif \"shirt\" not in a : print(\"shirt\")\n",
    "elif \"need\" in a : print(\"need\")\n",
    "else : print(\"none\")"
   ]
  },
  {
   "cell_type": "markdown",
   "id": "c3311bb0-ed6c-45ef-ba91-6c2cb5526639",
   "metadata": {},
   "source": [
    "## 2. 3의 배수의 합 구하기\n",
    "- while문을 사용해 1부터 1000까지의 자연수 중 3의 배수의 합을 구해보자.\n",
    "- result = 0\n",
    "- i = 1\n",
    "- while i <= 1000 :\n",
    "-    if(   &nbsp;&nbsp;&nbsp;&nbsp;&nbsp;&nbsp;   )\n",
    "-        result+=i\n",
    "-    i+=1\n",
    "- print(result)"
   ]
  },
  {
   "cell_type": "code",
   "execution_count": 1,
   "id": "ff308d62-f409-4a23-a86c-b2d8eabf61d5",
   "metadata": {},
   "outputs": [
    {
     "name": "stdout",
     "output_type": "stream",
     "text": [
      "166833\n"
     ]
    }
   ],
   "source": [
    "result = 0\n",
    "i = 1\n",
    "while i <= 1000 :\n",
    "    if i%3==0 :\n",
    "        result+=i\n",
    "    i+=1\n",
    "print(result)"
   ]
  },
  {
   "cell_type": "markdown",
   "id": "7c47e481-471c-41e7-9ec1-55ac3ec71347",
   "metadata": {},
   "source": [
    "## 3. 별 표시하기\n",
    "while 문을 사용하여 다음과 같이 별(*)을 표시하는 프로그램을 작성해 보자.\n",
    "- i = 0\n",
    "- while True :\n",
    "-     i+= 1\n",
    "-     if         : break\n",
    "-     print(      )"
   ]
  },
  {
   "cell_type": "code",
   "execution_count": 2,
   "id": "a5f21479-4d13-48ec-944f-68e3506546b3",
   "metadata": {},
   "outputs": [
    {
     "name": "stdout",
     "output_type": "stream",
     "text": [
      "*\n",
      "**\n",
      "***\n",
      "****\n",
      "*****\n"
     ]
    }
   ],
   "source": [
    "i = 0\n",
    "while True :\n",
    "    i+= 1\n",
    "    if i>5 : break\n",
    "    print(i*\"*\")"
   ]
  },
  {
   "cell_type": "code",
   "execution_count": null,
   "id": "606e350a-35a7-480f-8805-4290622233ab",
   "metadata": {},
   "outputs": [],
   "source": []
  },
  {
   "cell_type": "code",
   "execution_count": null,
   "id": "0bf884e8-5ec9-4f6a-abef-583acab0a085",
   "metadata": {},
   "outputs": [],
   "source": []
  }
 ],
 "metadata": {
  "kernelspec": {
   "display_name": "Python 3 (ipykernel)",
   "language": "python",
   "name": "python3"
  },
  "language_info": {
   "codemirror_mode": {
    "name": "ipython",
    "version": 3
   },
   "file_extension": ".py",
   "mimetype": "text/x-python",
   "name": "python",
   "nbconvert_exporter": "python",
   "pygments_lexer": "ipython3",
   "version": "3.13.1"
  }
 },
 "nbformat": 4,
 "nbformat_minor": 5
}
