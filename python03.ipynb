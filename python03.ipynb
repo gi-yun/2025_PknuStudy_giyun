{
 "cells": [
  {
   "cell_type": "markdown",
   "id": "b86c6862-c028-4e32-8b79-4024f339b2a7",
   "metadata": {},
   "source": [
    "# 제어문\n",
    "normal        /     python <br>\n",
    "if(\t){\t}   =>  if \t: 조건에 충족하면 실행<br>\n",
    "&nbsp;&nbsp;&nbsp;else if   => elif \t: 만약 조건에 충족하면 더이상 진행하지않고 실행후 멈춤<br>\n",
    "&nbsp;&nbsp;&nbsp;else => else  :  조건외 나머지의 경우를 실행<br>\n",
    "for(\t){\t}   =>  for \t: <br>\n",
    "while(\t){\t}  =>  while :  <br>\n",
    "if 배고픈 사람??? :<br>\n",
    "&nbsp;&nbsp;&nbsp;실행 <br>\n",
    "else (배고프지 않은 사람과 나머지) : <br>\n",
    "&nbsp;&nbsp;&nbsp;실행 <br>\n",
    "if 서있는 사람 ?? : <br>\n",
    "&nbsp;&nbsp;&nbsp;실행 <br>\n",
    "elif 서있지 않은 사람 ?? : <br>\n",
    "&nbsp;&nbsp;&nbsp;실행 <br>\n",
    "else (나머지) : <br>\n",
    "&nbsp;&nbsp;&nbsp;실행 <br>"
   ]
  },
  {
   "cell_type": "markdown",
   "id": "ec9ac7dd-d55e-48b4-9a85-08bba9ebae00",
   "metadata": {},
   "source": [
    "## if 문"
   ]
  },
  {
   "cell_type": "code",
   "execution_count": 46,
   "id": "494c63d0-4c4d-489a-971f-09739f984c8e",
   "metadata": {},
   "outputs": [
    {
     "name": "stdout",
     "output_type": "stream",
     "text": [
      "항상 동작합니다.\n",
      "5가 큽니다.\n",
      "5가 큽니다.\n"
     ]
    }
   ],
   "source": [
    "if True :\n",
    "    print(\"항상 동작합니다.\")\n",
    "if False :\n",
    "    print(\"이건 동작하지않습니다.\")\n",
    "if 0 : # 0 이하는 거짓\n",
    "    print(\"5가 큽니다.\")\n",
    "if [] : # 거짓\n",
    "    print(\"5가 큽니다.\")\n",
    "if () : # 거짓\n",
    "    print(\"5가 큽니다.\")\n",
    "if [1,3] : # 참\n",
    "    print(\"5가 큽니다.\")\n",
    "if 5>2 :\n",
    "    print(\"5가 큽니다.\")\n",
    "if 4>10 :\n",
    "    print(\"나올까요? 나오지 않습니다.\")"
   ]
  },
  {
   "cell_type": "code",
   "execution_count": 53,
   "id": "6cf8c8c7-56f7-4a85-bf7f-d813778678a6",
   "metadata": {},
   "outputs": [
    {
     "name": "stdout",
     "output_type": "stream",
     "text": [
      "택시를\n",
      "타고\n",
      "가라\n"
     ]
    }
   ],
   "source": [
    "money =True\n",
    "if money :\n",
    "    print(\"택시를\")\n",
    "    print(\"타고\")\n",
    "    print(\"가라\")"
   ]
  },
  {
   "cell_type": "code",
   "execution_count": 58,
   "id": "d5e31fac-dda0-440c-923b-492db47c2aa2",
   "metadata": {},
   "outputs": [
    {
     "name": "stdin",
     "output_type": "stream",
     "text": [
      "얼마 가지고 있습니까? 4000\n"
     ]
    },
    {
     "name": "stdout",
     "output_type": "stream",
     "text": [
      "택시타고 가세요.\n"
     ]
    }
   ],
   "source": [
    "mymoney = int(input('얼마 가지고 있습니까?'))\n",
    "if mymoney >= 3000:\n",
    "    print('택시타고 가세요.')\n",
    "# if mymoney < 3000 :\n",
    "else :\n",
    "    print('걸어가세요')"
   ]
  },
  {
   "cell_type": "code",
   "execution_count": 59,
   "id": "d2f741fc-daf6-413d-8c50-668ec0ceed1d",
   "metadata": {},
   "outputs": [],
   "source": [
    "# and, or, not"
   ]
  },
  {
   "cell_type": "code",
   "execution_count": 67,
   "id": "a945c241-26b3-4e13-91fd-f5741fc0f1d4",
   "metadata": {},
   "outputs": [
    {
     "name": "stdout",
     "output_type": "stream",
     "text": [
      "===== and 연산 =====\n",
      "True 참\n",
      "False 거짓\n",
      "False 거짓\n",
      "False 거짓\n",
      "===== or 연산 =====\n",
      "True 참\n",
      "True 참\n",
      "True 참\n",
      "False 거짓\n",
      "===== not 연산 =====\n",
      "False 거짓\n",
      "True 참\n"
     ]
    }
   ],
   "source": [
    "#논리 and\n",
    "print(\"===== and 연산 =====\")\n",
    "print(True and True,\"참\")\n",
    "print(True and False,\"거짓\")\n",
    "print(False and True,\"거짓\")\n",
    "print(False and False,\"거짓\")\n",
    "#논리 or\n",
    "print(\"===== or 연산 =====\")\n",
    "print(True or True,\"참\")\n",
    "print(True or False,\"참\")\n",
    "print(False or True,\"참\")\n",
    "print(False or False,\"거짓\")\n",
    "#논리 not\n",
    "print(\"===== not 연산 =====\")\n",
    "print(not True,\"거짓\")\n",
    "print(not False,\"참\")"
   ]
  },
  {
   "cell_type": "code",
   "execution_count": 76,
   "id": "c6cc7403-eded-4445-99ed-15ca21d2b4ef",
   "metadata": {},
   "outputs": [
    {
     "name": "stdout",
     "output_type": "stream",
     "text": [
      "만납시다\n",
      "그래요...\n",
      "만납시다\n",
      "그래요...\n"
     ]
    }
   ],
   "source": [
    "이상형 = True\n",
    "똑똑 = True\n",
    "불친절 = False\n",
    "주사 = False\n",
    "\n",
    "if 이상형 and 똑똑 :\n",
    "    print(\"만납시다\")\n",
    "else :\n",
    "    print(\"반가워요\")\n",
    "    \n",
    "if 불친절 and 이상형 :\n",
    "    print(\"만납시다\")\n",
    "else :\n",
    "    print(\"그래요...\")\n",
    "\n",
    "if 똑똑 or 불친절:\n",
    "    print(\"만납시다\")\n",
    "else :\n",
    "    print(\"그래요...\")\n",
    "    \n",
    "if 주사 or 불친절:\n",
    "    print(\"만납시다\")\n",
    "else :\n",
    "    print(\"그래요...\")"
   ]
  },
  {
   "cell_type": "code",
   "execution_count": 79,
   "id": "6d4c1213-e4c6-489a-8a98-a31eec1e7936",
   "metadata": {},
   "outputs": [
    {
     "name": "stdout",
     "output_type": "stream",
     "text": [
      "택시를 타고 가라\n"
     ]
    }
   ],
   "source": [
    "#돈이 3000원 이상 있거나 카드가 있다면 택시를 타고 가고, 그렇지 않으면 걸어가라.\n",
    "money = 2000\n",
    "card = True\n",
    "if money >= 3000 or card :\n",
    "    print(\"택시를 타고 가라\")\n",
    "else:\n",
    "    print(\"걸어가라\")"
   ]
  },
  {
   "cell_type": "code",
   "execution_count": 89,
   "id": "b99436a7-c01b-471c-b0da-d9598e808ca0",
   "metadata": {
    "scrolled": true
   },
   "outputs": [
    {
     "name": "stdout",
     "output_type": "stream",
     "text": [
      "A회사 불합격입니다.\n",
      "B회사 합격입니다\n",
      "C회사 합격입니다\n"
     ]
    }
   ],
   "source": [
    "me = 'Python'\n",
    "comA = ['JAVA','CSS','Javascript','C','mySQL']\n",
    "comB = ['JAVA','Python','Javascript','C','mySQL']\n",
    "comC = ['JAVA','Python','HTML','mySQL']\n",
    "if me in comA:\n",
    "    print(\"A회사 합격입니다\")\n",
    "else :\n",
    "    print(\"A회사 불합격입니다.\")\n",
    "if me in comB:\n",
    "    print(\"B회사 합격입니다\")\n",
    "else :\n",
    "    print(\"B회사 불합격입니다.\")\n",
    "if me in comB:\n",
    "    print(\"C회사 합격입니다\")\n",
    "else :\n",
    "    print(\"C회사 불합격입니다.\")"
   ]
  },
  {
   "cell_type": "markdown",
   "id": "d5473a7d-1927-4c3e-a2d7-b1abc9905009",
   "metadata": {},
   "source": [
    "#if또는 elif 또는 else 등을 사용하여 다음을 구성하시오.\n",
    "\n",
    "#점수를 입력받아서 해당구간의 학점을 출력하세요.\n",
    "\n",
    "90점 이상 ~100점 A\n",
    "80점 이상 ~90점미만 B\n",
    "70점 이상 ~80점미만 C\n",
    "60점 이상 ~70점미만 D\n",
    "60점 미만 F"
   ]
  },
  {
   "cell_type": "code",
   "execution_count": null,
   "id": "e6f174a9-ff27-439f-a158-7e8ca27083b7",
   "metadata": {},
   "outputs": [],
   "source": [
    "# 방법1 if만 사용\n",
    "점수 = int(input(\"점수를 입력하세요.\"))\n",
    "grade = 'F'\n",
    "if 90 <= 점수 :\n",
    "    grade='A'\n",
    "if 80 <= 점수<90:  # if 80 <= 점수 <90: 이런 모양으로 생략가능\n",
    "    grade='B'\n",
    "if 70 <= 점수 and 점수 <80:\n",
    "    grade='C'\n",
    "if 60 <= 점수 and 점수<70:\n",
    "    grade='D'\n",
    "print(f'{grade} 학점입니다.')"
   ]
  },
  {
   "cell_type": "code",
   "execution_count": null,
   "id": "a23d0207-5d1e-419e-af16-a2dfc858b73e",
   "metadata": {},
   "outputs": [],
   "source": [
    "# 방법2 if, elif, else 사용\n",
    "score = int(input(\"점수를 입력하세요.\"))\n",
    "grade =\"\"\n",
    "if 90<=score : grade ='A'\n",
    "elif 80 <= score : grade ='B'\n",
    "elif 70 <= score : grade ='C'\n",
    "elif 60 <= score : grade ='D'\n",
    "else : grade =\"F\"\n",
    "print(f'{grade} 학점입니다.')\n",
    "#elif가 조건에 맞춰지면 거기서 계산을 멈추고 \n",
    "#if는 개별적으로 다 계산하기에 elif에 비해 용량을 더 많이 먹는다."
   ]
  },
  {
   "cell_type": "markdown",
   "id": "7fc20ec9-0a0f-4e33-b965-58b36ce84187",
   "metadata": {},
   "source": [
    "봄 15이상 ~25미만 사이 <br>\n",
    "여름 25도 이상 ~ <br>\n",
    "가을 10도 이상 ~15미만 사이 <br>\n",
    "겨울 10도 미만 <br>\n",
    "계절 출력하기"
   ]
  },
  {
   "cell_type": "code",
   "execution_count": 155,
   "id": "561ceb8c-200d-4ac4-b934-42096a7fc5f5",
   "metadata": {},
   "outputs": [
    {
     "name": "stdin",
     "output_type": "stream",
     "text": [
      "온도를 입력하세요. 25\n"
     ]
    },
    {
     "name": "stdout",
     "output_type": "stream",
     "text": [
      "여름 입니다.\n"
     ]
    }
   ],
   "source": [
    "섭씨 = int(input(\"온도를 입력하세요.\"))\n",
    "계절 =\"\"\n",
    "if 15<=섭씨<25 : 계절 ='봄'\n",
    "elif 25 <= 섭씨 : 계절 ='여름'\n",
    "elif 10 <= 섭씨<15 : 계절 ='가을'\n",
    "elif 10 > 섭씨 : 계절 ='겨울'\n",
    "print(f'{계절} 입니다.')"
   ]
  },
  {
   "cell_type": "markdown",
   "id": "278ab093-1253-4ce3-a8a6-590fe8151083",
   "metadata": {},
   "source": [
    "## While 문"
   ]
  },
  {
   "cell_type": "code",
   "execution_count": 41,
   "id": "846b19ff-fb4d-4b9a-aa49-9f46390ac4c3",
   "metadata": {
    "scrolled": true
   },
   "outputs": [
    {
     "name": "stdout",
     "output_type": "stream",
     "text": [
      "9 자...나화났어!\n",
      "8 자...나화났어!\n",
      "7 자...나화났어!\n",
      "6 자...나화났어!\n",
      "5 자...나화났어!\n",
      "4 자...나화났어!\n",
      "3 자...나화났어!\n",
      "2 자...나화났어!\n",
      "1 자...나화났어!\n",
      "0 자...나화났어!\n"
     ]
    }
   ],
   "source": [
    "num =10\n",
    "while num :\n",
    "    num-=1\n",
    "    print(num ,\"자...나화났어!\")\n",
    "    # if num >10:\n",
    "    #     break"
   ]
  },
  {
   "cell_type": "code",
   "execution_count": 163,
   "id": "ca41223a-9842-4969-9580-a3b39d8002b2",
   "metadata": {},
   "outputs": [
    {
     "name": "stdout",
     "output_type": "stream",
     "text": [
      "나무를 1번 찍었습니다.\n",
      "나무를 2번 찍었습니다.\n",
      "나무를 3번 찍었습니다.\n",
      "나무를 4번 찍었습니다.\n",
      "나무를 5번 찍었습니다.\n",
      "나무를 6번 찍었습니다.\n",
      "나무를 7번 찍었습니다.\n",
      "나무를 8번 찍었습니다.\n",
      "나무를 9번 찍었습니다.\n",
      "나무를 10번 찍었습니다.\n",
      "나무 넘어갑니다.\n",
      "==========\n",
      "나무를 1 찍었습니다.\n",
      "나무를 2 찍었습니다.\n",
      "나무를 3 찍었습니다.\n",
      "나무를 4 찍었습니다.\n",
      "나무를 5 찍었습니다.\n",
      "나무를 6 찍었습니다.\n",
      "나무를 7 찍었습니다.\n",
      "나무를 8 찍었습니다.\n",
      "나무를 9 찍었습니다.\n",
      "나무를 10 찍었습니다.\n"
     ]
    }
   ],
   "source": [
    "treeHit = 0\n",
    "while treeHit < 10 :\n",
    "    treeHit = treeHit +1\n",
    "    print(\"나무를 %d번 찍었습니다.\" % treeHit)\n",
    "    if treeHit == 10:\n",
    "        print(\"나무 넘어갑니다.\")\n",
    "print(\"=\"*10)\n",
    "num = 10\n",
    "while num:\n",
    "    num-=1\n",
    "    # print(num)\n",
    "    print(f'나무를 {10-num} 찍었습니다.')\n",
    "    if num == 10 :\n",
    "        print(\"나무 넘어갑니다\")"
   ]
  },
  {
   "cell_type": "code",
   "execution_count": null,
   "id": "d34599ea-6aa6-4603-bbdd-a793a777f2c3",
   "metadata": {},
   "outputs": [],
   "source": []
  }
 ],
 "metadata": {
  "kernelspec": {
   "display_name": "Python 3 (ipykernel)",
   "language": "python",
   "name": "python3"
  },
  "language_info": {
   "codemirror_mode": {
    "name": "ipython",
    "version": 3
   },
   "file_extension": ".py",
   "mimetype": "text/x-python",
   "name": "python",
   "nbconvert_exporter": "python",
   "pygments_lexer": "ipython3",
   "version": "3.13.1"
  }
 },
 "nbformat": 4,
 "nbformat_minor": 5
}
