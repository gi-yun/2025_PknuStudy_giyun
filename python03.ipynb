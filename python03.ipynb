{
 "cells": [
  {
   "cell_type": "markdown",
   "id": "b86c6862-c028-4e32-8b79-4024f339b2a7",
   "metadata": {},
   "source": [
    "# 제어문\n",
    "normal        /     python <br>\n",
    "if(\t){\t}   =>  if \t: 조건에 충족하면 실행<br>\n",
    "&nbsp;&nbsp;&nbsp;else if   => elif \t: 만약 조건에 충족하면 더이상 진행하지않고 실행후 멈춤<br>\n",
    "&nbsp;&nbsp;&nbsp;else => else  :  조건외 나머지의 경우를 실행<br>\n",
    "for(\t){\t}   =>  for \t: <br>\n",
    "while(\t){\t}  =>  while :  <br>\n",
    "if 배고픈 사람??? :<br>\n",
    "&nbsp;&nbsp;&nbsp;실행 <br>\n",
    "else (배고프지 않은 사람과 나머지) : <br>\n",
    "&nbsp;&nbsp;&nbsp;실행 <br>\n",
    "if 서있는 사람 ?? : <br>\n",
    "&nbsp;&nbsp;&nbsp;실행 <br>\n",
    "elif 서있지 않은 사람 ?? : <br>\n",
    "&nbsp;&nbsp;&nbsp;실행 <br>\n",
    "else (나머지) : <br>\n",
    "&nbsp;&nbsp;&nbsp;실행 <br>"
   ]
  },
  {
   "cell_type": "markdown",
   "id": "ec9ac7dd-d55e-48b4-9a85-08bba9ebae00",
   "metadata": {},
   "source": [
    "## if 문"
   ]
  },
  {
   "cell_type": "code",
   "execution_count": 1,
   "id": "494c63d0-4c4d-489a-971f-09739f984c8e",
   "metadata": {},
   "outputs": [
    {
     "name": "stdout",
     "output_type": "stream",
     "text": [
      "항상 동작합니다.\n",
      "5가 큽니다.\n",
      "5가 큽니다.\n"
     ]
    }
   ],
   "source": [
    "if True :\n",
    "    print(\"항상 동작합니다.\")\n",
    "if False :\n",
    "    print(\"이건 동작하지않습니다.\")\n",
    "if 0 : # 0 이하는 거짓\n",
    "    print(\"5가 큽니다.\")\n",
    "if [] : # 거짓\n",
    "    print(\"5가 큽니다.\")\n",
    "if () : # 거짓\n",
    "    print(\"5가 큽니다.\")\n",
    "if [1,3] : # 참\n",
    "    print(\"5가 큽니다.\")\n",
    "if 5>2 :\n",
    "    print(\"5가 큽니다.\")\n",
    "if 4>10 :\n",
    "    print(\"나올까요? 나오지 않습니다.\")"
   ]
  },
  {
   "cell_type": "code",
   "execution_count": 2,
   "id": "6cf8c8c7-56f7-4a85-bf7f-d813778678a6",
   "metadata": {},
   "outputs": [
    {
     "name": "stdout",
     "output_type": "stream",
     "text": [
      "택시를\n",
      "타고\n",
      "가라\n"
     ]
    }
   ],
   "source": [
    "money =True\n",
    "if money :\n",
    "    print(\"택시를\")\n",
    "    print(\"타고\")\n",
    "    print(\"가라\")"
   ]
  },
  {
   "cell_type": "code",
   "execution_count": 3,
   "id": "d5e31fac-dda0-440c-923b-492db47c2aa2",
   "metadata": {},
   "outputs": [
    {
     "name": "stdin",
     "output_type": "stream",
     "text": [
      "얼마 가지고 있습니까? 300\n"
     ]
    },
    {
     "name": "stdout",
     "output_type": "stream",
     "text": [
      "걸어가세요\n"
     ]
    }
   ],
   "source": [
    "mymoney = int(input('얼마 가지고 있습니까?'))\n",
    "if mymoney >= 3000:\n",
    "    print('택시타고 가세요.')\n",
    "# if mymoney < 3000 :\n",
    "else :\n",
    "    print('걸어가세요')"
   ]
  },
  {
   "cell_type": "code",
   "execution_count": 4,
   "id": "d2f741fc-daf6-413d-8c50-668ec0ceed1d",
   "metadata": {},
   "outputs": [],
   "source": [
    "# and, or, not"
   ]
  },
  {
   "cell_type": "code",
   "execution_count": 5,
   "id": "a945c241-26b3-4e13-91fd-f5741fc0f1d4",
   "metadata": {},
   "outputs": [
    {
     "name": "stdout",
     "output_type": "stream",
     "text": [
      "===== and 연산 =====\n",
      "True 참\n",
      "False 거짓\n",
      "False 거짓\n",
      "False 거짓\n",
      "===== or 연산 =====\n",
      "True 참\n",
      "True 참\n",
      "True 참\n",
      "False 거짓\n",
      "===== not 연산 =====\n",
      "False 거짓\n",
      "True 참\n"
     ]
    }
   ],
   "source": [
    "#논리 and\n",
    "print(\"===== and 연산 =====\")\n",
    "print(True and True,\"참\")\n",
    "print(True and False,\"거짓\")\n",
    "print(False and True,\"거짓\")\n",
    "print(False and False,\"거짓\")\n",
    "#논리 or\n",
    "print(\"===== or 연산 =====\")\n",
    "print(True or True,\"참\")\n",
    "print(True or False,\"참\")\n",
    "print(False or True,\"참\")\n",
    "print(False or False,\"거짓\")\n",
    "#논리 not\n",
    "print(\"===== not 연산 =====\")\n",
    "print(not True,\"거짓\")\n",
    "print(not False,\"참\")"
   ]
  },
  {
   "cell_type": "code",
   "execution_count": 6,
   "id": "c6cc7403-eded-4445-99ed-15ca21d2b4ef",
   "metadata": {},
   "outputs": [
    {
     "name": "stdout",
     "output_type": "stream",
     "text": [
      "만납시다\n",
      "그래요...\n",
      "만납시다\n",
      "그래요...\n"
     ]
    }
   ],
   "source": [
    "이상형 = True\n",
    "똑똑 = True\n",
    "불친절 = False\n",
    "주사 = False\n",
    "\n",
    "if 이상형 and 똑똑 :\n",
    "    print(\"만납시다\")\n",
    "else :\n",
    "    print(\"반가워요\")\n",
    "    \n",
    "if 불친절 and 이상형 :\n",
    "    print(\"만납시다\")\n",
    "else :\n",
    "    print(\"그래요...\")\n",
    "\n",
    "if 똑똑 or 불친절:\n",
    "    print(\"만납시다\")\n",
    "else :\n",
    "    print(\"그래요...\")\n",
    "    \n",
    "if 주사 or 불친절:\n",
    "    print(\"만납시다\")\n",
    "else :\n",
    "    print(\"그래요...\")"
   ]
  },
  {
   "cell_type": "code",
   "execution_count": 7,
   "id": "6d4c1213-e4c6-489a-8a98-a31eec1e7936",
   "metadata": {},
   "outputs": [
    {
     "name": "stdout",
     "output_type": "stream",
     "text": [
      "택시를 타고 가라\n"
     ]
    }
   ],
   "source": [
    "#돈이 3000원 이상 있거나 카드가 있다면 택시를 타고 가고, 그렇지 않으면 걸어가라.\n",
    "money = 2000\n",
    "card = True\n",
    "if money >= 3000 or card :\n",
    "    print(\"택시를 타고 가라\")\n",
    "else:\n",
    "    print(\"걸어가라\")"
   ]
  },
  {
   "cell_type": "code",
   "execution_count": 8,
   "id": "b99436a7-c01b-471c-b0da-d9598e808ca0",
   "metadata": {
    "scrolled": true
   },
   "outputs": [
    {
     "name": "stdout",
     "output_type": "stream",
     "text": [
      "A회사 불합격입니다.\n",
      "B회사 합격입니다\n",
      "C회사 합격입니다\n"
     ]
    }
   ],
   "source": [
    "me = 'Python'\n",
    "comA = ['JAVA','CSS','Javascript','C','mySQL']\n",
    "comB = ['JAVA','Python','Javascript','C','mySQL']\n",
    "comC = ['JAVA','Python','HTML','mySQL']\n",
    "if me in comA:\n",
    "    print(\"A회사 합격입니다\")\n",
    "else :\n",
    "    print(\"A회사 불합격입니다.\")\n",
    "if me in comB:\n",
    "    print(\"B회사 합격입니다\")\n",
    "else :\n",
    "    print(\"B회사 불합격입니다.\")\n",
    "if me in comB:\n",
    "    print(\"C회사 합격입니다\")\n",
    "else :\n",
    "    print(\"C회사 불합격입니다.\")"
   ]
  },
  {
   "cell_type": "markdown",
   "id": "d5473a7d-1927-4c3e-a2d7-b1abc9905009",
   "metadata": {},
   "source": [
    "#if또는 elif 또는 else 등을 사용하여 다음을 구성하시오.\n",
    "\n",
    "#점수를 입력받아서 해당구간의 학점을 출력하세요.\n",
    "\n",
    "90점 이상 ~100점 A\n",
    "80점 이상 ~90점미만 B\n",
    "70점 이상 ~80점미만 C\n",
    "60점 이상 ~70점미만 D\n",
    "60점 미만 F"
   ]
  },
  {
   "cell_type": "code",
   "execution_count": 9,
   "id": "e6f174a9-ff27-439f-a158-7e8ca27083b7",
   "metadata": {},
   "outputs": [
    {
     "name": "stdin",
     "output_type": "stream",
     "text": [
      "점수를 입력하세요. 1\n"
     ]
    },
    {
     "name": "stdout",
     "output_type": "stream",
     "text": [
      "F 학점입니다.\n"
     ]
    }
   ],
   "source": [
    "# 방법1 if만 사용\n",
    "점수 = int(input(\"점수를 입력하세요.\"))\n",
    "grade = 'F'\n",
    "if 90 <= 점수 :\n",
    "    grade='A'\n",
    "if 80 <= 점수<90:  # if 80 <= 점수 <90: 이런 모양으로 생략가능\n",
    "    grade='B'\n",
    "if 70 <= 점수 and 점수 <80:\n",
    "    grade='C'\n",
    "if 60 <= 점수 and 점수<70:\n",
    "    grade='D'\n",
    "print(f'{grade} 학점입니다.')"
   ]
  },
  {
   "cell_type": "code",
   "execution_count": 10,
   "id": "a23d0207-5d1e-419e-af16-a2dfc858b73e",
   "metadata": {},
   "outputs": [
    {
     "name": "stdin",
     "output_type": "stream",
     "text": [
      "점수를 입력하세요. 1\n"
     ]
    },
    {
     "name": "stdout",
     "output_type": "stream",
     "text": [
      "F 학점입니다.\n"
     ]
    }
   ],
   "source": [
    "# 방법2 if, elif, else 사용\n",
    "score = int(input(\"점수를 입력하세요.\"))\n",
    "grade =\"\"\n",
    "if 90<=score : grade ='A'\n",
    "elif 80 <= score : grade ='B'\n",
    "elif 70 <= score : grade ='C'\n",
    "elif 60 <= score : grade ='D'\n",
    "else : grade =\"F\"\n",
    "print(f'{grade} 학점입니다.')\n",
    "#elif가 조건에 맞춰지면 거기서 계산을 멈추고 \n",
    "#if는 개별적으로 다 계산하기에 elif에 비해 용량을 더 많이 먹는다."
   ]
  },
  {
   "cell_type": "markdown",
   "id": "7fc20ec9-0a0f-4e33-b965-58b36ce84187",
   "metadata": {},
   "source": [
    "봄 15이상 ~25미만 사이 <br>\n",
    "여름 25도 이상 ~ <br>\n",
    "가을 10도 이상 ~15미만 사이 <br>\n",
    "겨울 10도 미만 <br>\n",
    "계절 출력하기"
   ]
  },
  {
   "cell_type": "code",
   "execution_count": 11,
   "id": "561ceb8c-200d-4ac4-b934-42096a7fc5f5",
   "metadata": {},
   "outputs": [
    {
     "name": "stdin",
     "output_type": "stream",
     "text": [
      "온도를 입력하세요. 1\n"
     ]
    },
    {
     "name": "stdout",
     "output_type": "stream",
     "text": [
      "겨울 입니다.\n"
     ]
    }
   ],
   "source": [
    "섭씨 = int(input(\"온도를 입력하세요.\"))\n",
    "계절 =\"\"\n",
    "if 15<=섭씨<25 : 계절 ='봄'\n",
    "elif 25 <= 섭씨 : 계절 ='여름'\n",
    "elif 10 <= 섭씨<15 : 계절 ='가을'\n",
    "elif 10 > 섭씨 : 계절 ='겨울'\n",
    "print(f'{계절} 입니다.')"
   ]
  },
  {
   "cell_type": "markdown",
   "id": "278ab093-1253-4ce3-a8a6-590fe8151083",
   "metadata": {},
   "source": [
    "## While 문"
   ]
  },
  {
   "cell_type": "code",
   "execution_count": 12,
   "id": "846b19ff-fb4d-4b9a-aa49-9f46390ac4c3",
   "metadata": {
    "scrolled": true
   },
   "outputs": [
    {
     "name": "stdout",
     "output_type": "stream",
     "text": [
      "9 자...나화났어!\n",
      "8 자...나화났어!\n",
      "7 자...나화났어!\n",
      "6 자...나화났어!\n",
      "5 자...나화났어!\n",
      "4 자...나화났어!\n",
      "3 자...나화났어!\n",
      "2 자...나화났어!\n",
      "1 자...나화났어!\n",
      "0 자...나화났어!\n"
     ]
    }
   ],
   "source": [
    "num =10\n",
    "while num :\n",
    "    num-=1\n",
    "    print(num ,\"자...나화났어!\")\n",
    "    # if num >10:\n",
    "    #     break"
   ]
  },
  {
   "cell_type": "code",
   "execution_count": 13,
   "id": "ca41223a-9842-4969-9580-a3b39d8002b2",
   "metadata": {},
   "outputs": [
    {
     "name": "stdout",
     "output_type": "stream",
     "text": [
      "나무를 1번 찍었습니다.\n",
      "나무를 2번 찍었습니다.\n",
      "나무를 3번 찍었습니다.\n",
      "나무를 4번 찍었습니다.\n",
      "나무를 5번 찍었습니다.\n",
      "나무를 6번 찍었습니다.\n",
      "나무를 7번 찍었습니다.\n",
      "나무를 8번 찍었습니다.\n",
      "나무를 9번 찍었습니다.\n",
      "나무를 10번 찍었습니다.\n",
      "나무 넘어갑니다.\n",
      "==========\n",
      "나무를 1 찍었습니다.\n",
      "나무를 2 찍었습니다.\n",
      "나무를 3 찍었습니다.\n",
      "나무를 4 찍었습니다.\n",
      "나무를 5 찍었습니다.\n",
      "나무를 6 찍었습니다.\n",
      "나무를 7 찍었습니다.\n",
      "나무를 8 찍었습니다.\n",
      "나무를 9 찍었습니다.\n",
      "나무를 10 찍었습니다.\n"
     ]
    }
   ],
   "source": [
    "treeHit = 0\n",
    "while treeHit < 10 :\n",
    "    treeHit = treeHit +1\n",
    "    print(\"나무를 %d번 찍었습니다.\" % treeHit)\n",
    "    if treeHit == 10:\n",
    "        print(\"나무 넘어갑니다.\")\n",
    "print(\"=\"*10)\n",
    "num = 10\n",
    "while num:\n",
    "    num-=1\n",
    "    # print(num)\n",
    "    print(f'나무를 {10-num} 찍었습니다.') #수학적 표현\n",
    "    if num == 10 :\n",
    "        print(\"나무 넘어갑니다\")"
   ]
  },
  {
   "cell_type": "code",
   "execution_count": null,
   "id": "d34599ea-6aa6-4603-bbdd-a793a777f2c3",
   "metadata": {},
   "outputs": [
    {
     "name": "stdout",
     "output_type": "stream",
     "text": [
      "\n",
      "선택해주세요\n",
      "    1.Add\n",
      "    2.Del\n",
      "    3.List\n",
      "    4.Quit\n",
      "\n"
     ]
    }
   ],
   "source": [
    "#### from IPython.display import clear_output\n",
    "\n",
    "prompt = \"\"\"\n",
    "선택해주세요\n",
    "    1.Add\n",
    "    2.Del\n",
    "    3.List\n",
    "    4.Quit\n",
    "\"\"\"\n",
    "\n",
    "number = 0\n",
    "while number != 4 :\n",
    "    print(prompt)\n",
    "    number = int(input())\n",
    "    clear_output(wait=True) #이전 질문 지우기\n",
    "print(\"시스템이 종료되었습니다.\")"
   ]
  },
  {
   "cell_type": "code",
   "execution_count": null,
   "id": "46709546-7047-481a-9ca4-584145230aeb",
   "metadata": {},
   "outputs": [],
   "source": [
    "# random 주사위\n",
    "import random as r\n",
    "# ran = int(r.random()*6 +1)\n",
    "# print(f'{ran:0.1f}')"
   ]
  },
  {
   "cell_type": "code",
   "execution_count": null,
   "id": "b0f4324b-21b8-4684-a239-9ab8a4ac4e32",
   "metadata": {},
   "outputs": [],
   "source": [
    "box = []"
   ]
  },
  {
   "cell_type": "code",
   "execution_count": null,
   "id": "a6d2e13f-a57a-406c-a46a-0882bdf43426",
   "metadata": {},
   "outputs": [],
   "source": [
    "ran = r.randint(1,6)\n",
    "box.append(ran)\n",
    "print(ran)\n",
    "print(box,len(box))"
   ]
  },
  {
   "cell_type": "code",
   "execution_count": null,
   "id": "ad125862-94c8-4170-b0eb-d9f94b1935bb",
   "metadata": {},
   "outputs": [],
   "source": [
    "dir(r)"
   ]
  },
  {
   "cell_type": "code",
   "execution_count": null,
   "id": "3501621e-4ed2-498c-8c95-a138404cd307",
   "metadata": {},
   "outputs": [],
   "source": [
    "# while 문을 사용하여 랜덤주사위 10번을 돌리고 나온 주사위 숫자를 담아라\n",
    "import random as r\n",
    "num = 10\n",
    "box = []\n",
    "while num :\n",
    "    num-=1\n",
    "    ran = r.randint(1,6)\n",
    "    box.append(ran)\n",
    "    # print(num)\n",
    "print(box,len(box)) "
   ]
  },
  {
   "cell_type": "markdown",
   "id": "da47e537-580c-42be-a00c-5a4e81b43031",
   "metadata": {},
   "source": [
    "리스트의 특정한 숫자를 몇개인지 찾아내는 함수써서<br>\n",
    "1 이 몇번 등장했는지? <br>\n",
    "2가 몇번 등장했는지<br>\n",
    "...<br>\n",
    "6이 몇번등장했는지 코드작성해보기"
   ]
  },
  {
   "cell_type": "code",
   "execution_count": 18,
   "id": "bd6167c8-a480-41b4-b7bc-957faf87df7f",
   "metadata": {
    "scrolled": true
   },
   "outputs": [
    {
     "name": "stdout",
     "output_type": "stream",
     "text": [
      "[18, 16, 18, 21, 12, 15]횟수들이 나온 리스트\n",
      "1은 18 (18.00%) 번 등장했습니다.\n",
      "2은 16 (16.00%) 번 등장했습니다.\n",
      "3은 18 (18.00%) 번 등장했습니다.\n",
      "4은 21 (21.00%) 번 등장했습니다.\n",
      "5은 12 (12.00%) 번 등장했습니다.\n",
      "6은 15 (15.00%) 번 등장했습니다.\n",
      "box안에 담긴count의 총합 100\n",
      "가장많이 나온 숫자는 4로 21회 ,가장적게 나온 숫자는5로 12회가 나왔다.\n",
      "[4, 1, 1, 3, 4, 3, 6, 3, 5, 3, 3, 1, 2, 5, 1, 4, 2, 1, 1, 3, 3, 6, 4, 2, 1, 5, 4, 4, 6, 1, 4, 4, 3, 5, 6, 4, 5, 3, 4, 5, 4, 5, 4, 4, 6, 3, 2, 5, 3, 2, 4, 1, 2, 2, 4, 3, 5, 4, 3, 1, 5, 4, 3, 4, 6, 5, 1, 2, 4, 3, 6, 2, 6, 6, 2, 2, 1, 6, 1, 2, 1, 6, 1, 6, 6, 1, 6, 1, 2, 3, 2, 3, 3, 5, 1, 4, 2, 4, 6, 2] box안에 담긴 갯수 100\n"
     ]
    }
   ],
   "source": [
    "import random as r\n",
    "num = 100\n",
    "box = []\n",
    "while num :\n",
    "    num-=1\n",
    "    ran = r.randint(1,6)\n",
    "    box.append(ran)\n",
    "    # print(num)\n",
    "    if num==0 :\n",
    "        bc1 = box.count(1)\n",
    "        bc2 = box.count(2)\n",
    "        bc3 = box.count(3)\n",
    "        bc4 = box.count(4)\n",
    "        bc5 = box.count(5)\n",
    "        bc6 = box.count(6)\n",
    "        bt = [bc1,bc2,bc3,bc4,bc5,bc6]\n",
    "        bcmax = max(bt)\n",
    "        bcmaxA = bt.index(bcmax)+1  \n",
    "        bcmin = min(bt)\n",
    "        # bcmaxA =\"\"\n",
    "        bcminA = bt.index(bcmin)+1\n",
    "        # bcminA =\"\"\n",
    "        print(f'{bt}횟수들이 나온 리스트')\n",
    "        bcs=bc1+bc2+bc3+bc4+bc5+bc6\n",
    "        print(f'1은 {bc1} ({bc1/len(box)*100:0.2f}%) 번 등장했습니다.')\n",
    "        print(f'2은 {bc2} ({bc2/len(box)*100:0.2f}%) 번 등장했습니다.')\n",
    "        print(f'3은 {bc3} ({bc3/len(box)*100:0.2f}%) 번 등장했습니다.')\n",
    "        print(f'4은 {bc4} ({bc4/len(box)*100:0.2f}%) 번 등장했습니다.')\n",
    "        print(f'5은 {bc5} ({bc5/len(box)*100:0.2f}%) 번 등장했습니다.')\n",
    "        print(f'6은 {bc6} ({bc6/len(box)*100:0.2f}%) 번 등장했습니다.')\n",
    "        print(\"box안에 담긴count의 총합\",bcs)\n",
    "        \n",
    "        # for b in bt :\n",
    "        #     if b==bcmax :\n",
    "        #         bcmaxA= len(bt)\n",
    "        #     if b==bcmin :\n",
    "        #         bcminA= len(bt)\n",
    "                \n",
    "        print(f'가장많이 나온 숫자는 {bcmaxA}로 {bcmax}회 ,가장적게 나온 숫자는{bcminA}로 {bcmin}회가 나왔다.')\n",
    "print(box,\"box안에 담긴 갯수\",len(box)) \n",
    "\n",
    "# max() : 가장 큰 수, min() : 가장 작은 수"
   ]
  },
  {
   "cell_type": "code",
   "execution_count": null,
   "id": "6fa99b52-c173-4198-bcf0-261feb92e31e",
   "metadata": {},
   "outputs": [],
   "source": [
    "# p137 페이지 커피 예제\n",
    "coffee =10\n",
    "money =300\n",
    "while money :\n",
    "    print(\"돈을 받았으니 커피를 줍니다.\")\n",
    "    coffee = coffee -1\n",
    "    print(f'남은 커피의 양은 {coffee}개 입니다.')\n",
    "    if coffee == 0:\n",
    "        print(\"커피가 다 떨어졌습니다. 판매를 중지 합니다.\")\n",
    "        break"
   ]
  },
  {
   "cell_type": "code",
   "execution_count": null,
   "id": "09928f75-be0e-49f4-b7e8-8dc08a84842a",
   "metadata": {
    "scrolled": true
   },
   "outputs": [],
   "source": [
    "# p137 커피 예제 python 구동\n",
    "coffee = 10\n",
    "while True:\n",
    "    money =int(input(\"돈을 넣어주세요\"))\n",
    "    if money == 300 :\n",
    "        print(\"커피를 줍니다.\")\n",
    "        coffee = coffee -1\n",
    "    elif money > 300 :\n",
    "        print(f'거스름돈{money-300}을 주고 커피를 줍니다.')\n",
    "        coffee = coffee -1\n",
    "    else :\n",
    "        print(\"돈을 다시 돌려 주고 커피를 주지 않습니다.\")\n",
    "        print(f'남은 커피의 양은{coffee}개 입니다.')\n",
    "    if coffee == 0:\n",
    "        print(\"커피가 다 떨어졌습니다. 판매를 중지합니다.\")\n",
    "        break"
   ]
  },
  {
   "cell_type": "markdown",
   "id": "d5ff766a-ea1c-4507-b1bf-6b054f1e39f1",
   "metadata": {},
   "source": [
    "## for문"
   ]
  },
  {
   "cell_type": "code",
   "execution_count": null,
   "id": "d88ba32c-f7d8-44c8-bb04-3122a5ae9265",
   "metadata": {},
   "outputs": [],
   "source": [
    "test_list = ['one', 'two', 'three']\n",
    "# for i in test_list :\n",
    "for i in ['one', 'two', 'three'] :\n",
    "\n",
    "    print(i)"
   ]
  },
  {
   "cell_type": "code",
   "execution_count": null,
   "id": "1f865367-3db4-446f-8b1a-8b48197f1feb",
   "metadata": {},
   "outputs": [],
   "source": [
    "A,b =(1,2)"
   ]
  },
  {
   "cell_type": "code",
   "execution_count": null,
   "id": "ca3a42be-5d71-4a33-8045-9fb7ca34cac6",
   "metadata": {},
   "outputs": [],
   "source": [
    "# 다양한 for 문의 사용\n",
    "a = [(1,2,11),(3,4,22),(5,6,55)]\n",
    "for (x, y,z) in a:\n",
    "    print(x,y,z)"
   ]
  },
  {
   "cell_type": "code",
   "execution_count": null,
   "id": "bb917405-8df5-4828-bc81-1a305c8a6941",
   "metadata": {},
   "outputs": [],
   "source": [
    "marks = [90,25,67,45,80] #학생들의 시험 점수 리스트\n",
    "\n",
    "number =0 # 학생에게 붙여 줄 번호\n",
    "for mark in marks : # 90, 25, 67, 45, 80을 순서대로 mark에 대입\n",
    "    number = number+1\n",
    "    # continue # 이후 밑의 코드를 무시하고 다시 위로 올라감(초기화)\n",
    "    if mark>=60 :\n",
    "        print(f'{number}번 학생은 합격입니다.')\n",
    "    else :\n",
    "        print(f'{number}번 학생은 불합격입니다.')"
   ]
  },
  {
   "cell_type": "code",
   "execution_count": null,
   "id": "c3a9e7c5-01ef-407c-9d4c-7c7b06e769cc",
   "metadata": {},
   "outputs": [],
   "source": [
    "marks = [90,25,67,45,80] #학생들의 시험 점수 리스트\n",
    "\n",
    "number =0 # 학생에게 붙여 줄 번호\n",
    "for mark in marks : # 90, 25, 67, 45, 80을 순서대로 mark에 대입\n",
    "    number = number+1\n",
    "    if mark < 60 :continue\n",
    "    print(f'{number}번 학생축하합니다. 합격입니다.')"
   ]
  },
  {
   "cell_type": "code",
   "execution_count": null,
   "id": "de72f863-e2f2-481f-b2a5-bea3f6af2434",
   "metadata": {},
   "outputs": [],
   "source": [
    "a = [1,2,3,4,5,6,7,8,9,10]\n",
    "for num in a :\n",
    "    if num%2 == 0 :\n",
    "        print(f'{num}은 짝수 입니다.')\n",
    "        continue\n",
    "    else :\n",
    "        print(f'{num}은 홀수 입니다.')"
   ]
  },
  {
   "cell_type": "markdown",
   "id": "3499aaf3-e66b-4c7f-b6f4-6e4829382a6e",
   "metadata": {},
   "source": [
    "### range함수"
   ]
  },
  {
   "cell_type": "code",
   "execution_count": null,
   "id": "7f62cac9-0a8a-4d39-a9b4-51a51a8327f9",
   "metadata": {},
   "outputs": [],
   "source": [
    "a = range(10)\n",
    "a # 0 부터 10 미만의 숫자를 포함하는 range 객체를 만들어 준다."
   ]
  },
  {
   "cell_type": "code",
   "execution_count": null,
   "id": "9fd844d7-facd-4727-949c-1db06b856ce8",
   "metadata": {},
   "outputs": [],
   "source": [
    "a= range(1,11) # range(시작_숫자, 끝_숫자)로 사용 하는데 이때 끝숫자는 포함되지 않는다. * 숫자 첫자리 는 0이 생략가능하다.\n",
    "a"
   ]
  },
  {
   "cell_type": "code",
   "execution_count": null,
   "id": "7578165d-1f71-4ce1-8f66-b051561bc8c0",
   "metadata": {},
   "outputs": [],
   "source": [
    "n=range(2,10,2)\n",
    "print(n)"
   ]
  },
  {
   "cell_type": "code",
   "execution_count": null,
   "id": "ef77a262-d6b8-435e-a46f-a62f7348511b",
   "metadata": {},
   "outputs": [],
   "source": [
    "for a in range(5):\n",
    "    print(a)"
   ]
  },
  {
   "cell_type": "code",
   "execution_count": 2,
   "id": "51c787d7-2663-403e-8816-fd22f7074419",
   "metadata": {},
   "outputs": [
    {
     "name": "stdout",
     "output_type": "stream",
     "text": [
      "[0, 2, 4, 6, 8, 10, 12, 14, 16, 18, 20, 22, 24, 26, 28, 30, 32, 34, 36, 38, 40, 42, 44, 46, 48, 50, 52, 54, 56, 58, 60, 62, 64, 66, 68, 70, 72, 74, 76, 78, 80, 82, 84, 86, 88, 90, 92, 94, 96, 98]\n"
     ]
    }
   ],
   "source": [
    "la = list(range(0,100,2))\n",
    "print(la)"
   ]
  },
  {
   "cell_type": "code",
   "execution_count": 1,
   "id": "9db4cb89-b069-4ab1-8a67-99d7978f9b52",
   "metadata": {},
   "outputs": [
    {
     "name": "stdout",
     "output_type": "stream",
     "text": [
      "0\n",
      "2\n",
      "4\n",
      "6\n",
      "8\n"
     ]
    }
   ],
   "source": [
    "for even in range(0,10,2):\n",
    "    print(even)"
   ]
  },
  {
   "cell_type": "code",
   "execution_count": null,
   "id": "82b7255e-34cd-442c-991e-74d69e18b3d3",
   "metadata": {},
   "outputs": [],
   "source": [
    "add = 0\n",
    "for i in range(1,10): # 1~10\n",
    "    add = add+i # 1~10 의 모든 숫자를 더함\n",
    "print(add) # 55"
   ]
  },
  {
   "cell_type": "code",
   "execution_count": null,
   "id": "fe7347eb-bc3b-41e9-b23b-379c2ba8ec12",
   "metadata": {},
   "outputs": [],
   "source": [
    "num = 0\n",
    "sum = 0\n",
    "while num<10:\n",
    "    num+=1\n",
    "    sum+=num\n",
    "print(sum)"
   ]
  },
  {
   "cell_type": "code",
   "execution_count": null,
   "id": "8f51eee9-f7da-4452-a098-9a38fa34e1dc",
   "metadata": {},
   "outputs": [],
   "source": [
    "mark = [90,25,67,45,80]\n",
    "for number in range(len(marks)) :\n",
    "    if marks[number] <60 :\n",
    "        continue\n",
    "    print(f'{number+1}번 학생 축하합니다. 합격입니다.')"
   ]
  },
  {
   "cell_type": "markdown",
   "id": "7bb08678-2c9b-4038-9264-b3d3c5c3ea32",
   "metadata": {},
   "source": [
    "## 연습"
   ]
  },
  {
   "cell_type": "code",
   "execution_count": 8,
   "id": "ecf1e04e-bd24-4ec4-a798-339026353a05",
   "metadata": {},
   "outputs": [
    {
     "name": "stdout",
     "output_type": "stream",
     "text": [
      "     March 2025\n",
      "Su Mo Tu We Th Fr Sa\n",
      "                   1\n",
      " 2  3  4  5  6  7  8\n",
      " 9 10 11 12 13 14 15\n",
      "16 17 18 19 20 21 22\n",
      "23 24 25 26 27 28 29\n",
      "30 31\n",
      "\n"
     ]
    }
   ],
   "source": [
    "import calendar\n",
    "c = calendar.TextCalendar(calendar.SUNDAY)\n",
    "print(c.formatmonth(2025, 3))"
   ]
  },
  {
   "cell_type": "code",
   "execution_count": 9,
   "id": "d496d315-f89a-4e14-b608-52ec745ca886",
   "metadata": {},
   "outputs": [
    {
     "name": "stdout",
     "output_type": "stream",
     "text": [
      "■■■■■■■■■■■"
     ]
    }
   ],
   "source": [
    "# 테스트 타이머\n",
    "import time as t\n",
    "for x in range(11):\n",
    "    print(f'■',end='')\n",
    "    t.sleep(1)"
   ]
  },
  {
   "cell_type": "code",
   "execution_count": 10,
   "id": "099ba638-ddbe-4fc2-a4ef-d33ef380a20c",
   "metadata": {},
   "outputs": [
    {
     "name": "stdout",
     "output_type": "stream",
     "text": [
      "<class 'list'>\n",
      "<class 'tuple'>\n"
     ]
    }
   ],
   "source": [
    "# 리스트 속도측정\n",
    "import time\n",
    "lt = []\n",
    "tp = []\n",
    "length = 100*1000*1000\n",
    "for x in range(length):\n",
    "    lt.append(x)\n",
    "for t in range(length):\n",
    "    tp.append(t)\n",
    "tp = tuple(tp)\n",
    "print(type(lt))\n",
    "print(type(tp))"
   ]
  },
  {
   "cell_type": "code",
   "execution_count": 11,
   "id": "e203d49d-8b49-4adf-8243-c783f1b9e112",
   "metadata": {},
   "outputs": [
    {
     "name": "stdout",
     "output_type": "stream",
     "text": [
      "4.669153690338135\n"
     ]
    }
   ],
   "source": [
    "import time\n",
    "start = time.time()\n",
    "for x in lt:\n",
    "    lts = [1,2,3,4,5]\n",
    "print(time.time() - start)\n",
    "#AMD64 인텔"
   ]
  },
  {
   "cell_type": "code",
   "execution_count": 12,
   "id": "d69186d9-f9fb-46ec-a959-d9a22b7a46f3",
   "metadata": {},
   "outputs": [
    {
     "name": "stdout",
     "output_type": "stream",
     "text": [
      "2.48081111907959\n"
     ]
    }
   ],
   "source": [
    "import time\n",
    "start = time.time()\n",
    "for x in tp:\n",
    "    tps = (1,2,3,4,5)\n",
    "print(time.time() - start)\n",
    "\n",
    "#ARM 애플 * 전용만써야함"
   ]
  },
  {
   "cell_type": "code",
   "execution_count": 13,
   "id": "49c964e4-910c-4bd1-ac9f-6923f92acded",
   "metadata": {},
   "outputs": [
    {
     "name": "stdout",
     "output_type": "stream",
     "text": [
      "Requirement already satisfied: tqdm in /Library/Frameworks/Python.framework/Versions/3.13/lib/python3.13/site-packages (4.67.1)\n"
     ]
    }
   ],
   "source": [
    "!pip install tqdm"
   ]
  },
  {
   "cell_type": "code",
   "execution_count": 28,
   "id": "95e8a532-3fff-4b86-9cd3-8cfbad696237",
   "metadata": {},
   "outputs": [
    {
     "name": "stderr",
     "output_type": "stream",
     "text": [
      "100%|█████████████████████████████████████████| 100/100 [00:10<00:00,  9.48it/s]\n"
     ]
    }
   ],
   "source": [
    "from tqdm import tqdm \n",
    "import time as tt\n",
    "for x in tqdm(range(100)):\n",
    "    pass\n",
    "    tt.sleep(0.1)"
   ]
  },
  {
   "cell_type": "code",
   "execution_count": 32,
   "id": "dffd138b-7099-4547-b5e9-010d98e29eab",
   "metadata": {},
   "outputs": [
    {
     "name": "stdout",
     "output_type": "stream",
     "text": [
      "최대가 : 152817000.0, 최소가 : 149809000, 시작가 : 152630000.0,변화폭 : 3008000.0\n",
      "상승장\n"
     ]
    }
   ],
   "source": [
    "# 비트코인시세로 상승장 하강장 구분하기 (하루 24시 기준)\n",
    "import requests as req\n",
    "url = 'https://api.bithumb.com/public/ticker/ALL_KRW'\n",
    "gdata = req.get(url).json()\n",
    "btc = gdata['data']['BTC']\n",
    "maxp = float(btc['max_price']) # 최대가\n",
    "minp = btc['min_price'] # 최소가\n",
    "openp = float(btc['opening_price']) # 시작가\n",
    "bandp = float(maxp) - float(minp) #변화폭\n",
    "print(f'최대가 : {maxp}, 최소가 : {minp}, 시작가 : {openp},변화폭 : {bandp}')\n",
    "if (openp + bandp) > maxp :\n",
    "    print(\"상승장\")\n",
    "else :\n",
    "    print(\"하강장\")\n"
   ]
  },
  {
   "cell_type": "code",
   "execution_count": 31,
   "id": "d6e7843d-6711-4a30-967a-83ae360df96c",
   "metadata": {},
   "outputs": [
    {
     "name": "stdout",
     "output_type": "stream",
     "text": [
      "149960000\n"
     ]
    }
   ],
   "source": [
    "import requests as req\n",
    "url = 'https://api.bithumb.com/v1/candles/minutes/1?market=KRW-BTC&count=1'\n",
    "btc_data = req.get(url).json()\n",
    "\n",
    "print(btc_data[0]['trade_price']) #1분 거래가"
   ]
  },
  {
   "cell_type": "code",
   "execution_count": 8,
   "id": "420d907a-c339-494c-9cb8-f396d00969d4",
   "metadata": {},
   "outputs": [
    {
     "name": "stdout",
     "output_type": "stream",
     "text": [
      "2 2x1=2\n",
      "4 2x2=4\n",
      "6 2x3=6\n",
      "8 2x4=8\n",
      "10 2x5=10\n",
      "12 2x6=12\n",
      "14 2x7=14\n",
      "16 2x8=16\n",
      "18 2x9=18\n"
     ]
    }
   ],
   "source": [
    "# 구구단\n",
    "# 2단\n",
    "for i in range(1,10) :\n",
    "    print(2*i, end=' ')\n",
    "    print(f'2x{i}={2*i}')\n",
    "    "
   ]
  },
  {
   "cell_type": "code",
   "execution_count": 17,
   "id": "4400b88e-4c74-45ff-8846-292b543ba65d",
   "metadata": {},
   "outputs": [
    {
     "name": "stdout",
     "output_type": "stream",
     "text": [
      "2단\n",
      "2x1=2\n",
      "2x2=4\n",
      "2x3=6\n",
      "2x4=8\n",
      "2x5=10\n",
      "2x6=12\n",
      "2x7=14\n",
      "2x8=16\n",
      "2x9=18\n",
      " \n",
      "3단\n",
      "3x1=3\n",
      "3x2=6\n",
      "3x3=9\n",
      "3x4=12\n",
      "3x5=15\n",
      "3x6=18\n",
      "3x7=21\n",
      "3x8=24\n",
      "3x9=27\n",
      " \n",
      "4단\n",
      "4x1=4\n",
      "4x2=8\n",
      "4x3=12\n",
      "4x4=16\n",
      "4x5=20\n",
      "4x6=24\n",
      "4x7=28\n",
      "4x8=32\n",
      "4x9=36\n",
      " \n",
      "5단\n",
      "5x1=5\n",
      "5x2=10\n",
      "5x3=15\n",
      "5x4=20\n",
      "5x5=25\n",
      "5x6=30\n",
      "5x7=35\n",
      "5x8=40\n",
      "5x9=45\n",
      " \n",
      "6단\n",
      "6x1=6\n",
      "6x2=12\n",
      "6x3=18\n",
      "6x4=24\n",
      "6x5=30\n",
      "6x6=36\n",
      "6x7=42\n",
      "6x8=48\n",
      "6x9=54\n",
      " \n",
      "7단\n",
      "7x1=7\n",
      "7x2=14\n",
      "7x3=21\n",
      "7x4=28\n",
      "7x5=35\n",
      "7x6=42\n",
      "7x7=49\n",
      "7x8=56\n",
      "7x9=63\n",
      " \n",
      "8단\n",
      "8x1=8\n",
      "8x2=16\n",
      "8x3=24\n",
      "8x4=32\n",
      "8x5=40\n",
      "8x6=48\n",
      "8x7=56\n",
      "8x8=64\n",
      "8x9=72\n",
      " \n",
      "9단\n",
      "9x1=9\n",
      "9x2=18\n",
      "9x3=27\n",
      "9x4=36\n",
      "9x5=45\n",
      "9x6=54\n",
      "9x7=63\n",
      "9x8=72\n",
      "9x9=81\n",
      " \n"
     ]
    }
   ],
   "source": [
    "# 구구단\n",
    "# 2단~9단 까지\n",
    "for i in range(2,10) :\n",
    "    print(f'{i}단')\n",
    "    for d in range(1,10) :\n",
    "     print(f'{i}x{d}={i*d}')\n",
    "    print(\" \")"
   ]
  },
  {
   "cell_type": "markdown",
   "id": "e4c4a824-6cf4-4f0f-831f-8e2a4a2ff239",
   "metadata": {},
   "source": [
    "### 리스트 컴프리헨션"
   ]
  },
  {
   "cell_type": "code",
   "execution_count": 21,
   "id": "513217b9-9c44-41b1-aa97-6a2c3f15f9d3",
   "metadata": {},
   "outputs": [
    {
     "name": "stdout",
     "output_type": "stream",
     "text": [
      "[3, 6, 9, 12]\n"
     ]
    }
   ],
   "source": [
    "# 기본적인 리스트에 값 넣기\n",
    "a = [1,2,3,4]\n",
    "result = []\n",
    "for num in a :\n",
    "    result.append(num*3)\n",
    "print(result)"
   ]
  },
  {
   "cell_type": "code",
   "execution_count": 22,
   "id": "a2438579-119d-4dd5-8f48-367163a0f89a",
   "metadata": {},
   "outputs": [
    {
     "data": {
      "text/plain": [
       "[3, 6, 9, 12]"
      ]
     },
     "execution_count": 22,
     "metadata": {},
     "output_type": "execute_result"
    }
   ],
   "source": [
    "# 리스트 컴프리헨션\n",
    "[num*3 for num in [1,2,3,4]]"
   ]
  },
  {
   "cell_type": "code",
   "execution_count": 23,
   "id": "b291e77d-ea6a-4766-90b2-1a8c53553a94",
   "metadata": {},
   "outputs": [],
   "source": [
    "#p147 예제 한번 해보기"
   ]
  },
  {
   "cell_type": "code",
   "execution_count": 24,
   "id": "63bec440-7bd0-4b8e-be12-8476081c3dfd",
   "metadata": {},
   "outputs": [
    {
     "data": {
      "text/plain": [
       "[0, 1, 2, 3, 4, 5, 6, 7, 8, 9]"
      ]
     },
     "execution_count": 24,
     "metadata": {},
     "output_type": "execute_result"
    }
   ],
   "source": [
    "# 테스트 1\n",
    "# list(range(10))\n",
    "[x for x in range(10)]"
   ]
  },
  {
   "cell_type": "code",
   "execution_count": 25,
   "id": "e7c667bc-a0ec-4587-88e4-4d023f9d0949",
   "metadata": {},
   "outputs": [
    {
     "name": "stdout",
     "output_type": "stream",
     "text": [
      "[0, 1, 2, 3, 4, 5, 6, 7, 8, 9]\n"
     ]
    }
   ],
   "source": [
    "res = []\n",
    "for x in range(10):\n",
    "    res.append(x)\n",
    "print(res)"
   ]
  },
  {
   "cell_type": "code",
   "execution_count": 27,
   "id": "41159686-db95-49dd-8e1f-5a782050528b",
   "metadata": {},
   "outputs": [
    {
     "name": "stdout",
     "output_type": "stream",
     "text": [
      "[0, 2, 4, 6, 8]\n"
     ]
    }
   ],
   "source": [
    "res = []\n",
    "for x in range(10):\n",
    "    if x%2==0:\n",
    "        res.append(x)\n",
    "print(res)"
   ]
  },
  {
   "cell_type": "code",
   "execution_count": 29,
   "id": "892e043c-947a-46df-89a4-2860d2a61958",
   "metadata": {},
   "outputs": [
    {
     "data": {
      "text/plain": [
       "[0, 2, 4, 6, 8]"
      ]
     },
     "execution_count": 29,
     "metadata": {},
     "output_type": "execute_result"
    }
   ],
   "source": [
    "[x for x in range(10) if x%2==0]"
   ]
  },
  {
   "cell_type": "code",
   "execution_count": 36,
   "id": "44eaafd0-ed3e-4bbc-ad3c-7661c774ca78",
   "metadata": {},
   "outputs": [
    {
     "name": "stdout",
     "output_type": "stream",
     "text": [
      "[9, 18, 27, 36, 45, 54, 63, 72, 81, 9, 18, 27, 36, 45, 54, 63, 72, 81, 9, 18, 27, 36, 45, 54, 63, 72, 81, 9, 18, 27, 36, 45, 54, 63, 72, 81, 9, 18, 27, 36, 45, 54, 63, 72, 81, 9, 18, 27, 36, 45, 54, 63, 72, 81, 9, 18, 27, 36, 45, 54, 63, 72, 81, 9, 18, 27, 36, 45, 54, 63, 72, 81]\n"
     ]
    }
   ],
   "source": [
    "result = [ i * j for x in range(2,10) for j in range(1,10)]\n",
    "print(result)"
   ]
  },
  {
   "cell_type": "code",
   "execution_count": 44,
   "id": "b39005d4-4cbb-4c30-a01c-e4fcaff61a60",
   "metadata": {},
   "outputs": [
    {
     "name": "stdout",
     "output_type": "stream",
     "text": [
      "9x1=9\n",
      "9x2=18\n",
      "9x3=27\n",
      "9x4=36\n",
      "9x5=45\n",
      "9x6=54\n",
      "9x7=63\n",
      "9x8=72\n",
      "9x9=81\n",
      "9x1=9\n",
      "9x2=18\n",
      "9x3=27\n",
      "9x4=36\n",
      "9x5=45\n",
      "9x6=54\n",
      "9x7=63\n",
      "9x8=72\n",
      "9x9=81\n",
      "9x1=9\n",
      "9x2=18\n",
      "9x3=27\n",
      "9x4=36\n",
      "9x5=45\n",
      "9x6=54\n",
      "9x7=63\n",
      "9x8=72\n",
      "9x9=81\n",
      "9x1=9\n",
      "9x2=18\n",
      "9x3=27\n",
      "9x4=36\n",
      "9x5=45\n",
      "9x6=54\n",
      "9x7=63\n",
      "9x8=72\n",
      "9x9=81\n",
      "9x1=9\n",
      "9x2=18\n",
      "9x3=27\n",
      "9x4=36\n",
      "9x5=45\n",
      "9x6=54\n",
      "9x7=63\n",
      "9x8=72\n",
      "9x9=81\n",
      "9x1=9\n",
      "9x2=18\n",
      "9x3=27\n",
      "9x4=36\n",
      "9x5=45\n",
      "9x6=54\n",
      "9x7=63\n",
      "9x8=72\n",
      "9x9=81\n",
      "9x1=9\n",
      "9x2=18\n",
      "9x3=27\n",
      "9x4=36\n",
      "9x5=45\n",
      "9x6=54\n",
      "9x7=63\n",
      "9x8=72\n",
      "9x9=81\n",
      "9x1=9\n",
      "9x2=18\n",
      "9x3=27\n",
      "9x4=36\n",
      "9x5=45\n",
      "9x6=54\n",
      "9x7=63\n",
      "9x8=72\n",
      "9x9=81\n"
     ]
    }
   ],
   "source": [
    "for a in[f'{i}x{j}={i*j}' for x in range(2,10) for j in range(1,10)] :\n",
    "    print(a)"
   ]
  },
  {
   "cell_type": "code",
   "execution_count": null,
   "id": "d6a12539-d3b1-477f-b25b-82f6280c555f",
   "metadata": {},
   "outputs": [],
   "source": []
  }
 ],
 "metadata": {
  "kernelspec": {
   "display_name": "Python 3 (ipykernel)",
   "language": "python",
   "name": "python3"
  },
  "language_info": {
   "codemirror_mode": {
    "name": "ipython",
    "version": 3
   },
   "file_extension": ".py",
   "mimetype": "text/x-python",
   "name": "python",
   "nbconvert_exporter": "python",
   "pygments_lexer": "ipython3",
   "version": "3.13.1"
  }
 },
 "nbformat": 4,
 "nbformat_minor": 5
}
