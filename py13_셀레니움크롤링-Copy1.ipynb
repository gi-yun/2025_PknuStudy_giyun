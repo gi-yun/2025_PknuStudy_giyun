{
 "cells": [
  {
   "cell_type": "code",
   "execution_count": 18,
   "id": "6df9823e-4507-4644-b658-a5b36f3adfaf",
   "metadata": {},
   "outputs": [
    {
     "name": "stdout",
     "output_type": "stream",
     "text": [
      "Collecting sqlalchemy\n",
      "  Downloading sqlalchemy-2.0.40-cp313-cp313-win_amd64.whl.metadata (9.9 kB)\n",
      "Collecting greenlet>=1 (from sqlalchemy)\n",
      "  Downloading greenlet-3.1.1-cp313-cp313-win_amd64.whl.metadata (3.9 kB)\n",
      "Requirement already satisfied: typing-extensions>=4.6.0 in c:\\users\\admin\\appdata\\local\\programs\\python\\python313\\lib\\site-packages (from sqlalchemy) (4.12.2)\n",
      "Downloading sqlalchemy-2.0.40-cp313-cp313-win_amd64.whl (2.1 MB)\n",
      "   ---------------------------------------- 0.0/2.1 MB ? eta -:--:--\n",
      "   ---------------------------------------- 2.1/2.1 MB 59.2 MB/s eta 0:00:00\n",
      "Downloading greenlet-3.1.1-cp313-cp313-win_amd64.whl (299 kB)\n",
      "Installing collected packages: greenlet, sqlalchemy\n",
      "Successfully installed greenlet-3.1.1 sqlalchemy-2.0.40\n"
     ]
    }
   ],
   "source": [
    "# ! pip install selenium"
   ]
  },
  {
   "cell_type": "code",
   "execution_count": 2,
   "id": "bdc35017-2d3b-4705-ab82-7792a9f01b09",
   "metadata": {},
   "outputs": [],
   "source": [
    "from selenium import webdriver\n",
    "from selenium.webdriver.common.action_chains import ActionChains\n",
    "from selenium.webdriver.chrome.service import Service\n",
    "from selenium.webdriver.chrome.options import Options\n",
    "from selenium.webdriver.common.keys import Keys\n",
    "from selenium.webdriver.common.by import By\n",
    "from datetime import datetime\n",
    "from bs4 import BeautifulSoup as bs\n",
    "from datetime import datetime\n",
    "import pandas as pd\n",
    "import time\n"
   ]
  },
  {
   "cell_type": "code",
   "execution_count": 3,
   "id": "e0157963-e33a-4d6b-8444-4ea0aa7251c1",
   "metadata": {
    "scrolled": true
   },
   "outputs": [
    {
     "name": "stdout",
     "output_type": "stream",
     "text": [
      "Starbucks Korea\n"
     ]
    }
   ],
   "source": [
    "# Chrome 옵션 설정\n",
    "options = Options()\n",
    "options.binary_location = \"./chrome-win64/chrome.exe\"  # chrome 경로 설정\n",
    "options.add_argument(\"--no--sandbox\") # sandbox 설정\n",
    "options.add_argument(\"--disable-dev-shm-usage\")  # 공유메모리 설정\n",
    "options.add_argument(\"--window-size=1920,1080\") # (화면크기)해상도 설정, 반응형 웹 대비\n",
    "# options.add_argument(\"--disable-gpu\") # GPU 비활성화 \n",
    "\n",
    "# ChromeDriver 설정\n",
    "service = Service(\"chromedriver.exe\")\n",
    "driver = webdriver.Chrome(service=service, options=options)\n",
    "driver.get(\"https://www.starbucks.co.kr/index.do\")\n",
    "print(driver.title)\n",
    "\n",
    "# 요소찾기\n",
    "hover_element = driver.find_element(By.CSS_SELECTOR, \"#gnb > div > nav > div > ul > li.gnb_nav03 > h2 > a\")\n",
    "menu_option = driver.find_element(By.CSS_SELECTOR, \"#gnb > div > nav > div > ul > li.gnb_nav03 > div > div > div > ul:nth-child(1) > li.gnb_sub_ttl > a\")\n",
    "\n",
    "# 마우스 호버 액션\n",
    "actions = ActionChains(driver)\n",
    "actions.move_to_element(hover_element).perform() # 마우스 올린거 처럼\n",
    "\n",
    "# 약간의 시간을 기다린 후 클릭\n",
    "time.sleep(1)\n",
    "menu_option.click()\n",
    "time.sleep(5)\n",
    "\n",
    "# 입력창 선택 후 검색\n",
    "driver.find_element(By.CSS_SELECTOR, \"#container > div > form > fieldset > div > section > article.find_store_cont > article > header.loca_search > h3 > a\").click() # '지역검색' 을 선택\n",
    "time.sleep(1)\n",
    "driver.find_element(By.CSS_SELECTOR, \"#container > div > form > fieldset > div > section > article.find_store_cont > article > article:nth-child(4) > div.loca_step1 > div.loca_step1_cont > ul > li:nth-child(6) > a\").click()\n",
    "time.sleep(1)\n",
    "driver.find_element(By.CSS_SELECTOR, \"#mCSB_2_container > ul > li:nth-child(1) > a\").click()\n",
    "time.sleep(1)\n",
    "\n",
    "html = driver.page_source\n",
    "# print(html)\n",
    "driver.quit() # 브라우저 종료"
   ]
  },
  {
   "cell_type": "code",
   "execution_count": 4,
   "id": "8ba50994-204c-4cb2-9b17-7a8a9a8fa49a",
   "metadata": {},
   "outputs": [
    {
     "name": "stdout",
     "output_type": "stream",
     "text": [
      "부산광역시 금정구 중앙대로 1989 (남산동)1522-3232 리저브 매장 2번\n",
      "금정남산동DT / 35.2621786292157 / 129.091325043351\n",
      "=========================\n",
      "부산광역시 금정구 중앙대로 1989 (남산동)1522-3232\n"
     ]
    }
   ],
   "source": [
    "# 현재 페이지 정보 가져오기\n",
    "star_list=[]\n",
    "soup = bs(html, 'html.parser')\n",
    "# 본문내용 가져오기\n",
    "contents = soup.select(\"#mCSB_3_container > ul > li\")\n",
    "\n",
    "test = contents[0]\n",
    "print(test.select_one('p.result_details').text, test.select_one('i.pin_generalDT').text)\n",
    "print(test['data-name'],'/' ,test['data-lat'], '/' ,test['data-long'])\n",
    "\n",
    "\n",
    "\n",
    "for c in contents:\n",
    "    result = (c['data-name'], c['data-lat'], c['data-long'], c.select_one('p.result_details').text, c.select_one('i')['class'][0])\n",
    "    star_list.append(result)\n",
    "# print(star_list)\n",
    "\n",
    "print(\"=========================\")\n",
    "print(star_list[0][3])\n",
    "\n"
   ]
  },
  {
   "cell_type": "code",
   "execution_count": 10,
   "id": "d83218aa-aeef-4555-9159-38671ef0846b",
   "metadata": {},
   "outputs": [
    {
     "data": {
      "text/html": [
       "<div>\n",
       "<style scoped>\n",
       "    .dataframe tbody tr th:only-of-type {\n",
       "        vertical-align: middle;\n",
       "    }\n",
       "\n",
       "    .dataframe tbody tr th {\n",
       "        vertical-align: top;\n",
       "    }\n",
       "\n",
       "    .dataframe thead th {\n",
       "        text-align: right;\n",
       "    }\n",
       "</style>\n",
       "<table border=\"1\" class=\"dataframe\">\n",
       "  <thead>\n",
       "    <tr style=\"text-align: right;\">\n",
       "      <th></th>\n",
       "      <th>name</th>\n",
       "      <th>위도</th>\n",
       "      <th>경도</th>\n",
       "      <th>주소</th>\n",
       "      <th>타입</th>\n",
       "    </tr>\n",
       "  </thead>\n",
       "  <tbody>\n",
       "    <tr>\n",
       "      <th>0</th>\n",
       "      <td>금정남산동DT</td>\n",
       "      <td>35.2621786292157</td>\n",
       "      <td>129.091325043351</td>\n",
       "      <td>부산광역시 금정구 중앙대로 1989 (남산동)1522-3232</td>\n",
       "      <td>pin_generalDT</td>\n",
       "    </tr>\n",
       "    <tr>\n",
       "      <th>1</th>\n",
       "      <td>금정구청DT</td>\n",
       "      <td>35.2388135211636</td>\n",
       "      <td>129.092985849499</td>\n",
       "      <td>부산광역시 금정구 중앙대로 1730 (부곡동)1522-3232</td>\n",
       "      <td>pin_generalDT</td>\n",
       "    </tr>\n",
       "    <tr>\n",
       "      <th>2</th>\n",
       "      <td>온천장역DT</td>\n",
       "      <td>35.224006</td>\n",
       "      <td>129.08656</td>\n",
       "      <td>부산광역시 금정구 식물원로 13 (장전동)1522-3232</td>\n",
       "      <td>pin_generalDT</td>\n",
       "    </tr>\n",
       "    <tr>\n",
       "      <th>3</th>\n",
       "      <td>부산대정문</td>\n",
       "      <td>35.23212165114605</td>\n",
       "      <td>129.0844959292725</td>\n",
       "      <td>부산광역시 금정구 부산대학로64번길 12 (장전동)1522-3232</td>\n",
       "      <td>pin_general</td>\n",
       "    </tr>\n",
       "    <tr>\n",
       "      <th>4</th>\n",
       "      <td>부산대역</td>\n",
       "      <td>35.23052180284867</td>\n",
       "      <td>129.08869433543111</td>\n",
       "      <td>부산광역시 금정구 장전로12번길 64, 1~4층 (장전동)1522-3232</td>\n",
       "      <td>pin_general</td>\n",
       "    </tr>\n",
       "  </tbody>\n",
       "</table>\n",
       "</div>"
      ],
      "text/plain": [
       "      name                 위도                  경도  \\\n",
       "0  금정남산동DT   35.2621786292157    129.091325043351   \n",
       "1   금정구청DT   35.2388135211636    129.092985849499   \n",
       "2   온천장역DT          35.224006           129.08656   \n",
       "3    부산대정문  35.23212165114605   129.0844959292725   \n",
       "4     부산대역  35.23052180284867  129.08869433543111   \n",
       "\n",
       "                                          주소             타입  \n",
       "0         부산광역시 금정구 중앙대로 1989 (남산동)1522-3232  pin_generalDT  \n",
       "1         부산광역시 금정구 중앙대로 1730 (부곡동)1522-3232  pin_generalDT  \n",
       "2           부산광역시 금정구 식물원로 13 (장전동)1522-3232  pin_generalDT  \n",
       "3      부산광역시 금정구 부산대학로64번길 12 (장전동)1522-3232    pin_general  \n",
       "4  부산광역시 금정구 장전로12번길 64, 1~4층 (장전동)1522-3232    pin_general  "
      ]
     },
     "execution_count": 10,
     "metadata": {},
     "output_type": "execute_result"
    }
   ],
   "source": [
    "columns = ['name','위도', '경도','주소','타입']\n",
    "sb = pd.DataFrame(star_list, columns=columns)\n",
    "sb.head()"
   ]
  },
  {
   "cell_type": "code",
   "execution_count": 12,
   "id": "c3214db7-bee8-4f76-b6f8-2611a3eb9df2",
   "metadata": {},
   "outputs": [
    {
     "name": "stdout",
     "output_type": "stream",
     "text": [
      "<class 'pandas.core.frame.DataFrame'>\n",
      "RangeIndex: 144 entries, 0 to 143\n",
      "Data columns (total 5 columns):\n",
      " #   Column  Non-Null Count  Dtype \n",
      "---  ------  --------------  ----- \n",
      " 0   name    144 non-null    object\n",
      " 1   위도      144 non-null    object\n",
      " 2   경도      144 non-null    object\n",
      " 3   주소      144 non-null    object\n",
      " 4   타입      144 non-null    object\n",
      "dtypes: object(5)\n",
      "memory usage: 5.8+ KB\n"
     ]
    }
   ],
   "source": [
    "sb.info()"
   ]
  },
  {
   "cell_type": "code",
   "execution_count": 15,
   "id": "5c8f87e7-7cff-4efc-83e2-881b59fce22b",
   "metadata": {},
   "outputs": [
    {
     "name": "stdout",
     "output_type": "stream",
     "text": [
      "csv 파일 생성완료\n"
     ]
    }
   ],
   "source": [
    "timestamp = datetime.now().strftime(\"%Y%m%d%H%M%S\")\n",
    "csv_path = f'starbuck_{timestamp}.csv'\n",
    "sb.to_csv(csv_path, index=True)\n",
    "print(\"csv 파일 생성완료\")"
   ]
  },
  {
   "cell_type": "code",
   "execution_count": null,
   "id": "50917b61-f743-48b1-a60c-9f4cb0a510dc",
   "metadata": {},
   "outputs": [],
   "source": [
    "# ! pip install sqlalchemy"
   ]
  },
  {
   "cell_type": "code",
   "execution_count": 29,
   "id": "4012ad03-698a-4d3a-9fd4-a99ecafab451",
   "metadata": {
    "scrolled": true
   },
   "outputs": [
    {
     "name": "stdout",
     "output_type": "stream",
     "text": [
      "root:1234@210.119.14.56:3306/jh0521\n"
     ]
    },
    {
     "data": {
      "text/html": [
       "<div>\n",
       "<style scoped>\n",
       "    .dataframe tbody tr th:only-of-type {\n",
       "        vertical-align: middle;\n",
       "    }\n",
       "\n",
       "    .dataframe tbody tr th {\n",
       "        vertical-align: top;\n",
       "    }\n",
       "\n",
       "    .dataframe thead th {\n",
       "        text-align: right;\n",
       "    }\n",
       "</style>\n",
       "<table border=\"1\" class=\"dataframe\">\n",
       "  <thead>\n",
       "    <tr style=\"text-align: right;\">\n",
       "      <th></th>\n",
       "      <th>storename</th>\n",
       "      <th>location</th>\n",
       "      <th>type</th>\n",
       "      <th>latitude</th>\n",
       "      <th>longitude</th>\n",
       "    </tr>\n",
       "  </thead>\n",
       "  <tbody>\n",
       "    <tr>\n",
       "      <th>0</th>\n",
       "      <td>금정남산동DT</td>\n",
       "      <td>부산광역시 금정구 중앙대로 1989 (남산동)1522-3232</td>\n",
       "      <td>pin_generalDT</td>\n",
       "      <td>35.262179</td>\n",
       "      <td>129.091325</td>\n",
       "    </tr>\n",
       "    <tr>\n",
       "      <th>1</th>\n",
       "      <td>금정구청DT</td>\n",
       "      <td>부산광역시 금정구 중앙대로 1730 (부곡동)1522-3232</td>\n",
       "      <td>pin_generalDT</td>\n",
       "      <td>35.238814</td>\n",
       "      <td>129.092986</td>\n",
       "    </tr>\n",
       "    <tr>\n",
       "      <th>2</th>\n",
       "      <td>온천장역DT</td>\n",
       "      <td>부산광역시 금정구 식물원로 13 (장전동)1522-3232</td>\n",
       "      <td>pin_generalDT</td>\n",
       "      <td>35.224006</td>\n",
       "      <td>129.086560</td>\n",
       "    </tr>\n",
       "    <tr>\n",
       "      <th>3</th>\n",
       "      <td>부산대정문</td>\n",
       "      <td>부산광역시 금정구 부산대학로64번길 12 (장전동)1522-3232</td>\n",
       "      <td>pin_general</td>\n",
       "      <td>35.232122</td>\n",
       "      <td>129.084496</td>\n",
       "    </tr>\n",
       "    <tr>\n",
       "      <th>4</th>\n",
       "      <td>부산대역</td>\n",
       "      <td>부산광역시 금정구 장전로12번길 64, 1~4층 (장전동)1522-3232</td>\n",
       "      <td>pin_general</td>\n",
       "      <td>35.230522</td>\n",
       "      <td>129.088694</td>\n",
       "    </tr>\n",
       "  </tbody>\n",
       "</table>\n",
       "</div>"
      ],
      "text/plain": [
       "  storename                                   location           type  \\\n",
       "0   금정남산동DT         부산광역시 금정구 중앙대로 1989 (남산동)1522-3232  pin_generalDT   \n",
       "1    금정구청DT         부산광역시 금정구 중앙대로 1730 (부곡동)1522-3232  pin_generalDT   \n",
       "2    온천장역DT           부산광역시 금정구 식물원로 13 (장전동)1522-3232  pin_generalDT   \n",
       "3     부산대정문      부산광역시 금정구 부산대학로64번길 12 (장전동)1522-3232    pin_general   \n",
       "4      부산대역  부산광역시 금정구 장전로12번길 64, 1~4층 (장전동)1522-3232    pin_general   \n",
       "\n",
       "    latitude   longitude  \n",
       "0  35.262179  129.091325  \n",
       "1  35.238814  129.092986  \n",
       "2  35.224006  129.086560  \n",
       "3  35.232122  129.084496  \n",
       "4  35.230522  129.088694  "
      ]
     },
     "execution_count": 29,
     "metadata": {},
     "output_type": "execute_result"
    }
   ],
   "source": [
    "# mysql 에서 데이터 가져와 dataframe 로 변환하기\n",
    "from sqlalchemy import create_engine\n",
    "\n",
    "user = \"root\"\n",
    "password = \"1234\"\n",
    "host = \"210.119.14.56\"\n",
    "port = \"3306\"\n",
    "database = \"jh0521\"\n",
    "\n",
    "total = f\"{user}:{password}@{host}:{port}/{database}\"\n",
    "print(total)\n",
    "engine = create_engine('mysql+mysqlconnector://'+total)\n",
    "\n",
    "query = \"SELECT * FROM STAR_STORE\"\n",
    "df = pd.read_sql(query,engine)\n",
    "df.head()"
   ]
  },
  {
   "cell_type": "code",
   "execution_count": 28,
   "id": "f118acfd-fead-4ffe-9606-5a71dac04406",
   "metadata": {},
   "outputs": [
    {
     "name": "stdout",
     "output_type": "stream",
     "text": [
      "root:1234@210.119.14.56:3306/jh0521\n"
     ]
    },
    {
     "data": {
      "text/html": [
       "<div>\n",
       "<style scoped>\n",
       "    .dataframe tbody tr th:only-of-type {\n",
       "        vertical-align: middle;\n",
       "    }\n",
       "\n",
       "    .dataframe tbody tr th {\n",
       "        vertical-align: top;\n",
       "    }\n",
       "\n",
       "    .dataframe thead th {\n",
       "        text-align: right;\n",
       "    }\n",
       "</style>\n",
       "<table border=\"1\" class=\"dataframe\">\n",
       "  <thead>\n",
       "    <tr style=\"text-align: right;\">\n",
       "      <th></th>\n",
       "      <th>storename</th>\n",
       "      <th>location</th>\n",
       "      <th>type</th>\n",
       "      <th>latitude</th>\n",
       "      <th>longitude</th>\n",
       "    </tr>\n",
       "  </thead>\n",
       "  <tbody>\n",
       "    <tr>\n",
       "      <th>0</th>\n",
       "      <td>금정남산동DT</td>\n",
       "      <td>부산광역시 금정구 중앙대로 1989 (남산동)1522-3232</td>\n",
       "      <td>pin_generalDT</td>\n",
       "      <td>35.262179</td>\n",
       "      <td>129.091325</td>\n",
       "    </tr>\n",
       "    <tr>\n",
       "      <th>1</th>\n",
       "      <td>금정구청DT</td>\n",
       "      <td>부산광역시 금정구 중앙대로 1730 (부곡동)1522-3232</td>\n",
       "      <td>pin_generalDT</td>\n",
       "      <td>35.238814</td>\n",
       "      <td>129.092986</td>\n",
       "    </tr>\n",
       "    <tr>\n",
       "      <th>2</th>\n",
       "      <td>온천장역DT</td>\n",
       "      <td>부산광역시 금정구 식물원로 13 (장전동)1522-3232</td>\n",
       "      <td>pin_generalDT</td>\n",
       "      <td>35.224006</td>\n",
       "      <td>129.086560</td>\n",
       "    </tr>\n",
       "    <tr>\n",
       "      <th>3</th>\n",
       "      <td>부산대정문</td>\n",
       "      <td>부산광역시 금정구 부산대학로64번길 12 (장전동)1522-3232</td>\n",
       "      <td>pin_general</td>\n",
       "      <td>35.232122</td>\n",
       "      <td>129.084496</td>\n",
       "    </tr>\n",
       "    <tr>\n",
       "      <th>4</th>\n",
       "      <td>부산대역</td>\n",
       "      <td>부산광역시 금정구 장전로12번길 64, 1~4층 (장전동)1522-3232</td>\n",
       "      <td>pin_general</td>\n",
       "      <td>35.230522</td>\n",
       "      <td>129.088694</td>\n",
       "    </tr>\n",
       "  </tbody>\n",
       "</table>\n",
       "</div>"
      ],
      "text/plain": [
       "  storename                                   location           type  \\\n",
       "0   금정남산동DT         부산광역시 금정구 중앙대로 1989 (남산동)1522-3232  pin_generalDT   \n",
       "1    금정구청DT         부산광역시 금정구 중앙대로 1730 (부곡동)1522-3232  pin_generalDT   \n",
       "2    온천장역DT           부산광역시 금정구 식물원로 13 (장전동)1522-3232  pin_generalDT   \n",
       "3     부산대정문      부산광역시 금정구 부산대학로64번길 12 (장전동)1522-3232    pin_general   \n",
       "4      부산대역  부산광역시 금정구 장전로12번길 64, 1~4층 (장전동)1522-3232    pin_general   \n",
       "\n",
       "    latitude   longitude  \n",
       "0  35.262179  129.091325  \n",
       "1  35.238814  129.092986  \n",
       "2  35.224006  129.086560  \n",
       "3  35.232122  129.084496  \n",
       "4  35.230522  129.088694  "
      ]
     },
     "execution_count": 28,
     "metadata": {},
     "output_type": "execute_result"
    }
   ],
   "source": []
  },
  {
   "cell_type": "code",
   "execution_count": null,
   "id": "010b43bb-ec52-4128-9d63-c19e3e01358f",
   "metadata": {},
   "outputs": [],
   "source": []
  }
 ],
 "metadata": {
  "kernelspec": {
   "display_name": "Python 3 (ipykernel)",
   "language": "python",
   "name": "python3"
  },
  "language_info": {
   "codemirror_mode": {
    "name": "ipython",
    "version": 3
   },
   "file_extension": ".py",
   "mimetype": "text/x-python",
   "name": "python",
   "nbconvert_exporter": "python",
   "pygments_lexer": "ipython3",
   "version": "3.13.1"
  }
 },
 "nbformat": 4,
 "nbformat_minor": 5
}
