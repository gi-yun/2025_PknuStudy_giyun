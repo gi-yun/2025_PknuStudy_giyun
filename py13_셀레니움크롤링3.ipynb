{
 "cells": [
  {
   "cell_type": "markdown",
   "id": "41292c17-928f-4b1d-8386-8b30bafacb24",
   "metadata": {},
   "source": [
    "# 부산광역시 인구동태 현황으로 스타벅스 지점과의 연관성 찾기"
   ]
  },
  {
   "cell_type": "code",
   "execution_count": 1,
   "id": "5793ce72-9539-4ae3-ab0b-066cfc28340e",
   "metadata": {},
   "outputs": [],
   "source": [
    "# !pip install matplotlib\n",
    "# !pip install pandas"
   ]
  },
  {
   "cell_type": "code",
   "execution_count": 2,
   "id": "9be5b068-10bd-442c-bef2-0ca586da868f",
   "metadata": {},
   "outputs": [],
   "source": [
    "import matplotlib\n",
    "import matplotlib.pyplot as plt\n",
    "import matplotlib.font_manager as fm\n",
    "import matplotlib.dates as mdates\n",
    "import pandas as pd\n",
    "import numpy as np"
   ]
  },
  {
   "cell_type": "code",
   "execution_count": 3,
   "id": "98b205a8-06bf-4f85-8e3f-cbf06975955d",
   "metadata": {},
   "outputs": [
    {
     "name": "stderr",
     "output_type": "stream",
     "text": [
      "'pwd'은(는) 내부 또는 외부 명령, 실행할 수 있는 프로그램, 또는\n",
      "배치 파일이 아닙니다.\n"
     ]
    }
   ],
   "source": [
    "# !pwd # !dir/w"
   ]
  },
  {
   "cell_type": "code",
   "execution_count": 4,
   "id": "daa075c6-de46-4d5e-b24f-153b24643bcd",
   "metadata": {},
   "outputs": [
    {
     "ename": "FileNotFoundError",
     "evalue": "[Errno 2] No such file or directory: '../ref/부산광역시 주민등록인구통계_20231231.csv'",
     "output_type": "error",
     "traceback": [
      "\u001b[1;31m---------------------------------------------------------------------------\u001b[0m",
      "\u001b[1;31mFileNotFoundError\u001b[0m                         Traceback (most recent call last)",
      "Cell \u001b[1;32mIn[4], line 3\u001b[0m\n\u001b[0;32m      1\u001b[0m file_path \u001b[38;5;241m=\u001b[39m \u001b[38;5;124m'\u001b[39m\u001b[38;5;124m../ref/부산광역시 주민등록인구통계_20231231.csv\u001b[39m\u001b[38;5;124m'\u001b[39m\n\u001b[0;32m      2\u001b[0m \u001b[38;5;66;03m# CSV 파일읽기\u001b[39;00m\n\u001b[1;32m----> 3\u001b[0m ingu_data \u001b[38;5;241m=\u001b[39m \u001b[43mpd\u001b[49m\u001b[38;5;241;43m.\u001b[39;49m\u001b[43mread_csv\u001b[49m\u001b[43m(\u001b[49m\u001b[43mfile_path\u001b[49m\u001b[43m,\u001b[49m\u001b[43m \u001b[49m\u001b[43mencoding\u001b[49m\u001b[38;5;241;43m=\u001b[39;49m\u001b[38;5;124;43m'\u001b[39;49m\u001b[38;5;124;43mEUC-KR\u001b[39;49m\u001b[38;5;124;43m'\u001b[39;49m\u001b[43m)\u001b[49m\n\u001b[0;32m      4\u001b[0m ingu_data \u001b[38;5;241m=\u001b[39m ingu_data[[\u001b[38;5;124m'\u001b[39m\u001b[38;5;124m구군\u001b[39m\u001b[38;5;124m'\u001b[39m,\u001b[38;5;124m'\u001b[39m\u001b[38;5;124m인구수(명)\u001b[39m\u001b[38;5;124m'\u001b[39m]]\n\u001b[0;32m      5\u001b[0m ingu_data \u001b[38;5;241m=\u001b[39m ingu_data\u001b[38;5;241m.\u001b[39msort_values(by\u001b[38;5;241m=\u001b[39m\u001b[38;5;124m'\u001b[39m\u001b[38;5;124m인구수(명)\u001b[39m\u001b[38;5;124m'\u001b[39m, ascending\u001b[38;5;241m=\u001b[39m \u001b[38;5;28;01mFalse\u001b[39;00m )\n",
      "File \u001b[1;32m~\\AppData\\Local\\Programs\\Python\\Python313\\Lib\\site-packages\\pandas\\io\\parsers\\readers.py:1026\u001b[0m, in \u001b[0;36mread_csv\u001b[1;34m(filepath_or_buffer, sep, delimiter, header, names, index_col, usecols, dtype, engine, converters, true_values, false_values, skipinitialspace, skiprows, skipfooter, nrows, na_values, keep_default_na, na_filter, verbose, skip_blank_lines, parse_dates, infer_datetime_format, keep_date_col, date_parser, date_format, dayfirst, cache_dates, iterator, chunksize, compression, thousands, decimal, lineterminator, quotechar, quoting, doublequote, escapechar, comment, encoding, encoding_errors, dialect, on_bad_lines, delim_whitespace, low_memory, memory_map, float_precision, storage_options, dtype_backend)\u001b[0m\n\u001b[0;32m   1013\u001b[0m kwds_defaults \u001b[38;5;241m=\u001b[39m _refine_defaults_read(\n\u001b[0;32m   1014\u001b[0m     dialect,\n\u001b[0;32m   1015\u001b[0m     delimiter,\n\u001b[1;32m   (...)\u001b[0m\n\u001b[0;32m   1022\u001b[0m     dtype_backend\u001b[38;5;241m=\u001b[39mdtype_backend,\n\u001b[0;32m   1023\u001b[0m )\n\u001b[0;32m   1024\u001b[0m kwds\u001b[38;5;241m.\u001b[39mupdate(kwds_defaults)\n\u001b[1;32m-> 1026\u001b[0m \u001b[38;5;28;01mreturn\u001b[39;00m \u001b[43m_read\u001b[49m\u001b[43m(\u001b[49m\u001b[43mfilepath_or_buffer\u001b[49m\u001b[43m,\u001b[49m\u001b[43m \u001b[49m\u001b[43mkwds\u001b[49m\u001b[43m)\u001b[49m\n",
      "File \u001b[1;32m~\\AppData\\Local\\Programs\\Python\\Python313\\Lib\\site-packages\\pandas\\io\\parsers\\readers.py:620\u001b[0m, in \u001b[0;36m_read\u001b[1;34m(filepath_or_buffer, kwds)\u001b[0m\n\u001b[0;32m    617\u001b[0m _validate_names(kwds\u001b[38;5;241m.\u001b[39mget(\u001b[38;5;124m\"\u001b[39m\u001b[38;5;124mnames\u001b[39m\u001b[38;5;124m\"\u001b[39m, \u001b[38;5;28;01mNone\u001b[39;00m))\n\u001b[0;32m    619\u001b[0m \u001b[38;5;66;03m# Create the parser.\u001b[39;00m\n\u001b[1;32m--> 620\u001b[0m parser \u001b[38;5;241m=\u001b[39m \u001b[43mTextFileReader\u001b[49m\u001b[43m(\u001b[49m\u001b[43mfilepath_or_buffer\u001b[49m\u001b[43m,\u001b[49m\u001b[43m \u001b[49m\u001b[38;5;241;43m*\u001b[39;49m\u001b[38;5;241;43m*\u001b[39;49m\u001b[43mkwds\u001b[49m\u001b[43m)\u001b[49m\n\u001b[0;32m    622\u001b[0m \u001b[38;5;28;01mif\u001b[39;00m chunksize \u001b[38;5;129;01mor\u001b[39;00m iterator:\n\u001b[0;32m    623\u001b[0m     \u001b[38;5;28;01mreturn\u001b[39;00m parser\n",
      "File \u001b[1;32m~\\AppData\\Local\\Programs\\Python\\Python313\\Lib\\site-packages\\pandas\\io\\parsers\\readers.py:1620\u001b[0m, in \u001b[0;36mTextFileReader.__init__\u001b[1;34m(self, f, engine, **kwds)\u001b[0m\n\u001b[0;32m   1617\u001b[0m     \u001b[38;5;28mself\u001b[39m\u001b[38;5;241m.\u001b[39moptions[\u001b[38;5;124m\"\u001b[39m\u001b[38;5;124mhas_index_names\u001b[39m\u001b[38;5;124m\"\u001b[39m] \u001b[38;5;241m=\u001b[39m kwds[\u001b[38;5;124m\"\u001b[39m\u001b[38;5;124mhas_index_names\u001b[39m\u001b[38;5;124m\"\u001b[39m]\n\u001b[0;32m   1619\u001b[0m \u001b[38;5;28mself\u001b[39m\u001b[38;5;241m.\u001b[39mhandles: IOHandles \u001b[38;5;241m|\u001b[39m \u001b[38;5;28;01mNone\u001b[39;00m \u001b[38;5;241m=\u001b[39m \u001b[38;5;28;01mNone\u001b[39;00m\n\u001b[1;32m-> 1620\u001b[0m \u001b[38;5;28mself\u001b[39m\u001b[38;5;241m.\u001b[39m_engine \u001b[38;5;241m=\u001b[39m \u001b[38;5;28;43mself\u001b[39;49m\u001b[38;5;241;43m.\u001b[39;49m\u001b[43m_make_engine\u001b[49m\u001b[43m(\u001b[49m\u001b[43mf\u001b[49m\u001b[43m,\u001b[49m\u001b[43m \u001b[49m\u001b[38;5;28;43mself\u001b[39;49m\u001b[38;5;241;43m.\u001b[39;49m\u001b[43mengine\u001b[49m\u001b[43m)\u001b[49m\n",
      "File \u001b[1;32m~\\AppData\\Local\\Programs\\Python\\Python313\\Lib\\site-packages\\pandas\\io\\parsers\\readers.py:1880\u001b[0m, in \u001b[0;36mTextFileReader._make_engine\u001b[1;34m(self, f, engine)\u001b[0m\n\u001b[0;32m   1878\u001b[0m     \u001b[38;5;28;01mif\u001b[39;00m \u001b[38;5;124m\"\u001b[39m\u001b[38;5;124mb\u001b[39m\u001b[38;5;124m\"\u001b[39m \u001b[38;5;129;01mnot\u001b[39;00m \u001b[38;5;129;01min\u001b[39;00m mode:\n\u001b[0;32m   1879\u001b[0m         mode \u001b[38;5;241m+\u001b[39m\u001b[38;5;241m=\u001b[39m \u001b[38;5;124m\"\u001b[39m\u001b[38;5;124mb\u001b[39m\u001b[38;5;124m\"\u001b[39m\n\u001b[1;32m-> 1880\u001b[0m \u001b[38;5;28mself\u001b[39m\u001b[38;5;241m.\u001b[39mhandles \u001b[38;5;241m=\u001b[39m \u001b[43mget_handle\u001b[49m\u001b[43m(\u001b[49m\n\u001b[0;32m   1881\u001b[0m \u001b[43m    \u001b[49m\u001b[43mf\u001b[49m\u001b[43m,\u001b[49m\n\u001b[0;32m   1882\u001b[0m \u001b[43m    \u001b[49m\u001b[43mmode\u001b[49m\u001b[43m,\u001b[49m\n\u001b[0;32m   1883\u001b[0m \u001b[43m    \u001b[49m\u001b[43mencoding\u001b[49m\u001b[38;5;241;43m=\u001b[39;49m\u001b[38;5;28;43mself\u001b[39;49m\u001b[38;5;241;43m.\u001b[39;49m\u001b[43moptions\u001b[49m\u001b[38;5;241;43m.\u001b[39;49m\u001b[43mget\u001b[49m\u001b[43m(\u001b[49m\u001b[38;5;124;43m\"\u001b[39;49m\u001b[38;5;124;43mencoding\u001b[39;49m\u001b[38;5;124;43m\"\u001b[39;49m\u001b[43m,\u001b[49m\u001b[43m \u001b[49m\u001b[38;5;28;43;01mNone\u001b[39;49;00m\u001b[43m)\u001b[49m\u001b[43m,\u001b[49m\n\u001b[0;32m   1884\u001b[0m \u001b[43m    \u001b[49m\u001b[43mcompression\u001b[49m\u001b[38;5;241;43m=\u001b[39;49m\u001b[38;5;28;43mself\u001b[39;49m\u001b[38;5;241;43m.\u001b[39;49m\u001b[43moptions\u001b[49m\u001b[38;5;241;43m.\u001b[39;49m\u001b[43mget\u001b[49m\u001b[43m(\u001b[49m\u001b[38;5;124;43m\"\u001b[39;49m\u001b[38;5;124;43mcompression\u001b[39;49m\u001b[38;5;124;43m\"\u001b[39;49m\u001b[43m,\u001b[49m\u001b[43m \u001b[49m\u001b[38;5;28;43;01mNone\u001b[39;49;00m\u001b[43m)\u001b[49m\u001b[43m,\u001b[49m\n\u001b[0;32m   1885\u001b[0m \u001b[43m    \u001b[49m\u001b[43mmemory_map\u001b[49m\u001b[38;5;241;43m=\u001b[39;49m\u001b[38;5;28;43mself\u001b[39;49m\u001b[38;5;241;43m.\u001b[39;49m\u001b[43moptions\u001b[49m\u001b[38;5;241;43m.\u001b[39;49m\u001b[43mget\u001b[49m\u001b[43m(\u001b[49m\u001b[38;5;124;43m\"\u001b[39;49m\u001b[38;5;124;43mmemory_map\u001b[39;49m\u001b[38;5;124;43m\"\u001b[39;49m\u001b[43m,\u001b[49m\u001b[43m \u001b[49m\u001b[38;5;28;43;01mFalse\u001b[39;49;00m\u001b[43m)\u001b[49m\u001b[43m,\u001b[49m\n\u001b[0;32m   1886\u001b[0m \u001b[43m    \u001b[49m\u001b[43mis_text\u001b[49m\u001b[38;5;241;43m=\u001b[39;49m\u001b[43mis_text\u001b[49m\u001b[43m,\u001b[49m\n\u001b[0;32m   1887\u001b[0m \u001b[43m    \u001b[49m\u001b[43merrors\u001b[49m\u001b[38;5;241;43m=\u001b[39;49m\u001b[38;5;28;43mself\u001b[39;49m\u001b[38;5;241;43m.\u001b[39;49m\u001b[43moptions\u001b[49m\u001b[38;5;241;43m.\u001b[39;49m\u001b[43mget\u001b[49m\u001b[43m(\u001b[49m\u001b[38;5;124;43m\"\u001b[39;49m\u001b[38;5;124;43mencoding_errors\u001b[39;49m\u001b[38;5;124;43m\"\u001b[39;49m\u001b[43m,\u001b[49m\u001b[43m \u001b[49m\u001b[38;5;124;43m\"\u001b[39;49m\u001b[38;5;124;43mstrict\u001b[39;49m\u001b[38;5;124;43m\"\u001b[39;49m\u001b[43m)\u001b[49m\u001b[43m,\u001b[49m\n\u001b[0;32m   1888\u001b[0m \u001b[43m    \u001b[49m\u001b[43mstorage_options\u001b[49m\u001b[38;5;241;43m=\u001b[39;49m\u001b[38;5;28;43mself\u001b[39;49m\u001b[38;5;241;43m.\u001b[39;49m\u001b[43moptions\u001b[49m\u001b[38;5;241;43m.\u001b[39;49m\u001b[43mget\u001b[49m\u001b[43m(\u001b[49m\u001b[38;5;124;43m\"\u001b[39;49m\u001b[38;5;124;43mstorage_options\u001b[39;49m\u001b[38;5;124;43m\"\u001b[39;49m\u001b[43m,\u001b[49m\u001b[43m \u001b[49m\u001b[38;5;28;43;01mNone\u001b[39;49;00m\u001b[43m)\u001b[49m\u001b[43m,\u001b[49m\n\u001b[0;32m   1889\u001b[0m \u001b[43m\u001b[49m\u001b[43m)\u001b[49m\n\u001b[0;32m   1890\u001b[0m \u001b[38;5;28;01massert\u001b[39;00m \u001b[38;5;28mself\u001b[39m\u001b[38;5;241m.\u001b[39mhandles \u001b[38;5;129;01mis\u001b[39;00m \u001b[38;5;129;01mnot\u001b[39;00m \u001b[38;5;28;01mNone\u001b[39;00m\n\u001b[0;32m   1891\u001b[0m f \u001b[38;5;241m=\u001b[39m \u001b[38;5;28mself\u001b[39m\u001b[38;5;241m.\u001b[39mhandles\u001b[38;5;241m.\u001b[39mhandle\n",
      "File \u001b[1;32m~\\AppData\\Local\\Programs\\Python\\Python313\\Lib\\site-packages\\pandas\\io\\common.py:873\u001b[0m, in \u001b[0;36mget_handle\u001b[1;34m(path_or_buf, mode, encoding, compression, memory_map, is_text, errors, storage_options)\u001b[0m\n\u001b[0;32m    868\u001b[0m \u001b[38;5;28;01melif\u001b[39;00m \u001b[38;5;28misinstance\u001b[39m(handle, \u001b[38;5;28mstr\u001b[39m):\n\u001b[0;32m    869\u001b[0m     \u001b[38;5;66;03m# Check whether the filename is to be opened in binary mode.\u001b[39;00m\n\u001b[0;32m    870\u001b[0m     \u001b[38;5;66;03m# Binary mode does not support 'encoding' and 'newline'.\u001b[39;00m\n\u001b[0;32m    871\u001b[0m     \u001b[38;5;28;01mif\u001b[39;00m ioargs\u001b[38;5;241m.\u001b[39mencoding \u001b[38;5;129;01mand\u001b[39;00m \u001b[38;5;124m\"\u001b[39m\u001b[38;5;124mb\u001b[39m\u001b[38;5;124m\"\u001b[39m \u001b[38;5;129;01mnot\u001b[39;00m \u001b[38;5;129;01min\u001b[39;00m ioargs\u001b[38;5;241m.\u001b[39mmode:\n\u001b[0;32m    872\u001b[0m         \u001b[38;5;66;03m# Encoding\u001b[39;00m\n\u001b[1;32m--> 873\u001b[0m         handle \u001b[38;5;241m=\u001b[39m \u001b[38;5;28;43mopen\u001b[39;49m\u001b[43m(\u001b[49m\n\u001b[0;32m    874\u001b[0m \u001b[43m            \u001b[49m\u001b[43mhandle\u001b[49m\u001b[43m,\u001b[49m\n\u001b[0;32m    875\u001b[0m \u001b[43m            \u001b[49m\u001b[43mioargs\u001b[49m\u001b[38;5;241;43m.\u001b[39;49m\u001b[43mmode\u001b[49m\u001b[43m,\u001b[49m\n\u001b[0;32m    876\u001b[0m \u001b[43m            \u001b[49m\u001b[43mencoding\u001b[49m\u001b[38;5;241;43m=\u001b[39;49m\u001b[43mioargs\u001b[49m\u001b[38;5;241;43m.\u001b[39;49m\u001b[43mencoding\u001b[49m\u001b[43m,\u001b[49m\n\u001b[0;32m    877\u001b[0m \u001b[43m            \u001b[49m\u001b[43merrors\u001b[49m\u001b[38;5;241;43m=\u001b[39;49m\u001b[43merrors\u001b[49m\u001b[43m,\u001b[49m\n\u001b[0;32m    878\u001b[0m \u001b[43m            \u001b[49m\u001b[43mnewline\u001b[49m\u001b[38;5;241;43m=\u001b[39;49m\u001b[38;5;124;43m\"\u001b[39;49m\u001b[38;5;124;43m\"\u001b[39;49m\u001b[43m,\u001b[49m\n\u001b[0;32m    879\u001b[0m \u001b[43m        \u001b[49m\u001b[43m)\u001b[49m\n\u001b[0;32m    880\u001b[0m     \u001b[38;5;28;01melse\u001b[39;00m:\n\u001b[0;32m    881\u001b[0m         \u001b[38;5;66;03m# Binary mode\u001b[39;00m\n\u001b[0;32m    882\u001b[0m         handle \u001b[38;5;241m=\u001b[39m \u001b[38;5;28mopen\u001b[39m(handle, ioargs\u001b[38;5;241m.\u001b[39mmode)\n",
      "\u001b[1;31mFileNotFoundError\u001b[0m: [Errno 2] No such file or directory: '../ref/부산광역시 주민등록인구통계_20231231.csv'"
     ]
    }
   ],
   "source": [
    "file_path = '../ref/부산광역시 주민등록인구통계_20231231.csv'\n",
    "# CSV 파일읽기\n",
    "ingu_data = pd.read_csv(file_path, encoding='EUC-KR')\n",
    "ingu_data = ingu_data[['구군','인구수(명)']]\n",
    "ingu_data = ingu_data.sort_values(by='인구수(명)', ascending= False )\n",
    "ingu_data.head()"
   ]
  },
  {
   "cell_type": "code",
   "execution_count": null,
   "id": "9f222896-e8c1-4989-99e6-b1b7dbdcb5c3",
   "metadata": {},
   "outputs": [],
   "source": [
    "star_path = '../ref/starbucks_20250411113937.csv'\n",
    "star_data = pd.read_csv(star_path, encoding='utf-8')\n",
    "star_data.columns = ['no.','name','lat','lon','addr','type']\n",
    "star_data"
   ]
  },
  {
   "cell_type": "code",
   "execution_count": null,
   "id": "8ed45fe3-717f-4f5c-a50b-0a25af785308",
   "metadata": {},
   "outputs": [],
   "source": [
    "star_data.sample(10)"
   ]
  },
  {
   "cell_type": "code",
   "execution_count": null,
   "id": "b32db5af-d935-42f4-b359-1859f74d04d8",
   "metadata": {},
   "outputs": [],
   "source": [
    "# 방법1\n",
    "# gu = []\n",
    "# addr_list = star_data['addr']\n",
    "# for n in addr_list:\n",
    "#     gu.append(n.split(\" \")[1])\n",
    "# star_data['구'] = gu\n",
    "# star_data\n",
    "# 방법2\n",
    "star_data['구군'] = [ a.split(\" \")[1] for a in star_data['addr']]\n",
    "star_data"
   ]
  },
  {
   "cell_type": "code",
   "execution_count": null,
   "id": "50259580-9250-493d-babb-70b02e8f5f37",
   "metadata": {},
   "outputs": [],
   "source": []
  },
  {
   "cell_type": "code",
   "execution_count": null,
   "id": "d64b8450-03bf-47bf-b979-2db278af2c05",
   "metadata": {},
   "outputs": [],
   "source": [
    "# 리눅스용 폰트 경로 설정\n",
    "fontlist = fm.findSystemFonts(fontpaths=None, fontext='ttf')\n",
    "fontlist\n",
    "plt.rc('font', family=\"NanumBarunGothic\")\n",
    "plt.text(0.2,0.4,'한글',size=100)"
   ]
  },
  {
   "cell_type": "code",
   "execution_count": null,
   "id": "3d138e0f-04eb-4280-b037-cd210e0a90fa",
   "metadata": {},
   "outputs": [],
   "source": [
    "star_sum = star_data.groupby('구군')['구군'].count().reset_index(name=\"스벅수\")\n",
    "star_sum.plot(kind='bar', x='구군', y=\"스벅수\")\n",
    "plt.xticks(rotation=45)\n",
    "plt.show()"
   ]
  },
  {
   "cell_type": "code",
   "execution_count": null,
   "id": "49c6e083-f222-436d-8b3f-6fb538d5dd0a",
   "metadata": {},
   "outputs": [],
   "source": [
    "star_sum"
   ]
  },
  {
   "cell_type": "code",
   "execution_count": null,
   "id": "0099cd41-e41b-4d1e-bdf7-3ebe21479c90",
   "metadata": {
    "scrolled": true
   },
   "outputs": [],
   "source": [
    "total = pd.merge(ingu_data, star_sum , on='구군', how = 'left')     \n",
    "total = total.rename(columns={\"인구수(명)\":\"인구수\"})\n",
    "total"
   ]
  },
  {
   "cell_type": "markdown",
   "id": "fe7119bb-80a4-4d3a-8c8d-7efdd7934b10",
   "metadata": {},
   "source": [
    "부산 산업대분류, 읍·면·동별 사업체수, 종사자수 <br>\n",
    "https://kosis.kr/statHtml/statHtml.do?orgId=101&tblId=INH_1K52C01_21&conn_path=I2"
   ]
  },
  {
   "cell_type": "code",
   "execution_count": null,
   "id": "eff9390c-1f8a-4e69-89f8-c8831c86df8f",
   "metadata": {},
   "outputs": [],
   "source": [
    "biz_path = \"../ref/부산광역시구분별사업체수종사자수_2020.csv\"\n",
    "biz_data = pd.read_csv(biz_path, encoding=\"EUC-KR\")\n",
    "biz_data.columns = ['year','구군','type1','사업체수','종사자수']\n",
    "biz = biz_data[['구군','사업체수','종사자수']]\n",
    "biz"
   ]
  },
  {
   "cell_type": "code",
   "execution_count": null,
   "id": "d00d1940-3008-42a5-b1be-6c208065d25d",
   "metadata": {},
   "outputs": [],
   "source": [
    "total_m1 = pd.merge(total, biz, on='구군', how='left')\n",
    "total_m1"
   ]
  },
  {
   "cell_type": "markdown",
   "id": "792b8386-7e63-4b6a-ad7c-00632d319795",
   "metadata": {},
   "source": [
    "### 주소를 가지고 위도 / 경도 값 얻어오기(GPS 정보 얻기) 1"
   ]
  },
  {
   "cell_type": "code",
   "execution_count": null,
   "id": "3b186142-d93e-499c-948c-4c1d595ad8c8",
   "metadata": {},
   "outputs": [],
   "source": [
    "# GPS정보로 지도에 표시하기\n",
    "gps_path =\"../ref/gps_test.csv\"\n",
    "gps = pd.read_csv(gps_path,encoding=\"utf-8\")\n",
    "gps"
   ]
  },
  {
   "cell_type": "code",
   "execution_count": null,
   "id": "991f92aa-b977-4181-984d-c6b30d38023e",
   "metadata": {},
   "outputs": [],
   "source": [
    "# !pip install folium"
   ]
  },
  {
   "cell_type": "code",
   "execution_count": null,
   "id": "8a389f79-4c0b-47e9-9863-98347b222187",
   "metadata": {
    "scrolled": true
   },
   "outputs": [],
   "source": [
    "import folium\n",
    "coordinates = gps[['Latitude','Longitude']].to_numpy()\n",
    "place = gps['주소'].to_numpy()\n",
    "\n",
    "# 중심좌표 설정(기본위치)\n",
    "center_lat , center_lon = 35.17574571 , 129.0817409\n",
    "\n",
    "# 지도생성\n",
    "m = folium.Map(location=[center_lat , center_lon], zoom_start=12 )\n",
    "\n",
    "\n",
    "for i, (lat, lon) in enumerate(coordinates):\n",
    "    folium.CircleMarker(\n",
    "        location=[lat , lon],\n",
    "        radius = 30,\n",
    "        color= 'orange',\n",
    "        weight=1,  # 테두리 굵기 (기본값: 2)\n",
    "        opacity=0.5,  # 테두리 투명도 (0.0 ~ 1.0)\n",
    "        fill = True,\n",
    "        fill_color = 'yellow',\n",
    "        fill_opacity = 0.6,\n",
    "        tooltip = place[i]\n",
    "    ).add_to(m) # 지도 생성 후 원을 그리고 지도에 붙임\n",
    "\n",
    "    folium.Marker(\n",
    "        location = [lat + 0.001, lon],\n",
    "        icon = folium.DivIcon(f'<div style=\"font-size: 9px; color: black; background-color: white; width:50px; white-space: nowrap; overflow: hidden; text-overflow: ellipsis; opactiy:0.7; border-radius:5px\">{place[i]}</div>')\n",
    "    ).add_to(m)\n",
    "    \n",
    "m"
   ]
  },
  {
   "cell_type": "markdown",
   "id": "d28a70aa-62df-4b6b-ab72-251740dfae75",
   "metadata": {},
   "source": [
    "### 주소를 가지고 위도 / 경도 값 얻어오기(GPS 정보 얻기) 2"
   ]
  },
  {
   "cell_type": "code",
   "execution_count": null,
   "id": "9919b814-7a36-48d7-9bb3-69fb1b6c0b04",
   "metadata": {},
   "outputs": [],
   "source": [
    "import geopandas as gpd\n",
    "import pandas as pd\n",
    "gdf = gpd.read_file(\"../ref/LARD_ADM_SECT_SGG_26_202502.shp\", encoding='cp949')\n",
    "\n",
    "# 현재 좌표계 확인\n",
    "print(f\"현재 좌표계: {gdf.crs}\")\n",
    "\n",
    "# WSG84 좌표계로 변환 (EPSG:4326)\n",
    "gdf = gdf.to_crs(epsg=4326)\n",
    "coordinates=[]\n",
    "for idx, row in gdf.iterrows():\n",
    "    latitude = row.geometry.centroid.y\n",
    "    longitude = row.geometry.centroid.x\n",
    "    coordinates.append([row['SGG_NM'],latitude, longitude])\n",
    "    print(f\"{row['SGG_NM']}의 중심점 좌표: 위도 {latitude}, 경도 {longitude}\")\n",
    "\n",
    "geo = pd.DataFrame(coordinates)\n",
    "geo.columns=['구군','위도','경도']\n",
    "geo['구군']=geo['구군'].str.replace('부산광역시 ','')\n",
    "geo"
   ]
  },
  {
   "cell_type": "markdown",
   "id": "5f97e9c3-90ff-4633-a6d0-65c67fef0428",
   "metadata": {},
   "source": [
    "### 주소를 가지고 위도 / 경도 값 얻어오기(GPS 정보 얻기) 3"
   ]
  },
  {
   "cell_type": "code",
   "execution_count": null,
   "id": "b7bffc22-6cef-4796-8189-159c67d4d665",
   "metadata": {},
   "outputs": [],
   "source": [
    "# !pip install geopy"
   ]
  },
  {
   "cell_type": "code",
   "execution_count": null,
   "id": "1212016a-9e53-4117-84d1-3ead5a8ce95a",
   "metadata": {},
   "outputs": [],
   "source": [
    "from geopy.geocoders import Nominatim\n",
    "\n",
    "loc = \"부산광역시 남구 대연동 1673\"\n",
    "geolocator = Nominatim(user_agent=\"geoapi\")\n",
    "location = geolocator.geocode(loc)\n",
    "print(location.latitude, location.longitude)"
   ]
  },
  {
   "cell_type": "code",
   "execution_count": null,
   "id": "baad9200-7b06-4d72-847e-9468c03b8c84",
   "metadata": {},
   "outputs": [],
   "source": [
    "last= pd.merge(total_m1, geo, on=\"구군\", how=\"left\")\n",
    "last.info()\n",
    "last.sample(5)"
   ]
  },
  {
   "cell_type": "code",
   "execution_count": null,
   "id": "b691e6c1-5da6-4db6-849e-1d11672b2290",
   "metadata": {},
   "outputs": [],
   "source": [
    "import geopandas as gpd\n",
    "import json"
   ]
  },
  {
   "cell_type": "code",
   "execution_count": null,
   "id": "e4dee6ee-0429-497e-94cf-b5f66dd201e8",
   "metadata": {},
   "outputs": [],
   "source": [
    "geojson = gdf.to_json()"
   ]
  },
  {
   "cell_type": "code",
   "execution_count": null,
   "id": "312fa155-64f4-4bd8-abef-090304243152",
   "metadata": {},
   "outputs": [],
   "source": [
    "import folium\n",
    "location_mean = last[[\"위도\",\"경도\"]].mean()\n",
    "print(location_mean)"
   ]
  },
  {
   "cell_type": "code",
   "execution_count": null,
   "id": "406bc541-a2b7-422a-8908-b377d969f14b",
   "metadata": {
    "scrolled": true
   },
   "outputs": [],
   "source": [
    "def style_func(feature):\n",
    "    return {'opacity':0.7, 'weight':1.5, 'color':'red', 'fillOpacity':0, 'dashArray':'5,5'}\n",
    "    # opacity 투명도를 설정\n",
    "    # weight 외곽선의 두께를 설정\n",
    "    # color 경계선의 색상\n",
    "    # fillOpacity 면적을 채우는 색상의 투명도를 설정\n",
    "    # dashArray 'dashArray':'5,5'는 5px 길이의 선과 5px 길이의 간격을 반복\n",
    "\n",
    "sb_bubble = folium.Map(location= list(location_mean), tiles= 'CartoDB Positron', zoom_start=12) # Positron, Voyager, Dark Matter\n",
    "folium.GeoJson(geojson, style_function=style_func).add_to(sb_bubble)\n",
    "\n",
    "# 지도 출력 확인\n",
    "sb_bubble"
   ]
  },
  {
   "cell_type": "code",
   "execution_count": null,
   "id": "6371900e-141c-442c-a345-5b19209208e9",
   "metadata": {},
   "outputs": [],
   "source": [
    "sb_mean = last['스벅수'].mean()\n",
    "sb_mean"
   ]
  },
  {
   "cell_type": "code",
   "execution_count": null,
   "id": "11fa83b0-a690-4b7c-ba2d-977e652ed272",
   "metadata": {},
   "outputs": [],
   "source": [
    "def style_func(feature):\n",
    "    return {'opacity':0.7, 'weight':1.5, 'color':'red', 'fillOpacity':0, 'dashArray':'5,5'}\n",
    "sb_bubble = folium.Map(location= list(location_mean), tiles= 'CartoDB Positron', zoom_start=12) # Positron, Voyager, Dark Matter\n",
    "folium.GeoJson(geojson, style_function=style_func).add_to(sb_bubble)\n",
    "\n",
    "for i in last.index:    \n",
    "    lat = float(last.loc[i, '위도'])\n",
    "    lon = float(last.loc[i, '경도'])\n",
    "    sb = int(last.loc[i,'스벅수'])\n",
    "\n",
    "    if sb > sb_mean:\n",
    "        fillColor = 'red'\n",
    "    else:\n",
    "        fillColor = 'blue'\n",
    "\n",
    "    folium.CircleMarker(\n",
    "        location=[lat,lon],\n",
    "        color='yellow',\n",
    "        fill_color = fillColor,\n",
    "        fill_opacity=0.7,\n",
    "        weight=2,\n",
    "        radius=(sb*2),\n",
    "     ).add_to(sb_bubble)\n",
    "\n",
    "# 지도 출력 확인\n",
    "sb_bubble"
   ]
  },
  {
   "cell_type": "code",
   "execution_count": null,
   "id": "838589d9-2ba8-4623-bc66-c901bd90eff6",
   "metadata": {},
   "outputs": [],
   "source": [
    "# 단계 구분도 시각화\n",
    "# coordinates\n",
    "import json\n",
    "print(type(geojson))\n",
    "geojson_data = json.loads(geojson)\n",
    "print(type(geojson_data))\n",
    "for n in range(len(geojson_data['features'])):\n",
    "    print(geojson_data['features'][0])\n",
    "\n",
    "# DIC구조로 접근 X -> Geojson 계층적 구조"
   ]
  },
  {
   "cell_type": "code",
   "execution_count": null,
   "id": "5714fdc6-340f-4db6-9bd4-2ba507ea639f",
   "metadata": {},
   "outputs": [],
   "source": [
    "threshold_scale = [last['스벅수'].min(), last['스벅수'].quantile(0.25), last['스벅수'].quantile(0.5), last['스벅수'].quantile(0.75), last['스벅수'].max()]\n",
    "sb_bubble2 = folium.Map(location=list(location_mean), tiles='CartoDB Voyager', zoom_start=11)\n",
    "\n",
    "# 단계구분도시각화\n",
    "folium.Choropleth(\n",
    "    geo_data=geojson_data,\n",
    "    data = last,\n",
    "    columns=['구군','스벅수'],\n",
    "    fill_color='PuBuGn',\n",
    "    fill_opacity = 0.7,\n",
    "    line_opacity=0.5,\n",
    "    key_on ='feature.properties.SGG_NM', # GEOJSON 형식으로 접근 방식.\n",
    "    threshold_scale = threshold_scale,\n",
    "    legend_name = \"스타벅스 수\"\n",
    ").add_to(sb_bubble2)\n",
    "sb_bubble2\n",
    "plt.show()\n",
    "plt.savefig('./구군스벅수.png')"
   ]
  },
  {
   "cell_type": "code",
   "execution_count": null,
   "id": "27c8b368-cc13-40aa-ab16-37440352c79b",
   "metadata": {},
   "outputs": [],
   "source": [
    "threshold_scale = [last['인구수'].min(), last['인구수'].quantile(0.25), last['인구수'].quantile(0.5), last['인구수'].quantile(0.75), last['인구수'].max()]\n",
    "sb_bubble3 = folium.Map(location=list(location_mean), tiles='CartoDB Voyager', zoom_start=10)\n",
    "\n",
    "# last['인구수']= last['인구수'].astype(int) 스트링 값을 숫자값으로 변환\n",
    "# 단계구분도시각화\n",
    "folium.Choropleth(\n",
    "    geo_data=geojson_data,\n",
    "    data = last,\n",
    "    columns=['구군','인구수'],\n",
    "    fill_color='YlOrBr',\n",
    "    fill_opacity = 0.7,\n",
    "    line_opacity=0.5,\n",
    "    key_on ='feature.properties.SGG_NM', # GEOJSON 형식으로 접근 방식.\n",
    "    threshold_scale = threshold_scale,\n",
    "    legend_name = \"인구 수\"\n",
    ").add_to(sb_bubble3)\n",
    "sb_bubble3\n",
    "plt.savefig('./구군인구수.png')"
   ]
  },
  {
   "cell_type": "code",
   "execution_count": null,
   "id": "447c01e6-3706-42bb-9159-08e58ab6f3cb",
   "metadata": {},
   "outputs": [],
   "source": [
    "threshold_scale = [last['사업체수'].min(), last['사업체수'].quantile(0.25), last['사업체수'].quantile(0.5), last['사업체수'].quantile(0.75), last['사업체수'].max()]\n",
    "sb_bubble4 = folium.Map(location=list(location_mean), tiles='CartoDB Voyager', zoom_start=11)\n",
    "\n",
    "# last['사업체수']= last['사업체수'].astype(int) 스트링 값을 숫자값으로 변환\n",
    "# 단계구분도시각화\n",
    "folium.Choropleth(\n",
    "    geo_data=geojson_data,\n",
    "    data = last,\n",
    "    columns=['구군','사업체수'],\n",
    "    fill_color='YlGnBu',\n",
    "    fill_opacity = 0.7,\n",
    "    line_opacity=0.5,\n",
    "    key_on ='feature.properties.SGG_NM', # GEOJSON 형식으로 접근 방식.\n",
    "    threshold_scale = threshold_scale,\n",
    "    legend_name = \"인구 수\"\n",
    ").add_to(sb_bubble4)\n",
    "sb_bubble4\n",
    "plt.savefig('./구군사업체수.png')"
   ]
  },
  {
   "cell_type": "code",
   "execution_count": null,
   "id": "96901653-f30e-4f53-a6e8-43ea4f7b90be",
   "metadata": {},
   "outputs": [],
   "source": []
  }
 ],
 "metadata": {
  "kernelspec": {
   "display_name": "Python 3 (ipykernel)",
   "language": "python",
   "name": "python3"
  },
  "language_info": {
   "codemirror_mode": {
    "name": "ipython",
    "version": 3
   },
   "file_extension": ".py",
   "mimetype": "text/x-python",
   "name": "python",
   "nbconvert_exporter": "python",
   "pygments_lexer": "ipython3",
   "version": "3.13.1"
  }
 },
 "nbformat": 4,
 "nbformat_minor": 5
}
