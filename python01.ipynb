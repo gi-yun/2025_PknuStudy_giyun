{
 "cells": [
  {
   "cell_type": "markdown",
   "id": "0a6dcba4-5c3e-47d4-a2df-004ca918180b",
   "metadata": {},
   "source": [
    "# 주피터랩 단축키\n",
    "- a :위 셀 추가\n",
    "- b : 아래셀 추가\n",
    "- Ctrl + shift + 위 : 셀 위로 이동\n",
    "- Ctrl + shift + 아래 : 셀 아래 이동\n",
    "- Shift + Enter : 셀 실행\n",
    "- dd : 셀 삭제\n",
    "- x : 셀 잘라내기\n",
    "- c : 셀 복사\n",
    "- v : 셀 붙여넣기\n",
    "- z : undo\n",
    "- shift + z : redo\n",
    "- m : Markdown\n",
    "- y : code\n",
    "- Alt + Shift : 멀티 커서\n",
    "- Ctrl + Shift + D : 멀티\n",
    "\n",
    "- 교재 사이트\n",
    "https://wikidocs.net/13\n",
    "- 선생님 서버\n",
    "http://210.119.14.56:3000/"
   ]
  },
  {
   "cell_type": "markdown",
   "id": "bc522586-53af-4f55-9f65-979c6ff2a4a0",
   "metadata": {},
   "source": [
    "# 기초\n"
   ]
  },
  {
   "cell_type": "code",
   "execution_count": null,
   "id": "c1d4543d-cf67-4bba-b75f-517a2dd92574",
   "metadata": {},
   "outputs": [],
   "source": []
  },
  {
   "cell_type": "code",
   "execution_count": 5,
   "id": "b74e3dab-c633-4e8f-9016-beaaa3daad43",
   "metadata": {},
   "outputs": [
    {
     "name": "stdout",
     "output_type": "stream",
     "text": [
      "실제로는 두번 째\n"
     ]
    }
   ],
   "source": [
    "#print('주피터랩에 처음이에요')\n",
    "print('실제로는 두번 째')"
   ]
  },
  {
   "cell_type": "code",
   "execution_count": 3,
   "id": "f42790c4-9647-4b46-9d8c-b75b012922aa",
   "metadata": {},
   "outputs": [
    {
     "name": "stdout",
     "output_type": "stream",
     "text": [
      "4610\n"
     ]
    }
   ],
   "source": [
    "print(1277+3333)"
   ]
  },
  {
   "cell_type": "code",
   "execution_count": 38,
   "id": "2659a5b5-d3f1-4a2b-966c-7cb19fed2b8d",
   "metadata": {},
   "outputs": [
    {
     "name": "stdout",
     "output_type": "stream",
     "text": [
      "배고프다 말입니다\n",
      "시간이 많이 남았어...\n"
     ]
    }
   ],
   "source": [
    "import time as t # delay 를 추가 t로 이름을 다시 선언\n",
    "print('배고프다 ' , end='말입니다') # end='' == 줄바꿈을 일부로 없앰\n",
    "print(end='\\n') # \\n == 줄바꿈 시켜줌\n",
    "print('근데', end='\\r') # \\r == 글짜를 앞으로 보냄 (덮어쓰는 느낌)\n",
    "t.sleep(1) # delay 1초\n",
    "print('시간이 많이 남았어...')"
   ]
  },
  {
   "cell_type": "code",
   "execution_count": 14,
   "id": "da587673-fc6f-4855-85db-ff5025bf40ce",
   "metadata": {},
   "outputs": [
    {
     "name": "stdout",
     "output_type": "stream",
     "text": [
      "1-2-3-4-5\n"
     ]
    }
   ],
   "source": [
    "print(1,2,3,4,5, sep='-') # sep='-' == 중간에 - 를 넣어줌"
   ]
  },
  {
   "cell_type": "markdown",
   "id": "48d14daf-a735-442d-bff8-f9f109d38a3a",
   "metadata": {},
   "source": [
    "# 자료형"
   ]
  },
  {
   "cell_type": "markdown",
   "id": "2d66503a-1e26-4d6e-9de1-6263cccc5a5b",
   "metadata": {},
   "source": [
    "## 숫자형"
   ]
  },
  {
   "cell_type": "code",
   "execution_count": null,
   "id": "ebe5ebd2-6027-4f47-8c94-41b7c3c9b6b0",
   "metadata": {},
   "outputs": [],
   "source": [
    "# 사칙연산 예\n",
    "sachik = 777\n",
    "sem = 100\n",
    "print('덧셈',sachik + sem, end='\\n=========================\\n')\n",
    "print('뺄셈',sachik - sem, end='\\n=========================\\n')\n",
    "print('곱셈',sachik * sem, end='\\n=========================\\n')\n",
    "print('나눗셈',sachik / sem, end='\\n=========================\\n')\n",
    "print('몫',sachik // sem, end='\\n=========================\\n')\n",
    "print('나머지',sachik % sem, end='\\n=========================\\n')\n",
    "print('승',sachik ** 2, end='\\n=========================\\n')"
   ]
  },
  {
   "cell_type": "code",
   "execution_count": 16,
   "id": "1505b58c-3acd-49e9-b763-a38e0c1b6e96",
   "metadata": {},
   "outputs": [
    {
     "name": "stdout",
     "output_type": "stream",
     "text": [
      "123 -178 0\n"
     ]
    }
   ],
   "source": [
    "# 정수형\n",
    "a = 123\n",
    "b = -178\n",
    "c = 0\n",
    "print(a,b,c)"
   ]
  },
  {
   "cell_type": "code",
   "execution_count": 32,
   "id": "e68b9333-4754-4877-88bc-da96400f8d90",
   "metadata": {},
   "outputs": [
    {
     "name": "stdout",
     "output_type": "stream",
     "text": [
      "1.2 -3.14 4.24e-10\n"
     ]
    }
   ],
   "source": [
    "# 실수형\n",
    "aa = 1.2\n",
    "bb = -3.14\n",
    "cc = 4.24e-10\n",
    "print(aa,bb,cc)"
   ]
  },
  {
   "cell_type": "code",
   "execution_count": 42,
   "id": "7e53b554-52f5-4e5e-81fe-9a2572384379",
   "metadata": {},
   "outputs": [
    {
     "name": "stdout",
     "output_type": "stream",
     "text": [
      "15 127 2303 2748\n"
     ]
    }
   ],
   "source": [
    "# 2진수(bin) 8진수(oct)와 16진수(hex) 0b-> 2진수 0b0000 | 0oOOO -> 8진수 | 0xOOO -> 16진수 *번외 10진수(dex)\n",
    "\n",
    "a1 = 0b1111\n",
    "\n",
    "a = 0o177\n",
    "b = 0x8ff\n",
    "c = 0xABC\n",
    "print(a1,a,b,c)\n",
    "\n"
   ]
  },
  {
   "cell_type": "code",
   "execution_count": 43,
   "id": "507a8b4b-dff7-4500-8417-0f7bdfb716af",
   "metadata": {},
   "outputs": [
    {
     "name": "stdout",
     "output_type": "stream",
     "text": [
      "8\n"
     ]
    }
   ],
   "source": [
    "a = 2\n",
    "b = 3\n",
    "print(a ** b)"
   ]
  },
  {
   "cell_type": "code",
   "execution_count": 56,
   "id": "09b45079-e9f6-4adf-a107-0e0e4176d10b",
   "metadata": {
    "collapsed": true,
    "jupyter": {
     "outputs_hidden": true
    }
   },
   "outputs": [
    {
     "name": "stdout",
     "output_type": "stream",
     "text": [
      "2\n",
      "3\n",
      "4\n"
     ]
    }
   ],
   "source": [
    "# 복합연산자\n",
    "a = 1\n",
    "a = a + 1 # a += 1\n",
    "print(a)\n",
    "a = a + 1\n",
    "print(a)\n",
    "a = a + 1\n",
    "print(a)"
   ]
  },
  {
   "cell_type": "code",
   "execution_count": 66,
   "id": "8a5a5a24-db10-4dba-9952-2eac7f7eedcd",
   "metadata": {},
   "outputs": [
    {
     "name": "stdout",
     "output_type": "stream",
     "text": [
      "9\n",
      "8\n",
      "7\n"
     ]
    }
   ],
   "source": [
    "# 복합연산자\n",
    "a = 10\n",
    "\n",
    "a -= 1\n",
    "print(a)\n",
    "a -= 1\n",
    "print(a)\n",
    "a -= 1\n",
    "print(a)"
   ]
  },
  {
   "cell_type": "code",
   "execution_count": null,
   "id": "6b326022-9bd8-4adc-8f0c-ce798ef9bfa8",
   "metadata": {},
   "outputs": [],
   "source": [
    "# 복합연산자\n",
    "# +=, -=, *= , /= , //= , **="
   ]
  },
  {
   "cell_type": "markdown",
   "id": "39bda136-dbc4-4409-b001-562255598758",
   "metadata": {},
   "source": [
    "## 문자열 자료형"
   ]
  },
  {
   "cell_type": "markdown",
   "id": "40337238-81cd-40af-9986-3c926cb032c3",
   "metadata": {},
   "source": [
    "### 문자열 연산하기 "
   ]
  },
  {
   "cell_type": "code",
   "execution_count": 69,
   "id": "78a9395d-6ea8-44c0-a133-2a6c39e5f31c",
   "metadata": {},
   "outputs": [
    {
     "name": "stdout",
     "output_type": "stream",
     "text": [
      "문자형입니다\n",
      "\n",
      " \n",
      "이것은 여러줄 주석 처리 입니다.\n",
      "\n",
      "\n",
      "이것도 여러 줄 주석 입니다.\n",
      "\n"
     ]
    }
   ],
   "source": [
    "# 주석처리 입니다.\n",
    "str1 = '문자형입니다'\n",
    "print(str1)\n",
    "\n",
    "str2 = '''\n",
    " \n",
    "이것은 여러 줄 문자열 처리 입니다.\n",
    "'''\n",
    "print(str2)\n",
    "\n",
    "str3 = \"\"\"\n",
    "이것도 여러 줄 문자열 처리 입니다.\n",
    "\"\"\"\n",
    "print(str3)"
   ]
  },
  {
   "cell_type": "code",
   "execution_count": 79,
   "id": "25383c31-68e8-44c0-b817-82f85d6b60a5",
   "metadata": {},
   "outputs": [
    {
     "name": "stdout",
     "output_type": "stream",
     "text": [
      "Python 's favorite food is perl\n"
     ]
    }
   ],
   "source": [
    "# food = \"Python 's favorite food is perl\" #에러 안남\n",
    "# food = 'Python 's favorite food is perl' # 에러남 \n",
    "food = 'Python \\'s favorite food is perl' # 에러안남 역슬래시(이스케이프 코드) 사용\n",
    "print(food)"
   ]
  },
  {
   "cell_type": "code",
   "execution_count": 82,
   "id": "f868ee44-3e8f-40ef-accd-8b35dee97579",
   "metadata": {},
   "outputs": [
    {
     "name": "stdout",
     "output_type": "stream",
     "text": [
      "Life is too short\n",
      "You need python\n"
     ]
    }
   ],
   "source": [
    "multiline = \"Life is too short\\nYou need python\"\n",
    "print(multiline)"
   ]
  },
  {
   "cell_type": "code",
   "execution_count": 84,
   "id": "7628541a-1ead-48f6-9a54-6af6f6ba4d7e",
   "metadata": {},
   "outputs": [
    {
     "name": "stdout",
     "output_type": "stream",
     "text": [
      "\n",
      "Life is too short\n",
      "You need python\n",
      "\n"
     ]
    }
   ],
   "source": [
    "multiline = '''\n",
    "Life is too short\n",
    "You need python\n",
    "'''\n",
    "print(multiline)"
   ]
  },
  {
   "cell_type": "markdown",
   "id": "303340b5-d2dd-464f-954f-dd65adf033e7",
   "metadata": {},
   "source": [
    "<fieldset><legend>점프 투 파이썬</legend>\n",
    "<strong>이스케이프 코드란?</strong><p></p>\n",
    "<p>문자열 예제에서 여러 줄의 문장을 처리할 때 역슬래시 문자와 소문자 n을 조합한 <code>\\n</code> 이스케이프 코드를 사용했다.\n",
    "    이스케이프(escape) 코드란 프로그래밍할 때 사용할 수 있도록 미리 정의해 둔 ‘문자 조합’을 말한다. 주로 출력물을 보기 좋게 정렬하는 용도로 사용한다. 몇 가지 이스케이프 코드를 정리하면 다음과 같다.</p>\n",
    "<table>\n",
    "<thead>\n",
    "<tr>\n",
    "<th>코드</th>\n",
    "<th>설명</th>\n",
    "</tr>\n",
    "</thead>\n",
    "<tbody>\n",
    "<tr>\n",
    "<td><code>\\n</code></td>\n",
    "<td>문자열 안에서 줄을 바꿀 때 사용</td>\n",
    "</tr>\n",
    "<tr>\n",
    "<td><code>\\t</code></td>\n",
    "<td>문자열 사이에 탭 간격을 줄 때 사용</td>\n",
    "</tr>\n",
    "<tr>\n",
    "<td><code>\\\\</code></td>\n",
    "<td><code>\\</code>를 그대로 표현할 때 사용</td>\n",
    "</tr>\n",
    "<tr>\n",
    "<td><code>\\'</code></td>\n",
    "<td>작은따옴표(')를 그대로 표현할 때 사용</td>\n",
    "</tr>\n",
    "<tr>\n",
    "<td><code>\\\"</code></td>\n",
    "<td>큰따옴표(\")를 그대로 표현할 때 사용</td>\n",
    "</tr>\n",
    "<tr>\n",
    "<td><code>\\r</code></td>\n",
    "<td>캐리지 리턴(줄 바꿈 문자, 커서를 현재 줄의 가장 앞으로 이동)</td>\n",
    "</tr>\n",
    "<tr>\n",
    "<td><code>\\f</code></td>\n",
    "<td>폼 피드(줄 바꿈 문자, 커서를 현재 줄의 다음 줄로 이동)</td>\n",
    "</tr>\n",
    "<tr>\n",
    "<td><code>\\a</code></td>\n",
    "<td>벨 소리(출력할 때 PC 스피커에서 '삑' 소리가 난다)</td>\n",
    "</tr>\n",
    "<tr>\n",
    "<td><code>\\b</code></td>\n",
    "<td>백 스페이스</td>\n",
    "</tr>\n",
    "<tr>\n",
    "<td><code>\\000</code></td>\n",
    "<td>널 문자</td>\n",
    "</tr>\n",
    "</tbody>\n",
    "</table>\n",
    "<p>이 중에서 활용 빈도가 높은 것은 <code>\\n</code>, <code>\\t</code>, <code>\\\\</code>, <code>\\'</code>, <code>\\\"</code>이다. 나머지는 프로그램에서 잘 사용하지 않는다.\n",
    "</p></fieldset>"
   ]
  },
  {
   "cell_type": "code",
   "execution_count": 87,
   "id": "801e2175-7dfb-42a0-8606-72baf666487f",
   "metadata": {},
   "outputs": [
    {
     "name": "stdout",
     "output_type": "stream",
     "text": [
      "Python is fun!\n"
     ]
    }
   ],
   "source": [
    "# 문자열 연산하기\n",
    "head = \"Python\"\n",
    "tail = \" is fun!\"\n",
    "print(head + tail)"
   ]
  },
  {
   "cell_type": "code",
   "execution_count": 92,
   "id": "43855949-74b3-4e15-9ebc-fb8a626bf0a4",
   "metadata": {},
   "outputs": [
    {
     "name": "stdout",
     "output_type": "stream",
     "text": [
      "python\n",
      "python\n",
      "python\n",
      "python\n",
      "python\n",
      "\n"
     ]
    }
   ],
   "source": [
    "a= \"python\" + \"\\n\"\n",
    "print(a *5 )"
   ]
  },
  {
   "cell_type": "code",
   "execution_count": 127,
   "id": "428b9217-5dee-4f75-8042-72a6acd89d62",
   "metadata": {},
   "outputs": [
    {
     "name": "stdout",
     "output_type": "stream",
     "text": [
      "===============\n",
      "    영 수 증\n",
      "\n",
      "===============\n",
      "아메리카노:17100원\n",
      "라떼:7200원\n",
      "허브티:12000원\n",
      "=============== 91\n",
      "\n",
      "===============\n",
      "    영 수 증\n",
      "===============\n",
      "아메리카노:17100원\n",
      "라떼:7200원\n",
      "허브티:12000원\n",
      "===============\n",
      "\n"
     ]
    }
   ],
   "source": [
    "p1 = 5700*3 \n",
    "p2 = 7200*1 \n",
    "p3 = 6000*2 \n",
    "m1 = \"아메리카노:\" +str(p1)+ \"원\\n\" # 문자랑 숫자는 더할 수 없다.\n",
    "m2 = \"라떼:\" + str(p2)+\"원\\n\"\n",
    "m3 = \"허브티:\" +str(p3)+\"원\\n\"\n",
    "title = \"   \" + \" 영 수 증\"+\"\\n\" # 문자와 숫자는 더할 수 있다.\n",
    "line = \"=\"*15 + \"\\n\"\n",
    "# print(\"=\" *15) # 문자랑 숫자는 곱할 수 있다.\n",
    "# print(title)\n",
    "# print(\"=\" *15)\n",
    "# print(m1+m2+m3)\n",
    "# print(\"=\" *15)\n",
    "\n",
    "#복합 연산자 사용해서 하는 방법\n",
    "pp = ''\n",
    "pp+=(\"=\" *15)+'\\n'\n",
    "pp+=(title)+'\\n'\n",
    "pp+=(\"=\" *15)+'\\n'\n",
    "pp+=(m1+m2+m3)\n",
    "pp+=(\"=\" *15)\n",
    "print(pp,len(pp))\n",
    "print()\n",
    "\n",
    "# 출력\n",
    "print(line+title+line+m1+m2+m3+line)"
   ]
  },
  {
   "cell_type": "code",
   "execution_count": 128,
   "id": "d7876ae0-a6db-4428-802f-2a0417f6a859",
   "metadata": {},
   "outputs": [
    {
     "name": "stdout",
     "output_type": "stream",
     "text": [
      "17\n"
     ]
    }
   ],
   "source": [
    "a = \"Life is too short\"\n",
    "print(len(a)) # 문자열 길이 구하기"
   ]
  },
  {
   "cell_type": "markdown",
   "id": "3c176197-4f51-45ca-942a-16ba229b67d0",
   "metadata": {},
   "source": [
    "### 문자열 인덱싱과 슬라이싱"
   ]
  },
  {
   "cell_type": "code",
   "execution_count": 145,
   "id": "16e94e1d-97bb-48c1-8eb0-d4403f90ca76",
   "metadata": {},
   "outputs": [
    {
     "name": "stdout",
     "output_type": "stream",
     "text": [
      "L i f e\n",
      "too\n"
     ]
    }
   ],
   "source": [
    "print(a[0],a[1],a[2],a[3])\n",
    "# too 출력하기\n",
    "print(a[8]+a[9]+a[10])"
   ]
  },
  {
   "cell_type": "code",
   "execution_count": 149,
   "id": "8349b332-e369-4870-b46c-121949753ab4",
   "metadata": {},
   "outputs": [
    {
     "name": "stdout",
     "output_type": "stream",
     "text": [
      "L t r\n"
     ]
    }
   ],
   "source": [
    "print(a[-0], a[-1], a[-2])"
   ]
  },
  {
   "cell_type": "code",
   "execution_count": 162,
   "id": "f3ad7a38-8ef6-4ba6-88d8-25799046042a",
   "metadata": {},
   "outputs": [
    {
     "name": "stdout",
     "output_type": "stream",
     "text": [
      "Life\n"
     ]
    }
   ],
   "source": [
    "a = \"Life is too short, You need Python\"\n",
    "b = a[0]+a[1]+a[2]+a[3]\n",
    "print(b)"
   ]
  },
  {
   "cell_type": "code",
   "execution_count": 181,
   "id": "ae498615-cae4-4056-9512-dc7b39eaab1f",
   "metadata": {},
   "outputs": [
    {
     "name": "stdout",
     "output_type": "stream",
     "text": [
      "Life too Python\n",
      "nohtyP deen uoY ,trohs oot si efiL\n"
     ]
    }
   ],
   "source": [
    "a = \"Life is too short, You need Python\"\n",
    "# too 출력하기\n",
    "b= a[0:4]  # 0 <= a < 4\n",
    "c= a[8:11] # 8 <= a < 11\n",
    "d= a[28:] # 28 <= a < 끝까지\n",
    "e= a[::-1]\n",
    "print(b,c,d)\n",
    "print(e)"
   ]
  },
  {
   "cell_type": "code",
   "execution_count": 204,
   "id": "a952db5a-b038-4d03-b7fd-c596aee76145",
   "metadata": {},
   "outputs": [
    {
     "name": "stdout",
     "output_type": "stream",
     "text": [
      "20250203 2025 0203 오늘은화창하다\n",
      "2025년 2월 3일 오늘은 화창하다!\n"
     ]
    }
   ],
   "source": [
    "today = \"20250203오늘은화창하다\"\n",
    "date = today[:8]\n",
    "year = today[0:4]\n",
    "day = today[4:8]\n",
    "weather = today[8:]\n",
    "print(date,year,day,weather)\n",
    "pp= ''\n",
    "pp+=(year+\"년 \")\n",
    "pp+=(day[1]+\"월 \")\n",
    "pp+=(day[3]+\"일 \")\n",
    "pp+=(weather[:3]+\" \")\n",
    "pp+=(weather[3:]+\"!\")\n",
    "print(pp)\n",
    "\n",
    "\n"
   ]
  },
  {
   "cell_type": "markdown",
   "id": "5b82320e-18dd-418d-814b-266019b1e655",
   "metadata": {},
   "source": [
    "### 크롤링"
   ]
  },
  {
   "cell_type": "code",
   "execution_count": 241,
   "id": "18e4855d-6587-4af9-aa15-dd8ad361e0d6",
   "metadata": {},
   "outputs": [
    {
     "name": "stdout",
     "output_type": "stream",
     "text": [
      "=\"referrer\" content=\"unsafe-url\"> \n",
      "  <title>한국서 돈벌고 '나 몰라라' 코스트코… 연회비 인상률은 미국의 2배</title> \n",
      "  <link rel=\"shortc\n",
      "===========\n",
      "한국서 돈벌고 '나 몰라라' 코스트코… 연회비 인상률은 미국의 3배\n"
     ]
    }
   ],
   "source": [
    "import requests \n",
    "url = 'https://v.daum.net/v/20250203151815463'\n",
    "res = requests.get(url).text\n",
    "print(res[330:440])\n",
    "print('===========')\n",
    "result = res[374:411]\n",
    "out = result[:-2] + '3' + result[-1]\n",
    "print(out)"
   ]
  },
  {
   "cell_type": "code",
   "execution_count": 238,
   "id": "e6154aa1-c7d2-40cc-aa61-c6911d74454d",
   "metadata": {},
   "outputs": [
    {
     "name": "stdout",
     "output_type": "stream",
     "text": [
      "한국서 돈벌고 '나 몰라라' 코스트코… 연회비 인상률은 미국의 2배\n",
      "한국서 돈벌고 '나 몰라라' 코스트코… 연회비 인상률은 미국의 3배\n"
     ]
    }
   ],
   "source": [
    "print(res[374:411])\n",
    "pp= ''\n",
    "pp+=(res[374:409])+\"3배\"\n",
    "print(pp)\n"
   ]
  },
  {
   "cell_type": "code",
   "execution_count": 261,
   "id": "5eb05c78-c9bc-4381-9e1a-19f0144ed806",
   "metadata": {},
   "outputs": [
    {
     "name": "stdout",
     "output_type": "stream",
     "text": [
      "뿌요의 톡쏘는 일상 : 네이버 블로그\n",
      "기윤의 톡쏘는 일상 : 네이버 블로그\n"
     ]
    }
   ],
   "source": [
    "import requests\n",
    "url = 'https://blog.naver.com/droad777' \n",
    "res = requests.get(url).text\n",
    "print(res[895:915])\n",
    "result = res[895:915]\n",
    "out = \"기윤\" + result[2:]\n",
    "print(out)"
   ]
  },
  {
   "cell_type": "markdown",
   "id": "302f7faa-f80a-482a-8a10-7c5d50b503b9",
   "metadata": {},
   "source": [
    "### 문자열 포매팅"
   ]
  },
  {
   "cell_type": "code",
   "execution_count": null,
   "id": "cf31aaed-906a-4f3b-9c5f-f558de6f4fd6",
   "metadata": {},
   "outputs": [],
   "source": [
    "#p62"
   ]
  },
  {
   "cell_type": "code",
   "execution_count": 6,
   "id": "fe7c51ed-c3c2-4120-b239-e989f49283ae",
   "metadata": {},
   "outputs": [
    {
     "name": "stdout",
     "output_type": "stream",
     "text": [
      "I eat 3 apples.\n",
      "I eat 17 apples.\n",
      "I eat five apples.\n",
      "I eat 3 apples.\n",
      "I ate 3 apples. so I was sick for three days\n"
     ]
    }
   ],
   "source": [
    "print(\"I eat 3 apples.\")\n",
    "print(\"I eat %d apples.\" %17) #숫자 바로 대입\n",
    "print(\"I eat %s apples.\" %\"five\") #문자열 바로 대입\n",
    "number =3 \n",
    "print(\"I eat %d apples.\" % number) #숫자 값을 나타내는 변수로 대입\n",
    "day = \"three\"\n",
    "print(\"I ate %d apples. so I was sick for %s days\" % (number,day)) #2개 이상의 값 넣기\n"
   ]
  },
  {
   "cell_type": "markdown",
   "id": "0f616928-c3ba-4e0f-abe5-300758c95f52",
   "metadata": {},
   "source": [
    "<table>\n",
    "<thead>\n",
    "<tr>\n",
    "<th>코드</th>\n",
    "<th>설명</th>\n",
    "</tr>\n",
    "</thead>\n",
    "<tbody>\n",
    "<tr>\n",
    "<td>%s</td>\n",
    "<td>문자열(String)</td>\n",
    "</tr>\n",
    "<tr>\n",
    "<td>%c</td>\n",
    "<td>문자 1개(character)</td>\n",
    "</tr>\n",
    "<tr>\n",
    "<td>%d</td>\n",
    "<td>정수(Integer)</td>\n",
    "</tr>\n",
    "<tr>\n",
    "<td>%f</td>\n",
    "<td>부동소수(floating-point)</td>\n",
    "</tr>\n",
    "<tr>\n",
    "<td>%o</td>\n",
    "<td>8진수</td>\n",
    "</tr>\n",
    "<tr>\n",
    "<td>%x</td>\n",
    "<td>16진수</td>\n",
    "</tr>\n",
    "<tr>\n",
    "<td>%%</td>\n",
    "<td>Literal % (문자 <code>%</code> 자체)</td>\n",
    "</tr>\n",
    "</tbody>\n",
    "</table>"
   ]
  },
  {
   "cell_type": "code",
   "execution_count": 9,
   "id": "7ff0ef74-41cf-4a80-bba0-fe8cd1974eb8",
   "metadata": {},
   "outputs": [
    {
     "name": "stdout",
     "output_type": "stream",
     "text": [
      "사람 몸의 수분은 60% 이다\n"
     ]
    }
   ],
   "source": [
    "print(\"사람 몸의 수분은 %d%% 이다\" %60) #포매팅 연산자 #d와 %를 같이 쓸때는 %%를 쓴다."
   ]
  },
  {
   "cell_type": "code",
   "execution_count": 13,
   "id": "d7cf248b-2642-4259-a5ee-595b326a6b4b",
   "metadata": {},
   "outputs": [
    {
     "name": "stdout",
     "output_type": "stream",
     "text": [
      "십진수로 123은 16진수로 7b이다\n",
      "십진수로 123은 8진수로 173이다\n"
     ]
    }
   ],
   "source": [
    "print(\"십진수로 %d은 16진수로 %x이다\" % (123,123))\n",
    "print(\"십진수로 %d은 8진수로 %o이다\" % (123,123))"
   ]
  },
  {
   "cell_type": "markdown",
   "id": "129c59b6-1591-483c-a645-bc68f65fedea",
   "metadata": {},
   "source": [
    "#### 정렬과 공백"
   ]
  },
  {
   "cell_type": "code",
   "execution_count": 21,
   "id": "e5b6959f-e7ed-4540-9f16-2edf15a56b1b",
   "metadata": {},
   "outputs": [
    {
     "name": "stdout",
     "output_type": "stream",
     "text": [
      "        hi\n",
      "hi        jane.\n"
     ]
    }
   ],
   "source": [
    "print(\"%10s\" % \"hi\") #우측으로 공백이 생김 *오른쪽으로 정렬\n",
    "print(\"%-10sjane.\" % \"hi\") #음수는 좌측으로 공백이 생김 "
   ]
  },
  {
   "attachments": {
    "5d0e7540-b49d-47c9-824e-d82d16188295.png": {
     "image/png": "[encoded data removed]"
    },
    "cad9cf7b-62ee-4086-a507-d9e584df3cbc.png": {
     "image/png": "[encoded data removed]"
    }
   },
   "cell_type": "markdown",
   "id": "9cae2dd5-dcf0-4e64-a162-5ce4fc514f0c",
   "metadata": {},
   "source": [
    "<!-- ![image.png](attachment:cad9cf7b-62ee-4086-a507-d9e584df3cbc.png) -->\n",
    "<img src=\"attachment:cad9cf7b-62ee-4086-a507-d9e584df3cbc.png\" width=300>\n",
    "<img src=\"attachment:5d0e7540-b49d-47c9-824e-d82d16188295.png\" width=400>\n"
   ]
  },
  {
   "cell_type": "markdown",
   "id": "492cc057-1e21-4663-9501-7eb9abb6a297",
   "metadata": {},
   "source": [
    "#### 소수점 표현하기"
   ]
  },
  {
   "cell_type": "code",
   "execution_count": 23,
   "id": "fe73330b-7b74-4472-ac97-b219c2d2e0b8",
   "metadata": {},
   "outputs": [
    {
     "name": "stdout",
     "output_type": "stream",
     "text": [
      "3.4213\n"
     ]
    }
   ],
   "source": [
    "print(\"%0.4f\" % 3.42134234) # %s 를 안쓰고 %f 를 사용하는 이유는 계산이 가능하기 때문"
   ]
  },
  {
   "cell_type": "code",
   "execution_count": 24,
   "id": "76c89bd6-0178-48f0-a286-be0cd45badd6",
   "metadata": {},
   "outputs": [
    {
     "name": "stdout",
     "output_type": "stream",
     "text": [
      "    3.4213\n"
     ]
    }
   ],
   "source": [
    "print(\"%10.4f\" % 3.42134234) # 총 배열이 10칸이고 뒷자리는 4자리만 보여준다."
   ]
  },
  {
   "attachments": {
    "9443c854-8ae0-4987-bbbd-26f730048002.png": {
     "image/png": "[encoded data removed]"
    }
   },
   "cell_type": "markdown",
   "id": "c01c5927-5c90-46ad-b57c-bc3e5dee4173",
   "metadata": {},
   "source": [
    "<img src=attachment:9443c854-8ae0-4987-bbbd-26f730048002.png width=400>"
   ]
  },
  {
   "cell_type": "markdown",
   "id": "6b69be21-d4b6-4b0d-9538-379fb2d5b2a4",
   "metadata": {},
   "source": [
    "### format 함수를 사용한 포매팅"
   ]
  },
  {
   "cell_type": "code",
   "execution_count": 31,
   "id": "045597a0-026d-4bcd-b13b-116f2904d604",
   "metadata": {},
   "outputs": [
    {
     "name": "stdout",
     "output_type": "stream",
     "text": [
      "I eat 3 apples\n",
      "I eat 3 of 1 apples\n",
      "I eat two of five apples\n"
     ]
    }
   ],
   "source": [
    "print(\"I eat {0} apples\" .format(3))\n",
    "print(\"I eat {0} of {1} apples\" .format(3,1))\n",
    "print(\"I eat {0} of {1} apples\" .format(\"two\",\"five\"))"
   ]
  },
  {
   "cell_type": "code",
   "execution_count": 39,
   "id": "89ad0e87-c383-4a82-95ae-ae49b512638d",
   "metadata": {},
   "outputs": [
    {
     "name": "stdout",
     "output_type": "stream",
     "text": [
      "I eat three of 10 apples\n",
      "I eat three of 5 apples\n",
      "I eat 1 of 5 apples\n",
      "I eat three of 10 apples\n"
     ]
    }
   ],
   "source": [
    "total = 10\n",
    "ea = \"three\"\n",
    "print(\"I eat {0} of {1} apples\" . format(ea, total))\n",
    "print(\"I eat {0} of {total} apples\" . format(ea, total=5))\n",
    "print(\"I eat {ea} of {total} apples\" . format(ea=1, total=5))\n",
    "print(\"I eat {0} of {total} apples\" . format(ea, total=total))"
   ]
  },
  {
   "cell_type": "code",
   "execution_count": 51,
   "id": "426cef12-4787-4f26-9db2-c69454d5ab64",
   "metadata": {},
   "outputs": [
    {
     "name": "stdout",
     "output_type": "stream",
     "text": [
      "hi        \n",
      "hi        \n",
      "hi        \n",
      "        hi\n",
      "    hi    \n",
      "ㅋㅋㅋㅋ웃겨ㅋㅋㅋㅋ\n"
     ]
    }
   ],
   "source": [
    "print(\"{0:<10}\".format(\"hi\")) # 왼쪽정렬 드래그를 해보면 공란이 존재함 \n",
    "print(\"{:<10}\".format(\"hi\")) # 0 생략 가능 \n",
    "print(\"{:10}\".format(\"hi\")) # : 생략 가능\n",
    "print(\"{0:>10}\".format(\"hi\")) # 오른쪽정렬\n",
    "print(\"{:^10}\".format(\"hi\")) # 가운데 정렬\n",
    "print(\"{:ㅋ^10}\".format(\"웃겨\")) # 가운데 정렬 + 글자 채우기\n"
   ]
  },
  {
   "cell_type": "code",
   "execution_count": 53,
   "id": "e68eda3d-30cb-4236-bf6e-05808cbc7846",
   "metadata": {},
   "outputs": [
    {
     "name": "stdout",
     "output_type": "stream",
     "text": [
      "3.1416\n",
      "    3.1416\n"
     ]
    }
   ],
   "source": [
    "#소수점 표현하기\n",
    "pi = 3.141592\n",
    "print(\"{0:0.4f}\".format(pi))\n",
    "print(\"{0:10.4f}\".format(pi))"
   ]
  },
  {
   "cell_type": "code",
   "execution_count": 54,
   "id": "acb433bc-0736-487d-8d7e-4338bce2c66a",
   "metadata": {},
   "outputs": [
    {
     "name": "stdout",
     "output_type": "stream",
     "text": [
      "{ and }\n"
     ]
    }
   ],
   "source": [
    "# 이스케이프 처리\n",
    "print(\"{{ and }}\".format())"
   ]
  },
  {
   "cell_type": "code",
   "execution_count": 73,
   "id": "0fd51134-82a7-4065-95a5-8f3c5109c469",
   "metadata": {},
   "outputs": [
    {
     "name": "stdout",
     "output_type": "stream",
     "text": [
      "1111011\n"
     ]
    }
   ],
   "source": [
    "# 2진수 처리\n",
    "print(\"{0:b}\".format(123)) # 7자리 1111011"
   ]
  },
  {
   "cell_type": "code",
   "execution_count": 65,
   "id": "1659b085-e165-409c-a344-87e37ade4438",
   "metadata": {},
   "outputs": [
    {
     "name": "stdout",
     "output_type": "stream",
     "text": [
      "01111011\n"
     ]
    }
   ],
   "source": [
    "# 출력하라 0111 1011\n",
    "# 2진수 처리\n",
    "print(\"{0:0>8b}\".format(123)) # 8자리 01111011"
   ]
  },
  {
   "cell_type": "markdown",
   "id": "eb287661-5283-491f-946d-51761857a354",
   "metadata": {},
   "source": [
    "### f문자열 포매팅"
   ]
  },
  {
   "cell_type": "code",
   "execution_count": 79,
   "id": "721fb8b1-c890-4179-8ba9-bbeaebe60fc7",
   "metadata": {},
   "outputs": [
    {
     "name": "stdout",
     "output_type": "stream",
     "text": [
      "나의 이름은 김기윤 입니다. 나이는 26세 입니다.\n",
      "내년이면 27 살이 됩니다.\n"
     ]
    }
   ],
   "source": [
    "name ='김기윤'\n",
    "age =26\n",
    "print(f\"나의 이름은 {name} 입니다. 나이는 {age}세 입니다.\")\n",
    "print(f\"내년이면 {age+1} 살이 됩니다.\")"
   ]
  },
  {
   "cell_type": "code",
   "execution_count": 83,
   "id": "b69aa26e-cec4-43a7-8cee-d98a31094a90",
   "metadata": {},
   "outputs": [
    {
     "name": "stdout",
     "output_type": "stream",
     "text": [
      "나의 이름은 김기윤 입니다. 나이는 26 입니다. 성별은 male 입니다\n"
     ]
    }
   ],
   "source": [
    "d = {'name':'김기윤', 'age':26, 'gen':'male'}\n",
    "print(f\"나의 이름은 {d[\"name\"]} 입니다. 나이는 {d[\"age\"]} 입니다. 성별은 {d[\"gen\"]} 입니다\")"
   ]
  },
  {
   "cell_type": "code",
   "execution_count": 84,
   "id": "68ccc845-5417-4548-91a4-728660db4fff",
   "metadata": {},
   "outputs": [
    {
     "name": "stdout",
     "output_type": "stream",
     "text": [
      "10진수 123는 2진수 01111011입니다\n"
     ]
    }
   ],
   "source": [
    "a=123\n",
    "print(f\"10진수 {a}는 2진수 {a:0>8b}입니다\")"
   ]
  },
  {
   "cell_type": "code",
   "execution_count": 94,
   "id": "90482f52-67f5-49bc-8f75-1a62db9352aa",
   "metadata": {},
   "outputs": [
    {
     "name": "stdout",
     "output_type": "stream",
     "text": [
      "hi        \n",
      "        hi\n",
      "    hi    \n",
      "안녕하세요=====\n"
     ]
    }
   ],
   "source": [
    "print(f\"{\"hi\":<10}\") #오른쪽 정렬\n",
    "print(f\"{\"hi\":>10}\") #왼쪽 정렬\n",
    "print(f\"{\"hi\":^10}\") #가운데 정렬\n",
    "\n",
    "aa = \"안녕하세요\"\n",
    "print(f\"{aa:=<10}\")\n"
   ]
  },
  {
   "cell_type": "code",
   "execution_count": 95,
   "id": "4ce4b847-7ae2-42cd-bd27-74806494f522",
   "metadata": {},
   "outputs": [
    {
     "name": "stdout",
     "output_type": "stream",
     "text": [
      "====hi====\n",
      "hi!!!!!!!!\n"
     ]
    }
   ],
   "source": [
    "print(f\"{\"hi\":=^10}\")\n",
    "print(f\"{\"hi\":!<10}\")"
   ]
  },
  {
   "cell_type": "code",
   "execution_count": 103,
   "id": "c5940e45-58ac-4eb9-86cb-611feadf06fa",
   "metadata": {},
   "outputs": [
    {
     "name": "stdout",
     "output_type": "stream",
     "text": [
      "3.4213\n",
      "3.4213====\n"
     ]
    }
   ],
   "source": [
    "y=3.42134234\n",
    "print(f\"{y:0.4f}\")\n",
    "print(f\"{y:=<10.4f}\")"
   ]
  },
  {
   "cell_type": "code",
   "execution_count": 105,
   "id": "f1ff1f23-b1c6-4ed0-8aef-a9bb59f9ec6b",
   "metadata": {},
   "outputs": [
    {
     "name": "stdout",
     "output_type": "stream",
     "text": [
      "{ and }\n"
     ]
    }
   ],
   "source": [
    "print(f\"{{ and }}\")"
   ]
  },
  {
   "cell_type": "markdown",
   "id": "35558542-b703-4c24-89e5-e5acdf0f7abf",
   "metadata": {},
   "source": [
    "### 문자열 관련 함수들"
   ]
  },
  {
   "cell_type": "markdown",
   "id": "ee60b79c-0658-40cc-8c4a-894aa5114ea9",
   "metadata": {},
   "source": [
    "#### 문자 개수 세기 count()"
   ]
  },
  {
   "cell_type": "code",
   "execution_count": 104,
   "id": "40285edc-2ee6-417a-833e-fee123816110",
   "metadata": {},
   "outputs": [
    {
     "data": {
      "text/plain": [
       "2"
      ]
     },
     "execution_count": 104,
     "metadata": {},
     "output_type": "execute_result"
    }
   ],
   "source": [
    "\"hobby\".count('b')"
   ]
  },
  {
   "cell_type": "code",
   "execution_count": 108,
   "id": "12479637-b4cd-4f1f-a4c7-dda89ed91aaa",
   "metadata": {},
   "outputs": [
    {
     "name": "stdout",
     "output_type": "stream",
     "text": [
      "=\"referrer\" content=\"unsafe-url\"> \n",
      "  <title>한국서 돈벌고 '나 몰라라' 코스트코… 연회비 인상률은 미국의 2배</title> \n",
      "  <link rel=\"shortc\n",
      "===========\n",
      "한국서 돈벌고 '나 몰라라' 코스트코… 연회비 인상률은 미국의 3배\n",
      "2\n",
      "1\n"
     ]
    }
   ],
   "source": [
    "import requests \n",
    "url = 'https://v.daum.net/v/20250203151815463'\n",
    "res = requests.get(url).text\n",
    "print(res[330:440])\n",
    "print('===========')\n",
    "result = res[374:411]\n",
    "out = result[:-2] + '3' + result[-1]\n",
    "print(out)\n",
    "print(out.count('코'))\n",
    "print(out.count('한국'))"
   ]
  },
  {
   "cell_type": "markdown",
   "id": "d495765e-10b0-4265-b349-af5c7df2f4c8",
   "metadata": {},
   "source": [
    "#### 위치알려주기 find(), index()"
   ]
  },
  {
   "cell_type": "code",
   "execution_count": 109,
   "id": "273f7710-03f8-4927-a991-b9e2fd6d8bea",
   "metadata": {},
   "outputs": [
    {
     "name": "stdout",
     "output_type": "stream",
     "text": [
      "한국서 돈벌고 '나 몰라라' 코스트코… 연회비 인상률은 미국의 3배\n",
      "16\n"
     ]
    }
   ],
   "source": [
    "print(out)\n",
    "print(out.find('코')) # 처음으로 나온 위치를 반환해 준다. 만약 존재하지 않다면 -1을 반환한다."
   ]
  },
  {
   "cell_type": "code",
   "execution_count": 113,
   "id": "30d26a8b-a133-418d-b7f0-961ecbf7de2e",
   "metadata": {},
   "outputs": [
    {
     "name": "stdout",
     "output_type": "stream",
     "text": [
      "374\n"
     ]
    }
   ],
   "source": [
    "import requests \n",
    "url = 'https://v.daum.net/v/20250203151815463'\n",
    "res = requests.get(url).text\n",
    "print(res.find('한'))"
   ]
  },
  {
   "cell_type": "code",
   "execution_count": 135,
   "id": "22d9c6be-10ed-40a1-81ec-8fba05be02bc",
   "metadata": {
    "scrolled": true
   },
   "outputs": [
    {
     "name": "stdout",
     "output_type": "stream",
     "text": [
      "41529\n",
      "toxic till the end\",\"url\":\"https://music.apple.com/kr/song/toxic-till-the-end/1783280225\",\"duration\":\"PT2M36S\",\"offers\":{\"@type\":\"Offer\",\"category\":\"free\",\"price\":0},\"audi\n",
      "41529\n",
      "좋아하는 노래제목:  toxic till the end\n"
     ]
    }
   ],
   "source": [
    "import requests \n",
    "url = 'https://music.apple.com/kr/playlist/%EC%98%A4%EB%8A%98%EC%9D%98-top-100-%EB%8C%80%ED%95%9C%EB%AF%BC%EA%B5%AD/pl.d3d10c32fbc540b38e266367dc8cb00c'\n",
    "res = requests.get(url).text\n",
    "print(res.find('toxic till the end'))\n",
    "result = res[41529:41700]\n",
    "print(result)\n",
    "\n",
    "# print(res.index('toxi till the end')) # index는 find와 달리 에러를 띄운다.\n",
    "\n",
    "print(res.index('toxic till the end')) # index는 find와 달리 에러를 띄운다.\n",
    "print(\"좋아하는 노래제목: \", res[41529:41547]) \n",
    "\n"
   ]
  },
  {
   "cell_type": "code",
   "execution_count": 137,
   "id": "f758d695-28a3-4619-baa9-97271bc7f18e",
   "metadata": {
    "jp-MarkdownHeadingCollapsed": true
   },
   "outputs": [],
   "source": [
    "# dir(str) # 기능들 나열"
   ]
  },
  {
   "cell_type": "markdown",
   "id": "ac3916b5-ef53-4073-9f38-528c3d192ff4",
   "metadata": {},
   "source": [
    "#### *문자열 삽입 join"
   ]
  },
  {
   "cell_type": "code",
   "execution_count": 174,
   "id": "5b165ec2-2017-46a5-80eb-4a85ef61c82e",
   "metadata": {},
   "outputs": [
    {
     "name": "stdout",
     "output_type": "stream",
     "text": [
      "a,b,c,d\n",
      "a,b,c,d\n"
     ]
    }
   ],
   "source": [
    "# 배열을 문자열로\n",
    "print(\",\".join(\"abcd\"))\n",
    "print(\",\".join([\"a\",\"b\",\"c\",\"d\"]))"
   ]
  },
  {
   "cell_type": "markdown",
   "id": "259a63ae-477d-467e-9814-913ddd06006d",
   "metadata": {},
   "source": [
    "#### 함수들 : upper(), lower(), lstrip(), rstrip(), strip()"
   ]
  },
  {
   "cell_type": "code",
   "execution_count": 155,
   "id": "da7aebdb-9b89-442c-8d2a-dddefb55ccb5",
   "metadata": {},
   "outputs": [
    {
     "name": "stdout",
     "output_type": "stream",
     "text": [
      "HI\n"
     ]
    }
   ],
   "source": [
    "a=\"hi\"\n",
    "print(a.upper()) #소문자를 대문자로 바꾸기"
   ]
  },
  {
   "cell_type": "code",
   "execution_count": 154,
   "id": "1afcc133-9dfb-4f7f-b785-7d50241f735f",
   "metadata": {},
   "outputs": [
    {
     "name": "stdout",
     "output_type": "stream",
     "text": [
      "hi\n"
     ]
    }
   ],
   "source": [
    "a=\"HI\"\n",
    "print(a.lower()) # 대문자를 소문자로 바꾸기"
   ]
  },
  {
   "cell_type": "code",
   "execution_count": 153,
   "id": "3cf9c715-9927-443d-8832-92c7fabeb65c",
   "metadata": {},
   "outputs": [
    {
     "name": "stdout",
     "output_type": "stream",
     "text": [
      "hi \n"
     ]
    }
   ],
   "source": [
    "a=\" hi \"\n",
    "print(a.lstrip()) #왼쪽 공백 지우기"
   ]
  },
  {
   "cell_type": "code",
   "execution_count": 158,
   "id": "2fb70430-2d38-4a9e-953f-c290a4dbf350",
   "metadata": {},
   "outputs": [
    {
     "name": "stdout",
     "output_type": "stream",
     "text": [
      " hi\n"
     ]
    },
    {
     "data": {
      "text/plain": [
       "' hi'"
      ]
     },
     "execution_count": 158,
     "metadata": {},
     "output_type": "execute_result"
    }
   ],
   "source": [
    "a=\" hi \"\n",
    "print(a.rstrip()) #오른쪽 공백 지우기\n",
    "a.rstrip()"
   ]
  },
  {
   "cell_type": "code",
   "execution_count": 156,
   "id": "0bc7249c-8a6b-4afc-9bac-62424267fc92",
   "metadata": {},
   "outputs": [
    {
     "name": "stdout",
     "output_type": "stream",
     "text": [
      "hi\n"
     ]
    }
   ],
   "source": [
    "print(a.strip()) #양쪽 공백 지우기"
   ]
  },
  {
   "cell_type": "code",
   "execution_count": 167,
   "id": "901d84f0-9c07-4b11-8a96-6da66ae13316",
   "metadata": {},
   "outputs": [
    {
     "name": "stdout",
     "output_type": "stream",
     "text": [
      "         hi         \n"
     ]
    },
    {
     "data": {
      "text/plain": [
       "'hi'"
      ]
     },
     "execution_count": 167,
     "metadata": {},
     "output_type": "execute_result"
    }
   ],
   "source": [
    "a= f\"{'hi':^20}\"\n",
    "print(a)\n",
    "a.strip()"
   ]
  },
  {
   "cell_type": "code",
   "execution_count": 163,
   "id": "6f548728-8eeb-4244-9e32-f2fce479a2ac",
   "metadata": {},
   "outputs": [
    {
     "name": "stdout",
     "output_type": "stream",
     "text": [
      "Life is Egg\n",
      "LIFE IS EGG\n",
      "life is egg\n"
     ]
    }
   ],
   "source": [
    "v = \"Life is Egg\"\n",
    "big = v.upper()\n",
    "small =v.lower()\n",
    "print(v)\n",
    "print(big)\n",
    "print(small)"
   ]
  },
  {
   "cell_type": "markdown",
   "id": "b3a61e9e-f321-4f1f-b40f-762c7af360f9",
   "metadata": {},
   "source": [
    "#### *문자열 바꾸기 replace()  "
   ]
  },
  {
   "cell_type": "code",
   "execution_count": 170,
   "id": "48c1e572-d9ac-4c21-b468-f2a7adc8262b",
   "metadata": {},
   "outputs": [
    {
     "name": "stdout",
     "output_type": "stream",
     "text": [
      "Your is too short\n",
      "Life is Egg\n"
     ]
    }
   ],
   "source": [
    "a = \"Life is too short\"\n",
    "print(a.replace(\"Life\", \"Your\"))\n",
    "\n",
    "b = \"Life is Egg\"\n",
    "c = b.replace(\"Egg\", \"beautiful\")\n",
    "print(b)"
   ]
  },
  {
   "cell_type": "markdown",
   "id": "d782e54b-a5bf-4b66-911a-ded51605256f",
   "metadata": {},
   "source": [
    "#### *문자열 나누기 split()"
   ]
  },
  {
   "cell_type": "code",
   "execution_count": 180,
   "id": "182711f0-01e0-4bc4-a478-8b0cbd304158",
   "metadata": {},
   "outputs": [
    {
     "name": "stdout",
     "output_type": "stream",
     "text": [
      "['Life', 'is', 'too', 'short']\n",
      "['a', 'b', 'c', 'd']\n"
     ]
    }
   ],
   "source": [
    "# 문자열을 배열로\n",
    "a =\"Life is too short\"\n",
    "print(a.split())\n",
    "\n",
    "b = \"a:b:c:d\"\n",
    "print(b.split(\":\"))"
   ]
  },
  {
   "cell_type": "code",
   "execution_count": 179,
   "id": "5dac525d-f121-46a4-b521-235d55861cbe",
   "metadata": {},
   "outputs": [
    {
     "name": "stdout",
     "output_type": "stream",
     "text": [
      "['abcdefghi']\n",
      "a=b=c=d=e=f=g=h=i\n",
      "['a', 'b', 'c', 'd', 'e', 'f', 'g', 'h', 'i']\n",
      "a b c d e f g h i\n"
     ]
    }
   ],
   "source": [
    "# 연습\n",
    "ex = \"abcdefghi\"\n",
    "ex2 =ex.split()\n",
    "print(ex2)\n",
    "\n",
    "ex_join = \"=\".join(ex)\n",
    "print(ex_join)\n",
    "\n",
    "ex_split= ex_join.split(\"=\")\n",
    "print(ex_split)\n",
    "ex_replace = ex_join.replace(\"=\",\" \")\n",
    "print(ex_replace)"
   ]
  },
  {
   "cell_type": "code",
   "execution_count": null,
   "id": "2f7ea413-2258-4d5b-ae1c-72329265c1e9",
   "metadata": {},
   "outputs": [],
   "source": []
  }
 ],
 "metadata": {
  "kernelspec": {
   "display_name": "Python 3 (ipykernel)",
   "language": "python",
   "name": "python3"
  },
  "language_info": {
   "codemirror_mode": {
    "name": "ipython",
    "version": 3
   },
   "file_extension": ".py",
   "mimetype": "text/x-python",
   "name": "python",
   "nbconvert_exporter": "python",
   "pygments_lexer": "ipython3",
   "version": "3.13.1"
  }
 },
 "nbformat": 4,
 "nbformat_minor": 5
}
