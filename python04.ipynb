{
 "cells": [
  {
   "cell_type": "markdown",
   "id": "5c96011e-7951-4cbe-a265-6513bfe7b363",
   "metadata": {},
   "source": [
    "# 함수"
   ]
  },
  {
   "cell_type": "code",
   "execution_count": 1,
   "id": "4564b3d0-94a9-4ec5-82f9-55d1dca735b5",
   "metadata": {},
   "outputs": [],
   "source": [
    "def 덧셈(a, b):\n",
    "    return a+b"
   ]
  },
  {
   "cell_type": "code",
   "execution_count": 5,
   "id": "b58fe8e5-51d0-44d5-9ddc-4d04d9670063",
   "metadata": {},
   "outputs": [
    {
     "name": "stdout",
     "output_type": "stream",
     "text": [
      "7\n",
      "7\n"
     ]
    }
   ],
   "source": [
    "c=덧셈(3,4)\n",
    "print(덧셈(3,4))\n",
    "print(c)"
   ]
  },
  {
   "cell_type": "markdown",
   "id": "222bf749-6a50-4a6d-8659-03a334e7357c",
   "metadata": {},
   "source": [
    "## 입력값과 리턴값에 따른 함수의 형태"
   ]
  },
  {
   "cell_type": "markdown",
   "id": "c7721cec-e84e-4f03-a35d-fbd64d03a410",
   "metadata": {},
   "source": [
    "### 일반적인 함수"
   ]
  },
  {
   "cell_type": "code",
   "execution_count": 47,
   "id": "a4ebeab7-795f-4a32-ac07-d27a0eb48863",
   "metadata": {},
   "outputs": [],
   "source": [
    "def add(a, b):\n",
    "    result = a+b\n",
    "    return result"
   ]
  },
  {
   "cell_type": "code",
   "execution_count": 48,
   "id": "89224e6f-0b03-4ef7-9bc9-169976acb658",
   "metadata": {},
   "outputs": [
    {
     "name": "stdout",
     "output_type": "stream",
     "text": [
      "87\n"
     ]
    }
   ],
   "source": [
    "a = add(77,10)\n",
    "print(a)"
   ]
  },
  {
   "cell_type": "code",
   "execution_count": 50,
   "id": "dea1d9f7-3f09-491b-b2e3-a7874447b804",
   "metadata": {},
   "outputs": [],
   "source": [
    "def say():\n",
    "    return 'Hi'"
   ]
  },
  {
   "cell_type": "code",
   "execution_count": 54,
   "id": "8896933d-de5f-42af-a077-53f227299209",
   "metadata": {},
   "outputs": [
    {
     "name": "stdout",
     "output_type": "stream",
     "text": [
      "Hi\n"
     ]
    }
   ],
   "source": [
    "a = say()\n",
    "print(a)"
   ]
  },
  {
   "cell_type": "code",
   "execution_count": 58,
   "id": "dcdd0108-ad5d-4552-a874-561c2c9c7780",
   "metadata": {},
   "outputs": [],
   "source": [
    "# 리턴값이 없는 함수\n",
    "def add(a,b):\n",
    "    print(\"%d, %d의 합은 %d\" %(a,b,a+b))"
   ]
  },
  {
   "cell_type": "code",
   "execution_count": 59,
   "id": "6f243b0f-44ca-44ad-a41a-b2dccd15dffb",
   "metadata": {},
   "outputs": [
    {
     "name": "stdout",
     "output_type": "stream",
     "text": [
      "11, 33의 합은 44\n"
     ]
    }
   ],
   "source": [
    "add(11,33)"
   ]
  },
  {
   "cell_type": "code",
   "execution_count": 126,
   "id": "2d76956f-68b9-4dd2-8302-aa1f37252641",
   "metadata": {},
   "outputs": [],
   "source": [
    "# 입력값과 리턴값이 없는 함수\n",
    "def says():\n",
    "    print(\"안녕!\")\n",
    "    print(\"전 입력값과 리턴값이 없어요.\")\n",
    "    print(\"빠이~\")"
   ]
  },
  {
   "cell_type": "code",
   "execution_count": 127,
   "id": "442c263c-0be4-44b1-ae77-fd1185262287",
   "metadata": {},
   "outputs": [
    {
     "name": "stdout",
     "output_type": "stream",
     "text": [
      "안녕!\n",
      "전 입력값과 리턴값이 없어요.\n",
      "빠이~\n"
     ]
    }
   ],
   "source": [
    "says()"
   ]
  },
  {
   "cell_type": "code",
   "execution_count": 31,
   "id": "475899fa-cae6-42ba-9014-78792c2015f3",
   "metadata": {},
   "outputs": [],
   "source": [
    "# 테스트\n",
    "import time as t\n",
    "def disp():\n",
    "    print(\"안녕!\\r\",end=\"\")\n",
    "    t.sleep(2)\n",
    "    print(\"전 입력값과 리턴값이 없어요.\\r\",end=\"\")\n",
    "    t.sleep(2)\n",
    "    print(\"빠이~                   \",end=\"\")\n",
    "    t.sleep(2)"
   ]
  },
  {
   "cell_type": "code",
   "execution_count": 32,
   "id": "fd08718a-a47d-48cd-8ce3-6be3b02cfac3",
   "metadata": {},
   "outputs": [
    {
     "name": "stdout",
     "output_type": "stream",
     "text": [
      "빠이~                   "
     ]
    }
   ],
   "source": [
    "disp()"
   ]
  },
  {
   "cell_type": "code",
   "execution_count": 40,
   "id": "5228dbd4-26cb-43e2-b3b5-016439bca9e0",
   "metadata": {},
   "outputs": [
    {
     "name": "stdout",
     "output_type": "stream",
     "text": [
      "44\n"
     ]
    }
   ],
   "source": [
    "# max()\n",
    "def bs(li=[33,11,22,44]):\n",
    "    sw = 0\n",
    "    for x in range(len(li)):\n",
    "        if sw  < li [x]:\n",
    "            sw=li[x]\n",
    "    return sw\n",
    "\n",
    "print(bs())"
   ]
  },
  {
   "cell_type": "code",
   "execution_count": 41,
   "id": "7cabfe8c-4bae-4261-aeb2-4d45db4145db",
   "metadata": {},
   "outputs": [
    {
     "name": "stdout",
     "output_type": "stream",
     "text": [
      "5\n"
     ]
    }
   ],
   "source": [
    "print(bs([1,2,3,4,5]))"
   ]
  },
  {
   "cell_type": "code",
   "execution_count": 43,
   "id": "071367ac-9a93-4c1f-9b4a-b33254b3d0b2",
   "metadata": {},
   "outputs": [
    {
     "name": "stdout",
     "output_type": "stream",
     "text": [
      "-4\n"
     ]
    }
   ],
   "source": [
    "#매개변수를 지정하여 호출하기\n",
    "def sub(a,b):\n",
    "    return a-b\n",
    "result = sub(a=3, b=7)\n",
    "print(result)"
   ]
  },
  {
   "cell_type": "code",
   "execution_count": 64,
   "id": "79da5c38-d0b5-4b2f-a77f-95d69868bbd8",
   "metadata": {},
   "outputs": [],
   "source": [
    "# !pip install matplotlib"
   ]
  },
  {
   "cell_type": "code",
   "execution_count": 92,
   "id": "2e87a704-a98e-4d62-b0aa-8f46422cdcf1",
   "metadata": {},
   "outputs": [],
   "source": [
    "# 테스트 : 함수 random 주사위\n",
    "import random as r\n",
    "import matplotlib.pyplot as plt\n",
    "results = {}\n",
    "def dice(target = 250000) :\n",
    "    box = [] #초기화\n",
    "    num = 0\n",
    "    while num < target :\n",
    "        num = num + 1\n",
    "        ran =r.randint(1,6)\n",
    "        box.append(ran)\n",
    "    if target == len(box):\n",
    "        print(f'{target}회 정상 진행되었습니다.')\n",
    "    else :\n",
    "        print(f'검증 결과 횟수 이상이 있습니다. 이유: ({target}회 목표로 동작하였으나, {len(box)}으로 측정되었습니다.)')\n",
    "    for n in range(1,7):\n",
    "        results[n] = box.count(n)\n",
    "        print(f'{n}번이 {box.count(n)}번 ({(box.count(n)/len(box))*100:.2f}%) 등장하였습니다.')\n",
    "    print(results)\n",
    "    color=[\"skyblue\",\"orange\",\"skyblue\",\"skyblue\",\"skyblue\",\"skyblue\"]\n",
    "    plt.bar(results.keys(),results.values(),color=color)\n",
    "    plt.show()"
   ]
  },
  {
   "cell_type": "code",
   "execution_count": 93,
   "id": "bfa24738-374a-4228-a4a6-bd37e36aa66d",
   "metadata": {},
   "outputs": [
    {
     "name": "stdout",
     "output_type": "stream",
     "text": [
      "250000회 정상 진행되었습니다.\n",
      "1번이 41621번 (16.65%) 등장하였습니다.\n",
      "2번이 41469번 (16.59%) 등장하였습니다.\n",
      "3번이 41844번 (16.74%) 등장하였습니다.\n",
      "4번이 41678번 (16.67%) 등장하였습니다.\n",
      "5번이 41962번 (16.78%) 등장하였습니다.\n",
      "6번이 41426번 (16.57%) 등장하였습니다.\n",
      "{1: 41621, 2: 41469, 3: 41844, 4: 41678, 5: 41962, 6: 41426}\n"
     ]
    },
    {
     "data": {
      "image/png": "[encoded data removed]",
      "text/plain": [
       "<Figure size 640x480 with 1 Axes>"
      ]
     },
     "metadata": {},
     "output_type": "display_data"
    }
   ],
   "source": [
    "dice()"
   ]
  },
  {
   "cell_type": "code",
   "execution_count": 111,
   "id": "d58eebb0-35b5-4420-8081-0a814c23b0f3",
   "metadata": {},
   "outputs": [],
   "source": [
    "#여러개의 입력값을 받는 함수 만들기 \n",
    "# * 이 없을 때\n",
    "def add_many(args):\n",
    "    result = 0\n",
    "    for i in args:\n",
    "        result = result +i\n",
    "    return result"
   ]
  },
  {
   "cell_type": "code",
   "execution_count": 112,
   "id": "b5681d33-1e98-4f48-90a8-53c76d1890b3",
   "metadata": {},
   "outputs": [
    {
     "name": "stdout",
     "output_type": "stream",
     "text": [
      "15\n"
     ]
    }
   ],
   "source": [
    "res = add_many((1,2,3,4,5))\n",
    "print(res)"
   ]
  },
  {
   "cell_type": "code",
   "execution_count": 113,
   "id": "d1e4c541-c547-4c36-b50e-f379b8e9f1f0",
   "metadata": {},
   "outputs": [],
   "source": [
    "#여러개의 입력값을 받는 함수 만들기\n",
    "# * 이 있을 때\n",
    "def add_many(*args):\n",
    "    result = 0\n",
    "    for i in args:\n",
    "        result = result +i\n",
    "    return result"
   ]
  },
  {
   "cell_type": "code",
   "execution_count": 114,
   "id": "f6eba3db-85de-4430-852d-fecb495012f1",
   "metadata": {},
   "outputs": [
    {
     "name": "stdout",
     "output_type": "stream",
     "text": [
      "15\n"
     ]
    }
   ],
   "source": [
    "res = add_many(1,2,3,4,5)\n",
    "print(res)"
   ]
  },
  {
   "cell_type": "code",
   "execution_count": 146,
   "id": "63e0e6e5-da07-4a2c-a4a7-fcee8b981fea",
   "metadata": {},
   "outputs": [],
   "source": [
    "def add_mul(choice, *args):\n",
    "    if choice == \"add\": #매개변수 choice에 \"add\"을 입력받았을 때\n",
    "        result = 0\n",
    "        for i in args:\n",
    "            result = result + i\n",
    "    elif choice ==\"mul\": #매개변수 choice에 \"mul\"을 입력받았을 때\n",
    "        result = 1\n",
    "        for i in args:\n",
    "            result = result *i\n",
    "    elif choice ==\"sub\": #매개변수 choice에 \"sub\"을 입력받았을 때\n",
    "        result = 0\n",
    "        for i in args:\n",
    "            result = result -i \n",
    "    elif choice ==\"div\": # 매개변수 choice에 \"div\"을 입력받았을 때\n",
    "        result = 1\n",
    "        for i in args:\n",
    "            result = result /i\n",
    "    else:\n",
    "        result = choice\n",
    "        print(\"정확하게 입력하세요.\")\n",
    "        \n",
    "    return result\n"
   ]
  },
  {
   "cell_type": "code",
   "execution_count": 145,
   "id": "1bd20730-fedb-48cf-ac3a-eef457d9377a",
   "metadata": {},
   "outputs": [
    {
     "name": "stdout",
     "output_type": "stream",
     "text": [
      "0.125\n"
     ]
    }
   ],
   "source": [
    "res=add_mul(\"div\",4,2)\n",
    "print(res)"
   ]
  },
  {
   "cell_type": "code",
   "execution_count": 162,
   "id": "5457669a-f0bc-44fa-af2f-72e8f8b5f938",
   "metadata": {},
   "outputs": [],
   "source": [
    "# 키워드 매개변수 kwargs\n",
    "# *딕셔너리 만들기\n",
    "def print_kwargs(**kwargs):\n",
    "    print(kwargs)"
   ]
  },
  {
   "cell_type": "code",
   "execution_count": 149,
   "id": "800136b0-1a73-4036-aab1-de7cc23e7cb0",
   "metadata": {},
   "outputs": [
    {
     "name": "stdout",
     "output_type": "stream",
     "text": [
      "{'a': 1, 'b': 2, 'c': 3}\n"
     ]
    }
   ],
   "source": [
    "print_kwargs(a=1,b=2,c=3)"
   ]
  },
  {
   "cell_type": "code",
   "execution_count": 154,
   "id": "0fe463bc-0a11-494f-b84d-3a420f189679",
   "metadata": {},
   "outputs": [
    {
     "name": "stdout",
     "output_type": "stream",
     "text": [
      "{'name': '홍길동', 'age': 21, 'address': '대한민국'}\n"
     ]
    }
   ],
   "source": [
    "print_kwargs(name= \"홍길동\", age=21, address=\"대한민국\")"
   ]
  },
  {
   "cell_type": "code",
   "execution_count": 166,
   "id": "eb00bee5-6ab6-4099-bfb6-3c770b1cace5",
   "metadata": {},
   "outputs": [
    {
     "ename": "TypeError",
     "evalue": "print_kwargs() takes 0 positional arguments but 1 was given",
     "output_type": "error",
     "traceback": [
      "\u001b[1;31m---------------------------------------------------------------------------\u001b[0m",
      "\u001b[1;31mTypeError\u001b[0m                                 Traceback (most recent call last)",
      "Cell \u001b[1;32mIn[166], line 1\u001b[0m\n\u001b[1;32m----> 1\u001b[0m \u001b[43mprint_kwargs\u001b[49m\u001b[43m(\u001b[49m\u001b[43m{\u001b[49m\u001b[38;5;124;43m'\u001b[39;49m\u001b[38;5;124;43mname\u001b[39;49m\u001b[38;5;124;43m'\u001b[39;49m\u001b[43m:\u001b[49m\u001b[38;5;124;43m'\u001b[39;49m\u001b[38;5;124;43m홍길동\u001b[39;49m\u001b[38;5;124;43m'\u001b[39;49m\u001b[43m,\u001b[49m\u001b[43m \u001b[49m\u001b[38;5;124;43m'\u001b[39;49m\u001b[38;5;124;43mage\u001b[39;49m\u001b[38;5;124;43m'\u001b[39;49m\u001b[43m:\u001b[49m\u001b[38;5;241;43m21\u001b[39;49m\u001b[43m,\u001b[49m\u001b[43m \u001b[49m\u001b[38;5;124;43m'\u001b[39;49m\u001b[38;5;124;43maddress\u001b[39;49m\u001b[38;5;124;43m'\u001b[39;49m\u001b[43m:\u001b[49m\u001b[38;5;124;43m'\u001b[39;49m\u001b[38;5;124;43m대한민국\u001b[39;49m\u001b[38;5;124;43m'\u001b[39;49m\u001b[43m}\u001b[49m\u001b[43m)\u001b[49m\n",
      "\u001b[1;31mTypeError\u001b[0m: print_kwargs() takes 0 positional arguments but 1 was given"
     ]
    }
   ],
   "source": [
    "print_kwargs({'name':'홍길동', 'age':21, 'address':'대한민국'})"
   ]
  },
  {
   "cell_type": "code",
   "execution_count": 160,
   "id": "80cf84e6-0f5d-4141-baf0-b90034d5c1f3",
   "metadata": {},
   "outputs": [],
   "source": [
    "# test\n",
    "def test():\n",
    "    print('저야 영광이죠~!!')\n",
    "    if 13>4 : return\n",
    "    print('집에가고싶어!~!')\n",
    "    return\n",
    "    "
   ]
  },
  {
   "cell_type": "code",
   "execution_count": 161,
   "id": "bc5ada1c-a0a8-48aa-9618-febe67c85f64",
   "metadata": {},
   "outputs": [
    {
     "name": "stdout",
     "output_type": "stream",
     "text": [
      "저야 영광이죠~!!\n"
     ]
    }
   ],
   "source": [
    "test()"
   ]
  },
  {
   "cell_type": "code",
   "execution_count": 165,
   "id": "ea257ea8-765a-43c9-8377-0499e6023ec1",
   "metadata": {},
   "outputs": [
    {
     "name": "stdout",
     "output_type": "stream",
     "text": [
      "35 286\n"
     ]
    }
   ],
   "source": [
    "# test2\n",
    "def test2(a,b):\n",
    "    return a+b, a*b\n",
    "add_result, mul_result = test2( 13, 22)\n",
    "print(add_result, mul_result)"
   ]
  },
  {
   "cell_type": "code",
   "execution_count": 167,
   "id": "16f6522f-8629-4e58-b780-68171b8a2e17",
   "metadata": {},
   "outputs": [],
   "source": [
    "def say_nick(nick):\n",
    "    if nick ==\"바보\":\n",
    "        return\n",
    "    print(\"나의 별명은 %s 입니다.\" % nick)"
   ]
  },
  {
   "cell_type": "code",
   "execution_count": 168,
   "id": "f94d57f2-655e-48c4-9ada-100ad4db71ab",
   "metadata": {},
   "outputs": [
    {
     "name": "stdout",
     "output_type": "stream",
     "text": [
      "나의 별명은 야호 입니다.\n"
     ]
    }
   ],
   "source": [
    "say_nick('야호')"
   ]
  },
  {
   "cell_type": "code",
   "execution_count": 169,
   "id": "c9d76c91-574a-4669-9265-a540fb7a8420",
   "metadata": {},
   "outputs": [],
   "source": [
    "say_nick('바보')"
   ]
  },
  {
   "cell_type": "markdown",
   "id": "4f4b6590-5a04-45ff-926a-52cdfc48b180",
   "metadata": {},
   "source": [
    "## 함수 안에서 선언한 변수의 효력 범위"
   ]
  },
  {
   "cell_type": "code",
   "execution_count": 24,
   "id": "3851eb5e-f6cc-4c79-a986-5eb255501d54",
   "metadata": {},
   "outputs": [
    {
     "name": "stdout",
     "output_type": "stream",
     "text": [
      "1\n"
     ]
    }
   ],
   "source": [
    "# 테스트 1\n",
    "a = 1\n",
    "def test1(a) :\n",
    "    a = a+1\n",
    "test1(a)\n",
    "print(a)"
   ]
  },
  {
   "cell_type": "code",
   "execution_count": 27,
   "id": "97ec873d-cd96-4de9-b399-142d5944bf22",
   "metadata": {},
   "outputs": [],
   "source": [
    "# 테스트 2\n",
    "def test2(b) :\n",
    "    b = b+1\n",
    "test2(3)\n",
    "# print(b) #에러발생"
   ]
  },
  {
   "cell_type": "code",
   "execution_count": 26,
   "id": "1ea3c604-6d86-49c5-8a16-0c8fccc3da15",
   "metadata": {},
   "outputs": [
    {
     "name": "stdout",
     "output_type": "stream",
     "text": [
      "3\n",
      "2\n"
     ]
    }
   ],
   "source": [
    "# 테스트 3\n",
    "c = 1\n",
    "def test3(c) :\n",
    "    c = c+1\n",
    "    return c\n",
    "c= test3(c) #c=c+1\n",
    "print(test3(c))\n",
    "print(c)"
   ]
  },
  {
   "cell_type": "code",
   "execution_count": 23,
   "id": "dd77c9b4-95db-4381-92bb-426a5be048e7",
   "metadata": {
    "scrolled": true
   },
   "outputs": [
    {
     "name": "stdout",
     "output_type": "stream",
     "text": [
      "2\n"
     ]
    }
   ],
   "source": [
    "d = 1\n",
    "def test4():\n",
    "    global d\n",
    "    d = d + 1\n",
    "test4()\n",
    "print(d)"
   ]
  },
  {
   "cell_type": "markdown",
   "id": "aaeffb8d-0178-44a4-b203-c5471f21effe",
   "metadata": {},
   "source": [
    "## lambda 예약어 (익명함수)"
   ]
  },
  {
   "cell_type": "code",
   "execution_count": 30,
   "id": "0160464c-872b-40f2-bb9f-b8e874d0eb30",
   "metadata": {},
   "outputs": [
    {
     "name": "stdout",
     "output_type": "stream",
     "text": [
      "5\n"
     ]
    }
   ],
   "source": [
    "def test(a,b):\n",
    "    return a+b\n",
    "add = lambda a,b:a+b\n",
    "print(add(1,4))"
   ]
  },
  {
   "cell_type": "code",
   "execution_count": 31,
   "id": "05aaf8a0-0ce0-4ede-9ec3-fec8bbcf504c",
   "metadata": {},
   "outputs": [
    {
     "name": "stdout",
     "output_type": "stream",
     "text": [
      "[0, 1, 2, 3, 4, 5, 6, 7, 8, 9]\n"
     ]
    }
   ],
   "source": [
    "a1 = [x for x in range(10)]\n",
    "print(a1)"
   ]
  },
  {
   "cell_type": "code",
   "execution_count": null,
   "id": "1b30f5f6-af9a-412d-8360-6c000ea0352c",
   "metadata": {},
   "outputs": [],
   "source": []
  }
 ],
 "metadata": {
  "kernelspec": {
   "display_name": "Python 3 (ipykernel)",
   "language": "python",
   "name": "python3"
  },
  "language_info": {
   "codemirror_mode": {
    "name": "ipython",
    "version": 3
   },
   "file_extension": ".py",
   "mimetype": "text/x-python",
   "name": "python",
   "nbconvert_exporter": "python",
   "pygments_lexer": "ipython3",
   "version": "3.13.1"
  }
 },
 "nbformat": 4,
 "nbformat_minor": 5
}
